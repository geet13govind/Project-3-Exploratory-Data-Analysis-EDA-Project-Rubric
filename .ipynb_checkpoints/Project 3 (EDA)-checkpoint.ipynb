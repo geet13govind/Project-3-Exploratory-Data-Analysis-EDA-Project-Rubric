{
 "cells": [
  {
   "cell_type": "markdown",
   "id": "bdbd4795",
   "metadata": {},
   "source": [
    "## IMPORT LIBRARIES TO BE USED"
   ]
  },
  {
   "cell_type": "code",
   "execution_count": 1,
   "id": "f3b5dccb",
   "metadata": {},
   "outputs": [
    {
     "name": "stderr",
     "output_type": "stream",
     "text": [
      "C:\\Users\\Dell\\anaconda3\\lib\\site-packages\\pandas\\core\\arrays\\masked.py:60: UserWarning: Pandas requires version '1.3.6' or newer of 'bottleneck' (version '1.3.5' currently installed).\n",
      "  from pandas.core import (\n",
      "C:\\Users\\Dell\\AppData\\Local\\Temp\\ipykernel_5256\\555797462.py:1: DeprecationWarning: \n",
      "Pyarrow will become a required dependency of pandas in the next major release of pandas (pandas 3.0),\n",
      "(to allow more performant data types, such as the Arrow string type, and better interoperability with other libraries)\n",
      "but was not found to be installed on your system.\n",
      "If this would cause problems for you,\n",
      "please provide us feedback at https://github.com/pandas-dev/pandas/issues/54466\n",
      "        \n",
      "  import pandas as pd\n"
     ]
    }
   ],
   "source": [
    "import pandas as pd\n",
    "import numpy as np\n",
    "import matplotlib.pyplot as plt\n",
    "import seaborn as sns"
   ]
  },
  {
   "cell_type": "markdown",
   "id": "802071b1",
   "metadata": {},
   "source": [
    "## LOAD DATASET"
   ]
  },
  {
   "cell_type": "code",
   "execution_count": 2,
   "id": "dd45d89e",
   "metadata": {},
   "outputs": [],
   "source": [
    "house_data = pd.read_csv('housing_data.csv')"
   ]
  },
  {
   "cell_type": "markdown",
   "id": "aaec33c9",
   "metadata": {},
   "source": [
    "# Data Exploration"
   ]
  },
  {
   "cell_type": "markdown",
   "id": "4984aeaa",
   "metadata": {},
   "source": [
    "## HEAD"
   ]
  },
  {
   "cell_type": "code",
   "execution_count": 3,
   "id": "8e0048fd",
   "metadata": {},
   "outputs": [
    {
     "data": {
      "text/html": [
       "<div>\n",
       "<style scoped>\n",
       "    .dataframe tbody tr th:only-of-type {\n",
       "        vertical-align: middle;\n",
       "    }\n",
       "\n",
       "    .dataframe tbody tr th {\n",
       "        vertical-align: top;\n",
       "    }\n",
       "\n",
       "    .dataframe thead th {\n",
       "        text-align: right;\n",
       "    }\n",
       "</style>\n",
       "<table border=\"1\" class=\"dataframe\">\n",
       "  <thead>\n",
       "    <tr style=\"text-align: right;\">\n",
       "      <th></th>\n",
       "      <th>Unnamed: 0</th>\n",
       "      <th>MSSubClass</th>\n",
       "      <th>MSZoning</th>\n",
       "      <th>LotFrontage</th>\n",
       "      <th>LotArea</th>\n",
       "      <th>Street</th>\n",
       "      <th>Alley</th>\n",
       "      <th>LotShape</th>\n",
       "      <th>LandContour</th>\n",
       "      <th>Utilities</th>\n",
       "      <th>...</th>\n",
       "      <th>PoolArea</th>\n",
       "      <th>PoolQC</th>\n",
       "      <th>Fence</th>\n",
       "      <th>MiscFeature</th>\n",
       "      <th>MiscVal</th>\n",
       "      <th>MoSold</th>\n",
       "      <th>YrSold</th>\n",
       "      <th>SaleType</th>\n",
       "      <th>SaleCondition</th>\n",
       "      <th>SalePrice</th>\n",
       "    </tr>\n",
       "  </thead>\n",
       "  <tbody>\n",
       "    <tr>\n",
       "      <th>0</th>\n",
       "      <td>0</td>\n",
       "      <td>SC60</td>\n",
       "      <td>RL</td>\n",
       "      <td>65</td>\n",
       "      <td>8450</td>\n",
       "      <td>Pave</td>\n",
       "      <td>NaN</td>\n",
       "      <td>Reg</td>\n",
       "      <td>Lvl</td>\n",
       "      <td>AllPub</td>\n",
       "      <td>...</td>\n",
       "      <td>0</td>\n",
       "      <td>No</td>\n",
       "      <td>No</td>\n",
       "      <td>No</td>\n",
       "      <td>0</td>\n",
       "      <td>Feb</td>\n",
       "      <td>2008</td>\n",
       "      <td>WD</td>\n",
       "      <td>Normal</td>\n",
       "      <td>208500</td>\n",
       "    </tr>\n",
       "    <tr>\n",
       "      <th>1</th>\n",
       "      <td>1</td>\n",
       "      <td>SC20</td>\n",
       "      <td>RL</td>\n",
       "      <td>80</td>\n",
       "      <td>9600</td>\n",
       "      <td>Pave</td>\n",
       "      <td>NaN</td>\n",
       "      <td>Reg</td>\n",
       "      <td>Lvl</td>\n",
       "      <td>AllPub</td>\n",
       "      <td>...</td>\n",
       "      <td>0</td>\n",
       "      <td>No</td>\n",
       "      <td>No</td>\n",
       "      <td>No</td>\n",
       "      <td>0</td>\n",
       "      <td>May</td>\n",
       "      <td>2007</td>\n",
       "      <td>WD</td>\n",
       "      <td>Normal</td>\n",
       "      <td>181500</td>\n",
       "    </tr>\n",
       "    <tr>\n",
       "      <th>2</th>\n",
       "      <td>2</td>\n",
       "      <td>SC60</td>\n",
       "      <td>RL</td>\n",
       "      <td>68</td>\n",
       "      <td>11250</td>\n",
       "      <td>Pave</td>\n",
       "      <td>NaN</td>\n",
       "      <td>IR1</td>\n",
       "      <td>Lvl</td>\n",
       "      <td>AllPub</td>\n",
       "      <td>...</td>\n",
       "      <td>0</td>\n",
       "      <td>No</td>\n",
       "      <td>No</td>\n",
       "      <td>No</td>\n",
       "      <td>0</td>\n",
       "      <td>Sep</td>\n",
       "      <td>2008</td>\n",
       "      <td>WD</td>\n",
       "      <td>Normal</td>\n",
       "      <td>223500</td>\n",
       "    </tr>\n",
       "    <tr>\n",
       "      <th>3</th>\n",
       "      <td>3</td>\n",
       "      <td>SC70</td>\n",
       "      <td>RL</td>\n",
       "      <td>60</td>\n",
       "      <td>9550</td>\n",
       "      <td>Pave</td>\n",
       "      <td>NaN</td>\n",
       "      <td>IR1</td>\n",
       "      <td>Lvl</td>\n",
       "      <td>AllPub</td>\n",
       "      <td>...</td>\n",
       "      <td>0</td>\n",
       "      <td>No</td>\n",
       "      <td>No</td>\n",
       "      <td>No</td>\n",
       "      <td>0</td>\n",
       "      <td>Feb</td>\n",
       "      <td>2006</td>\n",
       "      <td>WD</td>\n",
       "      <td>Abnorml</td>\n",
       "      <td>140000</td>\n",
       "    </tr>\n",
       "    <tr>\n",
       "      <th>4</th>\n",
       "      <td>4</td>\n",
       "      <td>SC60</td>\n",
       "      <td>RL</td>\n",
       "      <td>84</td>\n",
       "      <td>14260</td>\n",
       "      <td>Pave</td>\n",
       "      <td>NaN</td>\n",
       "      <td>IR1</td>\n",
       "      <td>Lvl</td>\n",
       "      <td>AllPub</td>\n",
       "      <td>...</td>\n",
       "      <td>0</td>\n",
       "      <td>No</td>\n",
       "      <td>No</td>\n",
       "      <td>No</td>\n",
       "      <td>0</td>\n",
       "      <td>Dec</td>\n",
       "      <td>2008</td>\n",
       "      <td>WD</td>\n",
       "      <td>Normal</td>\n",
       "      <td>250000</td>\n",
       "    </tr>\n",
       "  </tbody>\n",
       "</table>\n",
       "<p>5 rows × 81 columns</p>\n",
       "</div>"
      ],
      "text/plain": [
       "   Unnamed: 0 MSSubClass MSZoning  LotFrontage  LotArea Street Alley LotShape  \\\n",
       "0           0       SC60       RL           65     8450   Pave   NaN      Reg   \n",
       "1           1       SC20       RL           80     9600   Pave   NaN      Reg   \n",
       "2           2       SC60       RL           68    11250   Pave   NaN      IR1   \n",
       "3           3       SC70       RL           60     9550   Pave   NaN      IR1   \n",
       "4           4       SC60       RL           84    14260   Pave   NaN      IR1   \n",
       "\n",
       "  LandContour Utilities  ... PoolArea PoolQC Fence MiscFeature MiscVal MoSold  \\\n",
       "0         Lvl    AllPub  ...        0     No    No          No       0    Feb   \n",
       "1         Lvl    AllPub  ...        0     No    No          No       0    May   \n",
       "2         Lvl    AllPub  ...        0     No    No          No       0    Sep   \n",
       "3         Lvl    AllPub  ...        0     No    No          No       0    Feb   \n",
       "4         Lvl    AllPub  ...        0     No    No          No       0    Dec   \n",
       "\n",
       "  YrSold  SaleType  SaleCondition  SalePrice  \n",
       "0   2008        WD         Normal     208500  \n",
       "1   2007        WD         Normal     181500  \n",
       "2   2008        WD         Normal     223500  \n",
       "3   2006        WD        Abnorml     140000  \n",
       "4   2008        WD         Normal     250000  \n",
       "\n",
       "[5 rows x 81 columns]"
      ]
     },
     "execution_count": 3,
     "metadata": {},
     "output_type": "execute_result"
    }
   ],
   "source": [
    "house_data.head()"
   ]
  },
  {
   "cell_type": "markdown",
   "id": "1a7e7889",
   "metadata": {},
   "source": [
    "## TAIL"
   ]
  },
  {
   "cell_type": "code",
   "execution_count": 4,
   "id": "f00f6e95",
   "metadata": {},
   "outputs": [
    {
     "data": {
      "text/html": [
       "<div>\n",
       "<style scoped>\n",
       "    .dataframe tbody tr th:only-of-type {\n",
       "        vertical-align: middle;\n",
       "    }\n",
       "\n",
       "    .dataframe tbody tr th {\n",
       "        vertical-align: top;\n",
       "    }\n",
       "\n",
       "    .dataframe thead th {\n",
       "        text-align: right;\n",
       "    }\n",
       "</style>\n",
       "<table border=\"1\" class=\"dataframe\">\n",
       "  <thead>\n",
       "    <tr style=\"text-align: right;\">\n",
       "      <th></th>\n",
       "      <th>Unnamed: 0</th>\n",
       "      <th>MSSubClass</th>\n",
       "      <th>MSZoning</th>\n",
       "      <th>LotFrontage</th>\n",
       "      <th>LotArea</th>\n",
       "      <th>Street</th>\n",
       "      <th>Alley</th>\n",
       "      <th>LotShape</th>\n",
       "      <th>LandContour</th>\n",
       "      <th>Utilities</th>\n",
       "      <th>...</th>\n",
       "      <th>PoolArea</th>\n",
       "      <th>PoolQC</th>\n",
       "      <th>Fence</th>\n",
       "      <th>MiscFeature</th>\n",
       "      <th>MiscVal</th>\n",
       "      <th>MoSold</th>\n",
       "      <th>YrSold</th>\n",
       "      <th>SaleType</th>\n",
       "      <th>SaleCondition</th>\n",
       "      <th>SalePrice</th>\n",
       "    </tr>\n",
       "  </thead>\n",
       "  <tbody>\n",
       "    <tr>\n",
       "      <th>1455</th>\n",
       "      <td>1455</td>\n",
       "      <td>SC60</td>\n",
       "      <td>RL</td>\n",
       "      <td>62</td>\n",
       "      <td>7917</td>\n",
       "      <td>Pave</td>\n",
       "      <td>NaN</td>\n",
       "      <td>Reg</td>\n",
       "      <td>Lvl</td>\n",
       "      <td>AllPub</td>\n",
       "      <td>...</td>\n",
       "      <td>0</td>\n",
       "      <td>No</td>\n",
       "      <td>No</td>\n",
       "      <td>No</td>\n",
       "      <td>0</td>\n",
       "      <td>Aug</td>\n",
       "      <td>2007</td>\n",
       "      <td>WD</td>\n",
       "      <td>Normal</td>\n",
       "      <td>175000</td>\n",
       "    </tr>\n",
       "    <tr>\n",
       "      <th>1456</th>\n",
       "      <td>1456</td>\n",
       "      <td>SC20</td>\n",
       "      <td>RL</td>\n",
       "      <td>85</td>\n",
       "      <td>13175</td>\n",
       "      <td>Pave</td>\n",
       "      <td>NaN</td>\n",
       "      <td>Reg</td>\n",
       "      <td>Lvl</td>\n",
       "      <td>AllPub</td>\n",
       "      <td>...</td>\n",
       "      <td>0</td>\n",
       "      <td>No</td>\n",
       "      <td>MnPrv</td>\n",
       "      <td>No</td>\n",
       "      <td>0</td>\n",
       "      <td>Feb</td>\n",
       "      <td>2010</td>\n",
       "      <td>WD</td>\n",
       "      <td>Normal</td>\n",
       "      <td>210000</td>\n",
       "    </tr>\n",
       "    <tr>\n",
       "      <th>1457</th>\n",
       "      <td>1457</td>\n",
       "      <td>SC70</td>\n",
       "      <td>RL</td>\n",
       "      <td>66</td>\n",
       "      <td>9042</td>\n",
       "      <td>Pave</td>\n",
       "      <td>NaN</td>\n",
       "      <td>Reg</td>\n",
       "      <td>Lvl</td>\n",
       "      <td>AllPub</td>\n",
       "      <td>...</td>\n",
       "      <td>0</td>\n",
       "      <td>No</td>\n",
       "      <td>GdPrv</td>\n",
       "      <td>Shed</td>\n",
       "      <td>2500</td>\n",
       "      <td>May</td>\n",
       "      <td>2010</td>\n",
       "      <td>WD</td>\n",
       "      <td>Normal</td>\n",
       "      <td>266500</td>\n",
       "    </tr>\n",
       "    <tr>\n",
       "      <th>1458</th>\n",
       "      <td>1458</td>\n",
       "      <td>SC20</td>\n",
       "      <td>RL</td>\n",
       "      <td>68</td>\n",
       "      <td>9717</td>\n",
       "      <td>Pave</td>\n",
       "      <td>NaN</td>\n",
       "      <td>Reg</td>\n",
       "      <td>Lvl</td>\n",
       "      <td>AllPub</td>\n",
       "      <td>...</td>\n",
       "      <td>0</td>\n",
       "      <td>No</td>\n",
       "      <td>No</td>\n",
       "      <td>No</td>\n",
       "      <td>0</td>\n",
       "      <td>Apr</td>\n",
       "      <td>2010</td>\n",
       "      <td>WD</td>\n",
       "      <td>Normal</td>\n",
       "      <td>142125</td>\n",
       "    </tr>\n",
       "    <tr>\n",
       "      <th>1459</th>\n",
       "      <td>1459</td>\n",
       "      <td>SC20</td>\n",
       "      <td>RL</td>\n",
       "      <td>75</td>\n",
       "      <td>9937</td>\n",
       "      <td>Pave</td>\n",
       "      <td>NaN</td>\n",
       "      <td>Reg</td>\n",
       "      <td>Lvl</td>\n",
       "      <td>AllPub</td>\n",
       "      <td>...</td>\n",
       "      <td>0</td>\n",
       "      <td>No</td>\n",
       "      <td>No</td>\n",
       "      <td>No</td>\n",
       "      <td>0</td>\n",
       "      <td>Jun</td>\n",
       "      <td>2008</td>\n",
       "      <td>WD</td>\n",
       "      <td>Normal</td>\n",
       "      <td>147500</td>\n",
       "    </tr>\n",
       "  </tbody>\n",
       "</table>\n",
       "<p>5 rows × 81 columns</p>\n",
       "</div>"
      ],
      "text/plain": [
       "      Unnamed: 0 MSSubClass MSZoning  LotFrontage  LotArea Street Alley  \\\n",
       "1455        1455       SC60       RL           62     7917   Pave   NaN   \n",
       "1456        1456       SC20       RL           85    13175   Pave   NaN   \n",
       "1457        1457       SC70       RL           66     9042   Pave   NaN   \n",
       "1458        1458       SC20       RL           68     9717   Pave   NaN   \n",
       "1459        1459       SC20       RL           75     9937   Pave   NaN   \n",
       "\n",
       "     LotShape LandContour Utilities  ... PoolArea PoolQC  Fence MiscFeature  \\\n",
       "1455      Reg         Lvl    AllPub  ...        0     No     No          No   \n",
       "1456      Reg         Lvl    AllPub  ...        0     No  MnPrv          No   \n",
       "1457      Reg         Lvl    AllPub  ...        0     No  GdPrv        Shed   \n",
       "1458      Reg         Lvl    AllPub  ...        0     No     No          No   \n",
       "1459      Reg         Lvl    AllPub  ...        0     No     No          No   \n",
       "\n",
       "     MiscVal MoSold YrSold  SaleType  SaleCondition  SalePrice  \n",
       "1455       0    Aug   2007        WD         Normal     175000  \n",
       "1456       0    Feb   2010        WD         Normal     210000  \n",
       "1457    2500    May   2010        WD         Normal     266500  \n",
       "1458       0    Apr   2010        WD         Normal     142125  \n",
       "1459       0    Jun   2008        WD         Normal     147500  \n",
       "\n",
       "[5 rows x 81 columns]"
      ]
     },
     "execution_count": 4,
     "metadata": {},
     "output_type": "execute_result"
    }
   ],
   "source": [
    "house_data.tail()"
   ]
  },
  {
   "cell_type": "markdown",
   "id": "89e0fb06",
   "metadata": {},
   "source": [
    "## NUMBER OF ROWS AND COLUMNS"
   ]
  },
  {
   "cell_type": "code",
   "execution_count": 5,
   "id": "46d02dd3",
   "metadata": {},
   "outputs": [
    {
     "data": {
      "text/plain": [
       "(1460, 81)"
      ]
     },
     "execution_count": 5,
     "metadata": {},
     "output_type": "execute_result"
    }
   ],
   "source": [
    "house_data.shape"
   ]
  },
  {
   "cell_type": "markdown",
   "id": "b4fc9add",
   "metadata": {},
   "source": [
    "## DIMENTION OF DATASET"
   ]
  },
  {
   "cell_type": "code",
   "execution_count": 6,
   "id": "a3b5b9c3",
   "metadata": {},
   "outputs": [
    {
     "data": {
      "text/plain": [
       "2"
      ]
     },
     "execution_count": 6,
     "metadata": {},
     "output_type": "execute_result"
    }
   ],
   "source": [
    "house_data.ndim"
   ]
  },
  {
   "cell_type": "markdown",
   "id": "fb79871a",
   "metadata": {},
   "source": [
    "## INFORMATION  ABOUT DATASET"
   ]
  },
  {
   "cell_type": "code",
   "execution_count": 7,
   "id": "d0c0ecd8",
   "metadata": {},
   "outputs": [
    {
     "name": "stdout",
     "output_type": "stream",
     "text": [
      "<class 'pandas.core.frame.DataFrame'>\n",
      "RangeIndex: 1460 entries, 0 to 1459\n",
      "Data columns (total 81 columns):\n",
      " #   Column         Non-Null Count  Dtype  \n",
      "---  ------         --------------  -----  \n",
      " 0   Unnamed: 0     1460 non-null   int64  \n",
      " 1   MSSubClass     1460 non-null   object \n",
      " 2   MSZoning       1460 non-null   object \n",
      " 3   LotFrontage    1460 non-null   int64  \n",
      " 4   LotArea        1460 non-null   int64  \n",
      " 5   Street         1460 non-null   object \n",
      " 6   Alley          91 non-null     object \n",
      " 7   LotShape       1460 non-null   object \n",
      " 8   LandContour    1460 non-null   object \n",
      " 9   Utilities      1460 non-null   object \n",
      " 10  LotConfig      1460 non-null   object \n",
      " 11  LandSlope      1460 non-null   object \n",
      " 12  Neighborhood   1460 non-null   object \n",
      " 13  Condition1     1460 non-null   object \n",
      " 14  Condition2     1460 non-null   object \n",
      " 15  BldgType       1460 non-null   object \n",
      " 16  HouseStyle     1460 non-null   object \n",
      " 17  OverallQual    1460 non-null   int64  \n",
      " 18  OverallCond    1460 non-null   int64  \n",
      " 19  YearBuilt      1460 non-null   int64  \n",
      " 20  YearRemodAdd   1460 non-null   int64  \n",
      " 21  RoofStyle      1460 non-null   object \n",
      " 22  RoofMatl       1460 non-null   object \n",
      " 23  Exterior1st    1460 non-null   object \n",
      " 24  Exterior2nd    1460 non-null   object \n",
      " 25  MasVnrType     588 non-null    object \n",
      " 26  MasVnrArea     1460 non-null   int64  \n",
      " 27  ExterQual      1460 non-null   object \n",
      " 28  ExterCond      1460 non-null   object \n",
      " 29  Foundation     1460 non-null   object \n",
      " 30  BsmtQual       1460 non-null   object \n",
      " 31  BsmtCond       1460 non-null   object \n",
      " 32  BsmtExposure   1460 non-null   object \n",
      " 33  BsmtFinType1   1460 non-null   object \n",
      " 34  BsmtFinSF1     1460 non-null   int64  \n",
      " 35  BsmtFinType2   1460 non-null   object \n",
      " 36  BsmtFinSF2     1460 non-null   int64  \n",
      " 37  BsmtUnfSF      1460 non-null   int64  \n",
      " 38  TotalBsmtSF    1460 non-null   int64  \n",
      " 39  Heating        1460 non-null   object \n",
      " 40  HeatingQC      1460 non-null   object \n",
      " 41  CentralAir     1460 non-null   object \n",
      " 42  Electrical     1459 non-null   object \n",
      " 43  1stFlrSF       1460 non-null   int64  \n",
      " 44  2ndFlrSF       1460 non-null   int64  \n",
      " 45  LowQualFinSF   1460 non-null   int64  \n",
      " 46  GrLivArea      1460 non-null   int64  \n",
      " 47  BsmtFullBath   1460 non-null   int64  \n",
      " 48  BsmtHalfBath   1460 non-null   int64  \n",
      " 49  FullBath       1460 non-null   int64  \n",
      " 50  HalfBath       1460 non-null   int64  \n",
      " 51  BedroomAbvGr   1460 non-null   int64  \n",
      " 52  KitchenAbvGr   1460 non-null   int64  \n",
      " 53  KitchenQual    1460 non-null   object \n",
      " 54  TotRmsAbvGrd   1460 non-null   int64  \n",
      " 55  Functional     1460 non-null   object \n",
      " 56  Fireplaces     1460 non-null   int64  \n",
      " 57  FireplaceQu    1460 non-null   object \n",
      " 58  GarageType     1460 non-null   object \n",
      " 59  GarageYrBlt    1379 non-null   float64\n",
      " 60  GarageFinish   1460 non-null   object \n",
      " 61  GarageCars     1460 non-null   int64  \n",
      " 62  GarageArea     1460 non-null   int64  \n",
      " 63  GarageQual     1460 non-null   object \n",
      " 64  GarageCond     1460 non-null   object \n",
      " 65  PavedDrive     1460 non-null   object \n",
      " 66  WoodDeckSF     1460 non-null   int64  \n",
      " 67  OpenPorchSF    1460 non-null   int64  \n",
      " 68  EnclosedPorch  1460 non-null   int64  \n",
      " 69  3SsnPorch      1460 non-null   int64  \n",
      " 70  ScreenPorch    1460 non-null   int64  \n",
      " 71  PoolArea       1460 non-null   int64  \n",
      " 72  PoolQC         1460 non-null   object \n",
      " 73  Fence          1460 non-null   object \n",
      " 74  MiscFeature    1460 non-null   object \n",
      " 75  MiscVal        1460 non-null   int64  \n",
      " 76  MoSold         1460 non-null   object \n",
      " 77  YrSold         1460 non-null   int64  \n",
      " 78  SaleType       1460 non-null   object \n",
      " 79  SaleCondition  1460 non-null   object \n",
      " 80  SalePrice      1460 non-null   int64  \n",
      "dtypes: float64(1), int64(35), object(45)\n",
      "memory usage: 924.0+ KB\n"
     ]
    }
   ],
   "source": [
    "house_data.info()"
   ]
  },
  {
   "cell_type": "markdown",
   "id": "d198e41c",
   "metadata": {},
   "source": [
    "## SUMMARY OF DATASET "
   ]
  },
  {
   "cell_type": "code",
   "execution_count": 8,
   "id": "ad48dd57",
   "metadata": {},
   "outputs": [
    {
     "data": {
      "text/html": [
       "<div>\n",
       "<style scoped>\n",
       "    .dataframe tbody tr th:only-of-type {\n",
       "        vertical-align: middle;\n",
       "    }\n",
       "\n",
       "    .dataframe tbody tr th {\n",
       "        vertical-align: top;\n",
       "    }\n",
       "\n",
       "    .dataframe thead th {\n",
       "        text-align: right;\n",
       "    }\n",
       "</style>\n",
       "<table border=\"1\" class=\"dataframe\">\n",
       "  <thead>\n",
       "    <tr style=\"text-align: right;\">\n",
       "      <th></th>\n",
       "      <th>Unnamed: 0</th>\n",
       "      <th>LotFrontage</th>\n",
       "      <th>LotArea</th>\n",
       "      <th>OverallQual</th>\n",
       "      <th>OverallCond</th>\n",
       "      <th>YearBuilt</th>\n",
       "      <th>YearRemodAdd</th>\n",
       "      <th>MasVnrArea</th>\n",
       "      <th>BsmtFinSF1</th>\n",
       "      <th>BsmtFinSF2</th>\n",
       "      <th>...</th>\n",
       "      <th>GarageArea</th>\n",
       "      <th>WoodDeckSF</th>\n",
       "      <th>OpenPorchSF</th>\n",
       "      <th>EnclosedPorch</th>\n",
       "      <th>3SsnPorch</th>\n",
       "      <th>ScreenPorch</th>\n",
       "      <th>PoolArea</th>\n",
       "      <th>MiscVal</th>\n",
       "      <th>YrSold</th>\n",
       "      <th>SalePrice</th>\n",
       "    </tr>\n",
       "  </thead>\n",
       "  <tbody>\n",
       "    <tr>\n",
       "      <th>count</th>\n",
       "      <td>1460.000000</td>\n",
       "      <td>1460.000000</td>\n",
       "      <td>1460.000000</td>\n",
       "      <td>1460.000000</td>\n",
       "      <td>1460.000000</td>\n",
       "      <td>1460.000000</td>\n",
       "      <td>1460.000000</td>\n",
       "      <td>1460.000000</td>\n",
       "      <td>1460.000000</td>\n",
       "      <td>1460.000000</td>\n",
       "      <td>...</td>\n",
       "      <td>1460.000000</td>\n",
       "      <td>1460.000000</td>\n",
       "      <td>1460.000000</td>\n",
       "      <td>1460.000000</td>\n",
       "      <td>1460.000000</td>\n",
       "      <td>1460.000000</td>\n",
       "      <td>1460.000000</td>\n",
       "      <td>1460.000000</td>\n",
       "      <td>1460.000000</td>\n",
       "      <td>1460.000000</td>\n",
       "    </tr>\n",
       "    <tr>\n",
       "      <th>mean</th>\n",
       "      <td>729.500000</td>\n",
       "      <td>57.623288</td>\n",
       "      <td>10516.828082</td>\n",
       "      <td>6.099315</td>\n",
       "      <td>5.575342</td>\n",
       "      <td>1971.267808</td>\n",
       "      <td>1984.865753</td>\n",
       "      <td>103.117123</td>\n",
       "      <td>443.639726</td>\n",
       "      <td>46.549315</td>\n",
       "      <td>...</td>\n",
       "      <td>472.980137</td>\n",
       "      <td>94.244521</td>\n",
       "      <td>46.660274</td>\n",
       "      <td>21.954110</td>\n",
       "      <td>3.409589</td>\n",
       "      <td>15.060959</td>\n",
       "      <td>2.758904</td>\n",
       "      <td>43.489041</td>\n",
       "      <td>2007.815753</td>\n",
       "      <td>180921.195890</td>\n",
       "    </tr>\n",
       "    <tr>\n",
       "      <th>std</th>\n",
       "      <td>421.610009</td>\n",
       "      <td>34.664304</td>\n",
       "      <td>9981.264932</td>\n",
       "      <td>1.382997</td>\n",
       "      <td>1.112799</td>\n",
       "      <td>30.202904</td>\n",
       "      <td>20.645407</td>\n",
       "      <td>180.731373</td>\n",
       "      <td>456.098091</td>\n",
       "      <td>161.319273</td>\n",
       "      <td>...</td>\n",
       "      <td>213.804841</td>\n",
       "      <td>125.338794</td>\n",
       "      <td>66.256028</td>\n",
       "      <td>61.119149</td>\n",
       "      <td>29.317331</td>\n",
       "      <td>55.757415</td>\n",
       "      <td>40.177307</td>\n",
       "      <td>496.123024</td>\n",
       "      <td>1.328095</td>\n",
       "      <td>79442.502883</td>\n",
       "    </tr>\n",
       "    <tr>\n",
       "      <th>min</th>\n",
       "      <td>0.000000</td>\n",
       "      <td>0.000000</td>\n",
       "      <td>1300.000000</td>\n",
       "      <td>1.000000</td>\n",
       "      <td>1.000000</td>\n",
       "      <td>1872.000000</td>\n",
       "      <td>1950.000000</td>\n",
       "      <td>0.000000</td>\n",
       "      <td>0.000000</td>\n",
       "      <td>0.000000</td>\n",
       "      <td>...</td>\n",
       "      <td>0.000000</td>\n",
       "      <td>0.000000</td>\n",
       "      <td>0.000000</td>\n",
       "      <td>0.000000</td>\n",
       "      <td>0.000000</td>\n",
       "      <td>0.000000</td>\n",
       "      <td>0.000000</td>\n",
       "      <td>0.000000</td>\n",
       "      <td>2006.000000</td>\n",
       "      <td>34900.000000</td>\n",
       "    </tr>\n",
       "    <tr>\n",
       "      <th>25%</th>\n",
       "      <td>364.750000</td>\n",
       "      <td>42.000000</td>\n",
       "      <td>7553.500000</td>\n",
       "      <td>5.000000</td>\n",
       "      <td>5.000000</td>\n",
       "      <td>1954.000000</td>\n",
       "      <td>1967.000000</td>\n",
       "      <td>0.000000</td>\n",
       "      <td>0.000000</td>\n",
       "      <td>0.000000</td>\n",
       "      <td>...</td>\n",
       "      <td>334.500000</td>\n",
       "      <td>0.000000</td>\n",
       "      <td>0.000000</td>\n",
       "      <td>0.000000</td>\n",
       "      <td>0.000000</td>\n",
       "      <td>0.000000</td>\n",
       "      <td>0.000000</td>\n",
       "      <td>0.000000</td>\n",
       "      <td>2007.000000</td>\n",
       "      <td>129975.000000</td>\n",
       "    </tr>\n",
       "    <tr>\n",
       "      <th>50%</th>\n",
       "      <td>729.500000</td>\n",
       "      <td>63.000000</td>\n",
       "      <td>9478.500000</td>\n",
       "      <td>6.000000</td>\n",
       "      <td>5.000000</td>\n",
       "      <td>1973.000000</td>\n",
       "      <td>1994.000000</td>\n",
       "      <td>0.000000</td>\n",
       "      <td>383.500000</td>\n",
       "      <td>0.000000</td>\n",
       "      <td>...</td>\n",
       "      <td>480.000000</td>\n",
       "      <td>0.000000</td>\n",
       "      <td>25.000000</td>\n",
       "      <td>0.000000</td>\n",
       "      <td>0.000000</td>\n",
       "      <td>0.000000</td>\n",
       "      <td>0.000000</td>\n",
       "      <td>0.000000</td>\n",
       "      <td>2008.000000</td>\n",
       "      <td>163000.000000</td>\n",
       "    </tr>\n",
       "    <tr>\n",
       "      <th>75%</th>\n",
       "      <td>1094.250000</td>\n",
       "      <td>79.000000</td>\n",
       "      <td>11601.500000</td>\n",
       "      <td>7.000000</td>\n",
       "      <td>6.000000</td>\n",
       "      <td>2000.000000</td>\n",
       "      <td>2004.000000</td>\n",
       "      <td>164.250000</td>\n",
       "      <td>712.250000</td>\n",
       "      <td>0.000000</td>\n",
       "      <td>...</td>\n",
       "      <td>576.000000</td>\n",
       "      <td>168.000000</td>\n",
       "      <td>68.000000</td>\n",
       "      <td>0.000000</td>\n",
       "      <td>0.000000</td>\n",
       "      <td>0.000000</td>\n",
       "      <td>0.000000</td>\n",
       "      <td>0.000000</td>\n",
       "      <td>2009.000000</td>\n",
       "      <td>214000.000000</td>\n",
       "    </tr>\n",
       "    <tr>\n",
       "      <th>max</th>\n",
       "      <td>1459.000000</td>\n",
       "      <td>313.000000</td>\n",
       "      <td>215245.000000</td>\n",
       "      <td>10.000000</td>\n",
       "      <td>9.000000</td>\n",
       "      <td>2010.000000</td>\n",
       "      <td>2010.000000</td>\n",
       "      <td>1600.000000</td>\n",
       "      <td>5644.000000</td>\n",
       "      <td>1474.000000</td>\n",
       "      <td>...</td>\n",
       "      <td>1418.000000</td>\n",
       "      <td>857.000000</td>\n",
       "      <td>547.000000</td>\n",
       "      <td>552.000000</td>\n",
       "      <td>508.000000</td>\n",
       "      <td>480.000000</td>\n",
       "      <td>738.000000</td>\n",
       "      <td>15500.000000</td>\n",
       "      <td>2010.000000</td>\n",
       "      <td>755000.000000</td>\n",
       "    </tr>\n",
       "  </tbody>\n",
       "</table>\n",
       "<p>8 rows × 36 columns</p>\n",
       "</div>"
      ],
      "text/plain": [
       "        Unnamed: 0  LotFrontage        LotArea  OverallQual  OverallCond  \\\n",
       "count  1460.000000  1460.000000    1460.000000  1460.000000  1460.000000   \n",
       "mean    729.500000    57.623288   10516.828082     6.099315     5.575342   \n",
       "std     421.610009    34.664304    9981.264932     1.382997     1.112799   \n",
       "min       0.000000     0.000000    1300.000000     1.000000     1.000000   \n",
       "25%     364.750000    42.000000    7553.500000     5.000000     5.000000   \n",
       "50%     729.500000    63.000000    9478.500000     6.000000     5.000000   \n",
       "75%    1094.250000    79.000000   11601.500000     7.000000     6.000000   \n",
       "max    1459.000000   313.000000  215245.000000    10.000000     9.000000   \n",
       "\n",
       "         YearBuilt  YearRemodAdd   MasVnrArea   BsmtFinSF1   BsmtFinSF2  ...  \\\n",
       "count  1460.000000   1460.000000  1460.000000  1460.000000  1460.000000  ...   \n",
       "mean   1971.267808   1984.865753   103.117123   443.639726    46.549315  ...   \n",
       "std      30.202904     20.645407   180.731373   456.098091   161.319273  ...   \n",
       "min    1872.000000   1950.000000     0.000000     0.000000     0.000000  ...   \n",
       "25%    1954.000000   1967.000000     0.000000     0.000000     0.000000  ...   \n",
       "50%    1973.000000   1994.000000     0.000000   383.500000     0.000000  ...   \n",
       "75%    2000.000000   2004.000000   164.250000   712.250000     0.000000  ...   \n",
       "max    2010.000000   2010.000000  1600.000000  5644.000000  1474.000000  ...   \n",
       "\n",
       "        GarageArea   WoodDeckSF  OpenPorchSF  EnclosedPorch    3SsnPorch  \\\n",
       "count  1460.000000  1460.000000  1460.000000    1460.000000  1460.000000   \n",
       "mean    472.980137    94.244521    46.660274      21.954110     3.409589   \n",
       "std     213.804841   125.338794    66.256028      61.119149    29.317331   \n",
       "min       0.000000     0.000000     0.000000       0.000000     0.000000   \n",
       "25%     334.500000     0.000000     0.000000       0.000000     0.000000   \n",
       "50%     480.000000     0.000000    25.000000       0.000000     0.000000   \n",
       "75%     576.000000   168.000000    68.000000       0.000000     0.000000   \n",
       "max    1418.000000   857.000000   547.000000     552.000000   508.000000   \n",
       "\n",
       "       ScreenPorch     PoolArea       MiscVal       YrSold      SalePrice  \n",
       "count  1460.000000  1460.000000   1460.000000  1460.000000    1460.000000  \n",
       "mean     15.060959     2.758904     43.489041  2007.815753  180921.195890  \n",
       "std      55.757415    40.177307    496.123024     1.328095   79442.502883  \n",
       "min       0.000000     0.000000      0.000000  2006.000000   34900.000000  \n",
       "25%       0.000000     0.000000      0.000000  2007.000000  129975.000000  \n",
       "50%       0.000000     0.000000      0.000000  2008.000000  163000.000000  \n",
       "75%       0.000000     0.000000      0.000000  2009.000000  214000.000000  \n",
       "max     480.000000   738.000000  15500.000000  2010.000000  755000.000000  \n",
       "\n",
       "[8 rows x 36 columns]"
      ]
     },
     "execution_count": 8,
     "metadata": {},
     "output_type": "execute_result"
    }
   ],
   "source": [
    "house_data.describe()"
   ]
  },
  {
   "cell_type": "markdown",
   "id": "cbdda943",
   "metadata": {},
   "source": [
    "## COLUMNS IN DATA SET"
   ]
  },
  {
   "cell_type": "code",
   "execution_count": 9,
   "id": "1bf952ce",
   "metadata": {},
   "outputs": [
    {
     "data": {
      "text/plain": [
       "Index(['Unnamed: 0', 'MSSubClass', 'MSZoning', 'LotFrontage', 'LotArea',\n",
       "       'Street', 'Alley', 'LotShape', 'LandContour', 'Utilities', 'LotConfig',\n",
       "       'LandSlope', 'Neighborhood', 'Condition1', 'Condition2', 'BldgType',\n",
       "       'HouseStyle', 'OverallQual', 'OverallCond', 'YearBuilt', 'YearRemodAdd',\n",
       "       'RoofStyle', 'RoofMatl', 'Exterior1st', 'Exterior2nd', 'MasVnrType',\n",
       "       'MasVnrArea', 'ExterQual', 'ExterCond', 'Foundation', 'BsmtQual',\n",
       "       'BsmtCond', 'BsmtExposure', 'BsmtFinType1', 'BsmtFinSF1',\n",
       "       'BsmtFinType2', 'BsmtFinSF2', 'BsmtUnfSF', 'TotalBsmtSF', 'Heating',\n",
       "       'HeatingQC', 'CentralAir', 'Electrical', '1stFlrSF', '2ndFlrSF',\n",
       "       'LowQualFinSF', 'GrLivArea', 'BsmtFullBath', 'BsmtHalfBath', 'FullBath',\n",
       "       'HalfBath', 'BedroomAbvGr', 'KitchenAbvGr', 'KitchenQual',\n",
       "       'TotRmsAbvGrd', 'Functional', 'Fireplaces', 'FireplaceQu', 'GarageType',\n",
       "       'GarageYrBlt', 'GarageFinish', 'GarageCars', 'GarageArea', 'GarageQual',\n",
       "       'GarageCond', 'PavedDrive', 'WoodDeckSF', 'OpenPorchSF',\n",
       "       'EnclosedPorch', '3SsnPorch', 'ScreenPorch', 'PoolArea', 'PoolQC',\n",
       "       'Fence', 'MiscFeature', 'MiscVal', 'MoSold', 'YrSold', 'SaleType',\n",
       "       'SaleCondition', 'SalePrice'],\n",
       "      dtype='object')"
      ]
     },
     "execution_count": 9,
     "metadata": {},
     "output_type": "execute_result"
    }
   ],
   "source": [
    "columns = house_data.columns\n",
    "columns"
   ]
  },
  {
   "cell_type": "markdown",
   "id": "bab6e1f6",
   "metadata": {},
   "source": [
    "## MSSubClass: Identifies the type of dwelling involved in the sale."
   ]
  },
  {
   "cell_type": "markdown",
   "id": "5bd2fd7f",
   "metadata": {},
   "source": [
    "### SC20 =\t1-STORY 1946 & NEWER ALL STYLES"
   ]
  },
  {
   "cell_type": "code",
   "execution_count": 10,
   "id": "44ac2d8e",
   "metadata": {},
   "outputs": [],
   "source": [
    "house_data['MSSubClass'] = house_data['MSSubClass'].replace({'SC20':'1-STORY 1946 & NEWER ALL STYLES'})"
   ]
  },
  {
   "cell_type": "code",
   "execution_count": 11,
   "id": "70461984",
   "metadata": {},
   "outputs": [
    {
     "data": {
      "text/html": [
       "<div>\n",
       "<style scoped>\n",
       "    .dataframe tbody tr th:only-of-type {\n",
       "        vertical-align: middle;\n",
       "    }\n",
       "\n",
       "    .dataframe tbody tr th {\n",
       "        vertical-align: top;\n",
       "    }\n",
       "\n",
       "    .dataframe thead th {\n",
       "        text-align: right;\n",
       "    }\n",
       "</style>\n",
       "<table border=\"1\" class=\"dataframe\">\n",
       "  <thead>\n",
       "    <tr style=\"text-align: right;\">\n",
       "      <th></th>\n",
       "      <th>Unnamed: 0</th>\n",
       "      <th>MSSubClass</th>\n",
       "      <th>MSZoning</th>\n",
       "      <th>LotFrontage</th>\n",
       "      <th>LotArea</th>\n",
       "      <th>Street</th>\n",
       "      <th>Alley</th>\n",
       "      <th>LotShape</th>\n",
       "      <th>LandContour</th>\n",
       "      <th>Utilities</th>\n",
       "      <th>...</th>\n",
       "      <th>PoolArea</th>\n",
       "      <th>PoolQC</th>\n",
       "      <th>Fence</th>\n",
       "      <th>MiscFeature</th>\n",
       "      <th>MiscVal</th>\n",
       "      <th>MoSold</th>\n",
       "      <th>YrSold</th>\n",
       "      <th>SaleType</th>\n",
       "      <th>SaleCondition</th>\n",
       "      <th>SalePrice</th>\n",
       "    </tr>\n",
       "  </thead>\n",
       "  <tbody>\n",
       "    <tr>\n",
       "      <th>0</th>\n",
       "      <td>0</td>\n",
       "      <td>SC60</td>\n",
       "      <td>RL</td>\n",
       "      <td>65</td>\n",
       "      <td>8450</td>\n",
       "      <td>Pave</td>\n",
       "      <td>NaN</td>\n",
       "      <td>Reg</td>\n",
       "      <td>Lvl</td>\n",
       "      <td>AllPub</td>\n",
       "      <td>...</td>\n",
       "      <td>0</td>\n",
       "      <td>No</td>\n",
       "      <td>No</td>\n",
       "      <td>No</td>\n",
       "      <td>0</td>\n",
       "      <td>Feb</td>\n",
       "      <td>2008</td>\n",
       "      <td>WD</td>\n",
       "      <td>Normal</td>\n",
       "      <td>208500</td>\n",
       "    </tr>\n",
       "    <tr>\n",
       "      <th>1</th>\n",
       "      <td>1</td>\n",
       "      <td>1-STORY 1946 &amp; NEWER ALL STYLES</td>\n",
       "      <td>RL</td>\n",
       "      <td>80</td>\n",
       "      <td>9600</td>\n",
       "      <td>Pave</td>\n",
       "      <td>NaN</td>\n",
       "      <td>Reg</td>\n",
       "      <td>Lvl</td>\n",
       "      <td>AllPub</td>\n",
       "      <td>...</td>\n",
       "      <td>0</td>\n",
       "      <td>No</td>\n",
       "      <td>No</td>\n",
       "      <td>No</td>\n",
       "      <td>0</td>\n",
       "      <td>May</td>\n",
       "      <td>2007</td>\n",
       "      <td>WD</td>\n",
       "      <td>Normal</td>\n",
       "      <td>181500</td>\n",
       "    </tr>\n",
       "    <tr>\n",
       "      <th>2</th>\n",
       "      <td>2</td>\n",
       "      <td>SC60</td>\n",
       "      <td>RL</td>\n",
       "      <td>68</td>\n",
       "      <td>11250</td>\n",
       "      <td>Pave</td>\n",
       "      <td>NaN</td>\n",
       "      <td>IR1</td>\n",
       "      <td>Lvl</td>\n",
       "      <td>AllPub</td>\n",
       "      <td>...</td>\n",
       "      <td>0</td>\n",
       "      <td>No</td>\n",
       "      <td>No</td>\n",
       "      <td>No</td>\n",
       "      <td>0</td>\n",
       "      <td>Sep</td>\n",
       "      <td>2008</td>\n",
       "      <td>WD</td>\n",
       "      <td>Normal</td>\n",
       "      <td>223500</td>\n",
       "    </tr>\n",
       "    <tr>\n",
       "      <th>3</th>\n",
       "      <td>3</td>\n",
       "      <td>SC70</td>\n",
       "      <td>RL</td>\n",
       "      <td>60</td>\n",
       "      <td>9550</td>\n",
       "      <td>Pave</td>\n",
       "      <td>NaN</td>\n",
       "      <td>IR1</td>\n",
       "      <td>Lvl</td>\n",
       "      <td>AllPub</td>\n",
       "      <td>...</td>\n",
       "      <td>0</td>\n",
       "      <td>No</td>\n",
       "      <td>No</td>\n",
       "      <td>No</td>\n",
       "      <td>0</td>\n",
       "      <td>Feb</td>\n",
       "      <td>2006</td>\n",
       "      <td>WD</td>\n",
       "      <td>Abnorml</td>\n",
       "      <td>140000</td>\n",
       "    </tr>\n",
       "    <tr>\n",
       "      <th>4</th>\n",
       "      <td>4</td>\n",
       "      <td>SC60</td>\n",
       "      <td>RL</td>\n",
       "      <td>84</td>\n",
       "      <td>14260</td>\n",
       "      <td>Pave</td>\n",
       "      <td>NaN</td>\n",
       "      <td>IR1</td>\n",
       "      <td>Lvl</td>\n",
       "      <td>AllPub</td>\n",
       "      <td>...</td>\n",
       "      <td>0</td>\n",
       "      <td>No</td>\n",
       "      <td>No</td>\n",
       "      <td>No</td>\n",
       "      <td>0</td>\n",
       "      <td>Dec</td>\n",
       "      <td>2008</td>\n",
       "      <td>WD</td>\n",
       "      <td>Normal</td>\n",
       "      <td>250000</td>\n",
       "    </tr>\n",
       "    <tr>\n",
       "      <th>...</th>\n",
       "      <td>...</td>\n",
       "      <td>...</td>\n",
       "      <td>...</td>\n",
       "      <td>...</td>\n",
       "      <td>...</td>\n",
       "      <td>...</td>\n",
       "      <td>...</td>\n",
       "      <td>...</td>\n",
       "      <td>...</td>\n",
       "      <td>...</td>\n",
       "      <td>...</td>\n",
       "      <td>...</td>\n",
       "      <td>...</td>\n",
       "      <td>...</td>\n",
       "      <td>...</td>\n",
       "      <td>...</td>\n",
       "      <td>...</td>\n",
       "      <td>...</td>\n",
       "      <td>...</td>\n",
       "      <td>...</td>\n",
       "      <td>...</td>\n",
       "    </tr>\n",
       "    <tr>\n",
       "      <th>1455</th>\n",
       "      <td>1455</td>\n",
       "      <td>SC60</td>\n",
       "      <td>RL</td>\n",
       "      <td>62</td>\n",
       "      <td>7917</td>\n",
       "      <td>Pave</td>\n",
       "      <td>NaN</td>\n",
       "      <td>Reg</td>\n",
       "      <td>Lvl</td>\n",
       "      <td>AllPub</td>\n",
       "      <td>...</td>\n",
       "      <td>0</td>\n",
       "      <td>No</td>\n",
       "      <td>No</td>\n",
       "      <td>No</td>\n",
       "      <td>0</td>\n",
       "      <td>Aug</td>\n",
       "      <td>2007</td>\n",
       "      <td>WD</td>\n",
       "      <td>Normal</td>\n",
       "      <td>175000</td>\n",
       "    </tr>\n",
       "    <tr>\n",
       "      <th>1456</th>\n",
       "      <td>1456</td>\n",
       "      <td>1-STORY 1946 &amp; NEWER ALL STYLES</td>\n",
       "      <td>RL</td>\n",
       "      <td>85</td>\n",
       "      <td>13175</td>\n",
       "      <td>Pave</td>\n",
       "      <td>NaN</td>\n",
       "      <td>Reg</td>\n",
       "      <td>Lvl</td>\n",
       "      <td>AllPub</td>\n",
       "      <td>...</td>\n",
       "      <td>0</td>\n",
       "      <td>No</td>\n",
       "      <td>MnPrv</td>\n",
       "      <td>No</td>\n",
       "      <td>0</td>\n",
       "      <td>Feb</td>\n",
       "      <td>2010</td>\n",
       "      <td>WD</td>\n",
       "      <td>Normal</td>\n",
       "      <td>210000</td>\n",
       "    </tr>\n",
       "    <tr>\n",
       "      <th>1457</th>\n",
       "      <td>1457</td>\n",
       "      <td>SC70</td>\n",
       "      <td>RL</td>\n",
       "      <td>66</td>\n",
       "      <td>9042</td>\n",
       "      <td>Pave</td>\n",
       "      <td>NaN</td>\n",
       "      <td>Reg</td>\n",
       "      <td>Lvl</td>\n",
       "      <td>AllPub</td>\n",
       "      <td>...</td>\n",
       "      <td>0</td>\n",
       "      <td>No</td>\n",
       "      <td>GdPrv</td>\n",
       "      <td>Shed</td>\n",
       "      <td>2500</td>\n",
       "      <td>May</td>\n",
       "      <td>2010</td>\n",
       "      <td>WD</td>\n",
       "      <td>Normal</td>\n",
       "      <td>266500</td>\n",
       "    </tr>\n",
       "    <tr>\n",
       "      <th>1458</th>\n",
       "      <td>1458</td>\n",
       "      <td>1-STORY 1946 &amp; NEWER ALL STYLES</td>\n",
       "      <td>RL</td>\n",
       "      <td>68</td>\n",
       "      <td>9717</td>\n",
       "      <td>Pave</td>\n",
       "      <td>NaN</td>\n",
       "      <td>Reg</td>\n",
       "      <td>Lvl</td>\n",
       "      <td>AllPub</td>\n",
       "      <td>...</td>\n",
       "      <td>0</td>\n",
       "      <td>No</td>\n",
       "      <td>No</td>\n",
       "      <td>No</td>\n",
       "      <td>0</td>\n",
       "      <td>Apr</td>\n",
       "      <td>2010</td>\n",
       "      <td>WD</td>\n",
       "      <td>Normal</td>\n",
       "      <td>142125</td>\n",
       "    </tr>\n",
       "    <tr>\n",
       "      <th>1459</th>\n",
       "      <td>1459</td>\n",
       "      <td>1-STORY 1946 &amp; NEWER ALL STYLES</td>\n",
       "      <td>RL</td>\n",
       "      <td>75</td>\n",
       "      <td>9937</td>\n",
       "      <td>Pave</td>\n",
       "      <td>NaN</td>\n",
       "      <td>Reg</td>\n",
       "      <td>Lvl</td>\n",
       "      <td>AllPub</td>\n",
       "      <td>...</td>\n",
       "      <td>0</td>\n",
       "      <td>No</td>\n",
       "      <td>No</td>\n",
       "      <td>No</td>\n",
       "      <td>0</td>\n",
       "      <td>Jun</td>\n",
       "      <td>2008</td>\n",
       "      <td>WD</td>\n",
       "      <td>Normal</td>\n",
       "      <td>147500</td>\n",
       "    </tr>\n",
       "  </tbody>\n",
       "</table>\n",
       "<p>1460 rows × 81 columns</p>\n",
       "</div>"
      ],
      "text/plain": [
       "      Unnamed: 0                       MSSubClass MSZoning  LotFrontage  \\\n",
       "0              0                             SC60       RL           65   \n",
       "1              1  1-STORY 1946 & NEWER ALL STYLES       RL           80   \n",
       "2              2                             SC60       RL           68   \n",
       "3              3                             SC70       RL           60   \n",
       "4              4                             SC60       RL           84   \n",
       "...          ...                              ...      ...          ...   \n",
       "1455        1455                             SC60       RL           62   \n",
       "1456        1456  1-STORY 1946 & NEWER ALL STYLES       RL           85   \n",
       "1457        1457                             SC70       RL           66   \n",
       "1458        1458  1-STORY 1946 & NEWER ALL STYLES       RL           68   \n",
       "1459        1459  1-STORY 1946 & NEWER ALL STYLES       RL           75   \n",
       "\n",
       "      LotArea Street Alley LotShape LandContour Utilities  ... PoolArea  \\\n",
       "0        8450   Pave   NaN      Reg         Lvl    AllPub  ...        0   \n",
       "1        9600   Pave   NaN      Reg         Lvl    AllPub  ...        0   \n",
       "2       11250   Pave   NaN      IR1         Lvl    AllPub  ...        0   \n",
       "3        9550   Pave   NaN      IR1         Lvl    AllPub  ...        0   \n",
       "4       14260   Pave   NaN      IR1         Lvl    AllPub  ...        0   \n",
       "...       ...    ...   ...      ...         ...       ...  ...      ...   \n",
       "1455     7917   Pave   NaN      Reg         Lvl    AllPub  ...        0   \n",
       "1456    13175   Pave   NaN      Reg         Lvl    AllPub  ...        0   \n",
       "1457     9042   Pave   NaN      Reg         Lvl    AllPub  ...        0   \n",
       "1458     9717   Pave   NaN      Reg         Lvl    AllPub  ...        0   \n",
       "1459     9937   Pave   NaN      Reg         Lvl    AllPub  ...        0   \n",
       "\n",
       "     PoolQC  Fence MiscFeature MiscVal MoSold YrSold  SaleType  SaleCondition  \\\n",
       "0        No     No          No       0    Feb   2008        WD         Normal   \n",
       "1        No     No          No       0    May   2007        WD         Normal   \n",
       "2        No     No          No       0    Sep   2008        WD         Normal   \n",
       "3        No     No          No       0    Feb   2006        WD        Abnorml   \n",
       "4        No     No          No       0    Dec   2008        WD         Normal   \n",
       "...     ...    ...         ...     ...    ...    ...       ...            ...   \n",
       "1455     No     No          No       0    Aug   2007        WD         Normal   \n",
       "1456     No  MnPrv          No       0    Feb   2010        WD         Normal   \n",
       "1457     No  GdPrv        Shed    2500    May   2010        WD         Normal   \n",
       "1458     No     No          No       0    Apr   2010        WD         Normal   \n",
       "1459     No     No          No       0    Jun   2008        WD         Normal   \n",
       "\n",
       "      SalePrice  \n",
       "0        208500  \n",
       "1        181500  \n",
       "2        223500  \n",
       "3        140000  \n",
       "4        250000  \n",
       "...         ...  \n",
       "1455     175000  \n",
       "1456     210000  \n",
       "1457     266500  \n",
       "1458     142125  \n",
       "1459     147500  \n",
       "\n",
       "[1460 rows x 81 columns]"
      ]
     },
     "execution_count": 11,
     "metadata": {},
     "output_type": "execute_result"
    }
   ],
   "source": [
    "house_data"
   ]
  },
  {
   "cell_type": "markdown",
   "id": "5d424cc2",
   "metadata": {},
   "source": [
    "### SC30 = 1-STORY 1945 & OLDER"
   ]
  },
  {
   "cell_type": "code",
   "execution_count": 12,
   "id": "a110b39f",
   "metadata": {},
   "outputs": [],
   "source": [
    "house_data['MSSubClass'] = house_data['MSSubClass'].replace({'SC30':'1-STORY 1945 & OLDER'})"
   ]
  },
  {
   "cell_type": "code",
   "execution_count": 13,
   "id": "c3758470",
   "metadata": {},
   "outputs": [
    {
     "data": {
      "text/html": [
       "<div>\n",
       "<style scoped>\n",
       "    .dataframe tbody tr th:only-of-type {\n",
       "        vertical-align: middle;\n",
       "    }\n",
       "\n",
       "    .dataframe tbody tr th {\n",
       "        vertical-align: top;\n",
       "    }\n",
       "\n",
       "    .dataframe thead th {\n",
       "        text-align: right;\n",
       "    }\n",
       "</style>\n",
       "<table border=\"1\" class=\"dataframe\">\n",
       "  <thead>\n",
       "    <tr style=\"text-align: right;\">\n",
       "      <th></th>\n",
       "      <th>Unnamed: 0</th>\n",
       "      <th>MSSubClass</th>\n",
       "      <th>MSZoning</th>\n",
       "      <th>LotFrontage</th>\n",
       "      <th>LotArea</th>\n",
       "      <th>Street</th>\n",
       "      <th>Alley</th>\n",
       "      <th>LotShape</th>\n",
       "      <th>LandContour</th>\n",
       "      <th>Utilities</th>\n",
       "      <th>...</th>\n",
       "      <th>PoolArea</th>\n",
       "      <th>PoolQC</th>\n",
       "      <th>Fence</th>\n",
       "      <th>MiscFeature</th>\n",
       "      <th>MiscVal</th>\n",
       "      <th>MoSold</th>\n",
       "      <th>YrSold</th>\n",
       "      <th>SaleType</th>\n",
       "      <th>SaleCondition</th>\n",
       "      <th>SalePrice</th>\n",
       "    </tr>\n",
       "  </thead>\n",
       "  <tbody>\n",
       "    <tr>\n",
       "      <th>0</th>\n",
       "      <td>0</td>\n",
       "      <td>SC60</td>\n",
       "      <td>RL</td>\n",
       "      <td>65</td>\n",
       "      <td>8450</td>\n",
       "      <td>Pave</td>\n",
       "      <td>NaN</td>\n",
       "      <td>Reg</td>\n",
       "      <td>Lvl</td>\n",
       "      <td>AllPub</td>\n",
       "      <td>...</td>\n",
       "      <td>0</td>\n",
       "      <td>No</td>\n",
       "      <td>No</td>\n",
       "      <td>No</td>\n",
       "      <td>0</td>\n",
       "      <td>Feb</td>\n",
       "      <td>2008</td>\n",
       "      <td>WD</td>\n",
       "      <td>Normal</td>\n",
       "      <td>208500</td>\n",
       "    </tr>\n",
       "    <tr>\n",
       "      <th>1</th>\n",
       "      <td>1</td>\n",
       "      <td>1-STORY 1946 &amp; NEWER ALL STYLES</td>\n",
       "      <td>RL</td>\n",
       "      <td>80</td>\n",
       "      <td>9600</td>\n",
       "      <td>Pave</td>\n",
       "      <td>NaN</td>\n",
       "      <td>Reg</td>\n",
       "      <td>Lvl</td>\n",
       "      <td>AllPub</td>\n",
       "      <td>...</td>\n",
       "      <td>0</td>\n",
       "      <td>No</td>\n",
       "      <td>No</td>\n",
       "      <td>No</td>\n",
       "      <td>0</td>\n",
       "      <td>May</td>\n",
       "      <td>2007</td>\n",
       "      <td>WD</td>\n",
       "      <td>Normal</td>\n",
       "      <td>181500</td>\n",
       "    </tr>\n",
       "    <tr>\n",
       "      <th>2</th>\n",
       "      <td>2</td>\n",
       "      <td>SC60</td>\n",
       "      <td>RL</td>\n",
       "      <td>68</td>\n",
       "      <td>11250</td>\n",
       "      <td>Pave</td>\n",
       "      <td>NaN</td>\n",
       "      <td>IR1</td>\n",
       "      <td>Lvl</td>\n",
       "      <td>AllPub</td>\n",
       "      <td>...</td>\n",
       "      <td>0</td>\n",
       "      <td>No</td>\n",
       "      <td>No</td>\n",
       "      <td>No</td>\n",
       "      <td>0</td>\n",
       "      <td>Sep</td>\n",
       "      <td>2008</td>\n",
       "      <td>WD</td>\n",
       "      <td>Normal</td>\n",
       "      <td>223500</td>\n",
       "    </tr>\n",
       "    <tr>\n",
       "      <th>3</th>\n",
       "      <td>3</td>\n",
       "      <td>SC70</td>\n",
       "      <td>RL</td>\n",
       "      <td>60</td>\n",
       "      <td>9550</td>\n",
       "      <td>Pave</td>\n",
       "      <td>NaN</td>\n",
       "      <td>IR1</td>\n",
       "      <td>Lvl</td>\n",
       "      <td>AllPub</td>\n",
       "      <td>...</td>\n",
       "      <td>0</td>\n",
       "      <td>No</td>\n",
       "      <td>No</td>\n",
       "      <td>No</td>\n",
       "      <td>0</td>\n",
       "      <td>Feb</td>\n",
       "      <td>2006</td>\n",
       "      <td>WD</td>\n",
       "      <td>Abnorml</td>\n",
       "      <td>140000</td>\n",
       "    </tr>\n",
       "    <tr>\n",
       "      <th>4</th>\n",
       "      <td>4</td>\n",
       "      <td>SC60</td>\n",
       "      <td>RL</td>\n",
       "      <td>84</td>\n",
       "      <td>14260</td>\n",
       "      <td>Pave</td>\n",
       "      <td>NaN</td>\n",
       "      <td>IR1</td>\n",
       "      <td>Lvl</td>\n",
       "      <td>AllPub</td>\n",
       "      <td>...</td>\n",
       "      <td>0</td>\n",
       "      <td>No</td>\n",
       "      <td>No</td>\n",
       "      <td>No</td>\n",
       "      <td>0</td>\n",
       "      <td>Dec</td>\n",
       "      <td>2008</td>\n",
       "      <td>WD</td>\n",
       "      <td>Normal</td>\n",
       "      <td>250000</td>\n",
       "    </tr>\n",
       "    <tr>\n",
       "      <th>...</th>\n",
       "      <td>...</td>\n",
       "      <td>...</td>\n",
       "      <td>...</td>\n",
       "      <td>...</td>\n",
       "      <td>...</td>\n",
       "      <td>...</td>\n",
       "      <td>...</td>\n",
       "      <td>...</td>\n",
       "      <td>...</td>\n",
       "      <td>...</td>\n",
       "      <td>...</td>\n",
       "      <td>...</td>\n",
       "      <td>...</td>\n",
       "      <td>...</td>\n",
       "      <td>...</td>\n",
       "      <td>...</td>\n",
       "      <td>...</td>\n",
       "      <td>...</td>\n",
       "      <td>...</td>\n",
       "      <td>...</td>\n",
       "      <td>...</td>\n",
       "    </tr>\n",
       "    <tr>\n",
       "      <th>1455</th>\n",
       "      <td>1455</td>\n",
       "      <td>SC60</td>\n",
       "      <td>RL</td>\n",
       "      <td>62</td>\n",
       "      <td>7917</td>\n",
       "      <td>Pave</td>\n",
       "      <td>NaN</td>\n",
       "      <td>Reg</td>\n",
       "      <td>Lvl</td>\n",
       "      <td>AllPub</td>\n",
       "      <td>...</td>\n",
       "      <td>0</td>\n",
       "      <td>No</td>\n",
       "      <td>No</td>\n",
       "      <td>No</td>\n",
       "      <td>0</td>\n",
       "      <td>Aug</td>\n",
       "      <td>2007</td>\n",
       "      <td>WD</td>\n",
       "      <td>Normal</td>\n",
       "      <td>175000</td>\n",
       "    </tr>\n",
       "    <tr>\n",
       "      <th>1456</th>\n",
       "      <td>1456</td>\n",
       "      <td>1-STORY 1946 &amp; NEWER ALL STYLES</td>\n",
       "      <td>RL</td>\n",
       "      <td>85</td>\n",
       "      <td>13175</td>\n",
       "      <td>Pave</td>\n",
       "      <td>NaN</td>\n",
       "      <td>Reg</td>\n",
       "      <td>Lvl</td>\n",
       "      <td>AllPub</td>\n",
       "      <td>...</td>\n",
       "      <td>0</td>\n",
       "      <td>No</td>\n",
       "      <td>MnPrv</td>\n",
       "      <td>No</td>\n",
       "      <td>0</td>\n",
       "      <td>Feb</td>\n",
       "      <td>2010</td>\n",
       "      <td>WD</td>\n",
       "      <td>Normal</td>\n",
       "      <td>210000</td>\n",
       "    </tr>\n",
       "    <tr>\n",
       "      <th>1457</th>\n",
       "      <td>1457</td>\n",
       "      <td>SC70</td>\n",
       "      <td>RL</td>\n",
       "      <td>66</td>\n",
       "      <td>9042</td>\n",
       "      <td>Pave</td>\n",
       "      <td>NaN</td>\n",
       "      <td>Reg</td>\n",
       "      <td>Lvl</td>\n",
       "      <td>AllPub</td>\n",
       "      <td>...</td>\n",
       "      <td>0</td>\n",
       "      <td>No</td>\n",
       "      <td>GdPrv</td>\n",
       "      <td>Shed</td>\n",
       "      <td>2500</td>\n",
       "      <td>May</td>\n",
       "      <td>2010</td>\n",
       "      <td>WD</td>\n",
       "      <td>Normal</td>\n",
       "      <td>266500</td>\n",
       "    </tr>\n",
       "    <tr>\n",
       "      <th>1458</th>\n",
       "      <td>1458</td>\n",
       "      <td>1-STORY 1946 &amp; NEWER ALL STYLES</td>\n",
       "      <td>RL</td>\n",
       "      <td>68</td>\n",
       "      <td>9717</td>\n",
       "      <td>Pave</td>\n",
       "      <td>NaN</td>\n",
       "      <td>Reg</td>\n",
       "      <td>Lvl</td>\n",
       "      <td>AllPub</td>\n",
       "      <td>...</td>\n",
       "      <td>0</td>\n",
       "      <td>No</td>\n",
       "      <td>No</td>\n",
       "      <td>No</td>\n",
       "      <td>0</td>\n",
       "      <td>Apr</td>\n",
       "      <td>2010</td>\n",
       "      <td>WD</td>\n",
       "      <td>Normal</td>\n",
       "      <td>142125</td>\n",
       "    </tr>\n",
       "    <tr>\n",
       "      <th>1459</th>\n",
       "      <td>1459</td>\n",
       "      <td>1-STORY 1946 &amp; NEWER ALL STYLES</td>\n",
       "      <td>RL</td>\n",
       "      <td>75</td>\n",
       "      <td>9937</td>\n",
       "      <td>Pave</td>\n",
       "      <td>NaN</td>\n",
       "      <td>Reg</td>\n",
       "      <td>Lvl</td>\n",
       "      <td>AllPub</td>\n",
       "      <td>...</td>\n",
       "      <td>0</td>\n",
       "      <td>No</td>\n",
       "      <td>No</td>\n",
       "      <td>No</td>\n",
       "      <td>0</td>\n",
       "      <td>Jun</td>\n",
       "      <td>2008</td>\n",
       "      <td>WD</td>\n",
       "      <td>Normal</td>\n",
       "      <td>147500</td>\n",
       "    </tr>\n",
       "  </tbody>\n",
       "</table>\n",
       "<p>1460 rows × 81 columns</p>\n",
       "</div>"
      ],
      "text/plain": [
       "      Unnamed: 0                       MSSubClass MSZoning  LotFrontage  \\\n",
       "0              0                             SC60       RL           65   \n",
       "1              1  1-STORY 1946 & NEWER ALL STYLES       RL           80   \n",
       "2              2                             SC60       RL           68   \n",
       "3              3                             SC70       RL           60   \n",
       "4              4                             SC60       RL           84   \n",
       "...          ...                              ...      ...          ...   \n",
       "1455        1455                             SC60       RL           62   \n",
       "1456        1456  1-STORY 1946 & NEWER ALL STYLES       RL           85   \n",
       "1457        1457                             SC70       RL           66   \n",
       "1458        1458  1-STORY 1946 & NEWER ALL STYLES       RL           68   \n",
       "1459        1459  1-STORY 1946 & NEWER ALL STYLES       RL           75   \n",
       "\n",
       "      LotArea Street Alley LotShape LandContour Utilities  ... PoolArea  \\\n",
       "0        8450   Pave   NaN      Reg         Lvl    AllPub  ...        0   \n",
       "1        9600   Pave   NaN      Reg         Lvl    AllPub  ...        0   \n",
       "2       11250   Pave   NaN      IR1         Lvl    AllPub  ...        0   \n",
       "3        9550   Pave   NaN      IR1         Lvl    AllPub  ...        0   \n",
       "4       14260   Pave   NaN      IR1         Lvl    AllPub  ...        0   \n",
       "...       ...    ...   ...      ...         ...       ...  ...      ...   \n",
       "1455     7917   Pave   NaN      Reg         Lvl    AllPub  ...        0   \n",
       "1456    13175   Pave   NaN      Reg         Lvl    AllPub  ...        0   \n",
       "1457     9042   Pave   NaN      Reg         Lvl    AllPub  ...        0   \n",
       "1458     9717   Pave   NaN      Reg         Lvl    AllPub  ...        0   \n",
       "1459     9937   Pave   NaN      Reg         Lvl    AllPub  ...        0   \n",
       "\n",
       "     PoolQC  Fence MiscFeature MiscVal MoSold YrSold  SaleType  SaleCondition  \\\n",
       "0        No     No          No       0    Feb   2008        WD         Normal   \n",
       "1        No     No          No       0    May   2007        WD         Normal   \n",
       "2        No     No          No       0    Sep   2008        WD         Normal   \n",
       "3        No     No          No       0    Feb   2006        WD        Abnorml   \n",
       "4        No     No          No       0    Dec   2008        WD         Normal   \n",
       "...     ...    ...         ...     ...    ...    ...       ...            ...   \n",
       "1455     No     No          No       0    Aug   2007        WD         Normal   \n",
       "1456     No  MnPrv          No       0    Feb   2010        WD         Normal   \n",
       "1457     No  GdPrv        Shed    2500    May   2010        WD         Normal   \n",
       "1458     No     No          No       0    Apr   2010        WD         Normal   \n",
       "1459     No     No          No       0    Jun   2008        WD         Normal   \n",
       "\n",
       "      SalePrice  \n",
       "0        208500  \n",
       "1        181500  \n",
       "2        223500  \n",
       "3        140000  \n",
       "4        250000  \n",
       "...         ...  \n",
       "1455     175000  \n",
       "1456     210000  \n",
       "1457     266500  \n",
       "1458     142125  \n",
       "1459     147500  \n",
       "\n",
       "[1460 rows x 81 columns]"
      ]
     },
     "execution_count": 13,
     "metadata": {},
     "output_type": "execute_result"
    }
   ],
   "source": [
    "house_data"
   ]
  },
  {
   "cell_type": "markdown",
   "id": "172f2c7b",
   "metadata": {},
   "source": [
    "### \tSC40\t= 1-STORY W/FINISHED ATTIC ALL AGES"
   ]
  },
  {
   "cell_type": "code",
   "execution_count": 14,
   "id": "b0c7311e",
   "metadata": {},
   "outputs": [],
   "source": [
    "house_data['MSSubClass'] = house_data['MSSubClass'].replace({'SC40':'1-STORY W/FINISHED ATTIC ALL AGES'})"
   ]
  },
  {
   "cell_type": "markdown",
   "id": "6243effc",
   "metadata": {},
   "source": [
    "### SC45 = 1-1/2 STORY - UNFINISHED ALL AGES"
   ]
  },
  {
   "cell_type": "code",
   "execution_count": 15,
   "id": "2ac3133d",
   "metadata": {},
   "outputs": [],
   "source": [
    "house_data['MSSubClass'] = house_data['MSSubClass'].replace({'SC45':'1-1/2 STORY - UNFINISHED ALL AGES'})"
   ]
  },
  {
   "cell_type": "markdown",
   "id": "a565d7da",
   "metadata": {},
   "source": [
    "### SC50 = 1-1/2 STORY FINISHED ALL AGES"
   ]
  },
  {
   "cell_type": "code",
   "execution_count": 16,
   "id": "a53d3b52",
   "metadata": {},
   "outputs": [],
   "source": [
    "house_data['MSSubClass'] = house_data['MSSubClass'].replace({'SC50':'1-1/2 STORY FINISHED ALL AGES'})"
   ]
  },
  {
   "cell_type": "markdown",
   "id": "c6fdb96b",
   "metadata": {},
   "source": [
    "### SC60 = 2-STORY 1946 & NEWER"
   ]
  },
  {
   "cell_type": "code",
   "execution_count": 17,
   "id": "de06d014",
   "metadata": {},
   "outputs": [],
   "source": [
    "house_data['MSSubClass'] = house_data['MSSubClass'].replace({'SC60':'2-STORY 1946 & NEWER'})"
   ]
  },
  {
   "cell_type": "markdown",
   "id": "46a10f89",
   "metadata": {},
   "source": [
    "### SC70 = 2-STORY 1945 & OLDER"
   ]
  },
  {
   "cell_type": "code",
   "execution_count": 18,
   "id": "d26cbccb",
   "metadata": {},
   "outputs": [],
   "source": [
    "house_data['MSSubClass'] = house_data['MSSubClass'].replace({'SC70':'2-STORY 1945 & OLDER'})"
   ]
  },
  {
   "cell_type": "markdown",
   "id": "45b2aee8",
   "metadata": {},
   "source": [
    "### SC75 = 2-1/2 STORY ALL AGES"
   ]
  },
  {
   "cell_type": "code",
   "execution_count": 19,
   "id": "d25ae0c2",
   "metadata": {},
   "outputs": [],
   "source": [
    "house_data['MSSubClass'] = house_data['MSSubClass'].replace({'SC75':'2-1/2 STORY ALL AGES'})"
   ]
  },
  {
   "cell_type": "markdown",
   "id": "d1159877",
   "metadata": {},
   "source": [
    "### SC80 = SPLIT OR MULTI-LEVEL"
   ]
  },
  {
   "cell_type": "code",
   "execution_count": 20,
   "id": "56c3a01b",
   "metadata": {},
   "outputs": [],
   "source": [
    "house_data['MSSubClass'] = house_data['MSSubClass'].replace({'SC80':'SPLIT OR MULTI-LEVEL'})"
   ]
  },
  {
   "cell_type": "markdown",
   "id": "d4f6afc7",
   "metadata": {},
   "source": [
    "### SC85 = SPLIT FOYER"
   ]
  },
  {
   "cell_type": "code",
   "execution_count": 21,
   "id": "28d0a93f",
   "metadata": {},
   "outputs": [],
   "source": [
    "house_data['MSSubClass'] = house_data['MSSubClass'].replace({'SC85':'SPLIT FOYER'})"
   ]
  },
  {
   "cell_type": "markdown",
   "id": "92fd16bf",
   "metadata": {},
   "source": [
    "### \tSC90 =\tDUPLEX - ALL STYLES AND AGES"
   ]
  },
  {
   "cell_type": "code",
   "execution_count": 22,
   "id": "69e33f45",
   "metadata": {},
   "outputs": [],
   "source": [
    "house_data['MSSubClass'] = house_data['MSSubClass'].replace({'SC90':'DUPLEX - ALL STYLES AND AGES'})"
   ]
  },
  {
   "cell_type": "markdown",
   "id": "1f460cdd",
   "metadata": {},
   "source": [
    "### SC120  = 1-STORY PUD (Planned Unit Development) - 1946 & NEWER"
   ]
  },
  {
   "cell_type": "code",
   "execution_count": 23,
   "id": "9f46c994",
   "metadata": {},
   "outputs": [],
   "source": [
    "house_data['MSSubClass'] = house_data['MSSubClass'].replace({'SC120':'1-STORY PUD (Planned Unit Development) - 1946 & NEWER'})"
   ]
  },
  {
   "cell_type": "markdown",
   "id": "2bbfb7e0",
   "metadata": {},
   "source": [
    "### SC150 =  1-1/2 STORY PUD - ALL AGES"
   ]
  },
  {
   "cell_type": "code",
   "execution_count": 24,
   "id": "8a2e098e",
   "metadata": {},
   "outputs": [],
   "source": [
    "house_data['MSSubClass'] = house_data['MSSubClass'].replace({'SC150':'1-1/2 STORY PUD - ALL AGES'})"
   ]
  },
  {
   "cell_type": "markdown",
   "id": "edd69e0b",
   "metadata": {},
   "source": [
    "### SC160 =  2-STORY PUD - 1946 & NEWER"
   ]
  },
  {
   "cell_type": "code",
   "execution_count": 25,
   "id": "8b420d46",
   "metadata": {},
   "outputs": [],
   "source": [
    "house_data['MSSubClass'] = house_data['MSSubClass'].replace({'SC160':'2-STORY PUD - 1946 & NEWER'})"
   ]
  },
  {
   "cell_type": "markdown",
   "id": "db3dff39",
   "metadata": {},
   "source": [
    "### SC180 =  PUD - MULTILEVEL - INCL SPLIT LEV/FOYER"
   ]
  },
  {
   "cell_type": "code",
   "execution_count": 26,
   "id": "91e1ee39",
   "metadata": {},
   "outputs": [],
   "source": [
    "house_data['MSSubClass'] = house_data['MSSubClass'].replace({'SC180':'PUD - MULTILEVEL - INCL SPLIT LEV/FOYER'})"
   ]
  },
  {
   "cell_type": "markdown",
   "id": "bb8b5fda",
   "metadata": {},
   "source": [
    "### SC190 =  2 FAMILY CONVERSION - ALL STYLES AND AGES"
   ]
  },
  {
   "cell_type": "code",
   "execution_count": 27,
   "id": "9cec75db",
   "metadata": {},
   "outputs": [],
   "source": [
    "house_data['MSSubClass'] = house_data['MSSubClass'].replace({'SC190':'2 FAMILY CONVERSION - ALL STYLES AND AGES'})"
   ]
  },
  {
   "cell_type": "code",
   "execution_count": 28,
   "id": "0c8e3f54",
   "metadata": {},
   "outputs": [
    {
     "data": {
      "text/html": [
       "<div>\n",
       "<style scoped>\n",
       "    .dataframe tbody tr th:only-of-type {\n",
       "        vertical-align: middle;\n",
       "    }\n",
       "\n",
       "    .dataframe tbody tr th {\n",
       "        vertical-align: top;\n",
       "    }\n",
       "\n",
       "    .dataframe thead th {\n",
       "        text-align: right;\n",
       "    }\n",
       "</style>\n",
       "<table border=\"1\" class=\"dataframe\">\n",
       "  <thead>\n",
       "    <tr style=\"text-align: right;\">\n",
       "      <th></th>\n",
       "      <th>Unnamed: 0</th>\n",
       "      <th>MSSubClass</th>\n",
       "      <th>MSZoning</th>\n",
       "      <th>LotFrontage</th>\n",
       "      <th>LotArea</th>\n",
       "      <th>Street</th>\n",
       "      <th>Alley</th>\n",
       "      <th>LotShape</th>\n",
       "      <th>LandContour</th>\n",
       "      <th>Utilities</th>\n",
       "      <th>...</th>\n",
       "      <th>PoolArea</th>\n",
       "      <th>PoolQC</th>\n",
       "      <th>Fence</th>\n",
       "      <th>MiscFeature</th>\n",
       "      <th>MiscVal</th>\n",
       "      <th>MoSold</th>\n",
       "      <th>YrSold</th>\n",
       "      <th>SaleType</th>\n",
       "      <th>SaleCondition</th>\n",
       "      <th>SalePrice</th>\n",
       "    </tr>\n",
       "  </thead>\n",
       "  <tbody>\n",
       "    <tr>\n",
       "      <th>0</th>\n",
       "      <td>0</td>\n",
       "      <td>2-STORY 1946 &amp; NEWER</td>\n",
       "      <td>RL</td>\n",
       "      <td>65</td>\n",
       "      <td>8450</td>\n",
       "      <td>Pave</td>\n",
       "      <td>NaN</td>\n",
       "      <td>Reg</td>\n",
       "      <td>Lvl</td>\n",
       "      <td>AllPub</td>\n",
       "      <td>...</td>\n",
       "      <td>0</td>\n",
       "      <td>No</td>\n",
       "      <td>No</td>\n",
       "      <td>No</td>\n",
       "      <td>0</td>\n",
       "      <td>Feb</td>\n",
       "      <td>2008</td>\n",
       "      <td>WD</td>\n",
       "      <td>Normal</td>\n",
       "      <td>208500</td>\n",
       "    </tr>\n",
       "    <tr>\n",
       "      <th>1</th>\n",
       "      <td>1</td>\n",
       "      <td>1-STORY 1946 &amp; NEWER ALL STYLES</td>\n",
       "      <td>RL</td>\n",
       "      <td>80</td>\n",
       "      <td>9600</td>\n",
       "      <td>Pave</td>\n",
       "      <td>NaN</td>\n",
       "      <td>Reg</td>\n",
       "      <td>Lvl</td>\n",
       "      <td>AllPub</td>\n",
       "      <td>...</td>\n",
       "      <td>0</td>\n",
       "      <td>No</td>\n",
       "      <td>No</td>\n",
       "      <td>No</td>\n",
       "      <td>0</td>\n",
       "      <td>May</td>\n",
       "      <td>2007</td>\n",
       "      <td>WD</td>\n",
       "      <td>Normal</td>\n",
       "      <td>181500</td>\n",
       "    </tr>\n",
       "    <tr>\n",
       "      <th>2</th>\n",
       "      <td>2</td>\n",
       "      <td>2-STORY 1946 &amp; NEWER</td>\n",
       "      <td>RL</td>\n",
       "      <td>68</td>\n",
       "      <td>11250</td>\n",
       "      <td>Pave</td>\n",
       "      <td>NaN</td>\n",
       "      <td>IR1</td>\n",
       "      <td>Lvl</td>\n",
       "      <td>AllPub</td>\n",
       "      <td>...</td>\n",
       "      <td>0</td>\n",
       "      <td>No</td>\n",
       "      <td>No</td>\n",
       "      <td>No</td>\n",
       "      <td>0</td>\n",
       "      <td>Sep</td>\n",
       "      <td>2008</td>\n",
       "      <td>WD</td>\n",
       "      <td>Normal</td>\n",
       "      <td>223500</td>\n",
       "    </tr>\n",
       "    <tr>\n",
       "      <th>3</th>\n",
       "      <td>3</td>\n",
       "      <td>2-STORY 1945 &amp; OLDER</td>\n",
       "      <td>RL</td>\n",
       "      <td>60</td>\n",
       "      <td>9550</td>\n",
       "      <td>Pave</td>\n",
       "      <td>NaN</td>\n",
       "      <td>IR1</td>\n",
       "      <td>Lvl</td>\n",
       "      <td>AllPub</td>\n",
       "      <td>...</td>\n",
       "      <td>0</td>\n",
       "      <td>No</td>\n",
       "      <td>No</td>\n",
       "      <td>No</td>\n",
       "      <td>0</td>\n",
       "      <td>Feb</td>\n",
       "      <td>2006</td>\n",
       "      <td>WD</td>\n",
       "      <td>Abnorml</td>\n",
       "      <td>140000</td>\n",
       "    </tr>\n",
       "    <tr>\n",
       "      <th>4</th>\n",
       "      <td>4</td>\n",
       "      <td>2-STORY 1946 &amp; NEWER</td>\n",
       "      <td>RL</td>\n",
       "      <td>84</td>\n",
       "      <td>14260</td>\n",
       "      <td>Pave</td>\n",
       "      <td>NaN</td>\n",
       "      <td>IR1</td>\n",
       "      <td>Lvl</td>\n",
       "      <td>AllPub</td>\n",
       "      <td>...</td>\n",
       "      <td>0</td>\n",
       "      <td>No</td>\n",
       "      <td>No</td>\n",
       "      <td>No</td>\n",
       "      <td>0</td>\n",
       "      <td>Dec</td>\n",
       "      <td>2008</td>\n",
       "      <td>WD</td>\n",
       "      <td>Normal</td>\n",
       "      <td>250000</td>\n",
       "    </tr>\n",
       "    <tr>\n",
       "      <th>...</th>\n",
       "      <td>...</td>\n",
       "      <td>...</td>\n",
       "      <td>...</td>\n",
       "      <td>...</td>\n",
       "      <td>...</td>\n",
       "      <td>...</td>\n",
       "      <td>...</td>\n",
       "      <td>...</td>\n",
       "      <td>...</td>\n",
       "      <td>...</td>\n",
       "      <td>...</td>\n",
       "      <td>...</td>\n",
       "      <td>...</td>\n",
       "      <td>...</td>\n",
       "      <td>...</td>\n",
       "      <td>...</td>\n",
       "      <td>...</td>\n",
       "      <td>...</td>\n",
       "      <td>...</td>\n",
       "      <td>...</td>\n",
       "      <td>...</td>\n",
       "    </tr>\n",
       "    <tr>\n",
       "      <th>1455</th>\n",
       "      <td>1455</td>\n",
       "      <td>2-STORY 1946 &amp; NEWER</td>\n",
       "      <td>RL</td>\n",
       "      <td>62</td>\n",
       "      <td>7917</td>\n",
       "      <td>Pave</td>\n",
       "      <td>NaN</td>\n",
       "      <td>Reg</td>\n",
       "      <td>Lvl</td>\n",
       "      <td>AllPub</td>\n",
       "      <td>...</td>\n",
       "      <td>0</td>\n",
       "      <td>No</td>\n",
       "      <td>No</td>\n",
       "      <td>No</td>\n",
       "      <td>0</td>\n",
       "      <td>Aug</td>\n",
       "      <td>2007</td>\n",
       "      <td>WD</td>\n",
       "      <td>Normal</td>\n",
       "      <td>175000</td>\n",
       "    </tr>\n",
       "    <tr>\n",
       "      <th>1456</th>\n",
       "      <td>1456</td>\n",
       "      <td>1-STORY 1946 &amp; NEWER ALL STYLES</td>\n",
       "      <td>RL</td>\n",
       "      <td>85</td>\n",
       "      <td>13175</td>\n",
       "      <td>Pave</td>\n",
       "      <td>NaN</td>\n",
       "      <td>Reg</td>\n",
       "      <td>Lvl</td>\n",
       "      <td>AllPub</td>\n",
       "      <td>...</td>\n",
       "      <td>0</td>\n",
       "      <td>No</td>\n",
       "      <td>MnPrv</td>\n",
       "      <td>No</td>\n",
       "      <td>0</td>\n",
       "      <td>Feb</td>\n",
       "      <td>2010</td>\n",
       "      <td>WD</td>\n",
       "      <td>Normal</td>\n",
       "      <td>210000</td>\n",
       "    </tr>\n",
       "    <tr>\n",
       "      <th>1457</th>\n",
       "      <td>1457</td>\n",
       "      <td>2-STORY 1945 &amp; OLDER</td>\n",
       "      <td>RL</td>\n",
       "      <td>66</td>\n",
       "      <td>9042</td>\n",
       "      <td>Pave</td>\n",
       "      <td>NaN</td>\n",
       "      <td>Reg</td>\n",
       "      <td>Lvl</td>\n",
       "      <td>AllPub</td>\n",
       "      <td>...</td>\n",
       "      <td>0</td>\n",
       "      <td>No</td>\n",
       "      <td>GdPrv</td>\n",
       "      <td>Shed</td>\n",
       "      <td>2500</td>\n",
       "      <td>May</td>\n",
       "      <td>2010</td>\n",
       "      <td>WD</td>\n",
       "      <td>Normal</td>\n",
       "      <td>266500</td>\n",
       "    </tr>\n",
       "    <tr>\n",
       "      <th>1458</th>\n",
       "      <td>1458</td>\n",
       "      <td>1-STORY 1946 &amp; NEWER ALL STYLES</td>\n",
       "      <td>RL</td>\n",
       "      <td>68</td>\n",
       "      <td>9717</td>\n",
       "      <td>Pave</td>\n",
       "      <td>NaN</td>\n",
       "      <td>Reg</td>\n",
       "      <td>Lvl</td>\n",
       "      <td>AllPub</td>\n",
       "      <td>...</td>\n",
       "      <td>0</td>\n",
       "      <td>No</td>\n",
       "      <td>No</td>\n",
       "      <td>No</td>\n",
       "      <td>0</td>\n",
       "      <td>Apr</td>\n",
       "      <td>2010</td>\n",
       "      <td>WD</td>\n",
       "      <td>Normal</td>\n",
       "      <td>142125</td>\n",
       "    </tr>\n",
       "    <tr>\n",
       "      <th>1459</th>\n",
       "      <td>1459</td>\n",
       "      <td>1-STORY 1946 &amp; NEWER ALL STYLES</td>\n",
       "      <td>RL</td>\n",
       "      <td>75</td>\n",
       "      <td>9937</td>\n",
       "      <td>Pave</td>\n",
       "      <td>NaN</td>\n",
       "      <td>Reg</td>\n",
       "      <td>Lvl</td>\n",
       "      <td>AllPub</td>\n",
       "      <td>...</td>\n",
       "      <td>0</td>\n",
       "      <td>No</td>\n",
       "      <td>No</td>\n",
       "      <td>No</td>\n",
       "      <td>0</td>\n",
       "      <td>Jun</td>\n",
       "      <td>2008</td>\n",
       "      <td>WD</td>\n",
       "      <td>Normal</td>\n",
       "      <td>147500</td>\n",
       "    </tr>\n",
       "  </tbody>\n",
       "</table>\n",
       "<p>1460 rows × 81 columns</p>\n",
       "</div>"
      ],
      "text/plain": [
       "      Unnamed: 0                       MSSubClass MSZoning  LotFrontage  \\\n",
       "0              0             2-STORY 1946 & NEWER       RL           65   \n",
       "1              1  1-STORY 1946 & NEWER ALL STYLES       RL           80   \n",
       "2              2             2-STORY 1946 & NEWER       RL           68   \n",
       "3              3             2-STORY 1945 & OLDER       RL           60   \n",
       "4              4             2-STORY 1946 & NEWER       RL           84   \n",
       "...          ...                              ...      ...          ...   \n",
       "1455        1455             2-STORY 1946 & NEWER       RL           62   \n",
       "1456        1456  1-STORY 1946 & NEWER ALL STYLES       RL           85   \n",
       "1457        1457             2-STORY 1945 & OLDER       RL           66   \n",
       "1458        1458  1-STORY 1946 & NEWER ALL STYLES       RL           68   \n",
       "1459        1459  1-STORY 1946 & NEWER ALL STYLES       RL           75   \n",
       "\n",
       "      LotArea Street Alley LotShape LandContour Utilities  ... PoolArea  \\\n",
       "0        8450   Pave   NaN      Reg         Lvl    AllPub  ...        0   \n",
       "1        9600   Pave   NaN      Reg         Lvl    AllPub  ...        0   \n",
       "2       11250   Pave   NaN      IR1         Lvl    AllPub  ...        0   \n",
       "3        9550   Pave   NaN      IR1         Lvl    AllPub  ...        0   \n",
       "4       14260   Pave   NaN      IR1         Lvl    AllPub  ...        0   \n",
       "...       ...    ...   ...      ...         ...       ...  ...      ...   \n",
       "1455     7917   Pave   NaN      Reg         Lvl    AllPub  ...        0   \n",
       "1456    13175   Pave   NaN      Reg         Lvl    AllPub  ...        0   \n",
       "1457     9042   Pave   NaN      Reg         Lvl    AllPub  ...        0   \n",
       "1458     9717   Pave   NaN      Reg         Lvl    AllPub  ...        0   \n",
       "1459     9937   Pave   NaN      Reg         Lvl    AllPub  ...        0   \n",
       "\n",
       "     PoolQC  Fence MiscFeature MiscVal MoSold YrSold  SaleType  SaleCondition  \\\n",
       "0        No     No          No       0    Feb   2008        WD         Normal   \n",
       "1        No     No          No       0    May   2007        WD         Normal   \n",
       "2        No     No          No       0    Sep   2008        WD         Normal   \n",
       "3        No     No          No       0    Feb   2006        WD        Abnorml   \n",
       "4        No     No          No       0    Dec   2008        WD         Normal   \n",
       "...     ...    ...         ...     ...    ...    ...       ...            ...   \n",
       "1455     No     No          No       0    Aug   2007        WD         Normal   \n",
       "1456     No  MnPrv          No       0    Feb   2010        WD         Normal   \n",
       "1457     No  GdPrv        Shed    2500    May   2010        WD         Normal   \n",
       "1458     No     No          No       0    Apr   2010        WD         Normal   \n",
       "1459     No     No          No       0    Jun   2008        WD         Normal   \n",
       "\n",
       "      SalePrice  \n",
       "0        208500  \n",
       "1        181500  \n",
       "2        223500  \n",
       "3        140000  \n",
       "4        250000  \n",
       "...         ...  \n",
       "1455     175000  \n",
       "1456     210000  \n",
       "1457     266500  \n",
       "1458     142125  \n",
       "1459     147500  \n",
       "\n",
       "[1460 rows x 81 columns]"
      ]
     },
     "execution_count": 28,
     "metadata": {},
     "output_type": "execute_result"
    }
   ],
   "source": [
    "house_data"
   ]
  },
  {
   "cell_type": "markdown",
   "id": "8771fad7",
   "metadata": {},
   "source": [
    "## RENAME THE COLUMN MSSubClass TO MS Sub Class"
   ]
  },
  {
   "cell_type": "code",
   "execution_count": 29,
   "id": "6fea9ea5",
   "metadata": {},
   "outputs": [],
   "source": [
    "house_data.rename(columns={'MSSubClass' : 'Type Of Dwelling' },inplace = True)"
   ]
  },
  {
   "cell_type": "code",
   "execution_count": 30,
   "id": "01107b88",
   "metadata": {},
   "outputs": [
    {
     "data": {
      "text/html": [
       "<div>\n",
       "<style scoped>\n",
       "    .dataframe tbody tr th:only-of-type {\n",
       "        vertical-align: middle;\n",
       "    }\n",
       "\n",
       "    .dataframe tbody tr th {\n",
       "        vertical-align: top;\n",
       "    }\n",
       "\n",
       "    .dataframe thead th {\n",
       "        text-align: right;\n",
       "    }\n",
       "</style>\n",
       "<table border=\"1\" class=\"dataframe\">\n",
       "  <thead>\n",
       "    <tr style=\"text-align: right;\">\n",
       "      <th></th>\n",
       "      <th>Unnamed: 0</th>\n",
       "      <th>Type Of Dwelling</th>\n",
       "      <th>MSZoning</th>\n",
       "      <th>LotFrontage</th>\n",
       "      <th>LotArea</th>\n",
       "      <th>Street</th>\n",
       "      <th>Alley</th>\n",
       "      <th>LotShape</th>\n",
       "      <th>LandContour</th>\n",
       "      <th>Utilities</th>\n",
       "      <th>...</th>\n",
       "      <th>PoolArea</th>\n",
       "      <th>PoolQC</th>\n",
       "      <th>Fence</th>\n",
       "      <th>MiscFeature</th>\n",
       "      <th>MiscVal</th>\n",
       "      <th>MoSold</th>\n",
       "      <th>YrSold</th>\n",
       "      <th>SaleType</th>\n",
       "      <th>SaleCondition</th>\n",
       "      <th>SalePrice</th>\n",
       "    </tr>\n",
       "  </thead>\n",
       "  <tbody>\n",
       "    <tr>\n",
       "      <th>0</th>\n",
       "      <td>0</td>\n",
       "      <td>2-STORY 1946 &amp; NEWER</td>\n",
       "      <td>RL</td>\n",
       "      <td>65</td>\n",
       "      <td>8450</td>\n",
       "      <td>Pave</td>\n",
       "      <td>NaN</td>\n",
       "      <td>Reg</td>\n",
       "      <td>Lvl</td>\n",
       "      <td>AllPub</td>\n",
       "      <td>...</td>\n",
       "      <td>0</td>\n",
       "      <td>No</td>\n",
       "      <td>No</td>\n",
       "      <td>No</td>\n",
       "      <td>0</td>\n",
       "      <td>Feb</td>\n",
       "      <td>2008</td>\n",
       "      <td>WD</td>\n",
       "      <td>Normal</td>\n",
       "      <td>208500</td>\n",
       "    </tr>\n",
       "    <tr>\n",
       "      <th>1</th>\n",
       "      <td>1</td>\n",
       "      <td>1-STORY 1946 &amp; NEWER ALL STYLES</td>\n",
       "      <td>RL</td>\n",
       "      <td>80</td>\n",
       "      <td>9600</td>\n",
       "      <td>Pave</td>\n",
       "      <td>NaN</td>\n",
       "      <td>Reg</td>\n",
       "      <td>Lvl</td>\n",
       "      <td>AllPub</td>\n",
       "      <td>...</td>\n",
       "      <td>0</td>\n",
       "      <td>No</td>\n",
       "      <td>No</td>\n",
       "      <td>No</td>\n",
       "      <td>0</td>\n",
       "      <td>May</td>\n",
       "      <td>2007</td>\n",
       "      <td>WD</td>\n",
       "      <td>Normal</td>\n",
       "      <td>181500</td>\n",
       "    </tr>\n",
       "    <tr>\n",
       "      <th>2</th>\n",
       "      <td>2</td>\n",
       "      <td>2-STORY 1946 &amp; NEWER</td>\n",
       "      <td>RL</td>\n",
       "      <td>68</td>\n",
       "      <td>11250</td>\n",
       "      <td>Pave</td>\n",
       "      <td>NaN</td>\n",
       "      <td>IR1</td>\n",
       "      <td>Lvl</td>\n",
       "      <td>AllPub</td>\n",
       "      <td>...</td>\n",
       "      <td>0</td>\n",
       "      <td>No</td>\n",
       "      <td>No</td>\n",
       "      <td>No</td>\n",
       "      <td>0</td>\n",
       "      <td>Sep</td>\n",
       "      <td>2008</td>\n",
       "      <td>WD</td>\n",
       "      <td>Normal</td>\n",
       "      <td>223500</td>\n",
       "    </tr>\n",
       "    <tr>\n",
       "      <th>3</th>\n",
       "      <td>3</td>\n",
       "      <td>2-STORY 1945 &amp; OLDER</td>\n",
       "      <td>RL</td>\n",
       "      <td>60</td>\n",
       "      <td>9550</td>\n",
       "      <td>Pave</td>\n",
       "      <td>NaN</td>\n",
       "      <td>IR1</td>\n",
       "      <td>Lvl</td>\n",
       "      <td>AllPub</td>\n",
       "      <td>...</td>\n",
       "      <td>0</td>\n",
       "      <td>No</td>\n",
       "      <td>No</td>\n",
       "      <td>No</td>\n",
       "      <td>0</td>\n",
       "      <td>Feb</td>\n",
       "      <td>2006</td>\n",
       "      <td>WD</td>\n",
       "      <td>Abnorml</td>\n",
       "      <td>140000</td>\n",
       "    </tr>\n",
       "    <tr>\n",
       "      <th>4</th>\n",
       "      <td>4</td>\n",
       "      <td>2-STORY 1946 &amp; NEWER</td>\n",
       "      <td>RL</td>\n",
       "      <td>84</td>\n",
       "      <td>14260</td>\n",
       "      <td>Pave</td>\n",
       "      <td>NaN</td>\n",
       "      <td>IR1</td>\n",
       "      <td>Lvl</td>\n",
       "      <td>AllPub</td>\n",
       "      <td>...</td>\n",
       "      <td>0</td>\n",
       "      <td>No</td>\n",
       "      <td>No</td>\n",
       "      <td>No</td>\n",
       "      <td>0</td>\n",
       "      <td>Dec</td>\n",
       "      <td>2008</td>\n",
       "      <td>WD</td>\n",
       "      <td>Normal</td>\n",
       "      <td>250000</td>\n",
       "    </tr>\n",
       "    <tr>\n",
       "      <th>...</th>\n",
       "      <td>...</td>\n",
       "      <td>...</td>\n",
       "      <td>...</td>\n",
       "      <td>...</td>\n",
       "      <td>...</td>\n",
       "      <td>...</td>\n",
       "      <td>...</td>\n",
       "      <td>...</td>\n",
       "      <td>...</td>\n",
       "      <td>...</td>\n",
       "      <td>...</td>\n",
       "      <td>...</td>\n",
       "      <td>...</td>\n",
       "      <td>...</td>\n",
       "      <td>...</td>\n",
       "      <td>...</td>\n",
       "      <td>...</td>\n",
       "      <td>...</td>\n",
       "      <td>...</td>\n",
       "      <td>...</td>\n",
       "      <td>...</td>\n",
       "    </tr>\n",
       "    <tr>\n",
       "      <th>1455</th>\n",
       "      <td>1455</td>\n",
       "      <td>2-STORY 1946 &amp; NEWER</td>\n",
       "      <td>RL</td>\n",
       "      <td>62</td>\n",
       "      <td>7917</td>\n",
       "      <td>Pave</td>\n",
       "      <td>NaN</td>\n",
       "      <td>Reg</td>\n",
       "      <td>Lvl</td>\n",
       "      <td>AllPub</td>\n",
       "      <td>...</td>\n",
       "      <td>0</td>\n",
       "      <td>No</td>\n",
       "      <td>No</td>\n",
       "      <td>No</td>\n",
       "      <td>0</td>\n",
       "      <td>Aug</td>\n",
       "      <td>2007</td>\n",
       "      <td>WD</td>\n",
       "      <td>Normal</td>\n",
       "      <td>175000</td>\n",
       "    </tr>\n",
       "    <tr>\n",
       "      <th>1456</th>\n",
       "      <td>1456</td>\n",
       "      <td>1-STORY 1946 &amp; NEWER ALL STYLES</td>\n",
       "      <td>RL</td>\n",
       "      <td>85</td>\n",
       "      <td>13175</td>\n",
       "      <td>Pave</td>\n",
       "      <td>NaN</td>\n",
       "      <td>Reg</td>\n",
       "      <td>Lvl</td>\n",
       "      <td>AllPub</td>\n",
       "      <td>...</td>\n",
       "      <td>0</td>\n",
       "      <td>No</td>\n",
       "      <td>MnPrv</td>\n",
       "      <td>No</td>\n",
       "      <td>0</td>\n",
       "      <td>Feb</td>\n",
       "      <td>2010</td>\n",
       "      <td>WD</td>\n",
       "      <td>Normal</td>\n",
       "      <td>210000</td>\n",
       "    </tr>\n",
       "    <tr>\n",
       "      <th>1457</th>\n",
       "      <td>1457</td>\n",
       "      <td>2-STORY 1945 &amp; OLDER</td>\n",
       "      <td>RL</td>\n",
       "      <td>66</td>\n",
       "      <td>9042</td>\n",
       "      <td>Pave</td>\n",
       "      <td>NaN</td>\n",
       "      <td>Reg</td>\n",
       "      <td>Lvl</td>\n",
       "      <td>AllPub</td>\n",
       "      <td>...</td>\n",
       "      <td>0</td>\n",
       "      <td>No</td>\n",
       "      <td>GdPrv</td>\n",
       "      <td>Shed</td>\n",
       "      <td>2500</td>\n",
       "      <td>May</td>\n",
       "      <td>2010</td>\n",
       "      <td>WD</td>\n",
       "      <td>Normal</td>\n",
       "      <td>266500</td>\n",
       "    </tr>\n",
       "    <tr>\n",
       "      <th>1458</th>\n",
       "      <td>1458</td>\n",
       "      <td>1-STORY 1946 &amp; NEWER ALL STYLES</td>\n",
       "      <td>RL</td>\n",
       "      <td>68</td>\n",
       "      <td>9717</td>\n",
       "      <td>Pave</td>\n",
       "      <td>NaN</td>\n",
       "      <td>Reg</td>\n",
       "      <td>Lvl</td>\n",
       "      <td>AllPub</td>\n",
       "      <td>...</td>\n",
       "      <td>0</td>\n",
       "      <td>No</td>\n",
       "      <td>No</td>\n",
       "      <td>No</td>\n",
       "      <td>0</td>\n",
       "      <td>Apr</td>\n",
       "      <td>2010</td>\n",
       "      <td>WD</td>\n",
       "      <td>Normal</td>\n",
       "      <td>142125</td>\n",
       "    </tr>\n",
       "    <tr>\n",
       "      <th>1459</th>\n",
       "      <td>1459</td>\n",
       "      <td>1-STORY 1946 &amp; NEWER ALL STYLES</td>\n",
       "      <td>RL</td>\n",
       "      <td>75</td>\n",
       "      <td>9937</td>\n",
       "      <td>Pave</td>\n",
       "      <td>NaN</td>\n",
       "      <td>Reg</td>\n",
       "      <td>Lvl</td>\n",
       "      <td>AllPub</td>\n",
       "      <td>...</td>\n",
       "      <td>0</td>\n",
       "      <td>No</td>\n",
       "      <td>No</td>\n",
       "      <td>No</td>\n",
       "      <td>0</td>\n",
       "      <td>Jun</td>\n",
       "      <td>2008</td>\n",
       "      <td>WD</td>\n",
       "      <td>Normal</td>\n",
       "      <td>147500</td>\n",
       "    </tr>\n",
       "  </tbody>\n",
       "</table>\n",
       "<p>1460 rows × 81 columns</p>\n",
       "</div>"
      ],
      "text/plain": [
       "      Unnamed: 0                 Type Of Dwelling MSZoning  LotFrontage  \\\n",
       "0              0             2-STORY 1946 & NEWER       RL           65   \n",
       "1              1  1-STORY 1946 & NEWER ALL STYLES       RL           80   \n",
       "2              2             2-STORY 1946 & NEWER       RL           68   \n",
       "3              3             2-STORY 1945 & OLDER       RL           60   \n",
       "4              4             2-STORY 1946 & NEWER       RL           84   \n",
       "...          ...                              ...      ...          ...   \n",
       "1455        1455             2-STORY 1946 & NEWER       RL           62   \n",
       "1456        1456  1-STORY 1946 & NEWER ALL STYLES       RL           85   \n",
       "1457        1457             2-STORY 1945 & OLDER       RL           66   \n",
       "1458        1458  1-STORY 1946 & NEWER ALL STYLES       RL           68   \n",
       "1459        1459  1-STORY 1946 & NEWER ALL STYLES       RL           75   \n",
       "\n",
       "      LotArea Street Alley LotShape LandContour Utilities  ... PoolArea  \\\n",
       "0        8450   Pave   NaN      Reg         Lvl    AllPub  ...        0   \n",
       "1        9600   Pave   NaN      Reg         Lvl    AllPub  ...        0   \n",
       "2       11250   Pave   NaN      IR1         Lvl    AllPub  ...        0   \n",
       "3        9550   Pave   NaN      IR1         Lvl    AllPub  ...        0   \n",
       "4       14260   Pave   NaN      IR1         Lvl    AllPub  ...        0   \n",
       "...       ...    ...   ...      ...         ...       ...  ...      ...   \n",
       "1455     7917   Pave   NaN      Reg         Lvl    AllPub  ...        0   \n",
       "1456    13175   Pave   NaN      Reg         Lvl    AllPub  ...        0   \n",
       "1457     9042   Pave   NaN      Reg         Lvl    AllPub  ...        0   \n",
       "1458     9717   Pave   NaN      Reg         Lvl    AllPub  ...        0   \n",
       "1459     9937   Pave   NaN      Reg         Lvl    AllPub  ...        0   \n",
       "\n",
       "     PoolQC  Fence MiscFeature MiscVal MoSold YrSold  SaleType  SaleCondition  \\\n",
       "0        No     No          No       0    Feb   2008        WD         Normal   \n",
       "1        No     No          No       0    May   2007        WD         Normal   \n",
       "2        No     No          No       0    Sep   2008        WD         Normal   \n",
       "3        No     No          No       0    Feb   2006        WD        Abnorml   \n",
       "4        No     No          No       0    Dec   2008        WD         Normal   \n",
       "...     ...    ...         ...     ...    ...    ...       ...            ...   \n",
       "1455     No     No          No       0    Aug   2007        WD         Normal   \n",
       "1456     No  MnPrv          No       0    Feb   2010        WD         Normal   \n",
       "1457     No  GdPrv        Shed    2500    May   2010        WD         Normal   \n",
       "1458     No     No          No       0    Apr   2010        WD         Normal   \n",
       "1459     No     No          No       0    Jun   2008        WD         Normal   \n",
       "\n",
       "      SalePrice  \n",
       "0        208500  \n",
       "1        181500  \n",
       "2        223500  \n",
       "3        140000  \n",
       "4        250000  \n",
       "...         ...  \n",
       "1455     175000  \n",
       "1456     210000  \n",
       "1457     266500  \n",
       "1458     142125  \n",
       "1459     147500  \n",
       "\n",
       "[1460 rows x 81 columns]"
      ]
     },
     "execution_count": 30,
     "metadata": {},
     "output_type": "execute_result"
    }
   ],
   "source": [
    "house_data"
   ]
  },
  {
   "cell_type": "markdown",
   "id": "14c2f015",
   "metadata": {},
   "source": [
    "## UNIQUE VALUES OF Type Of Dwelling"
   ]
  },
  {
   "cell_type": "code",
   "execution_count": 31,
   "id": "0651a122",
   "metadata": {},
   "outputs": [
    {
     "data": {
      "text/plain": [
       "array(['2-STORY 1946 & NEWER', '1-STORY 1946 & NEWER ALL STYLES',\n",
       "       '2-STORY 1945 & OLDER', '1-1/2 STORY FINISHED ALL AGES',\n",
       "       '2 FAMILY CONVERSION - ALL STYLES AND AGES',\n",
       "       '1-1/2 STORY - UNFINISHED ALL AGES',\n",
       "       'DUPLEX - ALL STYLES AND AGES',\n",
       "       '1-STORY PUD (Planned Unit Development) - 1946 & NEWER',\n",
       "       '1-STORY 1945 & OLDER', 'SPLIT FOYER', 'SPLIT OR MULTI-LEVEL',\n",
       "       '2-STORY PUD - 1946 & NEWER', '2-1/2 STORY ALL AGES',\n",
       "       'PUD - MULTILEVEL - INCL SPLIT LEV/FOYER',\n",
       "       '1-STORY W/FINISHED ATTIC ALL AGES'], dtype=object)"
      ]
     },
     "execution_count": 31,
     "metadata": {},
     "output_type": "execute_result"
    }
   ],
   "source": [
    "house_data['Type Of Dwelling'].unique()"
   ]
  },
  {
   "cell_type": "markdown",
   "id": "2e1799b7",
   "metadata": {},
   "source": [
    "## VALUES COUNTS OF Type Of Dwelling"
   ]
  },
  {
   "cell_type": "code",
   "execution_count": 32,
   "id": "0f994937",
   "metadata": {},
   "outputs": [
    {
     "data": {
      "text/plain": [
       "Type Of Dwelling\n",
       "1-STORY 1946 & NEWER ALL STYLES                          536\n",
       "2-STORY 1946 & NEWER                                     299\n",
       "1-1/2 STORY FINISHED ALL AGES                            144\n",
       "1-STORY PUD (Planned Unit Development) - 1946 & NEWER     87\n",
       "1-STORY 1945 & OLDER                                      69\n",
       "2-STORY PUD - 1946 & NEWER                                63\n",
       "2-STORY 1945 & OLDER                                      60\n",
       "SPLIT OR MULTI-LEVEL                                      58\n",
       "DUPLEX - ALL STYLES AND AGES                              52\n",
       "2 FAMILY CONVERSION - ALL STYLES AND AGES                 30\n",
       "SPLIT FOYER                                               20\n",
       "2-1/2 STORY ALL AGES                                      16\n",
       "1-1/2 STORY - UNFINISHED ALL AGES                         12\n",
       "PUD - MULTILEVEL - INCL SPLIT LEV/FOYER                   10\n",
       "1-STORY W/FINISHED ATTIC ALL AGES                          4\n",
       "Name: count, dtype: int64"
      ]
     },
     "execution_count": 32,
     "metadata": {},
     "output_type": "execute_result"
    }
   ],
   "source": [
    "house_data['Type Of Dwelling'].value_counts()"
   ]
  },
  {
   "cell_type": "markdown",
   "id": "bc0584ba",
   "metadata": {},
   "source": [
    "## MSZoning: Identifies the general zoning classification of the sale."
   ]
  },
  {
   "cell_type": "markdown",
   "id": "0bbe8bef",
   "metadata": {},
   "source": [
    "##  VALUE COUNTS OF MSZoning TO CHECK ZONES"
   ]
  },
  {
   "cell_type": "code",
   "execution_count": 33,
   "id": "6f91b085",
   "metadata": {},
   "outputs": [
    {
     "data": {
      "text/plain": [
       "MSZoning\n",
       "RL         1151\n",
       "RM          218\n",
       "FV           65\n",
       "RH           16\n",
       "C (all)      10\n",
       "Name: count, dtype: int64"
      ]
     },
     "execution_count": 33,
     "metadata": {},
     "output_type": "execute_result"
    }
   ],
   "source": [
    "house_data['MSZoning'].value_counts()"
   ]
  },
  {
   "cell_type": "markdown",
   "id": "fed80998",
   "metadata": {},
   "source": [
    "## MEANS THERE ARE ONLY 5 ZONES, SO WE WILL WORK ON THEM ONLY"
   ]
  },
  {
   "cell_type": "markdown",
   "id": "b7b62a39",
   "metadata": {},
   "source": [
    "### RL =\tResidential Low-Density"
   ]
  },
  {
   "cell_type": "code",
   "execution_count": 34,
   "id": "824916aa",
   "metadata": {},
   "outputs": [],
   "source": [
    "house_data['MSZoning'] = house_data['MSZoning'].replace({'RL':'Residential Low-Density'})"
   ]
  },
  {
   "cell_type": "code",
   "execution_count": 35,
   "id": "9a06a4a3",
   "metadata": {},
   "outputs": [
    {
     "data": {
      "text/html": [
       "<div>\n",
       "<style scoped>\n",
       "    .dataframe tbody tr th:only-of-type {\n",
       "        vertical-align: middle;\n",
       "    }\n",
       "\n",
       "    .dataframe tbody tr th {\n",
       "        vertical-align: top;\n",
       "    }\n",
       "\n",
       "    .dataframe thead th {\n",
       "        text-align: right;\n",
       "    }\n",
       "</style>\n",
       "<table border=\"1\" class=\"dataframe\">\n",
       "  <thead>\n",
       "    <tr style=\"text-align: right;\">\n",
       "      <th></th>\n",
       "      <th>Unnamed: 0</th>\n",
       "      <th>Type Of Dwelling</th>\n",
       "      <th>MSZoning</th>\n",
       "      <th>LotFrontage</th>\n",
       "      <th>LotArea</th>\n",
       "      <th>Street</th>\n",
       "      <th>Alley</th>\n",
       "      <th>LotShape</th>\n",
       "      <th>LandContour</th>\n",
       "      <th>Utilities</th>\n",
       "      <th>...</th>\n",
       "      <th>PoolArea</th>\n",
       "      <th>PoolQC</th>\n",
       "      <th>Fence</th>\n",
       "      <th>MiscFeature</th>\n",
       "      <th>MiscVal</th>\n",
       "      <th>MoSold</th>\n",
       "      <th>YrSold</th>\n",
       "      <th>SaleType</th>\n",
       "      <th>SaleCondition</th>\n",
       "      <th>SalePrice</th>\n",
       "    </tr>\n",
       "  </thead>\n",
       "  <tbody>\n",
       "    <tr>\n",
       "      <th>0</th>\n",
       "      <td>0</td>\n",
       "      <td>2-STORY 1946 &amp; NEWER</td>\n",
       "      <td>Residential Low-Density</td>\n",
       "      <td>65</td>\n",
       "      <td>8450</td>\n",
       "      <td>Pave</td>\n",
       "      <td>NaN</td>\n",
       "      <td>Reg</td>\n",
       "      <td>Lvl</td>\n",
       "      <td>AllPub</td>\n",
       "      <td>...</td>\n",
       "      <td>0</td>\n",
       "      <td>No</td>\n",
       "      <td>No</td>\n",
       "      <td>No</td>\n",
       "      <td>0</td>\n",
       "      <td>Feb</td>\n",
       "      <td>2008</td>\n",
       "      <td>WD</td>\n",
       "      <td>Normal</td>\n",
       "      <td>208500</td>\n",
       "    </tr>\n",
       "    <tr>\n",
       "      <th>1</th>\n",
       "      <td>1</td>\n",
       "      <td>1-STORY 1946 &amp; NEWER ALL STYLES</td>\n",
       "      <td>Residential Low-Density</td>\n",
       "      <td>80</td>\n",
       "      <td>9600</td>\n",
       "      <td>Pave</td>\n",
       "      <td>NaN</td>\n",
       "      <td>Reg</td>\n",
       "      <td>Lvl</td>\n",
       "      <td>AllPub</td>\n",
       "      <td>...</td>\n",
       "      <td>0</td>\n",
       "      <td>No</td>\n",
       "      <td>No</td>\n",
       "      <td>No</td>\n",
       "      <td>0</td>\n",
       "      <td>May</td>\n",
       "      <td>2007</td>\n",
       "      <td>WD</td>\n",
       "      <td>Normal</td>\n",
       "      <td>181500</td>\n",
       "    </tr>\n",
       "    <tr>\n",
       "      <th>2</th>\n",
       "      <td>2</td>\n",
       "      <td>2-STORY 1946 &amp; NEWER</td>\n",
       "      <td>Residential Low-Density</td>\n",
       "      <td>68</td>\n",
       "      <td>11250</td>\n",
       "      <td>Pave</td>\n",
       "      <td>NaN</td>\n",
       "      <td>IR1</td>\n",
       "      <td>Lvl</td>\n",
       "      <td>AllPub</td>\n",
       "      <td>...</td>\n",
       "      <td>0</td>\n",
       "      <td>No</td>\n",
       "      <td>No</td>\n",
       "      <td>No</td>\n",
       "      <td>0</td>\n",
       "      <td>Sep</td>\n",
       "      <td>2008</td>\n",
       "      <td>WD</td>\n",
       "      <td>Normal</td>\n",
       "      <td>223500</td>\n",
       "    </tr>\n",
       "    <tr>\n",
       "      <th>3</th>\n",
       "      <td>3</td>\n",
       "      <td>2-STORY 1945 &amp; OLDER</td>\n",
       "      <td>Residential Low-Density</td>\n",
       "      <td>60</td>\n",
       "      <td>9550</td>\n",
       "      <td>Pave</td>\n",
       "      <td>NaN</td>\n",
       "      <td>IR1</td>\n",
       "      <td>Lvl</td>\n",
       "      <td>AllPub</td>\n",
       "      <td>...</td>\n",
       "      <td>0</td>\n",
       "      <td>No</td>\n",
       "      <td>No</td>\n",
       "      <td>No</td>\n",
       "      <td>0</td>\n",
       "      <td>Feb</td>\n",
       "      <td>2006</td>\n",
       "      <td>WD</td>\n",
       "      <td>Abnorml</td>\n",
       "      <td>140000</td>\n",
       "    </tr>\n",
       "    <tr>\n",
       "      <th>4</th>\n",
       "      <td>4</td>\n",
       "      <td>2-STORY 1946 &amp; NEWER</td>\n",
       "      <td>Residential Low-Density</td>\n",
       "      <td>84</td>\n",
       "      <td>14260</td>\n",
       "      <td>Pave</td>\n",
       "      <td>NaN</td>\n",
       "      <td>IR1</td>\n",
       "      <td>Lvl</td>\n",
       "      <td>AllPub</td>\n",
       "      <td>...</td>\n",
       "      <td>0</td>\n",
       "      <td>No</td>\n",
       "      <td>No</td>\n",
       "      <td>No</td>\n",
       "      <td>0</td>\n",
       "      <td>Dec</td>\n",
       "      <td>2008</td>\n",
       "      <td>WD</td>\n",
       "      <td>Normal</td>\n",
       "      <td>250000</td>\n",
       "    </tr>\n",
       "    <tr>\n",
       "      <th>...</th>\n",
       "      <td>...</td>\n",
       "      <td>...</td>\n",
       "      <td>...</td>\n",
       "      <td>...</td>\n",
       "      <td>...</td>\n",
       "      <td>...</td>\n",
       "      <td>...</td>\n",
       "      <td>...</td>\n",
       "      <td>...</td>\n",
       "      <td>...</td>\n",
       "      <td>...</td>\n",
       "      <td>...</td>\n",
       "      <td>...</td>\n",
       "      <td>...</td>\n",
       "      <td>...</td>\n",
       "      <td>...</td>\n",
       "      <td>...</td>\n",
       "      <td>...</td>\n",
       "      <td>...</td>\n",
       "      <td>...</td>\n",
       "      <td>...</td>\n",
       "    </tr>\n",
       "    <tr>\n",
       "      <th>1455</th>\n",
       "      <td>1455</td>\n",
       "      <td>2-STORY 1946 &amp; NEWER</td>\n",
       "      <td>Residential Low-Density</td>\n",
       "      <td>62</td>\n",
       "      <td>7917</td>\n",
       "      <td>Pave</td>\n",
       "      <td>NaN</td>\n",
       "      <td>Reg</td>\n",
       "      <td>Lvl</td>\n",
       "      <td>AllPub</td>\n",
       "      <td>...</td>\n",
       "      <td>0</td>\n",
       "      <td>No</td>\n",
       "      <td>No</td>\n",
       "      <td>No</td>\n",
       "      <td>0</td>\n",
       "      <td>Aug</td>\n",
       "      <td>2007</td>\n",
       "      <td>WD</td>\n",
       "      <td>Normal</td>\n",
       "      <td>175000</td>\n",
       "    </tr>\n",
       "    <tr>\n",
       "      <th>1456</th>\n",
       "      <td>1456</td>\n",
       "      <td>1-STORY 1946 &amp; NEWER ALL STYLES</td>\n",
       "      <td>Residential Low-Density</td>\n",
       "      <td>85</td>\n",
       "      <td>13175</td>\n",
       "      <td>Pave</td>\n",
       "      <td>NaN</td>\n",
       "      <td>Reg</td>\n",
       "      <td>Lvl</td>\n",
       "      <td>AllPub</td>\n",
       "      <td>...</td>\n",
       "      <td>0</td>\n",
       "      <td>No</td>\n",
       "      <td>MnPrv</td>\n",
       "      <td>No</td>\n",
       "      <td>0</td>\n",
       "      <td>Feb</td>\n",
       "      <td>2010</td>\n",
       "      <td>WD</td>\n",
       "      <td>Normal</td>\n",
       "      <td>210000</td>\n",
       "    </tr>\n",
       "    <tr>\n",
       "      <th>1457</th>\n",
       "      <td>1457</td>\n",
       "      <td>2-STORY 1945 &amp; OLDER</td>\n",
       "      <td>Residential Low-Density</td>\n",
       "      <td>66</td>\n",
       "      <td>9042</td>\n",
       "      <td>Pave</td>\n",
       "      <td>NaN</td>\n",
       "      <td>Reg</td>\n",
       "      <td>Lvl</td>\n",
       "      <td>AllPub</td>\n",
       "      <td>...</td>\n",
       "      <td>0</td>\n",
       "      <td>No</td>\n",
       "      <td>GdPrv</td>\n",
       "      <td>Shed</td>\n",
       "      <td>2500</td>\n",
       "      <td>May</td>\n",
       "      <td>2010</td>\n",
       "      <td>WD</td>\n",
       "      <td>Normal</td>\n",
       "      <td>266500</td>\n",
       "    </tr>\n",
       "    <tr>\n",
       "      <th>1458</th>\n",
       "      <td>1458</td>\n",
       "      <td>1-STORY 1946 &amp; NEWER ALL STYLES</td>\n",
       "      <td>Residential Low-Density</td>\n",
       "      <td>68</td>\n",
       "      <td>9717</td>\n",
       "      <td>Pave</td>\n",
       "      <td>NaN</td>\n",
       "      <td>Reg</td>\n",
       "      <td>Lvl</td>\n",
       "      <td>AllPub</td>\n",
       "      <td>...</td>\n",
       "      <td>0</td>\n",
       "      <td>No</td>\n",
       "      <td>No</td>\n",
       "      <td>No</td>\n",
       "      <td>0</td>\n",
       "      <td>Apr</td>\n",
       "      <td>2010</td>\n",
       "      <td>WD</td>\n",
       "      <td>Normal</td>\n",
       "      <td>142125</td>\n",
       "    </tr>\n",
       "    <tr>\n",
       "      <th>1459</th>\n",
       "      <td>1459</td>\n",
       "      <td>1-STORY 1946 &amp; NEWER ALL STYLES</td>\n",
       "      <td>Residential Low-Density</td>\n",
       "      <td>75</td>\n",
       "      <td>9937</td>\n",
       "      <td>Pave</td>\n",
       "      <td>NaN</td>\n",
       "      <td>Reg</td>\n",
       "      <td>Lvl</td>\n",
       "      <td>AllPub</td>\n",
       "      <td>...</td>\n",
       "      <td>0</td>\n",
       "      <td>No</td>\n",
       "      <td>No</td>\n",
       "      <td>No</td>\n",
       "      <td>0</td>\n",
       "      <td>Jun</td>\n",
       "      <td>2008</td>\n",
       "      <td>WD</td>\n",
       "      <td>Normal</td>\n",
       "      <td>147500</td>\n",
       "    </tr>\n",
       "  </tbody>\n",
       "</table>\n",
       "<p>1460 rows × 81 columns</p>\n",
       "</div>"
      ],
      "text/plain": [
       "      Unnamed: 0                 Type Of Dwelling                 MSZoning  \\\n",
       "0              0             2-STORY 1946 & NEWER  Residential Low-Density   \n",
       "1              1  1-STORY 1946 & NEWER ALL STYLES  Residential Low-Density   \n",
       "2              2             2-STORY 1946 & NEWER  Residential Low-Density   \n",
       "3              3             2-STORY 1945 & OLDER  Residential Low-Density   \n",
       "4              4             2-STORY 1946 & NEWER  Residential Low-Density   \n",
       "...          ...                              ...                      ...   \n",
       "1455        1455             2-STORY 1946 & NEWER  Residential Low-Density   \n",
       "1456        1456  1-STORY 1946 & NEWER ALL STYLES  Residential Low-Density   \n",
       "1457        1457             2-STORY 1945 & OLDER  Residential Low-Density   \n",
       "1458        1458  1-STORY 1946 & NEWER ALL STYLES  Residential Low-Density   \n",
       "1459        1459  1-STORY 1946 & NEWER ALL STYLES  Residential Low-Density   \n",
       "\n",
       "      LotFrontage  LotArea Street Alley LotShape LandContour Utilities  ...  \\\n",
       "0              65     8450   Pave   NaN      Reg         Lvl    AllPub  ...   \n",
       "1              80     9600   Pave   NaN      Reg         Lvl    AllPub  ...   \n",
       "2              68    11250   Pave   NaN      IR1         Lvl    AllPub  ...   \n",
       "3              60     9550   Pave   NaN      IR1         Lvl    AllPub  ...   \n",
       "4              84    14260   Pave   NaN      IR1         Lvl    AllPub  ...   \n",
       "...           ...      ...    ...   ...      ...         ...       ...  ...   \n",
       "1455           62     7917   Pave   NaN      Reg         Lvl    AllPub  ...   \n",
       "1456           85    13175   Pave   NaN      Reg         Lvl    AllPub  ...   \n",
       "1457           66     9042   Pave   NaN      Reg         Lvl    AllPub  ...   \n",
       "1458           68     9717   Pave   NaN      Reg         Lvl    AllPub  ...   \n",
       "1459           75     9937   Pave   NaN      Reg         Lvl    AllPub  ...   \n",
       "\n",
       "     PoolArea PoolQC  Fence MiscFeature MiscVal MoSold YrSold  SaleType  \\\n",
       "0           0     No     No          No       0    Feb   2008        WD   \n",
       "1           0     No     No          No       0    May   2007        WD   \n",
       "2           0     No     No          No       0    Sep   2008        WD   \n",
       "3           0     No     No          No       0    Feb   2006        WD   \n",
       "4           0     No     No          No       0    Dec   2008        WD   \n",
       "...       ...    ...    ...         ...     ...    ...    ...       ...   \n",
       "1455        0     No     No          No       0    Aug   2007        WD   \n",
       "1456        0     No  MnPrv          No       0    Feb   2010        WD   \n",
       "1457        0     No  GdPrv        Shed    2500    May   2010        WD   \n",
       "1458        0     No     No          No       0    Apr   2010        WD   \n",
       "1459        0     No     No          No       0    Jun   2008        WD   \n",
       "\n",
       "      SaleCondition  SalePrice  \n",
       "0            Normal     208500  \n",
       "1            Normal     181500  \n",
       "2            Normal     223500  \n",
       "3           Abnorml     140000  \n",
       "4            Normal     250000  \n",
       "...             ...        ...  \n",
       "1455         Normal     175000  \n",
       "1456         Normal     210000  \n",
       "1457         Normal     266500  \n",
       "1458         Normal     142125  \n",
       "1459         Normal     147500  \n",
       "\n",
       "[1460 rows x 81 columns]"
      ]
     },
     "execution_count": 35,
     "metadata": {},
     "output_type": "execute_result"
    }
   ],
   "source": [
    "house_data"
   ]
  },
  {
   "cell_type": "markdown",
   "id": "44c0dbbf",
   "metadata": {},
   "source": [
    "### RM = Residential Medium Density"
   ]
  },
  {
   "cell_type": "code",
   "execution_count": 36,
   "id": "17ea389b",
   "metadata": {},
   "outputs": [],
   "source": [
    "house_data['MSZoning'] = house_data['MSZoning'].replace({'RM':'Residential Medium Density'})"
   ]
  },
  {
   "cell_type": "markdown",
   "id": "8e0dea5e",
   "metadata": {},
   "source": [
    "### FV = Floating Village Residential"
   ]
  },
  {
   "cell_type": "code",
   "execution_count": 37,
   "id": "2e25d873",
   "metadata": {},
   "outputs": [],
   "source": [
    "house_data['MSZoning'] = house_data['MSZoning'].replace({'FV':'Floating Village Residential'})"
   ]
  },
  {
   "cell_type": "markdown",
   "id": "36b84aaa",
   "metadata": {},
   "source": [
    "### RH = Residential High-Density"
   ]
  },
  {
   "cell_type": "code",
   "execution_count": 38,
   "id": "6d29d499",
   "metadata": {},
   "outputs": [],
   "source": [
    "house_data['MSZoning'] = house_data['MSZoning'].replace({'RH':'Residential High-Density'})"
   ]
  },
  {
   "cell_type": "markdown",
   "id": "8d0491bc",
   "metadata": {},
   "source": [
    "### C = Commercial"
   ]
  },
  {
   "cell_type": "code",
   "execution_count": 39,
   "id": "444dada4",
   "metadata": {},
   "outputs": [],
   "source": [
    "house_data['MSZoning'] = house_data['MSZoning'].replace({'C (all)':'Commercial'})"
   ]
  },
  {
   "cell_type": "markdown",
   "id": "f8a3aa76",
   "metadata": {},
   "source": [
    "## RENAME THE COLUMN MSZoning TO General Zone Classification"
   ]
  },
  {
   "cell_type": "code",
   "execution_count": 40,
   "id": "feb2706e",
   "metadata": {},
   "outputs": [],
   "source": [
    "house_data.rename(columns={'MSZoning':'General Zone Classification'},inplace=True)"
   ]
  },
  {
   "cell_type": "code",
   "execution_count": 41,
   "id": "dcc1b315",
   "metadata": {},
   "outputs": [
    {
     "data": {
      "text/html": [
       "<div>\n",
       "<style scoped>\n",
       "    .dataframe tbody tr th:only-of-type {\n",
       "        vertical-align: middle;\n",
       "    }\n",
       "\n",
       "    .dataframe tbody tr th {\n",
       "        vertical-align: top;\n",
       "    }\n",
       "\n",
       "    .dataframe thead th {\n",
       "        text-align: right;\n",
       "    }\n",
       "</style>\n",
       "<table border=\"1\" class=\"dataframe\">\n",
       "  <thead>\n",
       "    <tr style=\"text-align: right;\">\n",
       "      <th></th>\n",
       "      <th>Unnamed: 0</th>\n",
       "      <th>Type Of Dwelling</th>\n",
       "      <th>General Zone Classification</th>\n",
       "      <th>LotFrontage</th>\n",
       "      <th>LotArea</th>\n",
       "      <th>Street</th>\n",
       "      <th>Alley</th>\n",
       "      <th>LotShape</th>\n",
       "      <th>LandContour</th>\n",
       "      <th>Utilities</th>\n",
       "      <th>...</th>\n",
       "      <th>PoolArea</th>\n",
       "      <th>PoolQC</th>\n",
       "      <th>Fence</th>\n",
       "      <th>MiscFeature</th>\n",
       "      <th>MiscVal</th>\n",
       "      <th>MoSold</th>\n",
       "      <th>YrSold</th>\n",
       "      <th>SaleType</th>\n",
       "      <th>SaleCondition</th>\n",
       "      <th>SalePrice</th>\n",
       "    </tr>\n",
       "  </thead>\n",
       "  <tbody>\n",
       "    <tr>\n",
       "      <th>0</th>\n",
       "      <td>0</td>\n",
       "      <td>2-STORY 1946 &amp; NEWER</td>\n",
       "      <td>Residential Low-Density</td>\n",
       "      <td>65</td>\n",
       "      <td>8450</td>\n",
       "      <td>Pave</td>\n",
       "      <td>NaN</td>\n",
       "      <td>Reg</td>\n",
       "      <td>Lvl</td>\n",
       "      <td>AllPub</td>\n",
       "      <td>...</td>\n",
       "      <td>0</td>\n",
       "      <td>No</td>\n",
       "      <td>No</td>\n",
       "      <td>No</td>\n",
       "      <td>0</td>\n",
       "      <td>Feb</td>\n",
       "      <td>2008</td>\n",
       "      <td>WD</td>\n",
       "      <td>Normal</td>\n",
       "      <td>208500</td>\n",
       "    </tr>\n",
       "    <tr>\n",
       "      <th>1</th>\n",
       "      <td>1</td>\n",
       "      <td>1-STORY 1946 &amp; NEWER ALL STYLES</td>\n",
       "      <td>Residential Low-Density</td>\n",
       "      <td>80</td>\n",
       "      <td>9600</td>\n",
       "      <td>Pave</td>\n",
       "      <td>NaN</td>\n",
       "      <td>Reg</td>\n",
       "      <td>Lvl</td>\n",
       "      <td>AllPub</td>\n",
       "      <td>...</td>\n",
       "      <td>0</td>\n",
       "      <td>No</td>\n",
       "      <td>No</td>\n",
       "      <td>No</td>\n",
       "      <td>0</td>\n",
       "      <td>May</td>\n",
       "      <td>2007</td>\n",
       "      <td>WD</td>\n",
       "      <td>Normal</td>\n",
       "      <td>181500</td>\n",
       "    </tr>\n",
       "    <tr>\n",
       "      <th>2</th>\n",
       "      <td>2</td>\n",
       "      <td>2-STORY 1946 &amp; NEWER</td>\n",
       "      <td>Residential Low-Density</td>\n",
       "      <td>68</td>\n",
       "      <td>11250</td>\n",
       "      <td>Pave</td>\n",
       "      <td>NaN</td>\n",
       "      <td>IR1</td>\n",
       "      <td>Lvl</td>\n",
       "      <td>AllPub</td>\n",
       "      <td>...</td>\n",
       "      <td>0</td>\n",
       "      <td>No</td>\n",
       "      <td>No</td>\n",
       "      <td>No</td>\n",
       "      <td>0</td>\n",
       "      <td>Sep</td>\n",
       "      <td>2008</td>\n",
       "      <td>WD</td>\n",
       "      <td>Normal</td>\n",
       "      <td>223500</td>\n",
       "    </tr>\n",
       "    <tr>\n",
       "      <th>3</th>\n",
       "      <td>3</td>\n",
       "      <td>2-STORY 1945 &amp; OLDER</td>\n",
       "      <td>Residential Low-Density</td>\n",
       "      <td>60</td>\n",
       "      <td>9550</td>\n",
       "      <td>Pave</td>\n",
       "      <td>NaN</td>\n",
       "      <td>IR1</td>\n",
       "      <td>Lvl</td>\n",
       "      <td>AllPub</td>\n",
       "      <td>...</td>\n",
       "      <td>0</td>\n",
       "      <td>No</td>\n",
       "      <td>No</td>\n",
       "      <td>No</td>\n",
       "      <td>0</td>\n",
       "      <td>Feb</td>\n",
       "      <td>2006</td>\n",
       "      <td>WD</td>\n",
       "      <td>Abnorml</td>\n",
       "      <td>140000</td>\n",
       "    </tr>\n",
       "    <tr>\n",
       "      <th>4</th>\n",
       "      <td>4</td>\n",
       "      <td>2-STORY 1946 &amp; NEWER</td>\n",
       "      <td>Residential Low-Density</td>\n",
       "      <td>84</td>\n",
       "      <td>14260</td>\n",
       "      <td>Pave</td>\n",
       "      <td>NaN</td>\n",
       "      <td>IR1</td>\n",
       "      <td>Lvl</td>\n",
       "      <td>AllPub</td>\n",
       "      <td>...</td>\n",
       "      <td>0</td>\n",
       "      <td>No</td>\n",
       "      <td>No</td>\n",
       "      <td>No</td>\n",
       "      <td>0</td>\n",
       "      <td>Dec</td>\n",
       "      <td>2008</td>\n",
       "      <td>WD</td>\n",
       "      <td>Normal</td>\n",
       "      <td>250000</td>\n",
       "    </tr>\n",
       "    <tr>\n",
       "      <th>...</th>\n",
       "      <td>...</td>\n",
       "      <td>...</td>\n",
       "      <td>...</td>\n",
       "      <td>...</td>\n",
       "      <td>...</td>\n",
       "      <td>...</td>\n",
       "      <td>...</td>\n",
       "      <td>...</td>\n",
       "      <td>...</td>\n",
       "      <td>...</td>\n",
       "      <td>...</td>\n",
       "      <td>...</td>\n",
       "      <td>...</td>\n",
       "      <td>...</td>\n",
       "      <td>...</td>\n",
       "      <td>...</td>\n",
       "      <td>...</td>\n",
       "      <td>...</td>\n",
       "      <td>...</td>\n",
       "      <td>...</td>\n",
       "      <td>...</td>\n",
       "    </tr>\n",
       "    <tr>\n",
       "      <th>1455</th>\n",
       "      <td>1455</td>\n",
       "      <td>2-STORY 1946 &amp; NEWER</td>\n",
       "      <td>Residential Low-Density</td>\n",
       "      <td>62</td>\n",
       "      <td>7917</td>\n",
       "      <td>Pave</td>\n",
       "      <td>NaN</td>\n",
       "      <td>Reg</td>\n",
       "      <td>Lvl</td>\n",
       "      <td>AllPub</td>\n",
       "      <td>...</td>\n",
       "      <td>0</td>\n",
       "      <td>No</td>\n",
       "      <td>No</td>\n",
       "      <td>No</td>\n",
       "      <td>0</td>\n",
       "      <td>Aug</td>\n",
       "      <td>2007</td>\n",
       "      <td>WD</td>\n",
       "      <td>Normal</td>\n",
       "      <td>175000</td>\n",
       "    </tr>\n",
       "    <tr>\n",
       "      <th>1456</th>\n",
       "      <td>1456</td>\n",
       "      <td>1-STORY 1946 &amp; NEWER ALL STYLES</td>\n",
       "      <td>Residential Low-Density</td>\n",
       "      <td>85</td>\n",
       "      <td>13175</td>\n",
       "      <td>Pave</td>\n",
       "      <td>NaN</td>\n",
       "      <td>Reg</td>\n",
       "      <td>Lvl</td>\n",
       "      <td>AllPub</td>\n",
       "      <td>...</td>\n",
       "      <td>0</td>\n",
       "      <td>No</td>\n",
       "      <td>MnPrv</td>\n",
       "      <td>No</td>\n",
       "      <td>0</td>\n",
       "      <td>Feb</td>\n",
       "      <td>2010</td>\n",
       "      <td>WD</td>\n",
       "      <td>Normal</td>\n",
       "      <td>210000</td>\n",
       "    </tr>\n",
       "    <tr>\n",
       "      <th>1457</th>\n",
       "      <td>1457</td>\n",
       "      <td>2-STORY 1945 &amp; OLDER</td>\n",
       "      <td>Residential Low-Density</td>\n",
       "      <td>66</td>\n",
       "      <td>9042</td>\n",
       "      <td>Pave</td>\n",
       "      <td>NaN</td>\n",
       "      <td>Reg</td>\n",
       "      <td>Lvl</td>\n",
       "      <td>AllPub</td>\n",
       "      <td>...</td>\n",
       "      <td>0</td>\n",
       "      <td>No</td>\n",
       "      <td>GdPrv</td>\n",
       "      <td>Shed</td>\n",
       "      <td>2500</td>\n",
       "      <td>May</td>\n",
       "      <td>2010</td>\n",
       "      <td>WD</td>\n",
       "      <td>Normal</td>\n",
       "      <td>266500</td>\n",
       "    </tr>\n",
       "    <tr>\n",
       "      <th>1458</th>\n",
       "      <td>1458</td>\n",
       "      <td>1-STORY 1946 &amp; NEWER ALL STYLES</td>\n",
       "      <td>Residential Low-Density</td>\n",
       "      <td>68</td>\n",
       "      <td>9717</td>\n",
       "      <td>Pave</td>\n",
       "      <td>NaN</td>\n",
       "      <td>Reg</td>\n",
       "      <td>Lvl</td>\n",
       "      <td>AllPub</td>\n",
       "      <td>...</td>\n",
       "      <td>0</td>\n",
       "      <td>No</td>\n",
       "      <td>No</td>\n",
       "      <td>No</td>\n",
       "      <td>0</td>\n",
       "      <td>Apr</td>\n",
       "      <td>2010</td>\n",
       "      <td>WD</td>\n",
       "      <td>Normal</td>\n",
       "      <td>142125</td>\n",
       "    </tr>\n",
       "    <tr>\n",
       "      <th>1459</th>\n",
       "      <td>1459</td>\n",
       "      <td>1-STORY 1946 &amp; NEWER ALL STYLES</td>\n",
       "      <td>Residential Low-Density</td>\n",
       "      <td>75</td>\n",
       "      <td>9937</td>\n",
       "      <td>Pave</td>\n",
       "      <td>NaN</td>\n",
       "      <td>Reg</td>\n",
       "      <td>Lvl</td>\n",
       "      <td>AllPub</td>\n",
       "      <td>...</td>\n",
       "      <td>0</td>\n",
       "      <td>No</td>\n",
       "      <td>No</td>\n",
       "      <td>No</td>\n",
       "      <td>0</td>\n",
       "      <td>Jun</td>\n",
       "      <td>2008</td>\n",
       "      <td>WD</td>\n",
       "      <td>Normal</td>\n",
       "      <td>147500</td>\n",
       "    </tr>\n",
       "  </tbody>\n",
       "</table>\n",
       "<p>1460 rows × 81 columns</p>\n",
       "</div>"
      ],
      "text/plain": [
       "      Unnamed: 0                 Type Of Dwelling General Zone Classification  \\\n",
       "0              0             2-STORY 1946 & NEWER     Residential Low-Density   \n",
       "1              1  1-STORY 1946 & NEWER ALL STYLES     Residential Low-Density   \n",
       "2              2             2-STORY 1946 & NEWER     Residential Low-Density   \n",
       "3              3             2-STORY 1945 & OLDER     Residential Low-Density   \n",
       "4              4             2-STORY 1946 & NEWER     Residential Low-Density   \n",
       "...          ...                              ...                         ...   \n",
       "1455        1455             2-STORY 1946 & NEWER     Residential Low-Density   \n",
       "1456        1456  1-STORY 1946 & NEWER ALL STYLES     Residential Low-Density   \n",
       "1457        1457             2-STORY 1945 & OLDER     Residential Low-Density   \n",
       "1458        1458  1-STORY 1946 & NEWER ALL STYLES     Residential Low-Density   \n",
       "1459        1459  1-STORY 1946 & NEWER ALL STYLES     Residential Low-Density   \n",
       "\n",
       "      LotFrontage  LotArea Street Alley LotShape LandContour Utilities  ...  \\\n",
       "0              65     8450   Pave   NaN      Reg         Lvl    AllPub  ...   \n",
       "1              80     9600   Pave   NaN      Reg         Lvl    AllPub  ...   \n",
       "2              68    11250   Pave   NaN      IR1         Lvl    AllPub  ...   \n",
       "3              60     9550   Pave   NaN      IR1         Lvl    AllPub  ...   \n",
       "4              84    14260   Pave   NaN      IR1         Lvl    AllPub  ...   \n",
       "...           ...      ...    ...   ...      ...         ...       ...  ...   \n",
       "1455           62     7917   Pave   NaN      Reg         Lvl    AllPub  ...   \n",
       "1456           85    13175   Pave   NaN      Reg         Lvl    AllPub  ...   \n",
       "1457           66     9042   Pave   NaN      Reg         Lvl    AllPub  ...   \n",
       "1458           68     9717   Pave   NaN      Reg         Lvl    AllPub  ...   \n",
       "1459           75     9937   Pave   NaN      Reg         Lvl    AllPub  ...   \n",
       "\n",
       "     PoolArea PoolQC  Fence MiscFeature MiscVal MoSold YrSold  SaleType  \\\n",
       "0           0     No     No          No       0    Feb   2008        WD   \n",
       "1           0     No     No          No       0    May   2007        WD   \n",
       "2           0     No     No          No       0    Sep   2008        WD   \n",
       "3           0     No     No          No       0    Feb   2006        WD   \n",
       "4           0     No     No          No       0    Dec   2008        WD   \n",
       "...       ...    ...    ...         ...     ...    ...    ...       ...   \n",
       "1455        0     No     No          No       0    Aug   2007        WD   \n",
       "1456        0     No  MnPrv          No       0    Feb   2010        WD   \n",
       "1457        0     No  GdPrv        Shed    2500    May   2010        WD   \n",
       "1458        0     No     No          No       0    Apr   2010        WD   \n",
       "1459        0     No     No          No       0    Jun   2008        WD   \n",
       "\n",
       "      SaleCondition  SalePrice  \n",
       "0            Normal     208500  \n",
       "1            Normal     181500  \n",
       "2            Normal     223500  \n",
       "3           Abnorml     140000  \n",
       "4            Normal     250000  \n",
       "...             ...        ...  \n",
       "1455         Normal     175000  \n",
       "1456         Normal     210000  \n",
       "1457         Normal     266500  \n",
       "1458         Normal     142125  \n",
       "1459         Normal     147500  \n",
       "\n",
       "[1460 rows x 81 columns]"
      ]
     },
     "execution_count": 41,
     "metadata": {},
     "output_type": "execute_result"
    }
   ],
   "source": [
    "house_data"
   ]
  },
  {
   "cell_type": "markdown",
   "id": "808f0244",
   "metadata": {},
   "source": [
    "## UNIQUE VALES OF General Zone Classification COLUMN"
   ]
  },
  {
   "cell_type": "code",
   "execution_count": 42,
   "id": "8f2f00eb",
   "metadata": {},
   "outputs": [
    {
     "data": {
      "text/plain": [
       "array(['Residential Low-Density', 'Residential Medium Density',\n",
       "       'Commercial', 'Floating Village Residential',\n",
       "       'Residential High-Density'], dtype=object)"
      ]
     },
     "execution_count": 42,
     "metadata": {},
     "output_type": "execute_result"
    }
   ],
   "source": [
    "house_data['General Zone Classification'].unique()"
   ]
  },
  {
   "cell_type": "markdown",
   "id": "e9a811da",
   "metadata": {},
   "source": [
    "## LotFrontage: Linear feet of street connected to the property"
   ]
  },
  {
   "cell_type": "markdown",
   "id": "7df1d91a",
   "metadata": {},
   "source": [
    "### RENAME THE COLUNM LotFrontage to Linear Feet of Street"
   ]
  },
  {
   "cell_type": "code",
   "execution_count": 43,
   "id": "70223ce1",
   "metadata": {},
   "outputs": [],
   "source": [
    "house_data.rename(columns={'LotFrontage':'Linear Feet of Street'},inplace=True)"
   ]
  },
  {
   "cell_type": "code",
   "execution_count": 44,
   "id": "58cb8fe5",
   "metadata": {},
   "outputs": [
    {
     "data": {
      "text/html": [
       "<div>\n",
       "<style scoped>\n",
       "    .dataframe tbody tr th:only-of-type {\n",
       "        vertical-align: middle;\n",
       "    }\n",
       "\n",
       "    .dataframe tbody tr th {\n",
       "        vertical-align: top;\n",
       "    }\n",
       "\n",
       "    .dataframe thead th {\n",
       "        text-align: right;\n",
       "    }\n",
       "</style>\n",
       "<table border=\"1\" class=\"dataframe\">\n",
       "  <thead>\n",
       "    <tr style=\"text-align: right;\">\n",
       "      <th></th>\n",
       "      <th>Unnamed: 0</th>\n",
       "      <th>Type Of Dwelling</th>\n",
       "      <th>General Zone Classification</th>\n",
       "      <th>Linear Feet of Street</th>\n",
       "      <th>LotArea</th>\n",
       "      <th>Street</th>\n",
       "      <th>Alley</th>\n",
       "      <th>LotShape</th>\n",
       "      <th>LandContour</th>\n",
       "      <th>Utilities</th>\n",
       "      <th>...</th>\n",
       "      <th>PoolArea</th>\n",
       "      <th>PoolQC</th>\n",
       "      <th>Fence</th>\n",
       "      <th>MiscFeature</th>\n",
       "      <th>MiscVal</th>\n",
       "      <th>MoSold</th>\n",
       "      <th>YrSold</th>\n",
       "      <th>SaleType</th>\n",
       "      <th>SaleCondition</th>\n",
       "      <th>SalePrice</th>\n",
       "    </tr>\n",
       "  </thead>\n",
       "  <tbody>\n",
       "    <tr>\n",
       "      <th>0</th>\n",
       "      <td>0</td>\n",
       "      <td>2-STORY 1946 &amp; NEWER</td>\n",
       "      <td>Residential Low-Density</td>\n",
       "      <td>65</td>\n",
       "      <td>8450</td>\n",
       "      <td>Pave</td>\n",
       "      <td>NaN</td>\n",
       "      <td>Reg</td>\n",
       "      <td>Lvl</td>\n",
       "      <td>AllPub</td>\n",
       "      <td>...</td>\n",
       "      <td>0</td>\n",
       "      <td>No</td>\n",
       "      <td>No</td>\n",
       "      <td>No</td>\n",
       "      <td>0</td>\n",
       "      <td>Feb</td>\n",
       "      <td>2008</td>\n",
       "      <td>WD</td>\n",
       "      <td>Normal</td>\n",
       "      <td>208500</td>\n",
       "    </tr>\n",
       "    <tr>\n",
       "      <th>1</th>\n",
       "      <td>1</td>\n",
       "      <td>1-STORY 1946 &amp; NEWER ALL STYLES</td>\n",
       "      <td>Residential Low-Density</td>\n",
       "      <td>80</td>\n",
       "      <td>9600</td>\n",
       "      <td>Pave</td>\n",
       "      <td>NaN</td>\n",
       "      <td>Reg</td>\n",
       "      <td>Lvl</td>\n",
       "      <td>AllPub</td>\n",
       "      <td>...</td>\n",
       "      <td>0</td>\n",
       "      <td>No</td>\n",
       "      <td>No</td>\n",
       "      <td>No</td>\n",
       "      <td>0</td>\n",
       "      <td>May</td>\n",
       "      <td>2007</td>\n",
       "      <td>WD</td>\n",
       "      <td>Normal</td>\n",
       "      <td>181500</td>\n",
       "    </tr>\n",
       "    <tr>\n",
       "      <th>2</th>\n",
       "      <td>2</td>\n",
       "      <td>2-STORY 1946 &amp; NEWER</td>\n",
       "      <td>Residential Low-Density</td>\n",
       "      <td>68</td>\n",
       "      <td>11250</td>\n",
       "      <td>Pave</td>\n",
       "      <td>NaN</td>\n",
       "      <td>IR1</td>\n",
       "      <td>Lvl</td>\n",
       "      <td>AllPub</td>\n",
       "      <td>...</td>\n",
       "      <td>0</td>\n",
       "      <td>No</td>\n",
       "      <td>No</td>\n",
       "      <td>No</td>\n",
       "      <td>0</td>\n",
       "      <td>Sep</td>\n",
       "      <td>2008</td>\n",
       "      <td>WD</td>\n",
       "      <td>Normal</td>\n",
       "      <td>223500</td>\n",
       "    </tr>\n",
       "    <tr>\n",
       "      <th>3</th>\n",
       "      <td>3</td>\n",
       "      <td>2-STORY 1945 &amp; OLDER</td>\n",
       "      <td>Residential Low-Density</td>\n",
       "      <td>60</td>\n",
       "      <td>9550</td>\n",
       "      <td>Pave</td>\n",
       "      <td>NaN</td>\n",
       "      <td>IR1</td>\n",
       "      <td>Lvl</td>\n",
       "      <td>AllPub</td>\n",
       "      <td>...</td>\n",
       "      <td>0</td>\n",
       "      <td>No</td>\n",
       "      <td>No</td>\n",
       "      <td>No</td>\n",
       "      <td>0</td>\n",
       "      <td>Feb</td>\n",
       "      <td>2006</td>\n",
       "      <td>WD</td>\n",
       "      <td>Abnorml</td>\n",
       "      <td>140000</td>\n",
       "    </tr>\n",
       "    <tr>\n",
       "      <th>4</th>\n",
       "      <td>4</td>\n",
       "      <td>2-STORY 1946 &amp; NEWER</td>\n",
       "      <td>Residential Low-Density</td>\n",
       "      <td>84</td>\n",
       "      <td>14260</td>\n",
       "      <td>Pave</td>\n",
       "      <td>NaN</td>\n",
       "      <td>IR1</td>\n",
       "      <td>Lvl</td>\n",
       "      <td>AllPub</td>\n",
       "      <td>...</td>\n",
       "      <td>0</td>\n",
       "      <td>No</td>\n",
       "      <td>No</td>\n",
       "      <td>No</td>\n",
       "      <td>0</td>\n",
       "      <td>Dec</td>\n",
       "      <td>2008</td>\n",
       "      <td>WD</td>\n",
       "      <td>Normal</td>\n",
       "      <td>250000</td>\n",
       "    </tr>\n",
       "    <tr>\n",
       "      <th>...</th>\n",
       "      <td>...</td>\n",
       "      <td>...</td>\n",
       "      <td>...</td>\n",
       "      <td>...</td>\n",
       "      <td>...</td>\n",
       "      <td>...</td>\n",
       "      <td>...</td>\n",
       "      <td>...</td>\n",
       "      <td>...</td>\n",
       "      <td>...</td>\n",
       "      <td>...</td>\n",
       "      <td>...</td>\n",
       "      <td>...</td>\n",
       "      <td>...</td>\n",
       "      <td>...</td>\n",
       "      <td>...</td>\n",
       "      <td>...</td>\n",
       "      <td>...</td>\n",
       "      <td>...</td>\n",
       "      <td>...</td>\n",
       "      <td>...</td>\n",
       "    </tr>\n",
       "    <tr>\n",
       "      <th>1455</th>\n",
       "      <td>1455</td>\n",
       "      <td>2-STORY 1946 &amp; NEWER</td>\n",
       "      <td>Residential Low-Density</td>\n",
       "      <td>62</td>\n",
       "      <td>7917</td>\n",
       "      <td>Pave</td>\n",
       "      <td>NaN</td>\n",
       "      <td>Reg</td>\n",
       "      <td>Lvl</td>\n",
       "      <td>AllPub</td>\n",
       "      <td>...</td>\n",
       "      <td>0</td>\n",
       "      <td>No</td>\n",
       "      <td>No</td>\n",
       "      <td>No</td>\n",
       "      <td>0</td>\n",
       "      <td>Aug</td>\n",
       "      <td>2007</td>\n",
       "      <td>WD</td>\n",
       "      <td>Normal</td>\n",
       "      <td>175000</td>\n",
       "    </tr>\n",
       "    <tr>\n",
       "      <th>1456</th>\n",
       "      <td>1456</td>\n",
       "      <td>1-STORY 1946 &amp; NEWER ALL STYLES</td>\n",
       "      <td>Residential Low-Density</td>\n",
       "      <td>85</td>\n",
       "      <td>13175</td>\n",
       "      <td>Pave</td>\n",
       "      <td>NaN</td>\n",
       "      <td>Reg</td>\n",
       "      <td>Lvl</td>\n",
       "      <td>AllPub</td>\n",
       "      <td>...</td>\n",
       "      <td>0</td>\n",
       "      <td>No</td>\n",
       "      <td>MnPrv</td>\n",
       "      <td>No</td>\n",
       "      <td>0</td>\n",
       "      <td>Feb</td>\n",
       "      <td>2010</td>\n",
       "      <td>WD</td>\n",
       "      <td>Normal</td>\n",
       "      <td>210000</td>\n",
       "    </tr>\n",
       "    <tr>\n",
       "      <th>1457</th>\n",
       "      <td>1457</td>\n",
       "      <td>2-STORY 1945 &amp; OLDER</td>\n",
       "      <td>Residential Low-Density</td>\n",
       "      <td>66</td>\n",
       "      <td>9042</td>\n",
       "      <td>Pave</td>\n",
       "      <td>NaN</td>\n",
       "      <td>Reg</td>\n",
       "      <td>Lvl</td>\n",
       "      <td>AllPub</td>\n",
       "      <td>...</td>\n",
       "      <td>0</td>\n",
       "      <td>No</td>\n",
       "      <td>GdPrv</td>\n",
       "      <td>Shed</td>\n",
       "      <td>2500</td>\n",
       "      <td>May</td>\n",
       "      <td>2010</td>\n",
       "      <td>WD</td>\n",
       "      <td>Normal</td>\n",
       "      <td>266500</td>\n",
       "    </tr>\n",
       "    <tr>\n",
       "      <th>1458</th>\n",
       "      <td>1458</td>\n",
       "      <td>1-STORY 1946 &amp; NEWER ALL STYLES</td>\n",
       "      <td>Residential Low-Density</td>\n",
       "      <td>68</td>\n",
       "      <td>9717</td>\n",
       "      <td>Pave</td>\n",
       "      <td>NaN</td>\n",
       "      <td>Reg</td>\n",
       "      <td>Lvl</td>\n",
       "      <td>AllPub</td>\n",
       "      <td>...</td>\n",
       "      <td>0</td>\n",
       "      <td>No</td>\n",
       "      <td>No</td>\n",
       "      <td>No</td>\n",
       "      <td>0</td>\n",
       "      <td>Apr</td>\n",
       "      <td>2010</td>\n",
       "      <td>WD</td>\n",
       "      <td>Normal</td>\n",
       "      <td>142125</td>\n",
       "    </tr>\n",
       "    <tr>\n",
       "      <th>1459</th>\n",
       "      <td>1459</td>\n",
       "      <td>1-STORY 1946 &amp; NEWER ALL STYLES</td>\n",
       "      <td>Residential Low-Density</td>\n",
       "      <td>75</td>\n",
       "      <td>9937</td>\n",
       "      <td>Pave</td>\n",
       "      <td>NaN</td>\n",
       "      <td>Reg</td>\n",
       "      <td>Lvl</td>\n",
       "      <td>AllPub</td>\n",
       "      <td>...</td>\n",
       "      <td>0</td>\n",
       "      <td>No</td>\n",
       "      <td>No</td>\n",
       "      <td>No</td>\n",
       "      <td>0</td>\n",
       "      <td>Jun</td>\n",
       "      <td>2008</td>\n",
       "      <td>WD</td>\n",
       "      <td>Normal</td>\n",
       "      <td>147500</td>\n",
       "    </tr>\n",
       "  </tbody>\n",
       "</table>\n",
       "<p>1460 rows × 81 columns</p>\n",
       "</div>"
      ],
      "text/plain": [
       "      Unnamed: 0                 Type Of Dwelling General Zone Classification  \\\n",
       "0              0             2-STORY 1946 & NEWER     Residential Low-Density   \n",
       "1              1  1-STORY 1946 & NEWER ALL STYLES     Residential Low-Density   \n",
       "2              2             2-STORY 1946 & NEWER     Residential Low-Density   \n",
       "3              3             2-STORY 1945 & OLDER     Residential Low-Density   \n",
       "4              4             2-STORY 1946 & NEWER     Residential Low-Density   \n",
       "...          ...                              ...                         ...   \n",
       "1455        1455             2-STORY 1946 & NEWER     Residential Low-Density   \n",
       "1456        1456  1-STORY 1946 & NEWER ALL STYLES     Residential Low-Density   \n",
       "1457        1457             2-STORY 1945 & OLDER     Residential Low-Density   \n",
       "1458        1458  1-STORY 1946 & NEWER ALL STYLES     Residential Low-Density   \n",
       "1459        1459  1-STORY 1946 & NEWER ALL STYLES     Residential Low-Density   \n",
       "\n",
       "      Linear Feet of Street  LotArea Street Alley LotShape LandContour  \\\n",
       "0                        65     8450   Pave   NaN      Reg         Lvl   \n",
       "1                        80     9600   Pave   NaN      Reg         Lvl   \n",
       "2                        68    11250   Pave   NaN      IR1         Lvl   \n",
       "3                        60     9550   Pave   NaN      IR1         Lvl   \n",
       "4                        84    14260   Pave   NaN      IR1         Lvl   \n",
       "...                     ...      ...    ...   ...      ...         ...   \n",
       "1455                     62     7917   Pave   NaN      Reg         Lvl   \n",
       "1456                     85    13175   Pave   NaN      Reg         Lvl   \n",
       "1457                     66     9042   Pave   NaN      Reg         Lvl   \n",
       "1458                     68     9717   Pave   NaN      Reg         Lvl   \n",
       "1459                     75     9937   Pave   NaN      Reg         Lvl   \n",
       "\n",
       "     Utilities  ... PoolArea PoolQC  Fence MiscFeature MiscVal MoSold YrSold  \\\n",
       "0       AllPub  ...        0     No     No          No       0    Feb   2008   \n",
       "1       AllPub  ...        0     No     No          No       0    May   2007   \n",
       "2       AllPub  ...        0     No     No          No       0    Sep   2008   \n",
       "3       AllPub  ...        0     No     No          No       0    Feb   2006   \n",
       "4       AllPub  ...        0     No     No          No       0    Dec   2008   \n",
       "...        ...  ...      ...    ...    ...         ...     ...    ...    ...   \n",
       "1455    AllPub  ...        0     No     No          No       0    Aug   2007   \n",
       "1456    AllPub  ...        0     No  MnPrv          No       0    Feb   2010   \n",
       "1457    AllPub  ...        0     No  GdPrv        Shed    2500    May   2010   \n",
       "1458    AllPub  ...        0     No     No          No       0    Apr   2010   \n",
       "1459    AllPub  ...        0     No     No          No       0    Jun   2008   \n",
       "\n",
       "      SaleType  SaleCondition  SalePrice  \n",
       "0           WD         Normal     208500  \n",
       "1           WD         Normal     181500  \n",
       "2           WD         Normal     223500  \n",
       "3           WD        Abnorml     140000  \n",
       "4           WD         Normal     250000  \n",
       "...        ...            ...        ...  \n",
       "1455        WD         Normal     175000  \n",
       "1456        WD         Normal     210000  \n",
       "1457        WD         Normal     266500  \n",
       "1458        WD         Normal     142125  \n",
       "1459        WD         Normal     147500  \n",
       "\n",
       "[1460 rows x 81 columns]"
      ]
     },
     "execution_count": 44,
     "metadata": {},
     "output_type": "execute_result"
    }
   ],
   "source": [
    "house_data"
   ]
  },
  {
   "cell_type": "markdown",
   "id": "a780873e",
   "metadata": {},
   "source": [
    "## LotArea: Lot size in square feet"
   ]
  },
  {
   "cell_type": "markdown",
   "id": "52dcc6d8",
   "metadata": {},
   "source": [
    "### Rename the column LotArea to Plot size in square feet "
   ]
  },
  {
   "cell_type": "code",
   "execution_count": 45,
   "id": "e1ab2ece",
   "metadata": {},
   "outputs": [],
   "source": [
    "house_data.rename(columns={'LotArea':'Plot size in square feet'},inplace=True)"
   ]
  },
  {
   "cell_type": "code",
   "execution_count": 46,
   "id": "af00ab62",
   "metadata": {},
   "outputs": [
    {
     "data": {
      "text/plain": [
       "Plot size in square feet\n",
       "7200     25\n",
       "9600     24\n",
       "6000     17\n",
       "9000     14\n",
       "8400     14\n",
       "         ..\n",
       "14601     1\n",
       "13682     1\n",
       "4058      1\n",
       "17104     1\n",
       "9717      1\n",
       "Name: count, Length: 1073, dtype: int64"
      ]
     },
     "execution_count": 46,
     "metadata": {},
     "output_type": "execute_result"
    }
   ],
   "source": [
    "house_data['Plot size in square feet'].value_counts()"
   ]
  },
  {
   "cell_type": "code",
   "execution_count": 47,
   "id": "92ef01b0",
   "metadata": {},
   "outputs": [
    {
     "data": {
      "text/html": [
       "<div>\n",
       "<style scoped>\n",
       "    .dataframe tbody tr th:only-of-type {\n",
       "        vertical-align: middle;\n",
       "    }\n",
       "\n",
       "    .dataframe tbody tr th {\n",
       "        vertical-align: top;\n",
       "    }\n",
       "\n",
       "    .dataframe thead th {\n",
       "        text-align: right;\n",
       "    }\n",
       "</style>\n",
       "<table border=\"1\" class=\"dataframe\">\n",
       "  <thead>\n",
       "    <tr style=\"text-align: right;\">\n",
       "      <th></th>\n",
       "      <th>Unnamed: 0</th>\n",
       "      <th>Type Of Dwelling</th>\n",
       "      <th>General Zone Classification</th>\n",
       "      <th>Linear Feet of Street</th>\n",
       "      <th>Plot size in square feet</th>\n",
       "      <th>Street</th>\n",
       "      <th>Alley</th>\n",
       "      <th>LotShape</th>\n",
       "      <th>LandContour</th>\n",
       "      <th>Utilities</th>\n",
       "      <th>...</th>\n",
       "      <th>PoolArea</th>\n",
       "      <th>PoolQC</th>\n",
       "      <th>Fence</th>\n",
       "      <th>MiscFeature</th>\n",
       "      <th>MiscVal</th>\n",
       "      <th>MoSold</th>\n",
       "      <th>YrSold</th>\n",
       "      <th>SaleType</th>\n",
       "      <th>SaleCondition</th>\n",
       "      <th>SalePrice</th>\n",
       "    </tr>\n",
       "  </thead>\n",
       "  <tbody>\n",
       "    <tr>\n",
       "      <th>0</th>\n",
       "      <td>0</td>\n",
       "      <td>2-STORY 1946 &amp; NEWER</td>\n",
       "      <td>Residential Low-Density</td>\n",
       "      <td>65</td>\n",
       "      <td>8450</td>\n",
       "      <td>Pave</td>\n",
       "      <td>NaN</td>\n",
       "      <td>Reg</td>\n",
       "      <td>Lvl</td>\n",
       "      <td>AllPub</td>\n",
       "      <td>...</td>\n",
       "      <td>0</td>\n",
       "      <td>No</td>\n",
       "      <td>No</td>\n",
       "      <td>No</td>\n",
       "      <td>0</td>\n",
       "      <td>Feb</td>\n",
       "      <td>2008</td>\n",
       "      <td>WD</td>\n",
       "      <td>Normal</td>\n",
       "      <td>208500</td>\n",
       "    </tr>\n",
       "    <tr>\n",
       "      <th>1</th>\n",
       "      <td>1</td>\n",
       "      <td>1-STORY 1946 &amp; NEWER ALL STYLES</td>\n",
       "      <td>Residential Low-Density</td>\n",
       "      <td>80</td>\n",
       "      <td>9600</td>\n",
       "      <td>Pave</td>\n",
       "      <td>NaN</td>\n",
       "      <td>Reg</td>\n",
       "      <td>Lvl</td>\n",
       "      <td>AllPub</td>\n",
       "      <td>...</td>\n",
       "      <td>0</td>\n",
       "      <td>No</td>\n",
       "      <td>No</td>\n",
       "      <td>No</td>\n",
       "      <td>0</td>\n",
       "      <td>May</td>\n",
       "      <td>2007</td>\n",
       "      <td>WD</td>\n",
       "      <td>Normal</td>\n",
       "      <td>181500</td>\n",
       "    </tr>\n",
       "  </tbody>\n",
       "</table>\n",
       "<p>2 rows × 81 columns</p>\n",
       "</div>"
      ],
      "text/plain": [
       "   Unnamed: 0                 Type Of Dwelling General Zone Classification  \\\n",
       "0           0             2-STORY 1946 & NEWER     Residential Low-Density   \n",
       "1           1  1-STORY 1946 & NEWER ALL STYLES     Residential Low-Density   \n",
       "\n",
       "   Linear Feet of Street  Plot size in square feet Street Alley LotShape  \\\n",
       "0                     65                      8450   Pave   NaN      Reg   \n",
       "1                     80                      9600   Pave   NaN      Reg   \n",
       "\n",
       "  LandContour Utilities  ... PoolArea PoolQC Fence MiscFeature MiscVal MoSold  \\\n",
       "0         Lvl    AllPub  ...        0     No    No          No       0    Feb   \n",
       "1         Lvl    AllPub  ...        0     No    No          No       0    May   \n",
       "\n",
       "  YrSold  SaleType  SaleCondition  SalePrice  \n",
       "0   2008        WD         Normal     208500  \n",
       "1   2007        WD         Normal     181500  \n",
       "\n",
       "[2 rows x 81 columns]"
      ]
     },
     "execution_count": 47,
     "metadata": {},
     "output_type": "execute_result"
    }
   ],
   "source": [
    "house_data.head(2)"
   ]
  },
  {
   "cell_type": "markdown",
   "id": "fb155aa5",
   "metadata": {},
   "source": [
    "## Street: Type of road access to property"
   ]
  },
  {
   "cell_type": "markdown",
   "id": "f62fce57",
   "metadata": {},
   "source": [
    "### Grvl = Gravel\n",
    "### Pave = Paved"
   ]
  },
  {
   "cell_type": "code",
   "execution_count": 48,
   "id": "e85be308",
   "metadata": {},
   "outputs": [],
   "source": [
    "house_data['Street'] = house_data['Street'].replace({'Grvl':'Gravel','Pave':'Paved'})"
   ]
  },
  {
   "cell_type": "markdown",
   "id": "f4db9258",
   "metadata": {},
   "source": [
    "## Unique values of Street column"
   ]
  },
  {
   "cell_type": "code",
   "execution_count": 49,
   "id": "eb45f0bb",
   "metadata": {},
   "outputs": [
    {
     "data": {
      "text/plain": [
       "array(['Paved', 'Gravel'], dtype=object)"
      ]
     },
     "execution_count": 49,
     "metadata": {},
     "output_type": "execute_result"
    }
   ],
   "source": [
    "house_data['Street'].unique()"
   ]
  },
  {
   "cell_type": "code",
   "execution_count": 50,
   "id": "d8d43b48",
   "metadata": {},
   "outputs": [],
   "source": [
    "house_data.rename(columns={'Street':'Type of road'},inplace=True)"
   ]
  },
  {
   "cell_type": "code",
   "execution_count": 51,
   "id": "64a1d678",
   "metadata": {},
   "outputs": [
    {
     "data": {
      "text/html": [
       "<div>\n",
       "<style scoped>\n",
       "    .dataframe tbody tr th:only-of-type {\n",
       "        vertical-align: middle;\n",
       "    }\n",
       "\n",
       "    .dataframe tbody tr th {\n",
       "        vertical-align: top;\n",
       "    }\n",
       "\n",
       "    .dataframe thead th {\n",
       "        text-align: right;\n",
       "    }\n",
       "</style>\n",
       "<table border=\"1\" class=\"dataframe\">\n",
       "  <thead>\n",
       "    <tr style=\"text-align: right;\">\n",
       "      <th></th>\n",
       "      <th>Unnamed: 0</th>\n",
       "      <th>Type Of Dwelling</th>\n",
       "      <th>General Zone Classification</th>\n",
       "      <th>Linear Feet of Street</th>\n",
       "      <th>Plot size in square feet</th>\n",
       "      <th>Type of road</th>\n",
       "      <th>Alley</th>\n",
       "      <th>LotShape</th>\n",
       "      <th>LandContour</th>\n",
       "      <th>Utilities</th>\n",
       "      <th>...</th>\n",
       "      <th>PoolArea</th>\n",
       "      <th>PoolQC</th>\n",
       "      <th>Fence</th>\n",
       "      <th>MiscFeature</th>\n",
       "      <th>MiscVal</th>\n",
       "      <th>MoSold</th>\n",
       "      <th>YrSold</th>\n",
       "      <th>SaleType</th>\n",
       "      <th>SaleCondition</th>\n",
       "      <th>SalePrice</th>\n",
       "    </tr>\n",
       "  </thead>\n",
       "  <tbody>\n",
       "    <tr>\n",
       "      <th>0</th>\n",
       "      <td>0</td>\n",
       "      <td>2-STORY 1946 &amp; NEWER</td>\n",
       "      <td>Residential Low-Density</td>\n",
       "      <td>65</td>\n",
       "      <td>8450</td>\n",
       "      <td>Paved</td>\n",
       "      <td>NaN</td>\n",
       "      <td>Reg</td>\n",
       "      <td>Lvl</td>\n",
       "      <td>AllPub</td>\n",
       "      <td>...</td>\n",
       "      <td>0</td>\n",
       "      <td>No</td>\n",
       "      <td>No</td>\n",
       "      <td>No</td>\n",
       "      <td>0</td>\n",
       "      <td>Feb</td>\n",
       "      <td>2008</td>\n",
       "      <td>WD</td>\n",
       "      <td>Normal</td>\n",
       "      <td>208500</td>\n",
       "    </tr>\n",
       "    <tr>\n",
       "      <th>1</th>\n",
       "      <td>1</td>\n",
       "      <td>1-STORY 1946 &amp; NEWER ALL STYLES</td>\n",
       "      <td>Residential Low-Density</td>\n",
       "      <td>80</td>\n",
       "      <td>9600</td>\n",
       "      <td>Paved</td>\n",
       "      <td>NaN</td>\n",
       "      <td>Reg</td>\n",
       "      <td>Lvl</td>\n",
       "      <td>AllPub</td>\n",
       "      <td>...</td>\n",
       "      <td>0</td>\n",
       "      <td>No</td>\n",
       "      <td>No</td>\n",
       "      <td>No</td>\n",
       "      <td>0</td>\n",
       "      <td>May</td>\n",
       "      <td>2007</td>\n",
       "      <td>WD</td>\n",
       "      <td>Normal</td>\n",
       "      <td>181500</td>\n",
       "    </tr>\n",
       "  </tbody>\n",
       "</table>\n",
       "<p>2 rows × 81 columns</p>\n",
       "</div>"
      ],
      "text/plain": [
       "   Unnamed: 0                 Type Of Dwelling General Zone Classification  \\\n",
       "0           0             2-STORY 1946 & NEWER     Residential Low-Density   \n",
       "1           1  1-STORY 1946 & NEWER ALL STYLES     Residential Low-Density   \n",
       "\n",
       "   Linear Feet of Street  Plot size in square feet Type of road Alley  \\\n",
       "0                     65                      8450        Paved   NaN   \n",
       "1                     80                      9600        Paved   NaN   \n",
       "\n",
       "  LotShape LandContour Utilities  ... PoolArea PoolQC Fence MiscFeature  \\\n",
       "0      Reg         Lvl    AllPub  ...        0     No    No          No   \n",
       "1      Reg         Lvl    AllPub  ...        0     No    No          No   \n",
       "\n",
       "  MiscVal MoSold YrSold  SaleType  SaleCondition  SalePrice  \n",
       "0       0    Feb   2008        WD         Normal     208500  \n",
       "1       0    May   2007        WD         Normal     181500  \n",
       "\n",
       "[2 rows x 81 columns]"
      ]
     },
     "execution_count": 51,
     "metadata": {},
     "output_type": "execute_result"
    }
   ],
   "source": [
    "house_data.head(2)"
   ]
  },
  {
   "cell_type": "markdown",
   "id": "2b91a69c",
   "metadata": {},
   "source": [
    "## Alley: Type of alley access to property"
   ]
  },
  {
   "cell_type": "markdown",
   "id": "1e51f800",
   "metadata": {},
   "source": [
    "### Grvl = Gravel\n",
    "### Pave = Paved"
   ]
  },
  {
   "cell_type": "code",
   "execution_count": 52,
   "id": "feaee57f",
   "metadata": {},
   "outputs": [],
   "source": [
    "house_data['Alley'] = house_data['Alley'].replace({'Grvl':'Gravel','Pave':'Paved'})"
   ]
  },
  {
   "cell_type": "markdown",
   "id": "12efc692",
   "metadata": {},
   "source": [
    "### NA = No alley access"
   ]
  },
  {
   "cell_type": "code",
   "execution_count": 53,
   "id": "406ba225",
   "metadata": {},
   "outputs": [],
   "source": [
    "house_data['Alley'] = house_data['Alley'].fillna('No Alley Access')"
   ]
  },
  {
   "cell_type": "code",
   "execution_count": 54,
   "id": "5c653645",
   "metadata": {},
   "outputs": [],
   "source": [
    "house_data.rename(columns={'Alley':'Type of Alley'},inplace=True)"
   ]
  },
  {
   "cell_type": "code",
   "execution_count": 55,
   "id": "6ea8feb4",
   "metadata": {},
   "outputs": [
    {
     "data": {
      "text/plain": [
       "Type of Alley\n",
       "No Alley Access    1369\n",
       "Gravel               50\n",
       "Paved                41\n",
       "Name: count, dtype: int64"
      ]
     },
     "execution_count": 55,
     "metadata": {},
     "output_type": "execute_result"
    }
   ],
   "source": [
    "house_data['Type of Alley'].value_counts()"
   ]
  },
  {
   "cell_type": "markdown",
   "id": "d595b1a9",
   "metadata": {},
   "source": [
    "## Unique values of Type of Alley Column"
   ]
  },
  {
   "cell_type": "code",
   "execution_count": 56,
   "id": "8cc93207",
   "metadata": {},
   "outputs": [
    {
     "data": {
      "text/plain": [
       "array(['No Alley Access', 'Gravel', 'Paved'], dtype=object)"
      ]
     },
     "execution_count": 56,
     "metadata": {},
     "output_type": "execute_result"
    }
   ],
   "source": [
    "house_data['Type of Alley'].unique()"
   ]
  },
  {
   "cell_type": "code",
   "execution_count": 57,
   "id": "03cc0c73",
   "metadata": {},
   "outputs": [
    {
     "data": {
      "text/html": [
       "<div>\n",
       "<style scoped>\n",
       "    .dataframe tbody tr th:only-of-type {\n",
       "        vertical-align: middle;\n",
       "    }\n",
       "\n",
       "    .dataframe tbody tr th {\n",
       "        vertical-align: top;\n",
       "    }\n",
       "\n",
       "    .dataframe thead th {\n",
       "        text-align: right;\n",
       "    }\n",
       "</style>\n",
       "<table border=\"1\" class=\"dataframe\">\n",
       "  <thead>\n",
       "    <tr style=\"text-align: right;\">\n",
       "      <th></th>\n",
       "      <th>Unnamed: 0</th>\n",
       "      <th>Type Of Dwelling</th>\n",
       "      <th>General Zone Classification</th>\n",
       "      <th>Linear Feet of Street</th>\n",
       "      <th>Plot size in square feet</th>\n",
       "      <th>Type of road</th>\n",
       "      <th>Type of Alley</th>\n",
       "      <th>LotShape</th>\n",
       "      <th>LandContour</th>\n",
       "      <th>Utilities</th>\n",
       "      <th>...</th>\n",
       "      <th>PoolArea</th>\n",
       "      <th>PoolQC</th>\n",
       "      <th>Fence</th>\n",
       "      <th>MiscFeature</th>\n",
       "      <th>MiscVal</th>\n",
       "      <th>MoSold</th>\n",
       "      <th>YrSold</th>\n",
       "      <th>SaleType</th>\n",
       "      <th>SaleCondition</th>\n",
       "      <th>SalePrice</th>\n",
       "    </tr>\n",
       "  </thead>\n",
       "  <tbody>\n",
       "    <tr>\n",
       "      <th>0</th>\n",
       "      <td>0</td>\n",
       "      <td>2-STORY 1946 &amp; NEWER</td>\n",
       "      <td>Residential Low-Density</td>\n",
       "      <td>65</td>\n",
       "      <td>8450</td>\n",
       "      <td>Paved</td>\n",
       "      <td>No Alley Access</td>\n",
       "      <td>Reg</td>\n",
       "      <td>Lvl</td>\n",
       "      <td>AllPub</td>\n",
       "      <td>...</td>\n",
       "      <td>0</td>\n",
       "      <td>No</td>\n",
       "      <td>No</td>\n",
       "      <td>No</td>\n",
       "      <td>0</td>\n",
       "      <td>Feb</td>\n",
       "      <td>2008</td>\n",
       "      <td>WD</td>\n",
       "      <td>Normal</td>\n",
       "      <td>208500</td>\n",
       "    </tr>\n",
       "    <tr>\n",
       "      <th>1</th>\n",
       "      <td>1</td>\n",
       "      <td>1-STORY 1946 &amp; NEWER ALL STYLES</td>\n",
       "      <td>Residential Low-Density</td>\n",
       "      <td>80</td>\n",
       "      <td>9600</td>\n",
       "      <td>Paved</td>\n",
       "      <td>No Alley Access</td>\n",
       "      <td>Reg</td>\n",
       "      <td>Lvl</td>\n",
       "      <td>AllPub</td>\n",
       "      <td>...</td>\n",
       "      <td>0</td>\n",
       "      <td>No</td>\n",
       "      <td>No</td>\n",
       "      <td>No</td>\n",
       "      <td>0</td>\n",
       "      <td>May</td>\n",
       "      <td>2007</td>\n",
       "      <td>WD</td>\n",
       "      <td>Normal</td>\n",
       "      <td>181500</td>\n",
       "    </tr>\n",
       "  </tbody>\n",
       "</table>\n",
       "<p>2 rows × 81 columns</p>\n",
       "</div>"
      ],
      "text/plain": [
       "   Unnamed: 0                 Type Of Dwelling General Zone Classification  \\\n",
       "0           0             2-STORY 1946 & NEWER     Residential Low-Density   \n",
       "1           1  1-STORY 1946 & NEWER ALL STYLES     Residential Low-Density   \n",
       "\n",
       "   Linear Feet of Street  Plot size in square feet Type of road  \\\n",
       "0                     65                      8450        Paved   \n",
       "1                     80                      9600        Paved   \n",
       "\n",
       "     Type of Alley LotShape LandContour Utilities  ... PoolArea PoolQC Fence  \\\n",
       "0  No Alley Access      Reg         Lvl    AllPub  ...        0     No    No   \n",
       "1  No Alley Access      Reg         Lvl    AllPub  ...        0     No    No   \n",
       "\n",
       "  MiscFeature MiscVal MoSold YrSold  SaleType  SaleCondition  SalePrice  \n",
       "0          No       0    Feb   2008        WD         Normal     208500  \n",
       "1          No       0    May   2007        WD         Normal     181500  \n",
       "\n",
       "[2 rows x 81 columns]"
      ]
     },
     "execution_count": 57,
     "metadata": {},
     "output_type": "execute_result"
    }
   ],
   "source": [
    "house_data.head(2)"
   ]
  },
  {
   "cell_type": "markdown",
   "id": "0bd79aa2",
   "metadata": {},
   "source": [
    "## LotShape: General shape of property\n",
    "### Reg = Regular       \t\n",
    "### IR1\t= Slightly irregular\n",
    "### IR2\t= Moderately Irregular\n",
    "### IR3\t= Irregular"
   ]
  },
  {
   "cell_type": "code",
   "execution_count": 58,
   "id": "f1787b3f",
   "metadata": {},
   "outputs": [],
   "source": [
    "house_data['LotShape'] = house_data['LotShape'].replace({'Reg':'Regular','IR1':'Slightly Irregular','IR2':'Moderately Irregular','IR3':'Irregular'})"
   ]
  },
  {
   "cell_type": "code",
   "execution_count": 59,
   "id": "7d6bd75c",
   "metadata": {},
   "outputs": [],
   "source": [
    "house_data.rename(columns={'LotShape':'Shape of Property'},inplace=True)"
   ]
  },
  {
   "cell_type": "code",
   "execution_count": 60,
   "id": "00fa824b",
   "metadata": {},
   "outputs": [
    {
     "data": {
      "text/plain": [
       "Shape of Property\n",
       "Regular                 925\n",
       "Slightly Irregular      484\n",
       "Moderately Irregular     41\n",
       "Irregular                10\n",
       "Name: count, dtype: int64"
      ]
     },
     "execution_count": 60,
     "metadata": {},
     "output_type": "execute_result"
    }
   ],
   "source": [
    "house_data['Shape of Property'].value_counts()"
   ]
  },
  {
   "cell_type": "markdown",
   "id": "5714b4db",
   "metadata": {},
   "source": [
    "## Unique values of Shape of Property Column"
   ]
  },
  {
   "cell_type": "code",
   "execution_count": 61,
   "id": "69680e73",
   "metadata": {},
   "outputs": [
    {
     "data": {
      "text/plain": [
       "array(['Regular', 'Slightly Irregular', 'Moderately Irregular',\n",
       "       'Irregular'], dtype=object)"
      ]
     },
     "execution_count": 61,
     "metadata": {},
     "output_type": "execute_result"
    }
   ],
   "source": [
    "house_data['Shape of Property'].unique()"
   ]
  },
  {
   "cell_type": "code",
   "execution_count": 62,
   "id": "0261220b",
   "metadata": {},
   "outputs": [
    {
     "data": {
      "text/html": [
       "<div>\n",
       "<style scoped>\n",
       "    .dataframe tbody tr th:only-of-type {\n",
       "        vertical-align: middle;\n",
       "    }\n",
       "\n",
       "    .dataframe tbody tr th {\n",
       "        vertical-align: top;\n",
       "    }\n",
       "\n",
       "    .dataframe thead th {\n",
       "        text-align: right;\n",
       "    }\n",
       "</style>\n",
       "<table border=\"1\" class=\"dataframe\">\n",
       "  <thead>\n",
       "    <tr style=\"text-align: right;\">\n",
       "      <th></th>\n",
       "      <th>Unnamed: 0</th>\n",
       "      <th>Type Of Dwelling</th>\n",
       "      <th>General Zone Classification</th>\n",
       "      <th>Linear Feet of Street</th>\n",
       "      <th>Plot size in square feet</th>\n",
       "      <th>Type of road</th>\n",
       "      <th>Type of Alley</th>\n",
       "      <th>Shape of Property</th>\n",
       "      <th>LandContour</th>\n",
       "      <th>Utilities</th>\n",
       "      <th>...</th>\n",
       "      <th>PoolArea</th>\n",
       "      <th>PoolQC</th>\n",
       "      <th>Fence</th>\n",
       "      <th>MiscFeature</th>\n",
       "      <th>MiscVal</th>\n",
       "      <th>MoSold</th>\n",
       "      <th>YrSold</th>\n",
       "      <th>SaleType</th>\n",
       "      <th>SaleCondition</th>\n",
       "      <th>SalePrice</th>\n",
       "    </tr>\n",
       "  </thead>\n",
       "  <tbody>\n",
       "    <tr>\n",
       "      <th>0</th>\n",
       "      <td>0</td>\n",
       "      <td>2-STORY 1946 &amp; NEWER</td>\n",
       "      <td>Residential Low-Density</td>\n",
       "      <td>65</td>\n",
       "      <td>8450</td>\n",
       "      <td>Paved</td>\n",
       "      <td>No Alley Access</td>\n",
       "      <td>Regular</td>\n",
       "      <td>Lvl</td>\n",
       "      <td>AllPub</td>\n",
       "      <td>...</td>\n",
       "      <td>0</td>\n",
       "      <td>No</td>\n",
       "      <td>No</td>\n",
       "      <td>No</td>\n",
       "      <td>0</td>\n",
       "      <td>Feb</td>\n",
       "      <td>2008</td>\n",
       "      <td>WD</td>\n",
       "      <td>Normal</td>\n",
       "      <td>208500</td>\n",
       "    </tr>\n",
       "    <tr>\n",
       "      <th>1</th>\n",
       "      <td>1</td>\n",
       "      <td>1-STORY 1946 &amp; NEWER ALL STYLES</td>\n",
       "      <td>Residential Low-Density</td>\n",
       "      <td>80</td>\n",
       "      <td>9600</td>\n",
       "      <td>Paved</td>\n",
       "      <td>No Alley Access</td>\n",
       "      <td>Regular</td>\n",
       "      <td>Lvl</td>\n",
       "      <td>AllPub</td>\n",
       "      <td>...</td>\n",
       "      <td>0</td>\n",
       "      <td>No</td>\n",
       "      <td>No</td>\n",
       "      <td>No</td>\n",
       "      <td>0</td>\n",
       "      <td>May</td>\n",
       "      <td>2007</td>\n",
       "      <td>WD</td>\n",
       "      <td>Normal</td>\n",
       "      <td>181500</td>\n",
       "    </tr>\n",
       "  </tbody>\n",
       "</table>\n",
       "<p>2 rows × 81 columns</p>\n",
       "</div>"
      ],
      "text/plain": [
       "   Unnamed: 0                 Type Of Dwelling General Zone Classification  \\\n",
       "0           0             2-STORY 1946 & NEWER     Residential Low-Density   \n",
       "1           1  1-STORY 1946 & NEWER ALL STYLES     Residential Low-Density   \n",
       "\n",
       "   Linear Feet of Street  Plot size in square feet Type of road  \\\n",
       "0                     65                      8450        Paved   \n",
       "1                     80                      9600        Paved   \n",
       "\n",
       "     Type of Alley Shape of Property LandContour Utilities  ... PoolArea  \\\n",
       "0  No Alley Access           Regular         Lvl    AllPub  ...        0   \n",
       "1  No Alley Access           Regular         Lvl    AllPub  ...        0   \n",
       "\n",
       "  PoolQC Fence MiscFeature MiscVal MoSold YrSold  SaleType  SaleCondition  \\\n",
       "0     No    No          No       0    Feb   2008        WD         Normal   \n",
       "1     No    No          No       0    May   2007        WD         Normal   \n",
       "\n",
       "   SalePrice  \n",
       "0     208500  \n",
       "1     181500  \n",
       "\n",
       "[2 rows x 81 columns]"
      ]
     },
     "execution_count": 62,
     "metadata": {},
     "output_type": "execute_result"
    }
   ],
   "source": [
    "house_data[0:2]"
   ]
  },
  {
   "cell_type": "markdown",
   "id": "ff0a1f20",
   "metadata": {},
   "source": [
    "## LandContour: Flatness of the property\n",
    "### Lvl = Near Flat/Level\n",
    "### Bnk = Banked - Quick and significant rise from street grade to building\n",
    "### HLS = Hillside - Significant slope from side to side\n",
    "### Low = Depression"
   ]
  },
  {
   "cell_type": "code",
   "execution_count": 63,
   "id": "d197d57d",
   "metadata": {},
   "outputs": [],
   "source": [
    "house_data['LandContour'] = house_data['LandContour'].replace({'Lvl':'Near Flat Level','Bnk':'Banked','HLS':'Hillside','Low':'Depression'})"
   ]
  },
  {
   "cell_type": "code",
   "execution_count": 64,
   "id": "bacc1b12",
   "metadata": {},
   "outputs": [],
   "source": [
    "house_data.rename(columns={'LandContour':'Flatness of Property'},inplace=True)"
   ]
  },
  {
   "cell_type": "code",
   "execution_count": 65,
   "id": "31bc73dd",
   "metadata": {},
   "outputs": [
    {
     "data": {
      "text/plain": [
       "Flatness of Property\n",
       "Near Flat Level    1311\n",
       "Banked               63\n",
       "Hillside             50\n",
       "Depression           36\n",
       "Name: count, dtype: int64"
      ]
     },
     "execution_count": 65,
     "metadata": {},
     "output_type": "execute_result"
    }
   ],
   "source": [
    "house_data['Flatness of Property'].value_counts()"
   ]
  },
  {
   "cell_type": "code",
   "execution_count": 66,
   "id": "525edceb",
   "metadata": {},
   "outputs": [
    {
     "data": {
      "text/html": [
       "<div>\n",
       "<style scoped>\n",
       "    .dataframe tbody tr th:only-of-type {\n",
       "        vertical-align: middle;\n",
       "    }\n",
       "\n",
       "    .dataframe tbody tr th {\n",
       "        vertical-align: top;\n",
       "    }\n",
       "\n",
       "    .dataframe thead th {\n",
       "        text-align: right;\n",
       "    }\n",
       "</style>\n",
       "<table border=\"1\" class=\"dataframe\">\n",
       "  <thead>\n",
       "    <tr style=\"text-align: right;\">\n",
       "      <th></th>\n",
       "      <th>Unnamed: 0</th>\n",
       "      <th>Type Of Dwelling</th>\n",
       "      <th>General Zone Classification</th>\n",
       "      <th>Linear Feet of Street</th>\n",
       "      <th>Plot size in square feet</th>\n",
       "      <th>Type of road</th>\n",
       "      <th>Type of Alley</th>\n",
       "      <th>Shape of Property</th>\n",
       "      <th>Flatness of Property</th>\n",
       "      <th>Utilities</th>\n",
       "      <th>...</th>\n",
       "      <th>PoolArea</th>\n",
       "      <th>PoolQC</th>\n",
       "      <th>Fence</th>\n",
       "      <th>MiscFeature</th>\n",
       "      <th>MiscVal</th>\n",
       "      <th>MoSold</th>\n",
       "      <th>YrSold</th>\n",
       "      <th>SaleType</th>\n",
       "      <th>SaleCondition</th>\n",
       "      <th>SalePrice</th>\n",
       "    </tr>\n",
       "  </thead>\n",
       "  <tbody>\n",
       "    <tr>\n",
       "      <th>0</th>\n",
       "      <td>0</td>\n",
       "      <td>2-STORY 1946 &amp; NEWER</td>\n",
       "      <td>Residential Low-Density</td>\n",
       "      <td>65</td>\n",
       "      <td>8450</td>\n",
       "      <td>Paved</td>\n",
       "      <td>No Alley Access</td>\n",
       "      <td>Regular</td>\n",
       "      <td>Near Flat Level</td>\n",
       "      <td>AllPub</td>\n",
       "      <td>...</td>\n",
       "      <td>0</td>\n",
       "      <td>No</td>\n",
       "      <td>No</td>\n",
       "      <td>No</td>\n",
       "      <td>0</td>\n",
       "      <td>Feb</td>\n",
       "      <td>2008</td>\n",
       "      <td>WD</td>\n",
       "      <td>Normal</td>\n",
       "      <td>208500</td>\n",
       "    </tr>\n",
       "    <tr>\n",
       "      <th>1</th>\n",
       "      <td>1</td>\n",
       "      <td>1-STORY 1946 &amp; NEWER ALL STYLES</td>\n",
       "      <td>Residential Low-Density</td>\n",
       "      <td>80</td>\n",
       "      <td>9600</td>\n",
       "      <td>Paved</td>\n",
       "      <td>No Alley Access</td>\n",
       "      <td>Regular</td>\n",
       "      <td>Near Flat Level</td>\n",
       "      <td>AllPub</td>\n",
       "      <td>...</td>\n",
       "      <td>0</td>\n",
       "      <td>No</td>\n",
       "      <td>No</td>\n",
       "      <td>No</td>\n",
       "      <td>0</td>\n",
       "      <td>May</td>\n",
       "      <td>2007</td>\n",
       "      <td>WD</td>\n",
       "      <td>Normal</td>\n",
       "      <td>181500</td>\n",
       "    </tr>\n",
       "  </tbody>\n",
       "</table>\n",
       "<p>2 rows × 81 columns</p>\n",
       "</div>"
      ],
      "text/plain": [
       "   Unnamed: 0                 Type Of Dwelling General Zone Classification  \\\n",
       "0           0             2-STORY 1946 & NEWER     Residential Low-Density   \n",
       "1           1  1-STORY 1946 & NEWER ALL STYLES     Residential Low-Density   \n",
       "\n",
       "   Linear Feet of Street  Plot size in square feet Type of road  \\\n",
       "0                     65                      8450        Paved   \n",
       "1                     80                      9600        Paved   \n",
       "\n",
       "     Type of Alley Shape of Property Flatness of Property Utilities  ...  \\\n",
       "0  No Alley Access           Regular      Near Flat Level    AllPub  ...   \n",
       "1  No Alley Access           Regular      Near Flat Level    AllPub  ...   \n",
       "\n",
       "  PoolArea PoolQC Fence MiscFeature MiscVal MoSold YrSold  SaleType  \\\n",
       "0        0     No    No          No       0    Feb   2008        WD   \n",
       "1        0     No    No          No       0    May   2007        WD   \n",
       "\n",
       "   SaleCondition  SalePrice  \n",
       "0         Normal     208500  \n",
       "1         Normal     181500  \n",
       "\n",
       "[2 rows x 81 columns]"
      ]
     },
     "execution_count": 66,
     "metadata": {},
     "output_type": "execute_result"
    }
   ],
   "source": [
    "house_data[0:2]"
   ]
  },
  {
   "cell_type": "markdown",
   "id": "7d2573e3",
   "metadata": {},
   "source": [
    "## Utilities: Type of utilities available\n",
    "### AllPub = All public Utilities (E,G,W,& S)\n",
    "### NoSewr = Electricity, Gas, and Water (Septic Tank)\n",
    "### NoSeWa = Electricity and Gas Only\n",
    "### ELO = Electricity only"
   ]
  },
  {
   "cell_type": "code",
   "execution_count": 67,
   "id": "91f20f12",
   "metadata": {},
   "outputs": [],
   "source": [
    "house_data['Utilities'] = house_data['Utilities'].replace({'AllPub':'All Public Utilities','NoSeWa':'Electricity, Gas, and Water','NoSeWa':'Electricity and Gas Only','ELO':'Electricity only'})"
   ]
  },
  {
   "cell_type": "code",
   "execution_count": 68,
   "id": "3ac01a02",
   "metadata": {},
   "outputs": [],
   "source": [
    "house_data.rename(columns={'Utilities':'Types of Utilities Available'},inplace=True)"
   ]
  },
  {
   "cell_type": "code",
   "execution_count": 69,
   "id": "df2d058b",
   "metadata": {},
   "outputs": [
    {
     "data": {
      "text/plain": [
       "Types of Utilities Available\n",
       "All Public Utilities        1459\n",
       "Electricity and Gas Only       1\n",
       "Name: count, dtype: int64"
      ]
     },
     "execution_count": 69,
     "metadata": {},
     "output_type": "execute_result"
    }
   ],
   "source": [
    "house_data['Types of Utilities Available'].value_counts()"
   ]
  },
  {
   "cell_type": "code",
   "execution_count": 70,
   "id": "02885229",
   "metadata": {},
   "outputs": [
    {
     "data": {
      "text/html": [
       "<div>\n",
       "<style scoped>\n",
       "    .dataframe tbody tr th:only-of-type {\n",
       "        vertical-align: middle;\n",
       "    }\n",
       "\n",
       "    .dataframe tbody tr th {\n",
       "        vertical-align: top;\n",
       "    }\n",
       "\n",
       "    .dataframe thead th {\n",
       "        text-align: right;\n",
       "    }\n",
       "</style>\n",
       "<table border=\"1\" class=\"dataframe\">\n",
       "  <thead>\n",
       "    <tr style=\"text-align: right;\">\n",
       "      <th></th>\n",
       "      <th>Types of Utilities Available</th>\n",
       "      <th>LotConfig</th>\n",
       "      <th>LandSlope</th>\n",
       "      <th>Neighborhood</th>\n",
       "      <th>Condition1</th>\n",
       "      <th>Condition2</th>\n",
       "      <th>BldgType</th>\n",
       "      <th>HouseStyle</th>\n",
       "      <th>OverallQual</th>\n",
       "      <th>OverallCond</th>\n",
       "      <th>...</th>\n",
       "      <th>PoolArea</th>\n",
       "      <th>PoolQC</th>\n",
       "      <th>Fence</th>\n",
       "      <th>MiscFeature</th>\n",
       "      <th>MiscVal</th>\n",
       "      <th>MoSold</th>\n",
       "      <th>YrSold</th>\n",
       "      <th>SaleType</th>\n",
       "      <th>SaleCondition</th>\n",
       "      <th>SalePrice</th>\n",
       "    </tr>\n",
       "  </thead>\n",
       "  <tbody>\n",
       "    <tr>\n",
       "      <th>0</th>\n",
       "      <td>All Public Utilities</td>\n",
       "      <td>Inside</td>\n",
       "      <td>Gtl</td>\n",
       "      <td>CollgCr</td>\n",
       "      <td>Norm</td>\n",
       "      <td>Norm</td>\n",
       "      <td>1Fam</td>\n",
       "      <td>2Story</td>\n",
       "      <td>7</td>\n",
       "      <td>5</td>\n",
       "      <td>...</td>\n",
       "      <td>0</td>\n",
       "      <td>No</td>\n",
       "      <td>No</td>\n",
       "      <td>No</td>\n",
       "      <td>0</td>\n",
       "      <td>Feb</td>\n",
       "      <td>2008</td>\n",
       "      <td>WD</td>\n",
       "      <td>Normal</td>\n",
       "      <td>208500</td>\n",
       "    </tr>\n",
       "    <tr>\n",
       "      <th>1</th>\n",
       "      <td>All Public Utilities</td>\n",
       "      <td>FR2</td>\n",
       "      <td>Gtl</td>\n",
       "      <td>Veenker</td>\n",
       "      <td>Feedr</td>\n",
       "      <td>Norm</td>\n",
       "      <td>1Fam</td>\n",
       "      <td>1Story</td>\n",
       "      <td>6</td>\n",
       "      <td>8</td>\n",
       "      <td>...</td>\n",
       "      <td>0</td>\n",
       "      <td>No</td>\n",
       "      <td>No</td>\n",
       "      <td>No</td>\n",
       "      <td>0</td>\n",
       "      <td>May</td>\n",
       "      <td>2007</td>\n",
       "      <td>WD</td>\n",
       "      <td>Normal</td>\n",
       "      <td>181500</td>\n",
       "    </tr>\n",
       "  </tbody>\n",
       "</table>\n",
       "<p>2 rows × 72 columns</p>\n",
       "</div>"
      ],
      "text/plain": [
       "  Types of Utilities Available LotConfig LandSlope Neighborhood Condition1  \\\n",
       "0         All Public Utilities    Inside       Gtl      CollgCr       Norm   \n",
       "1         All Public Utilities       FR2       Gtl      Veenker      Feedr   \n",
       "\n",
       "  Condition2 BldgType HouseStyle  OverallQual  OverallCond  ...  PoolArea  \\\n",
       "0       Norm     1Fam     2Story            7            5  ...         0   \n",
       "1       Norm     1Fam     1Story            6            8  ...         0   \n",
       "\n",
       "   PoolQC Fence MiscFeature MiscVal MoSold YrSold  SaleType SaleCondition  \\\n",
       "0      No    No          No       0    Feb   2008        WD        Normal   \n",
       "1      No    No          No       0    May   2007        WD        Normal   \n",
       "\n",
       "  SalePrice  \n",
       "0    208500  \n",
       "1    181500  \n",
       "\n",
       "[2 rows x 72 columns]"
      ]
     },
     "execution_count": 70,
     "metadata": {},
     "output_type": "execute_result"
    }
   ],
   "source": [
    "house_data.iloc[0:2,9:]"
   ]
  },
  {
   "cell_type": "markdown",
   "id": "c4c6279d",
   "metadata": {},
   "source": [
    "## LotConfig: Lot configuration\n",
    "### Inside = Inside lot\n",
    "### Corner = Corner lot\n",
    "### CulDSac = Cul-de-sac\n",
    "### FR2 = Frontage on 2 sides of the property\n",
    "### FR3 = Frontage on 3 sides of the property\n"
   ]
  },
  {
   "cell_type": "code",
   "execution_count": 71,
   "id": "36727f03",
   "metadata": {},
   "outputs": [],
   "source": [
    "house_data['LotConfig'] = house_data['LotConfig'].replace({'Inside':'Inside Plot','Corner':'Corner Plot','CulDSac':'Cul-De-Sac','FR2':'Frontage on 2 sides of the property','FR3':'Frontage on 3 sides of the property'})"
   ]
  },
  {
   "cell_type": "code",
   "execution_count": 72,
   "id": "d5c8902f",
   "metadata": {},
   "outputs": [],
   "source": [
    "house_data.rename(columns={'LotConfig':'Plot Configuration'},inplace=True)"
   ]
  },
  {
   "cell_type": "code",
   "execution_count": 73,
   "id": "dfd5a4f5",
   "metadata": {},
   "outputs": [
    {
     "data": {
      "text/plain": [
       "Plot Configuration\n",
       "Inside Plot                            1052\n",
       "Corner Plot                             263\n",
       "Cul-De-Sac                               94\n",
       "Frontage on 2 sides of the property      47\n",
       "Frontage on 3 sides of the property       4\n",
       "Name: count, dtype: int64"
      ]
     },
     "execution_count": 73,
     "metadata": {},
     "output_type": "execute_result"
    }
   ],
   "source": [
    "house_data['Plot Configuration'].value_counts()"
   ]
  },
  {
   "cell_type": "code",
   "execution_count": 74,
   "id": "25c5cc0a",
   "metadata": {},
   "outputs": [
    {
     "data": {
      "text/html": [
       "<div>\n",
       "<style scoped>\n",
       "    .dataframe tbody tr th:only-of-type {\n",
       "        vertical-align: middle;\n",
       "    }\n",
       "\n",
       "    .dataframe tbody tr th {\n",
       "        vertical-align: top;\n",
       "    }\n",
       "\n",
       "    .dataframe thead th {\n",
       "        text-align: right;\n",
       "    }\n",
       "</style>\n",
       "<table border=\"1\" class=\"dataframe\">\n",
       "  <thead>\n",
       "    <tr style=\"text-align: right;\">\n",
       "      <th></th>\n",
       "      <th>Plot Configuration</th>\n",
       "      <th>LandSlope</th>\n",
       "      <th>Neighborhood</th>\n",
       "      <th>Condition1</th>\n",
       "      <th>Condition2</th>\n",
       "      <th>BldgType</th>\n",
       "      <th>HouseStyle</th>\n",
       "      <th>OverallQual</th>\n",
       "      <th>OverallCond</th>\n",
       "      <th>YearBuilt</th>\n",
       "      <th>...</th>\n",
       "      <th>PoolArea</th>\n",
       "      <th>PoolQC</th>\n",
       "      <th>Fence</th>\n",
       "      <th>MiscFeature</th>\n",
       "      <th>MiscVal</th>\n",
       "      <th>MoSold</th>\n",
       "      <th>YrSold</th>\n",
       "      <th>SaleType</th>\n",
       "      <th>SaleCondition</th>\n",
       "      <th>SalePrice</th>\n",
       "    </tr>\n",
       "  </thead>\n",
       "  <tbody>\n",
       "    <tr>\n",
       "      <th>0</th>\n",
       "      <td>Inside Plot</td>\n",
       "      <td>Gtl</td>\n",
       "      <td>CollgCr</td>\n",
       "      <td>Norm</td>\n",
       "      <td>Norm</td>\n",
       "      <td>1Fam</td>\n",
       "      <td>2Story</td>\n",
       "      <td>7</td>\n",
       "      <td>5</td>\n",
       "      <td>2003</td>\n",
       "      <td>...</td>\n",
       "      <td>0</td>\n",
       "      <td>No</td>\n",
       "      <td>No</td>\n",
       "      <td>No</td>\n",
       "      <td>0</td>\n",
       "      <td>Feb</td>\n",
       "      <td>2008</td>\n",
       "      <td>WD</td>\n",
       "      <td>Normal</td>\n",
       "      <td>208500</td>\n",
       "    </tr>\n",
       "    <tr>\n",
       "      <th>1</th>\n",
       "      <td>Frontage on 2 sides of the property</td>\n",
       "      <td>Gtl</td>\n",
       "      <td>Veenker</td>\n",
       "      <td>Feedr</td>\n",
       "      <td>Norm</td>\n",
       "      <td>1Fam</td>\n",
       "      <td>1Story</td>\n",
       "      <td>6</td>\n",
       "      <td>8</td>\n",
       "      <td>1976</td>\n",
       "      <td>...</td>\n",
       "      <td>0</td>\n",
       "      <td>No</td>\n",
       "      <td>No</td>\n",
       "      <td>No</td>\n",
       "      <td>0</td>\n",
       "      <td>May</td>\n",
       "      <td>2007</td>\n",
       "      <td>WD</td>\n",
       "      <td>Normal</td>\n",
       "      <td>181500</td>\n",
       "    </tr>\n",
       "  </tbody>\n",
       "</table>\n",
       "<p>2 rows × 71 columns</p>\n",
       "</div>"
      ],
      "text/plain": [
       "                    Plot Configuration LandSlope Neighborhood Condition1  \\\n",
       "0                          Inside Plot       Gtl      CollgCr       Norm   \n",
       "1  Frontage on 2 sides of the property       Gtl      Veenker      Feedr   \n",
       "\n",
       "  Condition2 BldgType HouseStyle  OverallQual  OverallCond  YearBuilt  ...  \\\n",
       "0       Norm     1Fam     2Story            7            5       2003  ...   \n",
       "1       Norm     1Fam     1Story            6            8       1976  ...   \n",
       "\n",
       "   PoolArea PoolQC Fence MiscFeature MiscVal MoSold  YrSold SaleType  \\\n",
       "0         0     No    No          No       0    Feb    2008       WD   \n",
       "1         0     No    No          No       0    May    2007       WD   \n",
       "\n",
       "  SaleCondition SalePrice  \n",
       "0        Normal    208500  \n",
       "1        Normal    181500  \n",
       "\n",
       "[2 rows x 71 columns]"
      ]
     },
     "execution_count": 74,
     "metadata": {},
     "output_type": "execute_result"
    }
   ],
   "source": [
    "house_data.iloc[0:2,10:]"
   ]
  },
  {
   "cell_type": "markdown",
   "id": "db8dc273",
   "metadata": {},
   "source": [
    "## LandSlope: Slope of property\n",
    "### Gtl = Gentle slope\n",
    "### Mod = Moderate Slope       \t\n",
    "### Sev = Severe Slope"
   ]
  },
  {
   "cell_type": "code",
   "execution_count": 75,
   "id": "16d52dd2",
   "metadata": {},
   "outputs": [],
   "source": [
    "house_data['LandSlope'] = house_data['LandSlope'].replace({'Gtl':'Gentle Slope','Mod':'Moderate Slope','Sev':'Sever Slope'})"
   ]
  },
  {
   "cell_type": "code",
   "execution_count": 76,
   "id": "a9e79dc8",
   "metadata": {},
   "outputs": [],
   "source": [
    "house_data.rename(columns={'LandSlope':'Slope of Property'},inplace=True)"
   ]
  },
  {
   "cell_type": "code",
   "execution_count": 77,
   "id": "025d8617",
   "metadata": {},
   "outputs": [
    {
     "data": {
      "text/plain": [
       "Slope of Property\n",
       "Gentle Slope      1382\n",
       "Moderate Slope      65\n",
       "Sever Slope         13\n",
       "Name: count, dtype: int64"
      ]
     },
     "execution_count": 77,
     "metadata": {},
     "output_type": "execute_result"
    }
   ],
   "source": [
    "house_data['Slope of Property'].value_counts()"
   ]
  },
  {
   "cell_type": "code",
   "execution_count": 78,
   "id": "7e6c8be5",
   "metadata": {},
   "outputs": [
    {
     "data": {
      "text/html": [
       "<div>\n",
       "<style scoped>\n",
       "    .dataframe tbody tr th:only-of-type {\n",
       "        vertical-align: middle;\n",
       "    }\n",
       "\n",
       "    .dataframe tbody tr th {\n",
       "        vertical-align: top;\n",
       "    }\n",
       "\n",
       "    .dataframe thead th {\n",
       "        text-align: right;\n",
       "    }\n",
       "</style>\n",
       "<table border=\"1\" class=\"dataframe\">\n",
       "  <thead>\n",
       "    <tr style=\"text-align: right;\">\n",
       "      <th></th>\n",
       "      <th>Slope of Property</th>\n",
       "      <th>Neighborhood</th>\n",
       "      <th>Condition1</th>\n",
       "      <th>Condition2</th>\n",
       "      <th>BldgType</th>\n",
       "      <th>HouseStyle</th>\n",
       "      <th>OverallQual</th>\n",
       "      <th>OverallCond</th>\n",
       "      <th>YearBuilt</th>\n",
       "      <th>YearRemodAdd</th>\n",
       "      <th>...</th>\n",
       "      <th>PoolArea</th>\n",
       "      <th>PoolQC</th>\n",
       "      <th>Fence</th>\n",
       "      <th>MiscFeature</th>\n",
       "      <th>MiscVal</th>\n",
       "      <th>MoSold</th>\n",
       "      <th>YrSold</th>\n",
       "      <th>SaleType</th>\n",
       "      <th>SaleCondition</th>\n",
       "      <th>SalePrice</th>\n",
       "    </tr>\n",
       "  </thead>\n",
       "  <tbody>\n",
       "    <tr>\n",
       "      <th>0</th>\n",
       "      <td>Gentle Slope</td>\n",
       "      <td>CollgCr</td>\n",
       "      <td>Norm</td>\n",
       "      <td>Norm</td>\n",
       "      <td>1Fam</td>\n",
       "      <td>2Story</td>\n",
       "      <td>7</td>\n",
       "      <td>5</td>\n",
       "      <td>2003</td>\n",
       "      <td>2003</td>\n",
       "      <td>...</td>\n",
       "      <td>0</td>\n",
       "      <td>No</td>\n",
       "      <td>No</td>\n",
       "      <td>No</td>\n",
       "      <td>0</td>\n",
       "      <td>Feb</td>\n",
       "      <td>2008</td>\n",
       "      <td>WD</td>\n",
       "      <td>Normal</td>\n",
       "      <td>208500</td>\n",
       "    </tr>\n",
       "    <tr>\n",
       "      <th>1</th>\n",
       "      <td>Gentle Slope</td>\n",
       "      <td>Veenker</td>\n",
       "      <td>Feedr</td>\n",
       "      <td>Norm</td>\n",
       "      <td>1Fam</td>\n",
       "      <td>1Story</td>\n",
       "      <td>6</td>\n",
       "      <td>8</td>\n",
       "      <td>1976</td>\n",
       "      <td>1976</td>\n",
       "      <td>...</td>\n",
       "      <td>0</td>\n",
       "      <td>No</td>\n",
       "      <td>No</td>\n",
       "      <td>No</td>\n",
       "      <td>0</td>\n",
       "      <td>May</td>\n",
       "      <td>2007</td>\n",
       "      <td>WD</td>\n",
       "      <td>Normal</td>\n",
       "      <td>181500</td>\n",
       "    </tr>\n",
       "  </tbody>\n",
       "</table>\n",
       "<p>2 rows × 70 columns</p>\n",
       "</div>"
      ],
      "text/plain": [
       "  Slope of Property Neighborhood Condition1 Condition2 BldgType HouseStyle  \\\n",
       "0      Gentle Slope      CollgCr       Norm       Norm     1Fam     2Story   \n",
       "1      Gentle Slope      Veenker      Feedr       Norm     1Fam     1Story   \n",
       "\n",
       "   OverallQual  OverallCond  YearBuilt  YearRemodAdd  ... PoolArea PoolQC  \\\n",
       "0            7            5       2003          2003  ...        0     No   \n",
       "1            6            8       1976          1976  ...        0     No   \n",
       "\n",
       "  Fence MiscFeature MiscVal  MoSold YrSold SaleType SaleCondition SalePrice  \n",
       "0    No          No       0     Feb   2008       WD        Normal    208500  \n",
       "1    No          No       0     May   2007       WD        Normal    181500  \n",
       "\n",
       "[2 rows x 70 columns]"
      ]
     },
     "execution_count": 78,
     "metadata": {},
     "output_type": "execute_result"
    }
   ],
   "source": [
    "house_data.iloc[0:2,11:]"
   ]
  },
  {
   "cell_type": "markdown",
   "id": "15cac60e",
   "metadata": {},
   "source": [
    "## Neighborhood: Physical locations within Ames city limits\n",
    "#### Blmngtn = Bloomington Heights\n",
    "#### Blueste = Bluestem\n",
    "#### BrDale = Briardale\n",
    "#### BrkSide = Brookside\n",
    "#### ClearCr = Clear Creek\n",
    "#### CollgCr = College Creek\n",
    "#### Crawfor = Crawford\n",
    "#### Edwards = Edwards\n",
    "#### Gilbert = Gilbert\n",
    "#### IDOTRR = Iowa DOT and Rail Road\n",
    "#### MeadowV = Meadow Village\n",
    "#### Mitchel = Mitchell\n",
    "#### NAmes = North Ames\n",
    "#### NoRidge = Northridge\n",
    "#### NPkVill = Northpark Villa\n",
    "#### NridgHt = Northridge Heights\n",
    "#### NWAmes = Northwest Ames\n",
    "#### OldTown = Old Town\n",
    "#### SWISU = South & West of Iowa State University\n",
    "#### Sawyer = Sawyer\n",
    "#### SawyerW = Sawyer West\n",
    "#### Somerst = Somerset\n",
    "#### StoneBr = Stone Brook\n",
    "#### Timber = Timberland\n",
    "#### Veenker = Veenker"
   ]
  },
  {
   "cell_type": "code",
   "execution_count": 79,
   "id": "84a95075",
   "metadata": {},
   "outputs": [],
   "source": [
    "house_data['Neighborhood'] = house_data['Neighborhood'].replace({'Blmngtn':'Bloomington Heights','Blueste':'Bluestem','BrDale':'Briardale','BrkSide':'Brookside','ClearCr':'Clear Creek','CollgCr':'College Creek','Crawfor':'Crawford','IDOTRR':'Iowa DOT and Rail Road','MeadowV':'Meadow Village','Mitchel':'Mitchell','NAmes':'North Ames','NoRidge':'Northridge','NPkVill':'Northpark Villa','NridgHt':'Northridge Heights','NWAmes':'Northwest Ames','OldTown':'Old Town','SWISU':'South & West of Iowa State University','SawyerW':'Sawyer West','Somerst':'Somerset','StoneBr':'Stone Brook','Timber':'Timberland'})"
   ]
  },
  {
   "cell_type": "code",
   "execution_count": 80,
   "id": "ba85841b",
   "metadata": {},
   "outputs": [],
   "source": [
    "house_data.rename(columns={'Neighborhood':'Locations within Ames City limits'},inplace=True)"
   ]
  },
  {
   "cell_type": "code",
   "execution_count": 81,
   "id": "88873c77",
   "metadata": {},
   "outputs": [
    {
     "data": {
      "text/plain": [
       "Locations within Ames City limits\n",
       "North Ames                               225\n",
       "College Creek                            150\n",
       "Old Town                                 113\n",
       "Edwards                                  100\n",
       "Somerset                                  86\n",
       "Gilbert                                   79\n",
       "Northridge Heights                        77\n",
       "Sawyer                                    74\n",
       "Northwest Ames                            73\n",
       "Sawyer West                               59\n",
       "Brookside                                 58\n",
       "Crawford                                  51\n",
       "Mitchell                                  49\n",
       "Northridge                                41\n",
       "Timberland                                38\n",
       "Iowa DOT and Rail Road                    37\n",
       "Clear Creek                               28\n",
       "Stone Brook                               25\n",
       "South & West of Iowa State University     25\n",
       "Meadow Village                            17\n",
       "Bloomington Heights                       17\n",
       "Briardale                                 16\n",
       "Veenker                                   11\n",
       "Northpark Villa                            9\n",
       "Bluestem                                   2\n",
       "Name: count, dtype: int64"
      ]
     },
     "execution_count": 81,
     "metadata": {},
     "output_type": "execute_result"
    }
   ],
   "source": [
    "house_data['Locations within Ames City limits'].value_counts()"
   ]
  },
  {
   "cell_type": "code",
   "execution_count": 82,
   "id": "2bf2baab",
   "metadata": {},
   "outputs": [
    {
     "data": {
      "text/html": [
       "<div>\n",
       "<style scoped>\n",
       "    .dataframe tbody tr th:only-of-type {\n",
       "        vertical-align: middle;\n",
       "    }\n",
       "\n",
       "    .dataframe tbody tr th {\n",
       "        vertical-align: top;\n",
       "    }\n",
       "\n",
       "    .dataframe thead th {\n",
       "        text-align: right;\n",
       "    }\n",
       "</style>\n",
       "<table border=\"1\" class=\"dataframe\">\n",
       "  <thead>\n",
       "    <tr style=\"text-align: right;\">\n",
       "      <th></th>\n",
       "      <th>Slope of Property</th>\n",
       "      <th>Locations within Ames City limits</th>\n",
       "      <th>Condition1</th>\n",
       "      <th>Condition2</th>\n",
       "      <th>BldgType</th>\n",
       "      <th>HouseStyle</th>\n",
       "      <th>OverallQual</th>\n",
       "      <th>OverallCond</th>\n",
       "      <th>YearBuilt</th>\n",
       "      <th>YearRemodAdd</th>\n",
       "      <th>...</th>\n",
       "      <th>PoolArea</th>\n",
       "      <th>PoolQC</th>\n",
       "      <th>Fence</th>\n",
       "      <th>MiscFeature</th>\n",
       "      <th>MiscVal</th>\n",
       "      <th>MoSold</th>\n",
       "      <th>YrSold</th>\n",
       "      <th>SaleType</th>\n",
       "      <th>SaleCondition</th>\n",
       "      <th>SalePrice</th>\n",
       "    </tr>\n",
       "  </thead>\n",
       "  <tbody>\n",
       "    <tr>\n",
       "      <th>0</th>\n",
       "      <td>Gentle Slope</td>\n",
       "      <td>College Creek</td>\n",
       "      <td>Norm</td>\n",
       "      <td>Norm</td>\n",
       "      <td>1Fam</td>\n",
       "      <td>2Story</td>\n",
       "      <td>7</td>\n",
       "      <td>5</td>\n",
       "      <td>2003</td>\n",
       "      <td>2003</td>\n",
       "      <td>...</td>\n",
       "      <td>0</td>\n",
       "      <td>No</td>\n",
       "      <td>No</td>\n",
       "      <td>No</td>\n",
       "      <td>0</td>\n",
       "      <td>Feb</td>\n",
       "      <td>2008</td>\n",
       "      <td>WD</td>\n",
       "      <td>Normal</td>\n",
       "      <td>208500</td>\n",
       "    </tr>\n",
       "    <tr>\n",
       "      <th>1</th>\n",
       "      <td>Gentle Slope</td>\n",
       "      <td>Veenker</td>\n",
       "      <td>Feedr</td>\n",
       "      <td>Norm</td>\n",
       "      <td>1Fam</td>\n",
       "      <td>1Story</td>\n",
       "      <td>6</td>\n",
       "      <td>8</td>\n",
       "      <td>1976</td>\n",
       "      <td>1976</td>\n",
       "      <td>...</td>\n",
       "      <td>0</td>\n",
       "      <td>No</td>\n",
       "      <td>No</td>\n",
       "      <td>No</td>\n",
       "      <td>0</td>\n",
       "      <td>May</td>\n",
       "      <td>2007</td>\n",
       "      <td>WD</td>\n",
       "      <td>Normal</td>\n",
       "      <td>181500</td>\n",
       "    </tr>\n",
       "    <tr>\n",
       "      <th>2</th>\n",
       "      <td>Gentle Slope</td>\n",
       "      <td>College Creek</td>\n",
       "      <td>Norm</td>\n",
       "      <td>Norm</td>\n",
       "      <td>1Fam</td>\n",
       "      <td>2Story</td>\n",
       "      <td>7</td>\n",
       "      <td>5</td>\n",
       "      <td>2001</td>\n",
       "      <td>2002</td>\n",
       "      <td>...</td>\n",
       "      <td>0</td>\n",
       "      <td>No</td>\n",
       "      <td>No</td>\n",
       "      <td>No</td>\n",
       "      <td>0</td>\n",
       "      <td>Sep</td>\n",
       "      <td>2008</td>\n",
       "      <td>WD</td>\n",
       "      <td>Normal</td>\n",
       "      <td>223500</td>\n",
       "    </tr>\n",
       "    <tr>\n",
       "      <th>3</th>\n",
       "      <td>Gentle Slope</td>\n",
       "      <td>Crawford</td>\n",
       "      <td>Norm</td>\n",
       "      <td>Norm</td>\n",
       "      <td>1Fam</td>\n",
       "      <td>2Story</td>\n",
       "      <td>7</td>\n",
       "      <td>5</td>\n",
       "      <td>1915</td>\n",
       "      <td>1970</td>\n",
       "      <td>...</td>\n",
       "      <td>0</td>\n",
       "      <td>No</td>\n",
       "      <td>No</td>\n",
       "      <td>No</td>\n",
       "      <td>0</td>\n",
       "      <td>Feb</td>\n",
       "      <td>2006</td>\n",
       "      <td>WD</td>\n",
       "      <td>Abnorml</td>\n",
       "      <td>140000</td>\n",
       "    </tr>\n",
       "    <tr>\n",
       "      <th>4</th>\n",
       "      <td>Gentle Slope</td>\n",
       "      <td>Northridge</td>\n",
       "      <td>Norm</td>\n",
       "      <td>Norm</td>\n",
       "      <td>1Fam</td>\n",
       "      <td>2Story</td>\n",
       "      <td>8</td>\n",
       "      <td>5</td>\n",
       "      <td>2000</td>\n",
       "      <td>2000</td>\n",
       "      <td>...</td>\n",
       "      <td>0</td>\n",
       "      <td>No</td>\n",
       "      <td>No</td>\n",
       "      <td>No</td>\n",
       "      <td>0</td>\n",
       "      <td>Dec</td>\n",
       "      <td>2008</td>\n",
       "      <td>WD</td>\n",
       "      <td>Normal</td>\n",
       "      <td>250000</td>\n",
       "    </tr>\n",
       "  </tbody>\n",
       "</table>\n",
       "<p>5 rows × 70 columns</p>\n",
       "</div>"
      ],
      "text/plain": [
       "  Slope of Property Locations within Ames City limits Condition1 Condition2  \\\n",
       "0      Gentle Slope                     College Creek       Norm       Norm   \n",
       "1      Gentle Slope                           Veenker      Feedr       Norm   \n",
       "2      Gentle Slope                     College Creek       Norm       Norm   \n",
       "3      Gentle Slope                          Crawford       Norm       Norm   \n",
       "4      Gentle Slope                        Northridge       Norm       Norm   \n",
       "\n",
       "  BldgType HouseStyle  OverallQual  OverallCond  YearBuilt  YearRemodAdd  ...  \\\n",
       "0     1Fam     2Story            7            5       2003          2003  ...   \n",
       "1     1Fam     1Story            6            8       1976          1976  ...   \n",
       "2     1Fam     2Story            7            5       2001          2002  ...   \n",
       "3     1Fam     2Story            7            5       1915          1970  ...   \n",
       "4     1Fam     2Story            8            5       2000          2000  ...   \n",
       "\n",
       "  PoolArea PoolQC Fence MiscFeature MiscVal  MoSold YrSold SaleType  \\\n",
       "0        0     No    No          No       0     Feb   2008       WD   \n",
       "1        0     No    No          No       0     May   2007       WD   \n",
       "2        0     No    No          No       0     Sep   2008       WD   \n",
       "3        0     No    No          No       0     Feb   2006       WD   \n",
       "4        0     No    No          No       0     Dec   2008       WD   \n",
       "\n",
       "  SaleCondition SalePrice  \n",
       "0        Normal    208500  \n",
       "1        Normal    181500  \n",
       "2        Normal    223500  \n",
       "3       Abnorml    140000  \n",
       "4        Normal    250000  \n",
       "\n",
       "[5 rows x 70 columns]"
      ]
     },
     "execution_count": 82,
     "metadata": {},
     "output_type": "execute_result"
    }
   ],
   "source": [
    "house_data.iloc[0:5,11:]"
   ]
  },
  {
   "cell_type": "markdown",
   "id": "636a8d1d",
   "metadata": {},
   "source": [
    "## Condition 1 and Condition 2: Proximity to various conditions\n",
    "#### Artery = Adjacent to arterial street\n",
    "#### Feedr = Adjacent to feeder street      \t\n",
    "#### Norm = Normal\n",
    "#### RRNn = Within 200' of North-South Railroad\n",
    "#### RRAn = Adjacent to North-South Railroad\n",
    "#### PosN = Near positive off-site feature--park, greenbelt, etc.\n",
    "#### PosA = Adjacent to positive off-site feature\n",
    "#### RRNe = Within 200' of East-West Railroad\n",
    "#### RRAe = Adjacent to East-West Railroad"
   ]
  },
  {
   "cell_type": "code",
   "execution_count": 83,
   "id": "724e3449",
   "metadata": {},
   "outputs": [],
   "source": [
    "house_data['Condition1'] = house_data['Condition1'].replace({'Artery':'Adjacent to arterial street','Feedr':'Adjacent to feeder street','Norm':'Normal','RRNn':\"Within 200' of North-South Railroad\",'RRAn':'Adjacent to North-South Railroad','PosN':'Near positive off-site feature--park, greenbelt, etc','PosA':'Adjacent to positive off-site feature',\"RRNe\":\"Within 200' of East-West Railroad\",'RRAe':'Adjacent to East-West Railroad'})"
   ]
  },
  {
   "cell_type": "code",
   "execution_count": 84,
   "id": "3516b5a9",
   "metadata": {},
   "outputs": [],
   "source": [
    "house_data['Condition2'] = house_data['Condition2'].replace({'Artery':'Adjacent to arterial street','Feedr':'Adjacent to feeder street','Norm':'Normal','RRNn':\"Within 200' of North-South Railroad\",'RRAn':'Adjacent to North-South Railroad','PosN':'Near positive off-site feature--park, greenbelt, etc','PosA':'Adjacent to positive off-site feature',\"RRNe\":\"Within 200' of East-West Railroad\",'RRAe':'Adjacent to East-West Railroad'})"
   ]
  },
  {
   "cell_type": "markdown",
   "id": "90b4993f",
   "metadata": {},
   "source": [
    "## Make function to do Feature engineering to make one column of two columns"
   ]
  },
  {
   "cell_type": "code",
   "execution_count": 85,
   "id": "b6c6696f",
   "metadata": {},
   "outputs": [],
   "source": [
    "def column_add(x,y):\n",
    "    if x != y:\n",
    "        return (x + ' & ' + y)\n",
    "    else:\n",
    "        return x"
   ]
  },
  {
   "cell_type": "code",
   "execution_count": 86,
   "id": "6dee3215",
   "metadata": {},
   "outputs": [],
   "source": [
    "house_data['Condition1'] = house_data.apply(lambda a: column_add(a['Condition1'],a['Condition2']),axis=1)"
   ]
  },
  {
   "cell_type": "code",
   "execution_count": 87,
   "id": "2e9df7d8",
   "metadata": {},
   "outputs": [
    {
     "data": {
      "text/html": [
       "<div>\n",
       "<style scoped>\n",
       "    .dataframe tbody tr th:only-of-type {\n",
       "        vertical-align: middle;\n",
       "    }\n",
       "\n",
       "    .dataframe tbody tr th {\n",
       "        vertical-align: top;\n",
       "    }\n",
       "\n",
       "    .dataframe thead th {\n",
       "        text-align: right;\n",
       "    }\n",
       "</style>\n",
       "<table border=\"1\" class=\"dataframe\">\n",
       "  <thead>\n",
       "    <tr style=\"text-align: right;\">\n",
       "      <th></th>\n",
       "      <th>Unnamed: 0</th>\n",
       "      <th>Type Of Dwelling</th>\n",
       "      <th>General Zone Classification</th>\n",
       "      <th>Linear Feet of Street</th>\n",
       "      <th>Plot size in square feet</th>\n",
       "      <th>Type of road</th>\n",
       "      <th>Type of Alley</th>\n",
       "      <th>Shape of Property</th>\n",
       "      <th>Flatness of Property</th>\n",
       "      <th>Types of Utilities Available</th>\n",
       "      <th>...</th>\n",
       "      <th>PoolArea</th>\n",
       "      <th>PoolQC</th>\n",
       "      <th>Fence</th>\n",
       "      <th>MiscFeature</th>\n",
       "      <th>MiscVal</th>\n",
       "      <th>MoSold</th>\n",
       "      <th>YrSold</th>\n",
       "      <th>SaleType</th>\n",
       "      <th>SaleCondition</th>\n",
       "      <th>SalePrice</th>\n",
       "    </tr>\n",
       "  </thead>\n",
       "  <tbody>\n",
       "    <tr>\n",
       "      <th>0</th>\n",
       "      <td>0</td>\n",
       "      <td>2-STORY 1946 &amp; NEWER</td>\n",
       "      <td>Residential Low-Density</td>\n",
       "      <td>65</td>\n",
       "      <td>8450</td>\n",
       "      <td>Paved</td>\n",
       "      <td>No Alley Access</td>\n",
       "      <td>Regular</td>\n",
       "      <td>Near Flat Level</td>\n",
       "      <td>All Public Utilities</td>\n",
       "      <td>...</td>\n",
       "      <td>0</td>\n",
       "      <td>No</td>\n",
       "      <td>No</td>\n",
       "      <td>No</td>\n",
       "      <td>0</td>\n",
       "      <td>Feb</td>\n",
       "      <td>2008</td>\n",
       "      <td>WD</td>\n",
       "      <td>Normal</td>\n",
       "      <td>208500</td>\n",
       "    </tr>\n",
       "    <tr>\n",
       "      <th>1</th>\n",
       "      <td>1</td>\n",
       "      <td>1-STORY 1946 &amp; NEWER ALL STYLES</td>\n",
       "      <td>Residential Low-Density</td>\n",
       "      <td>80</td>\n",
       "      <td>9600</td>\n",
       "      <td>Paved</td>\n",
       "      <td>No Alley Access</td>\n",
       "      <td>Regular</td>\n",
       "      <td>Near Flat Level</td>\n",
       "      <td>All Public Utilities</td>\n",
       "      <td>...</td>\n",
       "      <td>0</td>\n",
       "      <td>No</td>\n",
       "      <td>No</td>\n",
       "      <td>No</td>\n",
       "      <td>0</td>\n",
       "      <td>May</td>\n",
       "      <td>2007</td>\n",
       "      <td>WD</td>\n",
       "      <td>Normal</td>\n",
       "      <td>181500</td>\n",
       "    </tr>\n",
       "    <tr>\n",
       "      <th>2</th>\n",
       "      <td>2</td>\n",
       "      <td>2-STORY 1946 &amp; NEWER</td>\n",
       "      <td>Residential Low-Density</td>\n",
       "      <td>68</td>\n",
       "      <td>11250</td>\n",
       "      <td>Paved</td>\n",
       "      <td>No Alley Access</td>\n",
       "      <td>Slightly Irregular</td>\n",
       "      <td>Near Flat Level</td>\n",
       "      <td>All Public Utilities</td>\n",
       "      <td>...</td>\n",
       "      <td>0</td>\n",
       "      <td>No</td>\n",
       "      <td>No</td>\n",
       "      <td>No</td>\n",
       "      <td>0</td>\n",
       "      <td>Sep</td>\n",
       "      <td>2008</td>\n",
       "      <td>WD</td>\n",
       "      <td>Normal</td>\n",
       "      <td>223500</td>\n",
       "    </tr>\n",
       "    <tr>\n",
       "      <th>3</th>\n",
       "      <td>3</td>\n",
       "      <td>2-STORY 1945 &amp; OLDER</td>\n",
       "      <td>Residential Low-Density</td>\n",
       "      <td>60</td>\n",
       "      <td>9550</td>\n",
       "      <td>Paved</td>\n",
       "      <td>No Alley Access</td>\n",
       "      <td>Slightly Irregular</td>\n",
       "      <td>Near Flat Level</td>\n",
       "      <td>All Public Utilities</td>\n",
       "      <td>...</td>\n",
       "      <td>0</td>\n",
       "      <td>No</td>\n",
       "      <td>No</td>\n",
       "      <td>No</td>\n",
       "      <td>0</td>\n",
       "      <td>Feb</td>\n",
       "      <td>2006</td>\n",
       "      <td>WD</td>\n",
       "      <td>Abnorml</td>\n",
       "      <td>140000</td>\n",
       "    </tr>\n",
       "    <tr>\n",
       "      <th>4</th>\n",
       "      <td>4</td>\n",
       "      <td>2-STORY 1946 &amp; NEWER</td>\n",
       "      <td>Residential Low-Density</td>\n",
       "      <td>84</td>\n",
       "      <td>14260</td>\n",
       "      <td>Paved</td>\n",
       "      <td>No Alley Access</td>\n",
       "      <td>Slightly Irregular</td>\n",
       "      <td>Near Flat Level</td>\n",
       "      <td>All Public Utilities</td>\n",
       "      <td>...</td>\n",
       "      <td>0</td>\n",
       "      <td>No</td>\n",
       "      <td>No</td>\n",
       "      <td>No</td>\n",
       "      <td>0</td>\n",
       "      <td>Dec</td>\n",
       "      <td>2008</td>\n",
       "      <td>WD</td>\n",
       "      <td>Normal</td>\n",
       "      <td>250000</td>\n",
       "    </tr>\n",
       "  </tbody>\n",
       "</table>\n",
       "<p>5 rows × 81 columns</p>\n",
       "</div>"
      ],
      "text/plain": [
       "   Unnamed: 0                 Type Of Dwelling General Zone Classification  \\\n",
       "0           0             2-STORY 1946 & NEWER     Residential Low-Density   \n",
       "1           1  1-STORY 1946 & NEWER ALL STYLES     Residential Low-Density   \n",
       "2           2             2-STORY 1946 & NEWER     Residential Low-Density   \n",
       "3           3             2-STORY 1945 & OLDER     Residential Low-Density   \n",
       "4           4             2-STORY 1946 & NEWER     Residential Low-Density   \n",
       "\n",
       "   Linear Feet of Street  Plot size in square feet Type of road  \\\n",
       "0                     65                      8450        Paved   \n",
       "1                     80                      9600        Paved   \n",
       "2                     68                     11250        Paved   \n",
       "3                     60                      9550        Paved   \n",
       "4                     84                     14260        Paved   \n",
       "\n",
       "     Type of Alley   Shape of Property Flatness of Property  \\\n",
       "0  No Alley Access             Regular      Near Flat Level   \n",
       "1  No Alley Access             Regular      Near Flat Level   \n",
       "2  No Alley Access  Slightly Irregular      Near Flat Level   \n",
       "3  No Alley Access  Slightly Irregular      Near Flat Level   \n",
       "4  No Alley Access  Slightly Irregular      Near Flat Level   \n",
       "\n",
       "  Types of Utilities Available  ... PoolArea PoolQC Fence MiscFeature MiscVal  \\\n",
       "0         All Public Utilities  ...        0     No    No          No       0   \n",
       "1         All Public Utilities  ...        0     No    No          No       0   \n",
       "2         All Public Utilities  ...        0     No    No          No       0   \n",
       "3         All Public Utilities  ...        0     No    No          No       0   \n",
       "4         All Public Utilities  ...        0     No    No          No       0   \n",
       "\n",
       "  MoSold YrSold  SaleType  SaleCondition  SalePrice  \n",
       "0    Feb   2008        WD         Normal     208500  \n",
       "1    May   2007        WD         Normal     181500  \n",
       "2    Sep   2008        WD         Normal     223500  \n",
       "3    Feb   2006        WD        Abnorml     140000  \n",
       "4    Dec   2008        WD         Normal     250000  \n",
       "\n",
       "[5 rows x 81 columns]"
      ]
     },
     "execution_count": 87,
     "metadata": {},
     "output_type": "execute_result"
    }
   ],
   "source": [
    "house_data.head()"
   ]
  },
  {
   "cell_type": "markdown",
   "id": "9e070b26",
   "metadata": {},
   "source": [
    "### Drop Condition2 column as it is not required now and drop Unnammed column"
   ]
  },
  {
   "cell_type": "code",
   "execution_count": 88,
   "id": "989e3683",
   "metadata": {},
   "outputs": [],
   "source": [
    "house_data.drop(['Unnamed: 0','Condition2'],axis = 1,inplace = True)"
   ]
  },
  {
   "cell_type": "code",
   "execution_count": 89,
   "id": "41b8dfcc",
   "metadata": {},
   "outputs": [
    {
     "data": {
      "text/plain": [
       "(1460, 79)"
      ]
     },
     "execution_count": 89,
     "metadata": {},
     "output_type": "execute_result"
    }
   ],
   "source": [
    "house_data.shape"
   ]
  },
  {
   "cell_type": "code",
   "execution_count": 90,
   "id": "0df20c1a",
   "metadata": {},
   "outputs": [],
   "source": [
    "house_data.rename(columns={'Condition1':'Proximity to various conditions'},inplace=True)"
   ]
  },
  {
   "cell_type": "code",
   "execution_count": 91,
   "id": "949cd2eb",
   "metadata": {},
   "outputs": [
    {
     "data": {
      "text/html": [
       "<div>\n",
       "<style scoped>\n",
       "    .dataframe tbody tr th:only-of-type {\n",
       "        vertical-align: middle;\n",
       "    }\n",
       "\n",
       "    .dataframe tbody tr th {\n",
       "        vertical-align: top;\n",
       "    }\n",
       "\n",
       "    .dataframe thead th {\n",
       "        text-align: right;\n",
       "    }\n",
       "</style>\n",
       "<table border=\"1\" class=\"dataframe\">\n",
       "  <thead>\n",
       "    <tr style=\"text-align: right;\">\n",
       "      <th></th>\n",
       "      <th>Type Of Dwelling</th>\n",
       "      <th>General Zone Classification</th>\n",
       "      <th>Linear Feet of Street</th>\n",
       "      <th>Plot size in square feet</th>\n",
       "      <th>Type of road</th>\n",
       "      <th>Type of Alley</th>\n",
       "      <th>Shape of Property</th>\n",
       "      <th>Flatness of Property</th>\n",
       "      <th>Types of Utilities Available</th>\n",
       "      <th>Plot Configuration</th>\n",
       "      <th>Slope of Property</th>\n",
       "      <th>Locations within Ames City limits</th>\n",
       "      <th>Proximity to various conditions</th>\n",
       "      <th>BldgType</th>\n",
       "      <th>HouseStyle</th>\n",
       "    </tr>\n",
       "  </thead>\n",
       "  <tbody>\n",
       "    <tr>\n",
       "      <th>0</th>\n",
       "      <td>2-STORY 1946 &amp; NEWER</td>\n",
       "      <td>Residential Low-Density</td>\n",
       "      <td>65</td>\n",
       "      <td>8450</td>\n",
       "      <td>Paved</td>\n",
       "      <td>No Alley Access</td>\n",
       "      <td>Regular</td>\n",
       "      <td>Near Flat Level</td>\n",
       "      <td>All Public Utilities</td>\n",
       "      <td>Inside Plot</td>\n",
       "      <td>Gentle Slope</td>\n",
       "      <td>College Creek</td>\n",
       "      <td>Normal</td>\n",
       "      <td>1Fam</td>\n",
       "      <td>2Story</td>\n",
       "    </tr>\n",
       "    <tr>\n",
       "      <th>1</th>\n",
       "      <td>1-STORY 1946 &amp; NEWER ALL STYLES</td>\n",
       "      <td>Residential Low-Density</td>\n",
       "      <td>80</td>\n",
       "      <td>9600</td>\n",
       "      <td>Paved</td>\n",
       "      <td>No Alley Access</td>\n",
       "      <td>Regular</td>\n",
       "      <td>Near Flat Level</td>\n",
       "      <td>All Public Utilities</td>\n",
       "      <td>Frontage on 2 sides of the property</td>\n",
       "      <td>Gentle Slope</td>\n",
       "      <td>Veenker</td>\n",
       "      <td>Adjacent to feeder street &amp; Normal</td>\n",
       "      <td>1Fam</td>\n",
       "      <td>1Story</td>\n",
       "    </tr>\n",
       "  </tbody>\n",
       "</table>\n",
       "</div>"
      ],
      "text/plain": [
       "                  Type Of Dwelling General Zone Classification  \\\n",
       "0             2-STORY 1946 & NEWER     Residential Low-Density   \n",
       "1  1-STORY 1946 & NEWER ALL STYLES     Residential Low-Density   \n",
       "\n",
       "   Linear Feet of Street  Plot size in square feet Type of road  \\\n",
       "0                     65                      8450        Paved   \n",
       "1                     80                      9600        Paved   \n",
       "\n",
       "     Type of Alley Shape of Property Flatness of Property  \\\n",
       "0  No Alley Access           Regular      Near Flat Level   \n",
       "1  No Alley Access           Regular      Near Flat Level   \n",
       "\n",
       "  Types of Utilities Available                   Plot Configuration  \\\n",
       "0         All Public Utilities                          Inside Plot   \n",
       "1         All Public Utilities  Frontage on 2 sides of the property   \n",
       "\n",
       "  Slope of Property Locations within Ames City limits  \\\n",
       "0      Gentle Slope                     College Creek   \n",
       "1      Gentle Slope                           Veenker   \n",
       "\n",
       "      Proximity to various conditions BldgType HouseStyle  \n",
       "0                              Normal     1Fam     2Story  \n",
       "1  Adjacent to feeder street & Normal     1Fam     1Story  "
      ]
     },
     "execution_count": 91,
     "metadata": {},
     "output_type": "execute_result"
    }
   ],
   "source": [
    "house_data.iloc[0:2,0:15]"
   ]
  },
  {
   "cell_type": "markdown",
   "id": "fab7bfae",
   "metadata": {},
   "source": [
    "## Unique values"
   ]
  },
  {
   "cell_type": "code",
   "execution_count": 92,
   "id": "b0993fde",
   "metadata": {},
   "outputs": [
    {
     "data": {
      "text/plain": [
       "array(['Normal', 'Adjacent to feeder street & Normal',\n",
       "       'Near positive off-site feature--park, greenbelt, etc & Normal',\n",
       "       'Adjacent to arterial street & Normal',\n",
       "       'Adjacent to arterial street',\n",
       "       'Adjacent to East-West Railroad & Normal',\n",
       "       \"Adjacent to feeder street & Within 200' of North-South Railroad\",\n",
       "       \"Within 200' of North-South Railroad & Normal\",\n",
       "       'Adjacent to North-South Railroad & Adjacent to feeder street',\n",
       "       'Adjacent to positive off-site feature & Normal',\n",
       "       'Adjacent to feeder street',\n",
       "       'Adjacent to North-South Railroad & Normal',\n",
       "       \"Within 200' of East-West Railroad & Normal\",\n",
       "       'Near positive off-site feature--park, greenbelt, etc',\n",
       "       \"Within 200' of North-South Railroad & Adjacent to feeder street\",\n",
       "       'Adjacent to arterial street & Adjacent to positive off-site feature',\n",
       "       'Adjacent to feeder street & Adjacent to North-South Railroad',\n",
       "       'Adjacent to feeder street & Adjacent to East-West Railroad'],\n",
       "      dtype=object)"
      ]
     },
     "execution_count": 92,
     "metadata": {},
     "output_type": "execute_result"
    }
   ],
   "source": [
    "house_data['Proximity to various conditions'].unique()"
   ]
  },
  {
   "cell_type": "markdown",
   "id": "256d9ba2",
   "metadata": {},
   "source": [
    "## Drop both columns BldgType and HouseStyle as these are duplicate of MSSubClass column "
   ]
  },
  {
   "cell_type": "code",
   "execution_count": 93,
   "id": "ce5bb866",
   "metadata": {},
   "outputs": [],
   "source": [
    "house_data.drop(['BldgType','HouseStyle'],axis = 1,inplace=True)"
   ]
  },
  {
   "cell_type": "code",
   "execution_count": 94,
   "id": "73c8cb50",
   "metadata": {},
   "outputs": [
    {
     "data": {
      "text/plain": [
       "(1460, 77)"
      ]
     },
     "execution_count": 94,
     "metadata": {},
     "output_type": "execute_result"
    }
   ],
   "source": [
    "house_data.shape"
   ]
  },
  {
   "cell_type": "code",
   "execution_count": 95,
   "id": "ba10db10",
   "metadata": {},
   "outputs": [
    {
     "data": {
      "text/html": [
       "<div>\n",
       "<style scoped>\n",
       "    .dataframe tbody tr th:only-of-type {\n",
       "        vertical-align: middle;\n",
       "    }\n",
       "\n",
       "    .dataframe tbody tr th {\n",
       "        vertical-align: top;\n",
       "    }\n",
       "\n",
       "    .dataframe thead th {\n",
       "        text-align: right;\n",
       "    }\n",
       "</style>\n",
       "<table border=\"1\" class=\"dataframe\">\n",
       "  <thead>\n",
       "    <tr style=\"text-align: right;\">\n",
       "      <th></th>\n",
       "      <th>Type Of Dwelling</th>\n",
       "      <th>General Zone Classification</th>\n",
       "      <th>Linear Feet of Street</th>\n",
       "      <th>Plot size in square feet</th>\n",
       "      <th>Type of road</th>\n",
       "      <th>Type of Alley</th>\n",
       "      <th>Shape of Property</th>\n",
       "      <th>Flatness of Property</th>\n",
       "      <th>Types of Utilities Available</th>\n",
       "      <th>Plot Configuration</th>\n",
       "      <th>Slope of Property</th>\n",
       "      <th>Locations within Ames City limits</th>\n",
       "      <th>Proximity to various conditions</th>\n",
       "      <th>OverallQual</th>\n",
       "      <th>OverallCond</th>\n",
       "    </tr>\n",
       "  </thead>\n",
       "  <tbody>\n",
       "    <tr>\n",
       "      <th>0</th>\n",
       "      <td>2-STORY 1946 &amp; NEWER</td>\n",
       "      <td>Residential Low-Density</td>\n",
       "      <td>65</td>\n",
       "      <td>8450</td>\n",
       "      <td>Paved</td>\n",
       "      <td>No Alley Access</td>\n",
       "      <td>Regular</td>\n",
       "      <td>Near Flat Level</td>\n",
       "      <td>All Public Utilities</td>\n",
       "      <td>Inside Plot</td>\n",
       "      <td>Gentle Slope</td>\n",
       "      <td>College Creek</td>\n",
       "      <td>Normal</td>\n",
       "      <td>7</td>\n",
       "      <td>5</td>\n",
       "    </tr>\n",
       "    <tr>\n",
       "      <th>1</th>\n",
       "      <td>1-STORY 1946 &amp; NEWER ALL STYLES</td>\n",
       "      <td>Residential Low-Density</td>\n",
       "      <td>80</td>\n",
       "      <td>9600</td>\n",
       "      <td>Paved</td>\n",
       "      <td>No Alley Access</td>\n",
       "      <td>Regular</td>\n",
       "      <td>Near Flat Level</td>\n",
       "      <td>All Public Utilities</td>\n",
       "      <td>Frontage on 2 sides of the property</td>\n",
       "      <td>Gentle Slope</td>\n",
       "      <td>Veenker</td>\n",
       "      <td>Adjacent to feeder street &amp; Normal</td>\n",
       "      <td>6</td>\n",
       "      <td>8</td>\n",
       "    </tr>\n",
       "  </tbody>\n",
       "</table>\n",
       "</div>"
      ],
      "text/plain": [
       "                  Type Of Dwelling General Zone Classification  \\\n",
       "0             2-STORY 1946 & NEWER     Residential Low-Density   \n",
       "1  1-STORY 1946 & NEWER ALL STYLES     Residential Low-Density   \n",
       "\n",
       "   Linear Feet of Street  Plot size in square feet Type of road  \\\n",
       "0                     65                      8450        Paved   \n",
       "1                     80                      9600        Paved   \n",
       "\n",
       "     Type of Alley Shape of Property Flatness of Property  \\\n",
       "0  No Alley Access           Regular      Near Flat Level   \n",
       "1  No Alley Access           Regular      Near Flat Level   \n",
       "\n",
       "  Types of Utilities Available                   Plot Configuration  \\\n",
       "0         All Public Utilities                          Inside Plot   \n",
       "1         All Public Utilities  Frontage on 2 sides of the property   \n",
       "\n",
       "  Slope of Property Locations within Ames City limits  \\\n",
       "0      Gentle Slope                     College Creek   \n",
       "1      Gentle Slope                           Veenker   \n",
       "\n",
       "      Proximity to various conditions  OverallQual  OverallCond  \n",
       "0                              Normal            7            5  \n",
       "1  Adjacent to feeder street & Normal            6            8  "
      ]
     },
     "execution_count": 95,
     "metadata": {},
     "output_type": "execute_result"
    }
   ],
   "source": [
    "house_data.iloc[0:2,0:15]"
   ]
  },
  {
   "cell_type": "markdown",
   "id": "ddba2543",
   "metadata": {},
   "source": [
    "## OverallQual: Rates the overall material and finish of the house\n",
    "### 10 = Very Excellent\n",
    "### 9 = Excellent\n",
    "### 8 = Very Good\n",
    "### 7 = Good\n",
    "### 6 = Above Average\n",
    "### 5 = Average\n",
    "### 4 = Below Average\n",
    "### 3 = Fair\n",
    "### 2 = Poor\n",
    "### 1 = Very Poor"
   ]
  },
  {
   "cell_type": "code",
   "execution_count": 96,
   "id": "e357afa8",
   "metadata": {},
   "outputs": [],
   "source": [
    "house_data['OverallQual'] = house_data['OverallQual'].replace({10:'Very Excellent',9:'Excellent',8:'Very Good',7:'Good',6:'Above Average',5:'Average',4:'Below Average',3:'Fair',2:'Poor',1:'Very Poor'})"
   ]
  },
  {
   "cell_type": "code",
   "execution_count": 97,
   "id": "e7495ad1",
   "metadata": {},
   "outputs": [],
   "source": [
    "house_data.rename(columns={'OverallQual':'Overall Rating(Material & Finishing)'},inplace=True)"
   ]
  },
  {
   "cell_type": "code",
   "execution_count": 98,
   "id": "03ec7487",
   "metadata": {},
   "outputs": [
    {
     "data": {
      "text/html": [
       "<div>\n",
       "<style scoped>\n",
       "    .dataframe tbody tr th:only-of-type {\n",
       "        vertical-align: middle;\n",
       "    }\n",
       "\n",
       "    .dataframe tbody tr th {\n",
       "        vertical-align: top;\n",
       "    }\n",
       "\n",
       "    .dataframe thead th {\n",
       "        text-align: right;\n",
       "    }\n",
       "</style>\n",
       "<table border=\"1\" class=\"dataframe\">\n",
       "  <thead>\n",
       "    <tr style=\"text-align: right;\">\n",
       "      <th></th>\n",
       "      <th>Slope of Property</th>\n",
       "      <th>Locations within Ames City limits</th>\n",
       "      <th>Proximity to various conditions</th>\n",
       "      <th>Overall Rating(Material &amp; Finishing)</th>\n",
       "      <th>OverallCond</th>\n",
       "      <th>YearBuilt</th>\n",
       "      <th>YearRemodAdd</th>\n",
       "      <th>RoofStyle</th>\n",
       "      <th>RoofMatl</th>\n",
       "      <th>Exterior1st</th>\n",
       "    </tr>\n",
       "  </thead>\n",
       "  <tbody>\n",
       "    <tr>\n",
       "      <th>0</th>\n",
       "      <td>Gentle Slope</td>\n",
       "      <td>College Creek</td>\n",
       "      <td>Normal</td>\n",
       "      <td>Good</td>\n",
       "      <td>5</td>\n",
       "      <td>2003</td>\n",
       "      <td>2003</td>\n",
       "      <td>Gable</td>\n",
       "      <td>CompShg</td>\n",
       "      <td>VinylSd</td>\n",
       "    </tr>\n",
       "    <tr>\n",
       "      <th>1</th>\n",
       "      <td>Gentle Slope</td>\n",
       "      <td>Veenker</td>\n",
       "      <td>Adjacent to feeder street &amp; Normal</td>\n",
       "      <td>Above Average</td>\n",
       "      <td>8</td>\n",
       "      <td>1976</td>\n",
       "      <td>1976</td>\n",
       "      <td>Gable</td>\n",
       "      <td>CompShg</td>\n",
       "      <td>MetalSd</td>\n",
       "    </tr>\n",
       "    <tr>\n",
       "      <th>2</th>\n",
       "      <td>Gentle Slope</td>\n",
       "      <td>College Creek</td>\n",
       "      <td>Normal</td>\n",
       "      <td>Good</td>\n",
       "      <td>5</td>\n",
       "      <td>2001</td>\n",
       "      <td>2002</td>\n",
       "      <td>Gable</td>\n",
       "      <td>CompShg</td>\n",
       "      <td>VinylSd</td>\n",
       "    </tr>\n",
       "    <tr>\n",
       "      <th>3</th>\n",
       "      <td>Gentle Slope</td>\n",
       "      <td>Crawford</td>\n",
       "      <td>Normal</td>\n",
       "      <td>Good</td>\n",
       "      <td>5</td>\n",
       "      <td>1915</td>\n",
       "      <td>1970</td>\n",
       "      <td>Gable</td>\n",
       "      <td>CompShg</td>\n",
       "      <td>Wd Sdng</td>\n",
       "    </tr>\n",
       "  </tbody>\n",
       "</table>\n",
       "</div>"
      ],
      "text/plain": [
       "  Slope of Property Locations within Ames City limits  \\\n",
       "0      Gentle Slope                     College Creek   \n",
       "1      Gentle Slope                           Veenker   \n",
       "2      Gentle Slope                     College Creek   \n",
       "3      Gentle Slope                          Crawford   \n",
       "\n",
       "      Proximity to various conditions Overall Rating(Material & Finishing)  \\\n",
       "0                              Normal                                 Good   \n",
       "1  Adjacent to feeder street & Normal                        Above Average   \n",
       "2                              Normal                                 Good   \n",
       "3                              Normal                                 Good   \n",
       "\n",
       "   OverallCond  YearBuilt  YearRemodAdd RoofStyle RoofMatl Exterior1st  \n",
       "0            5       2003          2003     Gable  CompShg     VinylSd  \n",
       "1            8       1976          1976     Gable  CompShg     MetalSd  \n",
       "2            5       2001          2002     Gable  CompShg     VinylSd  \n",
       "3            5       1915          1970     Gable  CompShg     Wd Sdng  "
      ]
     },
     "execution_count": 98,
     "metadata": {},
     "output_type": "execute_result"
    }
   ],
   "source": [
    "house_data.iloc[0:4,10:20]"
   ]
  },
  {
   "cell_type": "markdown",
   "id": "357a7800",
   "metadata": {},
   "source": [
    "## OverallCond: Rates the overall condition of the house\n",
    "### 10 = Very Excellent\n",
    "### 9 = Excellent\n",
    "### 8 = Very Good\n",
    "### 7 = Good\n",
    "### 6 = Above Average\n",
    "### 5 = Average\n",
    "### 4 = Below Average\n",
    "### 3 = Fair\n",
    "### 2 = Poor\n",
    "### 1 = Very Poor"
   ]
  },
  {
   "cell_type": "code",
   "execution_count": 99,
   "id": "53191715",
   "metadata": {},
   "outputs": [],
   "source": [
    "house_data['OverallCond'] = house_data['OverallCond'].replace({10:'Very Excellent',9:'Excellent',8:'Very Good',7:'Good',6:'Above Average',5:'Average',4:'Below Average',3:'Fair',2:'Poor',1:'Very Poor'})"
   ]
  },
  {
   "cell_type": "code",
   "execution_count": 100,
   "id": "921d074f",
   "metadata": {},
   "outputs": [],
   "source": [
    "house_data.rename(columns={'OverallCond':'Rating Overall Condition of house'},inplace=True)"
   ]
  },
  {
   "cell_type": "code",
   "execution_count": 101,
   "id": "999bbe2a",
   "metadata": {},
   "outputs": [
    {
     "data": {
      "text/html": [
       "<div>\n",
       "<style scoped>\n",
       "    .dataframe tbody tr th:only-of-type {\n",
       "        vertical-align: middle;\n",
       "    }\n",
       "\n",
       "    .dataframe tbody tr th {\n",
       "        vertical-align: top;\n",
       "    }\n",
       "\n",
       "    .dataframe thead th {\n",
       "        text-align: right;\n",
       "    }\n",
       "</style>\n",
       "<table border=\"1\" class=\"dataframe\">\n",
       "  <thead>\n",
       "    <tr style=\"text-align: right;\">\n",
       "      <th></th>\n",
       "      <th>Slope of Property</th>\n",
       "      <th>Locations within Ames City limits</th>\n",
       "      <th>Proximity to various conditions</th>\n",
       "      <th>Overall Rating(Material &amp; Finishing)</th>\n",
       "      <th>Rating Overall Condition of house</th>\n",
       "      <th>YearBuilt</th>\n",
       "      <th>YearRemodAdd</th>\n",
       "      <th>RoofStyle</th>\n",
       "      <th>RoofMatl</th>\n",
       "      <th>Exterior1st</th>\n",
       "    </tr>\n",
       "  </thead>\n",
       "  <tbody>\n",
       "    <tr>\n",
       "      <th>0</th>\n",
       "      <td>Gentle Slope</td>\n",
       "      <td>College Creek</td>\n",
       "      <td>Normal</td>\n",
       "      <td>Good</td>\n",
       "      <td>Average</td>\n",
       "      <td>2003</td>\n",
       "      <td>2003</td>\n",
       "      <td>Gable</td>\n",
       "      <td>CompShg</td>\n",
       "      <td>VinylSd</td>\n",
       "    </tr>\n",
       "    <tr>\n",
       "      <th>1</th>\n",
       "      <td>Gentle Slope</td>\n",
       "      <td>Veenker</td>\n",
       "      <td>Adjacent to feeder street &amp; Normal</td>\n",
       "      <td>Above Average</td>\n",
       "      <td>Very Good</td>\n",
       "      <td>1976</td>\n",
       "      <td>1976</td>\n",
       "      <td>Gable</td>\n",
       "      <td>CompShg</td>\n",
       "      <td>MetalSd</td>\n",
       "    </tr>\n",
       "    <tr>\n",
       "      <th>2</th>\n",
       "      <td>Gentle Slope</td>\n",
       "      <td>College Creek</td>\n",
       "      <td>Normal</td>\n",
       "      <td>Good</td>\n",
       "      <td>Average</td>\n",
       "      <td>2001</td>\n",
       "      <td>2002</td>\n",
       "      <td>Gable</td>\n",
       "      <td>CompShg</td>\n",
       "      <td>VinylSd</td>\n",
       "    </tr>\n",
       "    <tr>\n",
       "      <th>3</th>\n",
       "      <td>Gentle Slope</td>\n",
       "      <td>Crawford</td>\n",
       "      <td>Normal</td>\n",
       "      <td>Good</td>\n",
       "      <td>Average</td>\n",
       "      <td>1915</td>\n",
       "      <td>1970</td>\n",
       "      <td>Gable</td>\n",
       "      <td>CompShg</td>\n",
       "      <td>Wd Sdng</td>\n",
       "    </tr>\n",
       "  </tbody>\n",
       "</table>\n",
       "</div>"
      ],
      "text/plain": [
       "  Slope of Property Locations within Ames City limits  \\\n",
       "0      Gentle Slope                     College Creek   \n",
       "1      Gentle Slope                           Veenker   \n",
       "2      Gentle Slope                     College Creek   \n",
       "3      Gentle Slope                          Crawford   \n",
       "\n",
       "      Proximity to various conditions Overall Rating(Material & Finishing)  \\\n",
       "0                              Normal                                 Good   \n",
       "1  Adjacent to feeder street & Normal                        Above Average   \n",
       "2                              Normal                                 Good   \n",
       "3                              Normal                                 Good   \n",
       "\n",
       "  Rating Overall Condition of house  YearBuilt  YearRemodAdd RoofStyle  \\\n",
       "0                           Average       2003          2003     Gable   \n",
       "1                         Very Good       1976          1976     Gable   \n",
       "2                           Average       2001          2002     Gable   \n",
       "3                           Average       1915          1970     Gable   \n",
       "\n",
       "  RoofMatl Exterior1st  \n",
       "0  CompShg     VinylSd  \n",
       "1  CompShg     MetalSd  \n",
       "2  CompShg     VinylSd  \n",
       "3  CompShg     Wd Sdng  "
      ]
     },
     "execution_count": 101,
     "metadata": {},
     "output_type": "execute_result"
    }
   ],
   "source": [
    "house_data.iloc[0:4,10:20]"
   ]
  },
  {
   "cell_type": "markdown",
   "id": "12360170",
   "metadata": {},
   "source": [
    "## YearBuilt: Original construction date"
   ]
  },
  {
   "cell_type": "code",
   "execution_count": 102,
   "id": "2bb7ee75",
   "metadata": {},
   "outputs": [],
   "source": [
    "house_data.rename(columns={'YearBuilt':'Original construction date'},inplace=True)"
   ]
  },
  {
   "cell_type": "markdown",
   "id": "5fbd6a4c",
   "metadata": {},
   "source": [
    "## Unique values of this column"
   ]
  },
  {
   "cell_type": "code",
   "execution_count": 103,
   "id": "d8723cc5",
   "metadata": {},
   "outputs": [
    {
     "data": {
      "text/plain": [
       "array([2003, 1976, 2001, 1915, 2000, 1993, 2004, 1973, 1931, 1939, 1965,\n",
       "       2005, 1962, 2006, 1960, 1929, 1970, 1967, 1958, 1930, 2002, 1968,\n",
       "       2007, 1951, 1957, 1927, 1920, 1966, 1959, 1994, 1954, 1953, 1955,\n",
       "       1983, 1975, 1997, 1934, 1963, 1981, 1964, 1999, 1972, 1921, 1945,\n",
       "       1982, 1998, 1956, 1948, 1910, 1995, 1991, 2009, 1950, 1961, 1977,\n",
       "       1985, 1979, 1885, 1919, 1990, 1969, 1935, 1988, 1971, 1952, 1936,\n",
       "       1923, 1924, 1984, 1926, 1940, 1941, 1987, 1986, 2008, 1908, 1892,\n",
       "       1916, 1932, 1918, 1912, 1947, 1925, 1900, 1980, 1989, 1992, 1949,\n",
       "       1880, 1928, 1978, 1922, 1996, 2010, 1946, 1913, 1937, 1942, 1938,\n",
       "       1974, 1893, 1914, 1906, 1890, 1898, 1904, 1882, 1875, 1911, 1917,\n",
       "       1872, 1905], dtype=int64)"
      ]
     },
     "execution_count": 103,
     "metadata": {},
     "output_type": "execute_result"
    }
   ],
   "source": [
    "house_data['Original construction date'].unique()"
   ]
  },
  {
   "cell_type": "code",
   "execution_count": 104,
   "id": "78d807a8",
   "metadata": {},
   "outputs": [
    {
     "data": {
      "text/html": [
       "<div>\n",
       "<style scoped>\n",
       "    .dataframe tbody tr th:only-of-type {\n",
       "        vertical-align: middle;\n",
       "    }\n",
       "\n",
       "    .dataframe tbody tr th {\n",
       "        vertical-align: top;\n",
       "    }\n",
       "\n",
       "    .dataframe thead th {\n",
       "        text-align: right;\n",
       "    }\n",
       "</style>\n",
       "<table border=\"1\" class=\"dataframe\">\n",
       "  <thead>\n",
       "    <tr style=\"text-align: right;\">\n",
       "      <th></th>\n",
       "      <th>Slope of Property</th>\n",
       "      <th>Locations within Ames City limits</th>\n",
       "      <th>Proximity to various conditions</th>\n",
       "      <th>Overall Rating(Material &amp; Finishing)</th>\n",
       "      <th>Rating Overall Condition of house</th>\n",
       "      <th>Original construction date</th>\n",
       "      <th>YearRemodAdd</th>\n",
       "      <th>RoofStyle</th>\n",
       "      <th>RoofMatl</th>\n",
       "      <th>Exterior1st</th>\n",
       "    </tr>\n",
       "  </thead>\n",
       "  <tbody>\n",
       "    <tr>\n",
       "      <th>0</th>\n",
       "      <td>Gentle Slope</td>\n",
       "      <td>College Creek</td>\n",
       "      <td>Normal</td>\n",
       "      <td>Good</td>\n",
       "      <td>Average</td>\n",
       "      <td>2003</td>\n",
       "      <td>2003</td>\n",
       "      <td>Gable</td>\n",
       "      <td>CompShg</td>\n",
       "      <td>VinylSd</td>\n",
       "    </tr>\n",
       "    <tr>\n",
       "      <th>1</th>\n",
       "      <td>Gentle Slope</td>\n",
       "      <td>Veenker</td>\n",
       "      <td>Adjacent to feeder street &amp; Normal</td>\n",
       "      <td>Above Average</td>\n",
       "      <td>Very Good</td>\n",
       "      <td>1976</td>\n",
       "      <td>1976</td>\n",
       "      <td>Gable</td>\n",
       "      <td>CompShg</td>\n",
       "      <td>MetalSd</td>\n",
       "    </tr>\n",
       "    <tr>\n",
       "      <th>2</th>\n",
       "      <td>Gentle Slope</td>\n",
       "      <td>College Creek</td>\n",
       "      <td>Normal</td>\n",
       "      <td>Good</td>\n",
       "      <td>Average</td>\n",
       "      <td>2001</td>\n",
       "      <td>2002</td>\n",
       "      <td>Gable</td>\n",
       "      <td>CompShg</td>\n",
       "      <td>VinylSd</td>\n",
       "    </tr>\n",
       "  </tbody>\n",
       "</table>\n",
       "</div>"
      ],
      "text/plain": [
       "  Slope of Property Locations within Ames City limits  \\\n",
       "0      Gentle Slope                     College Creek   \n",
       "1      Gentle Slope                           Veenker   \n",
       "2      Gentle Slope                     College Creek   \n",
       "\n",
       "      Proximity to various conditions Overall Rating(Material & Finishing)  \\\n",
       "0                              Normal                                 Good   \n",
       "1  Adjacent to feeder street & Normal                        Above Average   \n",
       "2                              Normal                                 Good   \n",
       "\n",
       "  Rating Overall Condition of house  Original construction date  YearRemodAdd  \\\n",
       "0                           Average                        2003          2003   \n",
       "1                         Very Good                        1976          1976   \n",
       "2                           Average                        2001          2002   \n",
       "\n",
       "  RoofStyle RoofMatl Exterior1st  \n",
       "0     Gable  CompShg     VinylSd  \n",
       "1     Gable  CompShg     MetalSd  \n",
       "2     Gable  CompShg     VinylSd  "
      ]
     },
     "execution_count": 104,
     "metadata": {},
     "output_type": "execute_result"
    }
   ],
   "source": [
    "house_data.iloc[:3,10:20]"
   ]
  },
  {
   "cell_type": "markdown",
   "id": "c37d36bb",
   "metadata": {},
   "source": [
    "## YearRemodAdd: Remodel date (same as construction date if no remodeling or additions)"
   ]
  },
  {
   "cell_type": "code",
   "execution_count": 105,
   "id": "597128bf",
   "metadata": {},
   "outputs": [],
   "source": [
    "house_data.rename(columns={'YearRemodAdd':'Remodel date of property'},inplace=True)"
   ]
  },
  {
   "cell_type": "markdown",
   "id": "2a7b8d3f",
   "metadata": {},
   "source": [
    "### Unique Values of this column"
   ]
  },
  {
   "cell_type": "code",
   "execution_count": 106,
   "id": "4e9884de",
   "metadata": {},
   "outputs": [
    {
     "data": {
      "text/plain": [
       "array([2003, 1976, 2002, 1970, 2000, 1995, 2005, 1973, 1950, 1965, 2006,\n",
       "       1962, 2007, 1960, 2001, 1967, 2004, 2008, 1997, 1959, 1990, 1955,\n",
       "       1983, 1980, 1966, 1963, 1987, 1964, 1972, 1996, 1998, 1989, 1953,\n",
       "       1956, 1968, 1981, 1992, 2009, 1982, 1961, 1993, 1999, 1985, 1979,\n",
       "       1977, 1969, 1958, 1991, 1971, 1952, 1975, 2010, 1984, 1986, 1994,\n",
       "       1988, 1954, 1957, 1951, 1978, 1974], dtype=int64)"
      ]
     },
     "execution_count": 106,
     "metadata": {},
     "output_type": "execute_result"
    }
   ],
   "source": [
    "house_data['Remodel date of property'].unique()"
   ]
  },
  {
   "cell_type": "code",
   "execution_count": 107,
   "id": "799880a8",
   "metadata": {},
   "outputs": [
    {
     "data": {
      "text/html": [
       "<div>\n",
       "<style scoped>\n",
       "    .dataframe tbody tr th:only-of-type {\n",
       "        vertical-align: middle;\n",
       "    }\n",
       "\n",
       "    .dataframe tbody tr th {\n",
       "        vertical-align: top;\n",
       "    }\n",
       "\n",
       "    .dataframe thead th {\n",
       "        text-align: right;\n",
       "    }\n",
       "</style>\n",
       "<table border=\"1\" class=\"dataframe\">\n",
       "  <thead>\n",
       "    <tr style=\"text-align: right;\">\n",
       "      <th></th>\n",
       "      <th>Slope of Property</th>\n",
       "      <th>Locations within Ames City limits</th>\n",
       "      <th>Proximity to various conditions</th>\n",
       "      <th>Overall Rating(Material &amp; Finishing)</th>\n",
       "      <th>Rating Overall Condition of house</th>\n",
       "      <th>Original construction date</th>\n",
       "      <th>Remodel date of property</th>\n",
       "      <th>RoofStyle</th>\n",
       "      <th>RoofMatl</th>\n",
       "      <th>Exterior1st</th>\n",
       "    </tr>\n",
       "  </thead>\n",
       "  <tbody>\n",
       "    <tr>\n",
       "      <th>2</th>\n",
       "      <td>Gentle Slope</td>\n",
       "      <td>College Creek</td>\n",
       "      <td>Normal</td>\n",
       "      <td>Good</td>\n",
       "      <td>Average</td>\n",
       "      <td>2001</td>\n",
       "      <td>2002</td>\n",
       "      <td>Gable</td>\n",
       "      <td>CompShg</td>\n",
       "      <td>VinylSd</td>\n",
       "    </tr>\n",
       "    <tr>\n",
       "      <th>3</th>\n",
       "      <td>Gentle Slope</td>\n",
       "      <td>Crawford</td>\n",
       "      <td>Normal</td>\n",
       "      <td>Good</td>\n",
       "      <td>Average</td>\n",
       "      <td>1915</td>\n",
       "      <td>1970</td>\n",
       "      <td>Gable</td>\n",
       "      <td>CompShg</td>\n",
       "      <td>Wd Sdng</td>\n",
       "    </tr>\n",
       "    <tr>\n",
       "      <th>4</th>\n",
       "      <td>Gentle Slope</td>\n",
       "      <td>Northridge</td>\n",
       "      <td>Normal</td>\n",
       "      <td>Very Good</td>\n",
       "      <td>Average</td>\n",
       "      <td>2000</td>\n",
       "      <td>2000</td>\n",
       "      <td>Gable</td>\n",
       "      <td>CompShg</td>\n",
       "      <td>VinylSd</td>\n",
       "    </tr>\n",
       "  </tbody>\n",
       "</table>\n",
       "</div>"
      ],
      "text/plain": [
       "  Slope of Property Locations within Ames City limits  \\\n",
       "2      Gentle Slope                     College Creek   \n",
       "3      Gentle Slope                          Crawford   \n",
       "4      Gentle Slope                        Northridge   \n",
       "\n",
       "  Proximity to various conditions Overall Rating(Material & Finishing)  \\\n",
       "2                          Normal                                 Good   \n",
       "3                          Normal                                 Good   \n",
       "4                          Normal                            Very Good   \n",
       "\n",
       "  Rating Overall Condition of house  Original construction date  \\\n",
       "2                           Average                        2001   \n",
       "3                           Average                        1915   \n",
       "4                           Average                        2000   \n",
       "\n",
       "   Remodel date of property RoofStyle RoofMatl Exterior1st  \n",
       "2                      2002     Gable  CompShg     VinylSd  \n",
       "3                      1970     Gable  CompShg     Wd Sdng  \n",
       "4                      2000     Gable  CompShg     VinylSd  "
      ]
     },
     "execution_count": 107,
     "metadata": {},
     "output_type": "execute_result"
    }
   ],
   "source": [
    "house_data.iloc[2:5,10:20]"
   ]
  },
  {
   "cell_type": "markdown",
   "id": "327564c0",
   "metadata": {},
   "source": [
    "### Check null values in both the columns"
   ]
  },
  {
   "cell_type": "code",
   "execution_count": 108,
   "id": "e906bd86",
   "metadata": {},
   "outputs": [
    {
     "data": {
      "text/plain": [
       "0"
      ]
     },
     "execution_count": 108,
     "metadata": {},
     "output_type": "execute_result"
    }
   ],
   "source": [
    "house_data['Original construction date'].isnull().sum()"
   ]
  },
  {
   "cell_type": "code",
   "execution_count": 109,
   "id": "774da693",
   "metadata": {},
   "outputs": [
    {
     "data": {
      "text/plain": [
       "0"
      ]
     },
     "execution_count": 109,
     "metadata": {},
     "output_type": "execute_result"
    }
   ],
   "source": [
    "house_data['Remodel date of property'].isnull().sum()"
   ]
  },
  {
   "cell_type": "markdown",
   "id": "6d9bcdcb",
   "metadata": {},
   "source": [
    "## Make function to fill zero values in Remodel date of property column"
   ]
  },
  {
   "cell_type": "code",
   "execution_count": 110,
   "id": "5e35608d",
   "metadata": {},
   "outputs": [],
   "source": [
    "def fill_zero_value(x,y):\n",
    "    if y == 0:\n",
    "        return x\n",
    "    else:\n",
    "        return y"
   ]
  },
  {
   "cell_type": "code",
   "execution_count": 111,
   "id": "68cd9258",
   "metadata": {},
   "outputs": [],
   "source": [
    "house_data['Remodel date of property'] = house_data.apply(lambda a: fill_zero_value(a['Original construction date'],a['Remodel date of property']),axis = 1)"
   ]
  },
  {
   "cell_type": "code",
   "execution_count": 112,
   "id": "963c1f5d",
   "metadata": {},
   "outputs": [
    {
     "data": {
      "text/html": [
       "<div>\n",
       "<style scoped>\n",
       "    .dataframe tbody tr th:only-of-type {\n",
       "        vertical-align: middle;\n",
       "    }\n",
       "\n",
       "    .dataframe tbody tr th {\n",
       "        vertical-align: top;\n",
       "    }\n",
       "\n",
       "    .dataframe thead th {\n",
       "        text-align: right;\n",
       "    }\n",
       "</style>\n",
       "<table border=\"1\" class=\"dataframe\">\n",
       "  <thead>\n",
       "    <tr style=\"text-align: right;\">\n",
       "      <th></th>\n",
       "      <th>Slope of Property</th>\n",
       "      <th>Locations within Ames City limits</th>\n",
       "      <th>Proximity to various conditions</th>\n",
       "      <th>Overall Rating(Material &amp; Finishing)</th>\n",
       "      <th>Rating Overall Condition of house</th>\n",
       "      <th>Original construction date</th>\n",
       "      <th>Remodel date of property</th>\n",
       "      <th>RoofStyle</th>\n",
       "      <th>RoofMatl</th>\n",
       "      <th>Exterior1st</th>\n",
       "    </tr>\n",
       "  </thead>\n",
       "  <tbody>\n",
       "    <tr>\n",
       "      <th>2</th>\n",
       "      <td>Gentle Slope</td>\n",
       "      <td>College Creek</td>\n",
       "      <td>Normal</td>\n",
       "      <td>Good</td>\n",
       "      <td>Average</td>\n",
       "      <td>2001</td>\n",
       "      <td>2002</td>\n",
       "      <td>Gable</td>\n",
       "      <td>CompShg</td>\n",
       "      <td>VinylSd</td>\n",
       "    </tr>\n",
       "    <tr>\n",
       "      <th>3</th>\n",
       "      <td>Gentle Slope</td>\n",
       "      <td>Crawford</td>\n",
       "      <td>Normal</td>\n",
       "      <td>Good</td>\n",
       "      <td>Average</td>\n",
       "      <td>1915</td>\n",
       "      <td>1970</td>\n",
       "      <td>Gable</td>\n",
       "      <td>CompShg</td>\n",
       "      <td>Wd Sdng</td>\n",
       "    </tr>\n",
       "    <tr>\n",
       "      <th>4</th>\n",
       "      <td>Gentle Slope</td>\n",
       "      <td>Northridge</td>\n",
       "      <td>Normal</td>\n",
       "      <td>Very Good</td>\n",
       "      <td>Average</td>\n",
       "      <td>2000</td>\n",
       "      <td>2000</td>\n",
       "      <td>Gable</td>\n",
       "      <td>CompShg</td>\n",
       "      <td>VinylSd</td>\n",
       "    </tr>\n",
       "  </tbody>\n",
       "</table>\n",
       "</div>"
      ],
      "text/plain": [
       "  Slope of Property Locations within Ames City limits  \\\n",
       "2      Gentle Slope                     College Creek   \n",
       "3      Gentle Slope                          Crawford   \n",
       "4      Gentle Slope                        Northridge   \n",
       "\n",
       "  Proximity to various conditions Overall Rating(Material & Finishing)  \\\n",
       "2                          Normal                                 Good   \n",
       "3                          Normal                                 Good   \n",
       "4                          Normal                            Very Good   \n",
       "\n",
       "  Rating Overall Condition of house  Original construction date  \\\n",
       "2                           Average                        2001   \n",
       "3                           Average                        1915   \n",
       "4                           Average                        2000   \n",
       "\n",
       "   Remodel date of property RoofStyle RoofMatl Exterior1st  \n",
       "2                      2002     Gable  CompShg     VinylSd  \n",
       "3                      1970     Gable  CompShg     Wd Sdng  \n",
       "4                      2000     Gable  CompShg     VinylSd  "
      ]
     },
     "execution_count": 112,
     "metadata": {},
     "output_type": "execute_result"
    }
   ],
   "source": [
    "house_data.iloc[2:5,10:20]"
   ]
  },
  {
   "cell_type": "markdown",
   "id": "9edad4af",
   "metadata": {},
   "source": [
    "## RoofStyle: Type of roof\n",
    "### Flat = Flat\n",
    "### Gable = Gable\n",
    "### Gambrel = Gabrel (Barn)\n",
    "### Hip = Hip\n",
    "### Mansard = Mansard\n",
    "### Shed = Shed"
   ]
  },
  {
   "cell_type": "code",
   "execution_count": 113,
   "id": "5eae621f",
   "metadata": {},
   "outputs": [],
   "source": [
    "house_data['RoofStyle'] = house_data['RoofStyle'].replace({'Gambrel':'Gabrel (Barn)'})"
   ]
  },
  {
   "cell_type": "code",
   "execution_count": 114,
   "id": "dfcf8309",
   "metadata": {},
   "outputs": [],
   "source": [
    "house_data.rename(columns={'RoofStyle':'Type of Roof'},inplace=True)"
   ]
  },
  {
   "cell_type": "code",
   "execution_count": 115,
   "id": "c865cb05",
   "metadata": {},
   "outputs": [
    {
     "data": {
      "text/plain": [
       "Type of Roof\n",
       "Gable            1141\n",
       "Hip               286\n",
       "Flat               13\n",
       "Gabrel (Barn)      11\n",
       "Mansard             7\n",
       "Shed                2\n",
       "Name: count, dtype: int64"
      ]
     },
     "execution_count": 115,
     "metadata": {},
     "output_type": "execute_result"
    }
   ],
   "source": [
    "house_data['Type of Roof'].value_counts()"
   ]
  },
  {
   "cell_type": "markdown",
   "id": "e5b2d01e",
   "metadata": {},
   "source": [
    "## RoofMatl: Roof material\n",
    "### ClyTile = Clay or Tile\n",
    "### CompShg = Standard (Composite) Shingle\n",
    "### Membran = Membrane\n",
    "### Metal = Metal\n",
    "### Roll = Roll\n",
    "### Tar&Grv = Gravel & Tar\n",
    "### WdShake = Wood Shakes\n",
    "### WdShngl = Wood Shingles"
   ]
  },
  {
   "cell_type": "code",
   "execution_count": 116,
   "id": "688b90c7",
   "metadata": {},
   "outputs": [],
   "source": [
    "house_data['RoofMatl'] = house_data['RoofMatl'].replace({'ClyTile':'Clay or Tile','CompShg':'Standard (Composite) Shingle','Membran':'Membrane','Tar&Grv':'Gravel & Tar','WdShake':'Wood Shakes','WdShngl':'Wood Shingles'})"
   ]
  },
  {
   "cell_type": "code",
   "execution_count": 117,
   "id": "7d9f7e69",
   "metadata": {},
   "outputs": [],
   "source": [
    "house_data.rename(columns={'RoofMatl':'Material used in Roof'},inplace=True)"
   ]
  },
  {
   "cell_type": "code",
   "execution_count": 118,
   "id": "6880cb78",
   "metadata": {},
   "outputs": [
    {
     "data": {
      "text/html": [
       "<div>\n",
       "<style scoped>\n",
       "    .dataframe tbody tr th:only-of-type {\n",
       "        vertical-align: middle;\n",
       "    }\n",
       "\n",
       "    .dataframe tbody tr th {\n",
       "        vertical-align: top;\n",
       "    }\n",
       "\n",
       "    .dataframe thead th {\n",
       "        text-align: right;\n",
       "    }\n",
       "</style>\n",
       "<table border=\"1\" class=\"dataframe\">\n",
       "  <thead>\n",
       "    <tr style=\"text-align: right;\">\n",
       "      <th></th>\n",
       "      <th>Original construction date</th>\n",
       "      <th>Remodel date of property</th>\n",
       "      <th>Type of Roof</th>\n",
       "      <th>Material used in Roof</th>\n",
       "      <th>Exterior1st</th>\n",
       "      <th>Exterior2nd</th>\n",
       "      <th>MasVnrType</th>\n",
       "      <th>MasVnrArea</th>\n",
       "      <th>ExterQual</th>\n",
       "      <th>ExterCond</th>\n",
       "    </tr>\n",
       "  </thead>\n",
       "  <tbody>\n",
       "    <tr>\n",
       "      <th>12</th>\n",
       "      <td>1962</td>\n",
       "      <td>1962</td>\n",
       "      <td>Hip</td>\n",
       "      <td>Standard (Composite) Shingle</td>\n",
       "      <td>HdBoard</td>\n",
       "      <td>Plywood</td>\n",
       "      <td>NaN</td>\n",
       "      <td>0</td>\n",
       "      <td>TA</td>\n",
       "      <td>TA</td>\n",
       "    </tr>\n",
       "    <tr>\n",
       "      <th>13</th>\n",
       "      <td>2006</td>\n",
       "      <td>2007</td>\n",
       "      <td>Gable</td>\n",
       "      <td>Standard (Composite) Shingle</td>\n",
       "      <td>VinylSd</td>\n",
       "      <td>VinylSd</td>\n",
       "      <td>Stone</td>\n",
       "      <td>306</td>\n",
       "      <td>Gd</td>\n",
       "      <td>TA</td>\n",
       "    </tr>\n",
       "    <tr>\n",
       "      <th>14</th>\n",
       "      <td>1960</td>\n",
       "      <td>1960</td>\n",
       "      <td>Hip</td>\n",
       "      <td>Standard (Composite) Shingle</td>\n",
       "      <td>MetalSd</td>\n",
       "      <td>MetalSd</td>\n",
       "      <td>BrkFace</td>\n",
       "      <td>212</td>\n",
       "      <td>TA</td>\n",
       "      <td>TA</td>\n",
       "    </tr>\n",
       "  </tbody>\n",
       "</table>\n",
       "</div>"
      ],
      "text/plain": [
       "    Original construction date  Remodel date of property Type of Roof  \\\n",
       "12                        1962                      1962          Hip   \n",
       "13                        2006                      2007        Gable   \n",
       "14                        1960                      1960          Hip   \n",
       "\n",
       "           Material used in Roof Exterior1st Exterior2nd MasVnrType  \\\n",
       "12  Standard (Composite) Shingle     HdBoard     Plywood        NaN   \n",
       "13  Standard (Composite) Shingle     VinylSd     VinylSd      Stone   \n",
       "14  Standard (Composite) Shingle     MetalSd     MetalSd    BrkFace   \n",
       "\n",
       "    MasVnrArea ExterQual ExterCond  \n",
       "12           0        TA        TA  \n",
       "13         306        Gd        TA  \n",
       "14         212        TA        TA  "
      ]
     },
     "execution_count": 118,
     "metadata": {},
     "output_type": "execute_result"
    }
   ],
   "source": [
    "house_data.iloc[12:15,15:25]"
   ]
  },
  {
   "cell_type": "code",
   "execution_count": 119,
   "id": "e13e1a00",
   "metadata": {},
   "outputs": [
    {
     "data": {
      "text/plain": [
       "Material used in Roof\n",
       "Standard (Composite) Shingle    1434\n",
       "Gravel & Tar                      11\n",
       "Wood Shingles                      6\n",
       "Wood Shakes                        5\n",
       "Metal                              1\n",
       "Membrane                           1\n",
       "Roll                               1\n",
       "Clay or Tile                       1\n",
       "Name: count, dtype: int64"
      ]
     },
     "execution_count": 119,
     "metadata": {},
     "output_type": "execute_result"
    }
   ],
   "source": [
    "house_data['Material used in Roof'].value_counts()"
   ]
  },
  {
   "cell_type": "markdown",
   "id": "9a490090",
   "metadata": {},
   "source": [
    "## Exterior1st: Exterior covering on the house\n",
    "## Exterior2nd: Exterior covering on house (if more than one material)\n",
    "### AsbShng = Asbestos Shingles\n",
    "### AsphShn = Asphalt Shingles\n",
    "### BrkComm = Brick Common\n",
    "### BrkFace = Brick Face\n",
    "### CBlock = Cinder Block\n",
    "### CemntBd = Cement Board\n",
    "### HdBoard = Hard Board\n",
    "### ImStucc = Imitation Stucco\n",
    "### MetalSd = Metal Siding\n",
    "### Other = Other\n",
    "### Plywood = Plywood\n",
    "### PreCast = PreCast\n",
    "### Stone = Stone\n",
    "### Stucco = Stucco\n",
    "### VinylSd = Vinyl Siding\n",
    "### Wd Sdng = Wood Siding\n",
    "### WdShing = Wood Shingles"
   ]
  },
  {
   "cell_type": "code",
   "execution_count": 120,
   "id": "3dd87665",
   "metadata": {},
   "outputs": [],
   "source": [
    "house_data['Exterior1st'] = house_data['Exterior1st'].replace({'AsbShng':'Asbestos Shingles','AsphShn':'Asphalt Shingles','BrkComm':'Brick Common','BrkFace':'Brick Face','CBlock':'Cinder Block','CemntBd':'Cement Board','HdBoard':'Hard Board','ImStucc':'Imitation Stucco','MetalSd':'Metal Siding','VinylSd':'Vinyl Siding','Wd Sdng':'Wood Siding','WdShing':'Wood Shingles'})"
   ]
  },
  {
   "cell_type": "code",
   "execution_count": 121,
   "id": "a104f2b7",
   "metadata": {},
   "outputs": [
    {
     "data": {
      "text/plain": [
       "array(['Vinyl Siding', 'Metal Siding', 'Wood Siding', 'Hard Board',\n",
       "       'Brick Face', 'Wood Shingles', 'Cement Board', 'Plywood',\n",
       "       'Asbestos Shingles', 'Stucco', 'Brick Common', 'Asphalt Shingles',\n",
       "       'Stone', 'Imitation Stucco', 'Cinder Block'], dtype=object)"
      ]
     },
     "execution_count": 121,
     "metadata": {},
     "output_type": "execute_result"
    }
   ],
   "source": [
    "house_data['Exterior1st'].unique()"
   ]
  },
  {
   "cell_type": "code",
   "execution_count": 122,
   "id": "6e53136d",
   "metadata": {},
   "outputs": [],
   "source": [
    "house_data['Exterior2nd'] = house_data['Exterior2nd'].replace({'AsbShng':'Asbestos Shingles','AsphShn':'Asphalt Shingles','BrkComm':'Brick Common','Brk Cmn':'Brick Common','BrkFace':'Brick Face','CBlock':'Cinder Block','CemntBd':'Cement Board','CmentBd':'Cement Board','HdBoard':'Hard Board','ImStucc':'Imitation Stucco','MetalSd':'Metal Siding','VinylSd':'Vinyl Siding','Wd Sdng':'Wood Siding','WdShing':'Wood Shingles','Wd Shng':'Wood Shingles',})"
   ]
  },
  {
   "cell_type": "code",
   "execution_count": 123,
   "id": "e6459821",
   "metadata": {},
   "outputs": [
    {
     "data": {
      "text/plain": [
       "array(['Vinyl Siding', 'Metal Siding', 'Wood Shingles', 'Hard Board',\n",
       "       'Plywood', 'Wood Siding', 'Cement Board', 'Brick Face', 'Stucco',\n",
       "       'Asbestos Shingles', 'Brick Common', 'Imitation Stucco',\n",
       "       'Asphalt Shingles', 'Stone', 'Other', 'Cinder Block'], dtype=object)"
      ]
     },
     "execution_count": 123,
     "metadata": {},
     "output_type": "execute_result"
    }
   ],
   "source": [
    "house_data['Exterior2nd'].unique()"
   ]
  },
  {
   "cell_type": "code",
   "execution_count": 124,
   "id": "65ce8925",
   "metadata": {},
   "outputs": [],
   "source": [
    "house_data['Exterior1st'] = house_data.apply(lambda a: column_add(a['Exterior1st'],a['Exterior2nd']),axis = 1)"
   ]
  },
  {
   "cell_type": "code",
   "execution_count": 125,
   "id": "f6660ff4",
   "metadata": {},
   "outputs": [],
   "source": [
    "house_data.rename(columns={'Exterior1st':'Exterior Covering on the House'},inplace=True)"
   ]
  },
  {
   "cell_type": "markdown",
   "id": "0c73df83",
   "metadata": {},
   "source": [
    "## Drop Exterior2nd column as it is not required"
   ]
  },
  {
   "cell_type": "code",
   "execution_count": 126,
   "id": "a63ff0b7",
   "metadata": {},
   "outputs": [],
   "source": [
    "house_data.drop('Exterior2nd',axis=1,inplace=True)"
   ]
  },
  {
   "cell_type": "code",
   "execution_count": 127,
   "id": "b4199753",
   "metadata": {},
   "outputs": [
    {
     "data": {
      "text/plain": [
       "array(['Vinyl Siding', 'Metal Siding', 'Wood Siding & Wood Shingles',\n",
       "       'Hard Board', 'Brick Face & Wood Shingles', 'Wood Shingles',\n",
       "       'Hard Board & Plywood', 'Wood Siding', 'Brick Face & Plywood',\n",
       "       'Cement Board', 'Plywood', 'Brick Face',\n",
       "       'Asbestos Shingles & Plywood', 'Brick Face & Wood Siding',\n",
       "       'Stucco', 'Brick Face & Asbestos Shingles', 'Asbestos Shingles',\n",
       "       'Wood Shingles & Wood Siding', 'Vinyl Siding & Plywood',\n",
       "       'Plywood & Brick Common', 'Wood Siding & Brick Face',\n",
       "       'Wood Siding & Hard Board', 'Wood Siding & Plywood',\n",
       "       'Hard Board & Imitation Stucco', 'Plywood & Imitation Stucco',\n",
       "       'Hard Board & Asphalt Shingles', 'Wood Siding & Asbestos Shingles',\n",
       "       'Vinyl Siding & Wood Shingles', 'Wood Siding & Metal Siding',\n",
       "       'Wood Siding & Imitation Stucco', 'Wood Shingles & Plywood',\n",
       "       'Wood Siding & Vinyl Siding', 'Brick Common',\n",
       "       'Wood Siding & Stucco', 'Wood Shingles & Stucco',\n",
       "       'Stucco & Wood Shingles', 'Wood Siding & Stone',\n",
       "       'Metal Siding & Asphalt Shingles', 'Vinyl Siding & Other',\n",
       "       'Plywood & Wood Siding', 'Metal Siding & Wood Siding',\n",
       "       'Wood Shingles & Hard Board', 'Cement Board & Wood Siding',\n",
       "       'Asbestos Shingles & Stucco', 'Vinyl Siding & Stucco',\n",
       "       'Stucco & Stone', 'Cement Board & Wood Shingles',\n",
       "       'Vinyl Siding & Hard Board', 'Metal Siding & Hard Board',\n",
       "       'Plywood & Hard Board', 'Hard Board & Wood Siding',\n",
       "       'Vinyl Siding & Imitation Stucco', 'Asphalt Shingles',\n",
       "       'Metal Siding & Stucco', 'Stone & Hard Board',\n",
       "       'Hard Board & Metal Siding', 'Stone', 'Imitation Stucco',\n",
       "       'Brick Face & Hard Board', 'Brick Face & Stucco',\n",
       "       'Stucco & Cement Board', 'Metal Siding & Wood Shingles',\n",
       "       'Brick Face & Stone', 'Cinder Block', 'Vinyl Siding & Wood Siding',\n",
       "       'Hard Board & Wood Shingles', 'Vinyl Siding & Asbestos Shingles'],\n",
       "      dtype=object)"
      ]
     },
     "execution_count": 127,
     "metadata": {},
     "output_type": "execute_result"
    }
   ],
   "source": [
    "house_data['Exterior Covering on the House'].unique()"
   ]
  },
  {
   "cell_type": "code",
   "execution_count": 128,
   "id": "36760f5e",
   "metadata": {},
   "outputs": [
    {
     "data": {
      "text/html": [
       "<div>\n",
       "<style scoped>\n",
       "    .dataframe tbody tr th:only-of-type {\n",
       "        vertical-align: middle;\n",
       "    }\n",
       "\n",
       "    .dataframe tbody tr th {\n",
       "        vertical-align: top;\n",
       "    }\n",
       "\n",
       "    .dataframe thead th {\n",
       "        text-align: right;\n",
       "    }\n",
       "</style>\n",
       "<table border=\"1\" class=\"dataframe\">\n",
       "  <thead>\n",
       "    <tr style=\"text-align: right;\">\n",
       "      <th></th>\n",
       "      <th>Original construction date</th>\n",
       "      <th>Remodel date of property</th>\n",
       "      <th>Type of Roof</th>\n",
       "      <th>Material used in Roof</th>\n",
       "      <th>Exterior Covering on the House</th>\n",
       "      <th>MasVnrType</th>\n",
       "      <th>MasVnrArea</th>\n",
       "      <th>ExterQual</th>\n",
       "      <th>ExterCond</th>\n",
       "      <th>Foundation</th>\n",
       "    </tr>\n",
       "  </thead>\n",
       "  <tbody>\n",
       "    <tr>\n",
       "      <th>70</th>\n",
       "      <td>1973</td>\n",
       "      <td>1973</td>\n",
       "      <td>Gable</td>\n",
       "      <td>Standard (Composite) Shingle</td>\n",
       "      <td>Plywood</td>\n",
       "      <td>BrkFace</td>\n",
       "      <td>1115</td>\n",
       "      <td>TA</td>\n",
       "      <td>Gd</td>\n",
       "      <td>CBlock</td>\n",
       "    </tr>\n",
       "    <tr>\n",
       "      <th>71</th>\n",
       "      <td>1982</td>\n",
       "      <td>2006</td>\n",
       "      <td>Gable</td>\n",
       "      <td>Standard (Composite) Shingle</td>\n",
       "      <td>Hard Board &amp; Plywood</td>\n",
       "      <td>NaN</td>\n",
       "      <td>0</td>\n",
       "      <td>TA</td>\n",
       "      <td>TA</td>\n",
       "      <td>CBlock</td>\n",
       "    </tr>\n",
       "    <tr>\n",
       "      <th>72</th>\n",
       "      <td>1998</td>\n",
       "      <td>1998</td>\n",
       "      <td>Gable</td>\n",
       "      <td>Standard (Composite) Shingle</td>\n",
       "      <td>Vinyl Siding</td>\n",
       "      <td>BrkFace</td>\n",
       "      <td>40</td>\n",
       "      <td>TA</td>\n",
       "      <td>TA</td>\n",
       "      <td>PConc</td>\n",
       "    </tr>\n",
       "    <tr>\n",
       "      <th>73</th>\n",
       "      <td>1954</td>\n",
       "      <td>2003</td>\n",
       "      <td>Gable</td>\n",
       "      <td>Standard (Composite) Shingle</td>\n",
       "      <td>Wood Siding</td>\n",
       "      <td>BrkFace</td>\n",
       "      <td>104</td>\n",
       "      <td>TA</td>\n",
       "      <td>TA</td>\n",
       "      <td>CBlock</td>\n",
       "    </tr>\n",
       "  </tbody>\n",
       "</table>\n",
       "</div>"
      ],
      "text/plain": [
       "    Original construction date  Remodel date of property Type of Roof  \\\n",
       "70                        1973                      1973        Gable   \n",
       "71                        1982                      2006        Gable   \n",
       "72                        1998                      1998        Gable   \n",
       "73                        1954                      2003        Gable   \n",
       "\n",
       "           Material used in Roof Exterior Covering on the House MasVnrType  \\\n",
       "70  Standard (Composite) Shingle                        Plywood    BrkFace   \n",
       "71  Standard (Composite) Shingle           Hard Board & Plywood        NaN   \n",
       "72  Standard (Composite) Shingle                   Vinyl Siding    BrkFace   \n",
       "73  Standard (Composite) Shingle                    Wood Siding    BrkFace   \n",
       "\n",
       "    MasVnrArea ExterQual ExterCond Foundation  \n",
       "70        1115        TA        Gd     CBlock  \n",
       "71           0        TA        TA     CBlock  \n",
       "72          40        TA        TA      PConc  \n",
       "73         104        TA        TA     CBlock  "
      ]
     },
     "execution_count": 128,
     "metadata": {},
     "output_type": "execute_result"
    }
   ],
   "source": [
    "house_data.iloc[70:74,15:25]"
   ]
  },
  {
   "cell_type": "markdown",
   "id": "4e029710",
   "metadata": {},
   "source": [
    "## MasVnrType: Masonry veneer type\n",
    "### BrkCmn = Brick Common\n",
    "### BrkFace = Brick Face\n",
    "### CBlock = Cinder Block\n",
    "### None = None\n",
    "### Stone = Stone"
   ]
  },
  {
   "cell_type": "code",
   "execution_count": 129,
   "id": "db1d5fcf",
   "metadata": {},
   "outputs": [],
   "source": [
    "house_data['MasVnrType'] = house_data['MasVnrType'].replace({'BrkCmn':'Brick Common','BrkFace':'Brick Face','CBlock':'Cinder Block'})"
   ]
  },
  {
   "cell_type": "code",
   "execution_count": 130,
   "id": "acaf5c9b",
   "metadata": {},
   "outputs": [],
   "source": [
    "house_data.rename(columns={'MasVnrType':'Masonry veneer type'},inplace=True)"
   ]
  },
  {
   "cell_type": "code",
   "execution_count": 131,
   "id": "7cc9fa6f",
   "metadata": {},
   "outputs": [
    {
     "data": {
      "text/plain": [
       "Masonry veneer type\n",
       "Brick Face      445\n",
       "Stone           128\n",
       "Brick Common     15\n",
       "Name: count, dtype: int64"
      ]
     },
     "execution_count": 131,
     "metadata": {},
     "output_type": "execute_result"
    }
   ],
   "source": [
    "house_data['Masonry veneer type'].value_counts()"
   ]
  },
  {
   "cell_type": "code",
   "execution_count": 132,
   "id": "22070424",
   "metadata": {},
   "outputs": [
    {
     "data": {
      "text/plain": [
       "872"
      ]
     },
     "execution_count": 132,
     "metadata": {},
     "output_type": "execute_result"
    }
   ],
   "source": [
    "house_data['Masonry veneer type'].isnull().sum()"
   ]
  },
  {
   "cell_type": "markdown",
   "id": "0ecafc55",
   "metadata": {},
   "source": [
    "## Drop (Masonry veneer type) column as it has most of null values and of no use"
   ]
  },
  {
   "cell_type": "code",
   "execution_count": 133,
   "id": "80aa5c9c",
   "metadata": {},
   "outputs": [],
   "source": [
    "house_data.drop('Masonry veneer type',axis = 1, inplace=True)"
   ]
  },
  {
   "cell_type": "markdown",
   "id": "ec886eb5",
   "metadata": {},
   "source": [
    "## MasVnrArea: Masonry veneer area in square feet"
   ]
  },
  {
   "cell_type": "code",
   "execution_count": 134,
   "id": "710713f7",
   "metadata": {},
   "outputs": [],
   "source": [
    "house_data.rename(columns={'MasVnrArea':'Masonry veneer area in square feet'},inplace=True)"
   ]
  },
  {
   "cell_type": "code",
   "execution_count": 135,
   "id": "4d4f9baf",
   "metadata": {},
   "outputs": [
    {
     "data": {
      "text/plain": [
       "Masonry veneer area in square feet\n",
       "0      869\n",
       "180      8\n",
       "72       8\n",
       "108      8\n",
       "120      7\n",
       "      ... \n",
       "562      1\n",
       "89       1\n",
       "921      1\n",
       "762      1\n",
       "119      1\n",
       "Name: count, Length: 327, dtype: int64"
      ]
     },
     "execution_count": 135,
     "metadata": {},
     "output_type": "execute_result"
    }
   ],
   "source": [
    "house_data['Masonry veneer area in square feet'].value_counts()"
   ]
  },
  {
   "cell_type": "markdown",
   "id": "37d220ec",
   "metadata": {},
   "source": [
    "## Drop (Masonry veneer area in square feet) column as it has most of values Zero and of no use"
   ]
  },
  {
   "cell_type": "code",
   "execution_count": 136,
   "id": "c1518a3e",
   "metadata": {},
   "outputs": [],
   "source": [
    "house_data.drop('Masonry veneer area in square feet',axis=1,inplace=True)"
   ]
  },
  {
   "cell_type": "code",
   "execution_count": 137,
   "id": "e231d28f",
   "metadata": {},
   "outputs": [
    {
     "data": {
      "text/html": [
       "<div>\n",
       "<style scoped>\n",
       "    .dataframe tbody tr th:only-of-type {\n",
       "        vertical-align: middle;\n",
       "    }\n",
       "\n",
       "    .dataframe tbody tr th {\n",
       "        vertical-align: top;\n",
       "    }\n",
       "\n",
       "    .dataframe thead th {\n",
       "        text-align: right;\n",
       "    }\n",
       "</style>\n",
       "<table border=\"1\" class=\"dataframe\">\n",
       "  <thead>\n",
       "    <tr style=\"text-align: right;\">\n",
       "      <th></th>\n",
       "      <th>Original construction date</th>\n",
       "      <th>Remodel date of property</th>\n",
       "      <th>Type of Roof</th>\n",
       "      <th>Material used in Roof</th>\n",
       "      <th>Exterior Covering on the House</th>\n",
       "      <th>ExterQual</th>\n",
       "      <th>ExterCond</th>\n",
       "      <th>Foundation</th>\n",
       "      <th>BsmtQual</th>\n",
       "      <th>BsmtCond</th>\n",
       "    </tr>\n",
       "  </thead>\n",
       "  <tbody>\n",
       "    <tr>\n",
       "      <th>25</th>\n",
       "      <td>2007</td>\n",
       "      <td>2007</td>\n",
       "      <td>Gable</td>\n",
       "      <td>Standard (Composite) Shingle</td>\n",
       "      <td>Vinyl Siding</td>\n",
       "      <td>Gd</td>\n",
       "      <td>TA</td>\n",
       "      <td>PConc</td>\n",
       "      <td>Gd</td>\n",
       "      <td>TA</td>\n",
       "    </tr>\n",
       "    <tr>\n",
       "      <th>26</th>\n",
       "      <td>1951</td>\n",
       "      <td>2000</td>\n",
       "      <td>Gable</td>\n",
       "      <td>Standard (Composite) Shingle</td>\n",
       "      <td>Wood Siding</td>\n",
       "      <td>TA</td>\n",
       "      <td>TA</td>\n",
       "      <td>CBlock</td>\n",
       "      <td>TA</td>\n",
       "      <td>TA</td>\n",
       "    </tr>\n",
       "    <tr>\n",
       "      <th>27</th>\n",
       "      <td>2007</td>\n",
       "      <td>2008</td>\n",
       "      <td>Gable</td>\n",
       "      <td>Standard (Composite) Shingle</td>\n",
       "      <td>Vinyl Siding</td>\n",
       "      <td>Gd</td>\n",
       "      <td>TA</td>\n",
       "      <td>PConc</td>\n",
       "      <td>Ex</td>\n",
       "      <td>TA</td>\n",
       "    </tr>\n",
       "    <tr>\n",
       "      <th>28</th>\n",
       "      <td>1957</td>\n",
       "      <td>1997</td>\n",
       "      <td>Gable</td>\n",
       "      <td>Standard (Composite) Shingle</td>\n",
       "      <td>Metal Siding</td>\n",
       "      <td>TA</td>\n",
       "      <td>TA</td>\n",
       "      <td>CBlock</td>\n",
       "      <td>TA</td>\n",
       "      <td>TA</td>\n",
       "    </tr>\n",
       "  </tbody>\n",
       "</table>\n",
       "</div>"
      ],
      "text/plain": [
       "    Original construction date  Remodel date of property Type of Roof  \\\n",
       "25                        2007                      2007        Gable   \n",
       "26                        1951                      2000        Gable   \n",
       "27                        2007                      2008        Gable   \n",
       "28                        1957                      1997        Gable   \n",
       "\n",
       "           Material used in Roof Exterior Covering on the House ExterQual  \\\n",
       "25  Standard (Composite) Shingle                   Vinyl Siding        Gd   \n",
       "26  Standard (Composite) Shingle                    Wood Siding        TA   \n",
       "27  Standard (Composite) Shingle                   Vinyl Siding        Gd   \n",
       "28  Standard (Composite) Shingle                   Metal Siding        TA   \n",
       "\n",
       "   ExterCond Foundation BsmtQual BsmtCond  \n",
       "25        TA      PConc       Gd       TA  \n",
       "26        TA     CBlock       TA       TA  \n",
       "27        TA      PConc       Ex       TA  \n",
       "28        TA     CBlock       TA       TA  "
      ]
     },
     "execution_count": 137,
     "metadata": {},
     "output_type": "execute_result"
    }
   ],
   "source": [
    "house_data.iloc[25:29,15:25]"
   ]
  },
  {
   "cell_type": "markdown",
   "id": "3b4def48",
   "metadata": {},
   "source": [
    "## ExterQual: Evaluates the quality of the material on the exterior\n",
    "### Ex = Excellent\n",
    "### Gd = Good\n",
    "### TA = Average/Typical\n",
    "### Fa = Fair\n",
    "### Po = Poor"
   ]
  },
  {
   "cell_type": "code",
   "execution_count": 138,
   "id": "6599e0d7",
   "metadata": {},
   "outputs": [],
   "source": [
    "house_data['ExterQual'] = house_data['ExterQual'].replace({'Ex':'Excellent','Gd':'Good','TA':'Average/Typical','Fa':'Fair','Po':'Poor'})"
   ]
  },
  {
   "cell_type": "markdown",
   "id": "6d225d06",
   "metadata": {},
   "source": [
    "## Unique values"
   ]
  },
  {
   "cell_type": "code",
   "execution_count": 139,
   "id": "b652dbd2",
   "metadata": {},
   "outputs": [
    {
     "data": {
      "text/plain": [
       "array(['Good', 'Average/Typical', 'Excellent', 'Fair'], dtype=object)"
      ]
     },
     "execution_count": 139,
     "metadata": {},
     "output_type": "execute_result"
    }
   ],
   "source": [
    "house_data['ExterQual'].unique()"
   ]
  },
  {
   "cell_type": "code",
   "execution_count": 140,
   "id": "62d1e452",
   "metadata": {},
   "outputs": [],
   "source": [
    "house_data.rename(columns={'ExterQual':'Evaluation of Quality of material on Exterior'},inplace=True)"
   ]
  },
  {
   "cell_type": "code",
   "execution_count": 141,
   "id": "314542e7",
   "metadata": {},
   "outputs": [
    {
     "data": {
      "text/html": [
       "<div>\n",
       "<style scoped>\n",
       "    .dataframe tbody tr th:only-of-type {\n",
       "        vertical-align: middle;\n",
       "    }\n",
       "\n",
       "    .dataframe tbody tr th {\n",
       "        vertical-align: top;\n",
       "    }\n",
       "\n",
       "    .dataframe thead th {\n",
       "        text-align: right;\n",
       "    }\n",
       "</style>\n",
       "<table border=\"1\" class=\"dataframe\">\n",
       "  <thead>\n",
       "    <tr style=\"text-align: right;\">\n",
       "      <th></th>\n",
       "      <th>Original construction date</th>\n",
       "      <th>Remodel date of property</th>\n",
       "      <th>Type of Roof</th>\n",
       "      <th>Material used in Roof</th>\n",
       "      <th>Exterior Covering on the House</th>\n",
       "      <th>Evaluation of Quality of material on Exterior</th>\n",
       "      <th>ExterCond</th>\n",
       "      <th>Foundation</th>\n",
       "      <th>BsmtQual</th>\n",
       "      <th>BsmtCond</th>\n",
       "    </tr>\n",
       "  </thead>\n",
       "  <tbody>\n",
       "    <tr>\n",
       "      <th>0</th>\n",
       "      <td>2003</td>\n",
       "      <td>2003</td>\n",
       "      <td>Gable</td>\n",
       "      <td>Standard (Composite) Shingle</td>\n",
       "      <td>Vinyl Siding</td>\n",
       "      <td>Good</td>\n",
       "      <td>TA</td>\n",
       "      <td>PConc</td>\n",
       "      <td>Gd</td>\n",
       "      <td>TA</td>\n",
       "    </tr>\n",
       "    <tr>\n",
       "      <th>1</th>\n",
       "      <td>1976</td>\n",
       "      <td>1976</td>\n",
       "      <td>Gable</td>\n",
       "      <td>Standard (Composite) Shingle</td>\n",
       "      <td>Metal Siding</td>\n",
       "      <td>Average/Typical</td>\n",
       "      <td>TA</td>\n",
       "      <td>CBlock</td>\n",
       "      <td>Gd</td>\n",
       "      <td>TA</td>\n",
       "    </tr>\n",
       "    <tr>\n",
       "      <th>2</th>\n",
       "      <td>2001</td>\n",
       "      <td>2002</td>\n",
       "      <td>Gable</td>\n",
       "      <td>Standard (Composite) Shingle</td>\n",
       "      <td>Vinyl Siding</td>\n",
       "      <td>Good</td>\n",
       "      <td>TA</td>\n",
       "      <td>PConc</td>\n",
       "      <td>Gd</td>\n",
       "      <td>TA</td>\n",
       "    </tr>\n",
       "    <tr>\n",
       "      <th>3</th>\n",
       "      <td>1915</td>\n",
       "      <td>1970</td>\n",
       "      <td>Gable</td>\n",
       "      <td>Standard (Composite) Shingle</td>\n",
       "      <td>Wood Siding &amp; Wood Shingles</td>\n",
       "      <td>Average/Typical</td>\n",
       "      <td>TA</td>\n",
       "      <td>BrkTil</td>\n",
       "      <td>TA</td>\n",
       "      <td>Gd</td>\n",
       "    </tr>\n",
       "  </tbody>\n",
       "</table>\n",
       "</div>"
      ],
      "text/plain": [
       "   Original construction date  Remodel date of property Type of Roof  \\\n",
       "0                        2003                      2003        Gable   \n",
       "1                        1976                      1976        Gable   \n",
       "2                        2001                      2002        Gable   \n",
       "3                        1915                      1970        Gable   \n",
       "\n",
       "          Material used in Roof Exterior Covering on the House  \\\n",
       "0  Standard (Composite) Shingle                   Vinyl Siding   \n",
       "1  Standard (Composite) Shingle                   Metal Siding   \n",
       "2  Standard (Composite) Shingle                   Vinyl Siding   \n",
       "3  Standard (Composite) Shingle    Wood Siding & Wood Shingles   \n",
       "\n",
       "  Evaluation of Quality of material on Exterior ExterCond Foundation BsmtQual  \\\n",
       "0                                          Good        TA      PConc       Gd   \n",
       "1                               Average/Typical        TA     CBlock       Gd   \n",
       "2                                          Good        TA      PConc       Gd   \n",
       "3                               Average/Typical        TA     BrkTil       TA   \n",
       "\n",
       "  BsmtCond  \n",
       "0       TA  \n",
       "1       TA  \n",
       "2       TA  \n",
       "3       Gd  "
      ]
     },
     "execution_count": 141,
     "metadata": {},
     "output_type": "execute_result"
    }
   ],
   "source": [
    "house_data.iloc[:4,15:25]"
   ]
  },
  {
   "cell_type": "markdown",
   "id": "607741a7",
   "metadata": {},
   "source": [
    "## ExterCond: Evaluates the present condition of the material on the exterior\n",
    "### Ex = Excellent\n",
    "### Gd = Good\n",
    "### TA = Average/Typical\n",
    "### Fa = Fair\n",
    "### Po = Poor"
   ]
  },
  {
   "cell_type": "code",
   "execution_count": 142,
   "id": "00f8648a",
   "metadata": {},
   "outputs": [],
   "source": [
    "house_data['ExterCond'] = house_data['ExterCond'].replace({'Ex':'Excellent','Gd':'Good','TA':'Average/Typical','Fa':'Fair','Po':'Poor'})"
   ]
  },
  {
   "cell_type": "code",
   "execution_count": 143,
   "id": "fa20c79d",
   "metadata": {},
   "outputs": [
    {
     "data": {
      "text/plain": [
       "ExterCond\n",
       "Average/Typical    1282\n",
       "Good                146\n",
       "Fair                 28\n",
       "Excellent             3\n",
       "Poor                  1\n",
       "Name: count, dtype: int64"
      ]
     },
     "execution_count": 143,
     "metadata": {},
     "output_type": "execute_result"
    }
   ],
   "source": [
    "house_data['ExterCond'].value_counts()"
   ]
  },
  {
   "cell_type": "code",
   "execution_count": 144,
   "id": "750373e2",
   "metadata": {},
   "outputs": [],
   "source": [
    "house_data.rename(columns={'ExterCond':'Evaluation present condition of material on Exterior'},inplace=True)"
   ]
  },
  {
   "cell_type": "code",
   "execution_count": 145,
   "id": "a1902131",
   "metadata": {},
   "outputs": [
    {
     "data": {
      "text/html": [
       "<div>\n",
       "<style scoped>\n",
       "    .dataframe tbody tr th:only-of-type {\n",
       "        vertical-align: middle;\n",
       "    }\n",
       "\n",
       "    .dataframe tbody tr th {\n",
       "        vertical-align: top;\n",
       "    }\n",
       "\n",
       "    .dataframe thead th {\n",
       "        text-align: right;\n",
       "    }\n",
       "</style>\n",
       "<table border=\"1\" class=\"dataframe\">\n",
       "  <thead>\n",
       "    <tr style=\"text-align: right;\">\n",
       "      <th></th>\n",
       "      <th>Original construction date</th>\n",
       "      <th>Remodel date of property</th>\n",
       "      <th>Type of Roof</th>\n",
       "      <th>Material used in Roof</th>\n",
       "      <th>Exterior Covering on the House</th>\n",
       "      <th>Evaluation of Quality of material on Exterior</th>\n",
       "      <th>Evaluation present condition of material on Exterior</th>\n",
       "      <th>Foundation</th>\n",
       "      <th>BsmtQual</th>\n",
       "      <th>BsmtCond</th>\n",
       "    </tr>\n",
       "  </thead>\n",
       "  <tbody>\n",
       "    <tr>\n",
       "      <th>0</th>\n",
       "      <td>2003</td>\n",
       "      <td>2003</td>\n",
       "      <td>Gable</td>\n",
       "      <td>Standard (Composite) Shingle</td>\n",
       "      <td>Vinyl Siding</td>\n",
       "      <td>Good</td>\n",
       "      <td>Average/Typical</td>\n",
       "      <td>PConc</td>\n",
       "      <td>Gd</td>\n",
       "      <td>TA</td>\n",
       "    </tr>\n",
       "    <tr>\n",
       "      <th>1</th>\n",
       "      <td>1976</td>\n",
       "      <td>1976</td>\n",
       "      <td>Gable</td>\n",
       "      <td>Standard (Composite) Shingle</td>\n",
       "      <td>Metal Siding</td>\n",
       "      <td>Average/Typical</td>\n",
       "      <td>Average/Typical</td>\n",
       "      <td>CBlock</td>\n",
       "      <td>Gd</td>\n",
       "      <td>TA</td>\n",
       "    </tr>\n",
       "    <tr>\n",
       "      <th>2</th>\n",
       "      <td>2001</td>\n",
       "      <td>2002</td>\n",
       "      <td>Gable</td>\n",
       "      <td>Standard (Composite) Shingle</td>\n",
       "      <td>Vinyl Siding</td>\n",
       "      <td>Good</td>\n",
       "      <td>Average/Typical</td>\n",
       "      <td>PConc</td>\n",
       "      <td>Gd</td>\n",
       "      <td>TA</td>\n",
       "    </tr>\n",
       "    <tr>\n",
       "      <th>3</th>\n",
       "      <td>1915</td>\n",
       "      <td>1970</td>\n",
       "      <td>Gable</td>\n",
       "      <td>Standard (Composite) Shingle</td>\n",
       "      <td>Wood Siding &amp; Wood Shingles</td>\n",
       "      <td>Average/Typical</td>\n",
       "      <td>Average/Typical</td>\n",
       "      <td>BrkTil</td>\n",
       "      <td>TA</td>\n",
       "      <td>Gd</td>\n",
       "    </tr>\n",
       "  </tbody>\n",
       "</table>\n",
       "</div>"
      ],
      "text/plain": [
       "   Original construction date  Remodel date of property Type of Roof  \\\n",
       "0                        2003                      2003        Gable   \n",
       "1                        1976                      1976        Gable   \n",
       "2                        2001                      2002        Gable   \n",
       "3                        1915                      1970        Gable   \n",
       "\n",
       "          Material used in Roof Exterior Covering on the House  \\\n",
       "0  Standard (Composite) Shingle                   Vinyl Siding   \n",
       "1  Standard (Composite) Shingle                   Metal Siding   \n",
       "2  Standard (Composite) Shingle                   Vinyl Siding   \n",
       "3  Standard (Composite) Shingle    Wood Siding & Wood Shingles   \n",
       "\n",
       "  Evaluation of Quality of material on Exterior  \\\n",
       "0                                          Good   \n",
       "1                               Average/Typical   \n",
       "2                                          Good   \n",
       "3                               Average/Typical   \n",
       "\n",
       "  Evaluation present condition of material on Exterior Foundation BsmtQual  \\\n",
       "0                                    Average/Typical        PConc       Gd   \n",
       "1                                    Average/Typical       CBlock       Gd   \n",
       "2                                    Average/Typical        PConc       Gd   \n",
       "3                                    Average/Typical       BrkTil       TA   \n",
       "\n",
       "  BsmtCond  \n",
       "0       TA  \n",
       "1       TA  \n",
       "2       TA  \n",
       "3       Gd  "
      ]
     },
     "execution_count": 145,
     "metadata": {},
     "output_type": "execute_result"
    }
   ],
   "source": [
    "house_data.iloc[:4,15:25]"
   ]
  },
  {
   "cell_type": "markdown",
   "id": "844e432f",
   "metadata": {},
   "source": [
    "## Foundation: Type of foundation\n",
    "### BrkTil = Brick & Tile\n",
    "###  CBlock =  Cinder Block\n",
    "### PConc  = Poured Contrete      \t\n",
    "### Slab  = Slab\n",
    "### Stone = Stone\n",
    "### Wood = Wood"
   ]
  },
  {
   "cell_type": "code",
   "execution_count": 146,
   "id": "6fd9eadc",
   "metadata": {},
   "outputs": [],
   "source": [
    "house_data['Foundation'] = house_data['Foundation'].replace({'BrkTil': 'Brick & Tile','CBlock':'Cinder Block','PConc':'Poured Contrete'})"
   ]
  },
  {
   "cell_type": "code",
   "execution_count": 147,
   "id": "cdad3080",
   "metadata": {},
   "outputs": [
    {
     "data": {
      "text/plain": [
       "Foundation\n",
       "Poured Contrete    647\n",
       "Cinder Block       634\n",
       "Brick & Tile       146\n",
       "Slab                24\n",
       "Stone                6\n",
       "Wood                 3\n",
       "Name: count, dtype: int64"
      ]
     },
     "execution_count": 147,
     "metadata": {},
     "output_type": "execute_result"
    }
   ],
   "source": [
    "house_data['Foundation'].value_counts()"
   ]
  },
  {
   "cell_type": "code",
   "execution_count": 148,
   "id": "94f0da13",
   "metadata": {},
   "outputs": [],
   "source": [
    "house_data.rename(columns={'Foundation':'Type of Foundation'},inplace=True)"
   ]
  },
  {
   "cell_type": "code",
   "execution_count": 149,
   "id": "4fd00b64",
   "metadata": {},
   "outputs": [
    {
     "data": {
      "text/html": [
       "<div>\n",
       "<style scoped>\n",
       "    .dataframe tbody tr th:only-of-type {\n",
       "        vertical-align: middle;\n",
       "    }\n",
       "\n",
       "    .dataframe tbody tr th {\n",
       "        vertical-align: top;\n",
       "    }\n",
       "\n",
       "    .dataframe thead th {\n",
       "        text-align: right;\n",
       "    }\n",
       "</style>\n",
       "<table border=\"1\" class=\"dataframe\">\n",
       "  <thead>\n",
       "    <tr style=\"text-align: right;\">\n",
       "      <th></th>\n",
       "      <th>Original construction date</th>\n",
       "      <th>Remodel date of property</th>\n",
       "      <th>Type of Roof</th>\n",
       "      <th>Material used in Roof</th>\n",
       "      <th>Exterior Covering on the House</th>\n",
       "      <th>Evaluation of Quality of material on Exterior</th>\n",
       "      <th>Evaluation present condition of material on Exterior</th>\n",
       "      <th>Type of Foundation</th>\n",
       "      <th>BsmtQual</th>\n",
       "      <th>BsmtCond</th>\n",
       "    </tr>\n",
       "  </thead>\n",
       "  <tbody>\n",
       "    <tr>\n",
       "      <th>35</th>\n",
       "      <td>2004</td>\n",
       "      <td>2005</td>\n",
       "      <td>Gable</td>\n",
       "      <td>Standard (Composite) Shingle</td>\n",
       "      <td>Vinyl Siding</td>\n",
       "      <td>Good</td>\n",
       "      <td>Average/Typical</td>\n",
       "      <td>Poured Contrete</td>\n",
       "      <td>Ex</td>\n",
       "      <td>TA</td>\n",
       "    </tr>\n",
       "    <tr>\n",
       "      <th>36</th>\n",
       "      <td>1994</td>\n",
       "      <td>1995</td>\n",
       "      <td>Gable</td>\n",
       "      <td>Standard (Composite) Shingle</td>\n",
       "      <td>Vinyl Siding</td>\n",
       "      <td>Average/Typical</td>\n",
       "      <td>Average/Typical</td>\n",
       "      <td>Poured Contrete</td>\n",
       "      <td>Gd</td>\n",
       "      <td>TA</td>\n",
       "    </tr>\n",
       "    <tr>\n",
       "      <th>37</th>\n",
       "      <td>1954</td>\n",
       "      <td>1990</td>\n",
       "      <td>Hip</td>\n",
       "      <td>Standard (Composite) Shingle</td>\n",
       "      <td>Wood Siding</td>\n",
       "      <td>Average/Typical</td>\n",
       "      <td>Average/Typical</td>\n",
       "      <td>Cinder Block</td>\n",
       "      <td>TA</td>\n",
       "      <td>TA</td>\n",
       "    </tr>\n",
       "    <tr>\n",
       "      <th>38</th>\n",
       "      <td>1953</td>\n",
       "      <td>2007</td>\n",
       "      <td>Gable</td>\n",
       "      <td>Standard (Composite) Shingle</td>\n",
       "      <td>Vinyl Siding</td>\n",
       "      <td>Average/Typical</td>\n",
       "      <td>Good</td>\n",
       "      <td>Cinder Block</td>\n",
       "      <td>TA</td>\n",
       "      <td>TA</td>\n",
       "    </tr>\n",
       "    <tr>\n",
       "      <th>39</th>\n",
       "      <td>1955</td>\n",
       "      <td>1955</td>\n",
       "      <td>Gable</td>\n",
       "      <td>Standard (Composite) Shingle</td>\n",
       "      <td>Asbestos Shingles &amp; Plywood</td>\n",
       "      <td>Average/Typical</td>\n",
       "      <td>Average/Typical</td>\n",
       "      <td>Poured Contrete</td>\n",
       "      <td>No</td>\n",
       "      <td>No</td>\n",
       "    </tr>\n",
       "  </tbody>\n",
       "</table>\n",
       "</div>"
      ],
      "text/plain": [
       "    Original construction date  Remodel date of property Type of Roof  \\\n",
       "35                        2004                      2005        Gable   \n",
       "36                        1994                      1995        Gable   \n",
       "37                        1954                      1990          Hip   \n",
       "38                        1953                      2007        Gable   \n",
       "39                        1955                      1955        Gable   \n",
       "\n",
       "           Material used in Roof Exterior Covering on the House  \\\n",
       "35  Standard (Composite) Shingle                   Vinyl Siding   \n",
       "36  Standard (Composite) Shingle                   Vinyl Siding   \n",
       "37  Standard (Composite) Shingle                    Wood Siding   \n",
       "38  Standard (Composite) Shingle                   Vinyl Siding   \n",
       "39  Standard (Composite) Shingle    Asbestos Shingles & Plywood   \n",
       "\n",
       "   Evaluation of Quality of material on Exterior  \\\n",
       "35                                          Good   \n",
       "36                               Average/Typical   \n",
       "37                               Average/Typical   \n",
       "38                               Average/Typical   \n",
       "39                               Average/Typical   \n",
       "\n",
       "   Evaluation present condition of material on Exterior Type of Foundation  \\\n",
       "35                                    Average/Typical      Poured Contrete   \n",
       "36                                    Average/Typical      Poured Contrete   \n",
       "37                                    Average/Typical         Cinder Block   \n",
       "38                                               Good         Cinder Block   \n",
       "39                                    Average/Typical      Poured Contrete   \n",
       "\n",
       "   BsmtQual BsmtCond  \n",
       "35       Ex       TA  \n",
       "36       Gd       TA  \n",
       "37       TA       TA  \n",
       "38       TA       TA  \n",
       "39       No       No  "
      ]
     },
     "execution_count": 149,
     "metadata": {},
     "output_type": "execute_result"
    }
   ],
   "source": [
    "house_data.iloc[35:40,15:25]"
   ]
  },
  {
   "cell_type": "markdown",
   "id": "e56d60c2",
   "metadata": {},
   "source": [
    "## BsmtQual: Evaluates the height of the basement\n",
    "### Ex = Excellent (100+ inches)       \t\n",
    "### Gd = Good (90-99 inches)\n",
    "### TA = Typical (80-89 inches)\n",
    "### Fa = Fair (70-79 inches)\n",
    "### Po = Poor (<70 inches\n",
    "### No = No Basement"
   ]
  },
  {
   "cell_type": "code",
   "execution_count": 150,
   "id": "89c24968",
   "metadata": {},
   "outputs": [],
   "source": [
    "house_data['BsmtQual'] = house_data['BsmtCond'].replace({'Ex':'Excellent (100+ inches)','Gd':'Good (90-99 inches)','TA':'Typical (80-89 inches)','Fa':'Fair (70-79 inches)','Po':'Poor (<70 inches)','No':'No Basement'})"
   ]
  },
  {
   "cell_type": "code",
   "execution_count": 151,
   "id": "1d2abd49",
   "metadata": {},
   "outputs": [],
   "source": [
    "house_data.rename(columns={'BsmtQual':'Evaluation of hight of basement'},inplace=True)"
   ]
  },
  {
   "cell_type": "markdown",
   "id": "8dbd268f",
   "metadata": {},
   "source": [
    "## Unique Values"
   ]
  },
  {
   "cell_type": "code",
   "execution_count": 152,
   "id": "d34b72a1",
   "metadata": {},
   "outputs": [
    {
     "data": {
      "text/plain": [
       "array(['Typical (80-89 inches)', 'Good (90-99 inches)', 'No Basement',\n",
       "       'Fair (70-79 inches)', 'Poor (<70 inches)'], dtype=object)"
      ]
     },
     "execution_count": 152,
     "metadata": {},
     "output_type": "execute_result"
    }
   ],
   "source": [
    "house_data['Evaluation of hight of basement'].unique()"
   ]
  },
  {
   "cell_type": "code",
   "execution_count": 153,
   "id": "d7390ce7",
   "metadata": {},
   "outputs": [
    {
     "data": {
      "text/html": [
       "<div>\n",
       "<style scoped>\n",
       "    .dataframe tbody tr th:only-of-type {\n",
       "        vertical-align: middle;\n",
       "    }\n",
       "\n",
       "    .dataframe tbody tr th {\n",
       "        vertical-align: top;\n",
       "    }\n",
       "\n",
       "    .dataframe thead th {\n",
       "        text-align: right;\n",
       "    }\n",
       "</style>\n",
       "<table border=\"1\" class=\"dataframe\">\n",
       "  <thead>\n",
       "    <tr style=\"text-align: right;\">\n",
       "      <th></th>\n",
       "      <th>Original construction date</th>\n",
       "      <th>Remodel date of property</th>\n",
       "      <th>Type of Roof</th>\n",
       "      <th>Material used in Roof</th>\n",
       "      <th>Exterior Covering on the House</th>\n",
       "      <th>Evaluation of Quality of material on Exterior</th>\n",
       "      <th>Evaluation present condition of material on Exterior</th>\n",
       "      <th>Type of Foundation</th>\n",
       "      <th>Evaluation of hight of basement</th>\n",
       "      <th>BsmtCond</th>\n",
       "    </tr>\n",
       "  </thead>\n",
       "  <tbody>\n",
       "    <tr>\n",
       "      <th>90</th>\n",
       "      <td>1950</td>\n",
       "      <td>1950</td>\n",
       "      <td>Gable</td>\n",
       "      <td>Standard (Composite) Shingle</td>\n",
       "      <td>Brick Face &amp; Wood Siding</td>\n",
       "      <td>Average/Typical</td>\n",
       "      <td>Average/Typical</td>\n",
       "      <td>Slab</td>\n",
       "      <td>No Basement</td>\n",
       "      <td>No</td>\n",
       "    </tr>\n",
       "    <tr>\n",
       "      <th>91</th>\n",
       "      <td>1961</td>\n",
       "      <td>1961</td>\n",
       "      <td>Hip</td>\n",
       "      <td>Standard (Composite) Shingle</td>\n",
       "      <td>Hard Board</td>\n",
       "      <td>Average/Typical</td>\n",
       "      <td>Average/Typical</td>\n",
       "      <td>Cinder Block</td>\n",
       "      <td>Typical (80-89 inches)</td>\n",
       "      <td>TA</td>\n",
       "    </tr>\n",
       "    <tr>\n",
       "      <th>92</th>\n",
       "      <td>1921</td>\n",
       "      <td>2006</td>\n",
       "      <td>Gable</td>\n",
       "      <td>Standard (Composite) Shingle</td>\n",
       "      <td>Wood Siding</td>\n",
       "      <td>Average/Typical</td>\n",
       "      <td>Good</td>\n",
       "      <td>Brick &amp; Tile</td>\n",
       "      <td>Typical (80-89 inches)</td>\n",
       "      <td>TA</td>\n",
       "    </tr>\n",
       "  </tbody>\n",
       "</table>\n",
       "</div>"
      ],
      "text/plain": [
       "    Original construction date  Remodel date of property Type of Roof  \\\n",
       "90                        1950                      1950        Gable   \n",
       "91                        1961                      1961          Hip   \n",
       "92                        1921                      2006        Gable   \n",
       "\n",
       "           Material used in Roof Exterior Covering on the House  \\\n",
       "90  Standard (Composite) Shingle       Brick Face & Wood Siding   \n",
       "91  Standard (Composite) Shingle                     Hard Board   \n",
       "92  Standard (Composite) Shingle                    Wood Siding   \n",
       "\n",
       "   Evaluation of Quality of material on Exterior  \\\n",
       "90                               Average/Typical   \n",
       "91                               Average/Typical   \n",
       "92                               Average/Typical   \n",
       "\n",
       "   Evaluation present condition of material on Exterior Type of Foundation  \\\n",
       "90                                    Average/Typical                 Slab   \n",
       "91                                    Average/Typical         Cinder Block   \n",
       "92                                               Good         Brick & Tile   \n",
       "\n",
       "   Evaluation of hight of basement BsmtCond  \n",
       "90                     No Basement       No  \n",
       "91          Typical (80-89 inches)       TA  \n",
       "92          Typical (80-89 inches)       TA  "
      ]
     },
     "execution_count": 153,
     "metadata": {},
     "output_type": "execute_result"
    }
   ],
   "source": [
    "house_data.iloc[90:93,15:25]"
   ]
  },
  {
   "cell_type": "markdown",
   "id": "e32da154",
   "metadata": {},
   "source": [
    "## BsmtCond: Evaluate the general condition of the basement\n",
    "### Ex = Excellent\n",
    "### Gd = Good\n",
    "### TA = Typical - slight dampness allowed\n",
    "### Fa = Fair - dampness or some cracking or settling\n",
    "### Po = Poor - Severe cracking, settling, or wetness\n",
    "### No = No Basement"
   ]
  },
  {
   "cell_type": "code",
   "execution_count": 154,
   "id": "3b4a56f3",
   "metadata": {},
   "outputs": [],
   "source": [
    "house_data['BsmtCond'] = house_data['BsmtCond'].replace({'Ex':'Excellent','Gd':'Good','TA':'Typical - slight dampness allowed','Fa':'Fair - dampness or some cracking or settling','Po':'Poor - Severe cracking, settling, or wetness','No':'No Basement'})"
   ]
  },
  {
   "cell_type": "code",
   "execution_count": 155,
   "id": "292a5edf",
   "metadata": {},
   "outputs": [
    {
     "data": {
      "text/plain": [
       "BsmtCond\n",
       "Typical - slight dampness allowed               1311\n",
       "Good                                              65\n",
       "Fair - dampness or some cracking or settling      45\n",
       "No Basement                                       37\n",
       "Poor - Severe cracking, settling, or wetness       2\n",
       "Name: count, dtype: int64"
      ]
     },
     "execution_count": 155,
     "metadata": {},
     "output_type": "execute_result"
    }
   ],
   "source": [
    "house_data['BsmtCond'].value_counts()"
   ]
  },
  {
   "cell_type": "code",
   "execution_count": 156,
   "id": "f044469e",
   "metadata": {},
   "outputs": [],
   "source": [
    "house_data.rename(columns={'BsmtCond':'Evaluation of condition of Basement'},inplace=True)"
   ]
  },
  {
   "cell_type": "code",
   "execution_count": 157,
   "id": "69267799",
   "metadata": {},
   "outputs": [
    {
     "data": {
      "text/html": [
       "<div>\n",
       "<style scoped>\n",
       "    .dataframe tbody tr th:only-of-type {\n",
       "        vertical-align: middle;\n",
       "    }\n",
       "\n",
       "    .dataframe tbody tr th {\n",
       "        vertical-align: top;\n",
       "    }\n",
       "\n",
       "    .dataframe thead th {\n",
       "        text-align: right;\n",
       "    }\n",
       "</style>\n",
       "<table border=\"1\" class=\"dataframe\">\n",
       "  <thead>\n",
       "    <tr style=\"text-align: right;\">\n",
       "      <th></th>\n",
       "      <th>Original construction date</th>\n",
       "      <th>Remodel date of property</th>\n",
       "      <th>Type of Roof</th>\n",
       "      <th>Material used in Roof</th>\n",
       "      <th>Exterior Covering on the House</th>\n",
       "      <th>Evaluation of Quality of material on Exterior</th>\n",
       "      <th>Evaluation present condition of material on Exterior</th>\n",
       "      <th>Type of Foundation</th>\n",
       "      <th>Evaluation of hight of basement</th>\n",
       "      <th>Evaluation of condition of Basement</th>\n",
       "    </tr>\n",
       "  </thead>\n",
       "  <tbody>\n",
       "    <tr>\n",
       "      <th>0</th>\n",
       "      <td>2003</td>\n",
       "      <td>2003</td>\n",
       "      <td>Gable</td>\n",
       "      <td>Standard (Composite) Shingle</td>\n",
       "      <td>Vinyl Siding</td>\n",
       "      <td>Good</td>\n",
       "      <td>Average/Typical</td>\n",
       "      <td>Poured Contrete</td>\n",
       "      <td>Typical (80-89 inches)</td>\n",
       "      <td>Typical - slight dampness allowed</td>\n",
       "    </tr>\n",
       "    <tr>\n",
       "      <th>1</th>\n",
       "      <td>1976</td>\n",
       "      <td>1976</td>\n",
       "      <td>Gable</td>\n",
       "      <td>Standard (Composite) Shingle</td>\n",
       "      <td>Metal Siding</td>\n",
       "      <td>Average/Typical</td>\n",
       "      <td>Average/Typical</td>\n",
       "      <td>Cinder Block</td>\n",
       "      <td>Typical (80-89 inches)</td>\n",
       "      <td>Typical - slight dampness allowed</td>\n",
       "    </tr>\n",
       "    <tr>\n",
       "      <th>2</th>\n",
       "      <td>2001</td>\n",
       "      <td>2002</td>\n",
       "      <td>Gable</td>\n",
       "      <td>Standard (Composite) Shingle</td>\n",
       "      <td>Vinyl Siding</td>\n",
       "      <td>Good</td>\n",
       "      <td>Average/Typical</td>\n",
       "      <td>Poured Contrete</td>\n",
       "      <td>Typical (80-89 inches)</td>\n",
       "      <td>Typical - slight dampness allowed</td>\n",
       "    </tr>\n",
       "    <tr>\n",
       "      <th>3</th>\n",
       "      <td>1915</td>\n",
       "      <td>1970</td>\n",
       "      <td>Gable</td>\n",
       "      <td>Standard (Composite) Shingle</td>\n",
       "      <td>Wood Siding &amp; Wood Shingles</td>\n",
       "      <td>Average/Typical</td>\n",
       "      <td>Average/Typical</td>\n",
       "      <td>Brick &amp; Tile</td>\n",
       "      <td>Good (90-99 inches)</td>\n",
       "      <td>Good</td>\n",
       "    </tr>\n",
       "  </tbody>\n",
       "</table>\n",
       "</div>"
      ],
      "text/plain": [
       "   Original construction date  Remodel date of property Type of Roof  \\\n",
       "0                        2003                      2003        Gable   \n",
       "1                        1976                      1976        Gable   \n",
       "2                        2001                      2002        Gable   \n",
       "3                        1915                      1970        Gable   \n",
       "\n",
       "          Material used in Roof Exterior Covering on the House  \\\n",
       "0  Standard (Composite) Shingle                   Vinyl Siding   \n",
       "1  Standard (Composite) Shingle                   Metal Siding   \n",
       "2  Standard (Composite) Shingle                   Vinyl Siding   \n",
       "3  Standard (Composite) Shingle    Wood Siding & Wood Shingles   \n",
       "\n",
       "  Evaluation of Quality of material on Exterior  \\\n",
       "0                                          Good   \n",
       "1                               Average/Typical   \n",
       "2                                          Good   \n",
       "3                               Average/Typical   \n",
       "\n",
       "  Evaluation present condition of material on Exterior Type of Foundation  \\\n",
       "0                                    Average/Typical      Poured Contrete   \n",
       "1                                    Average/Typical         Cinder Block   \n",
       "2                                    Average/Typical      Poured Contrete   \n",
       "3                                    Average/Typical         Brick & Tile   \n",
       "\n",
       "  Evaluation of hight of basement Evaluation of condition of Basement  \n",
       "0          Typical (80-89 inches)   Typical - slight dampness allowed  \n",
       "1          Typical (80-89 inches)   Typical - slight dampness allowed  \n",
       "2          Typical (80-89 inches)   Typical - slight dampness allowed  \n",
       "3             Good (90-99 inches)                                Good  "
      ]
     },
     "execution_count": 157,
     "metadata": {},
     "output_type": "execute_result"
    }
   ],
   "source": [
    "house_data.iloc[:4,15:25]"
   ]
  },
  {
   "cell_type": "markdown",
   "id": "c4cfd4a0",
   "metadata": {},
   "source": [
    "## BsmtExposure: Refers to walkout or garden-level walls\n",
    "### Gd = Good Exposure\n",
    "### Av = Average Exposure (split levels or foyers typically score average or above)\n",
    "### Mn = Mimimum Exposure\n",
    "### No = No Exposure"
   ]
  },
  {
   "cell_type": "code",
   "execution_count": 158,
   "id": "650ce724",
   "metadata": {},
   "outputs": [],
   "source": [
    "house_data['BsmtExposure'] = house_data['BsmtExposure'].replace({'Gd':'Good Exposure','Av':'Average Exposure','Mn':'Mimimum Exposure','No':'No Exposure'})"
   ]
  },
  {
   "cell_type": "code",
   "execution_count": 159,
   "id": "a769cbd9",
   "metadata": {},
   "outputs": [],
   "source": [
    "house_data.rename(columns={'BsmtExposure':'Exposure Walkout or garden-level walls'},inplace=True)"
   ]
  },
  {
   "cell_type": "markdown",
   "id": "06bf6edb",
   "metadata": {},
   "source": [
    "## Unique Values"
   ]
  },
  {
   "cell_type": "code",
   "execution_count": 160,
   "id": "8c8d166b",
   "metadata": {},
   "outputs": [
    {
     "data": {
      "text/plain": [
       "array(['No Exposure', 'Good Exposure', 'Mimimum Exposure',\n",
       "       'Average Exposure'], dtype=object)"
      ]
     },
     "execution_count": 160,
     "metadata": {},
     "output_type": "execute_result"
    }
   ],
   "source": [
    "house_data['Exposure Walkout or garden-level walls'].unique()"
   ]
  },
  {
   "cell_type": "code",
   "execution_count": 161,
   "id": "3ea60f9e",
   "metadata": {},
   "outputs": [
    {
     "data": {
      "text/html": [
       "<div>\n",
       "<style scoped>\n",
       "    .dataframe tbody tr th:only-of-type {\n",
       "        vertical-align: middle;\n",
       "    }\n",
       "\n",
       "    .dataframe tbody tr th {\n",
       "        vertical-align: top;\n",
       "    }\n",
       "\n",
       "    .dataframe thead th {\n",
       "        text-align: right;\n",
       "    }\n",
       "</style>\n",
       "<table border=\"1\" class=\"dataframe\">\n",
       "  <thead>\n",
       "    <tr style=\"text-align: right;\">\n",
       "      <th></th>\n",
       "      <th>Evaluation of Quality of material on Exterior</th>\n",
       "      <th>Evaluation present condition of material on Exterior</th>\n",
       "      <th>Type of Foundation</th>\n",
       "      <th>Evaluation of hight of basement</th>\n",
       "      <th>Evaluation of condition of Basement</th>\n",
       "      <th>Exposure Walkout or garden-level walls</th>\n",
       "      <th>BsmtFinType1</th>\n",
       "      <th>BsmtFinSF1</th>\n",
       "      <th>BsmtFinType2</th>\n",
       "      <th>BsmtFinSF2</th>\n",
       "      <th>BsmtUnfSF</th>\n",
       "      <th>TotalBsmtSF</th>\n",
       "      <th>Heating</th>\n",
       "      <th>HeatingQC</th>\n",
       "      <th>CentralAir</th>\n",
       "      <th>Electrical</th>\n",
       "      <th>1stFlrSF</th>\n",
       "      <th>2ndFlrSF</th>\n",
       "      <th>LowQualFinSF</th>\n",
       "      <th>GrLivArea</th>\n",
       "    </tr>\n",
       "  </thead>\n",
       "  <tbody>\n",
       "    <tr>\n",
       "      <th>0</th>\n",
       "      <td>Good</td>\n",
       "      <td>Average/Typical</td>\n",
       "      <td>Poured Contrete</td>\n",
       "      <td>Typical (80-89 inches)</td>\n",
       "      <td>Typical - slight dampness allowed</td>\n",
       "      <td>No Exposure</td>\n",
       "      <td>GLQ</td>\n",
       "      <td>706</td>\n",
       "      <td>Unf</td>\n",
       "      <td>0</td>\n",
       "      <td>150</td>\n",
       "      <td>856</td>\n",
       "      <td>GasA</td>\n",
       "      <td>Ex</td>\n",
       "      <td>Y</td>\n",
       "      <td>SBrkr</td>\n",
       "      <td>856</td>\n",
       "      <td>854</td>\n",
       "      <td>0</td>\n",
       "      <td>1710</td>\n",
       "    </tr>\n",
       "    <tr>\n",
       "      <th>1</th>\n",
       "      <td>Average/Typical</td>\n",
       "      <td>Average/Typical</td>\n",
       "      <td>Cinder Block</td>\n",
       "      <td>Typical (80-89 inches)</td>\n",
       "      <td>Typical - slight dampness allowed</td>\n",
       "      <td>Good Exposure</td>\n",
       "      <td>ALQ</td>\n",
       "      <td>978</td>\n",
       "      <td>Unf</td>\n",
       "      <td>0</td>\n",
       "      <td>284</td>\n",
       "      <td>1262</td>\n",
       "      <td>GasA</td>\n",
       "      <td>Ex</td>\n",
       "      <td>Y</td>\n",
       "      <td>SBrkr</td>\n",
       "      <td>1262</td>\n",
       "      <td>0</td>\n",
       "      <td>0</td>\n",
       "      <td>1262</td>\n",
       "    </tr>\n",
       "    <tr>\n",
       "      <th>2</th>\n",
       "      <td>Good</td>\n",
       "      <td>Average/Typical</td>\n",
       "      <td>Poured Contrete</td>\n",
       "      <td>Typical (80-89 inches)</td>\n",
       "      <td>Typical - slight dampness allowed</td>\n",
       "      <td>Mimimum Exposure</td>\n",
       "      <td>GLQ</td>\n",
       "      <td>486</td>\n",
       "      <td>Unf</td>\n",
       "      <td>0</td>\n",
       "      <td>434</td>\n",
       "      <td>920</td>\n",
       "      <td>GasA</td>\n",
       "      <td>Ex</td>\n",
       "      <td>Y</td>\n",
       "      <td>SBrkr</td>\n",
       "      <td>920</td>\n",
       "      <td>866</td>\n",
       "      <td>0</td>\n",
       "      <td>1786</td>\n",
       "    </tr>\n",
       "  </tbody>\n",
       "</table>\n",
       "</div>"
      ],
      "text/plain": [
       "  Evaluation of Quality of material on Exterior  \\\n",
       "0                                          Good   \n",
       "1                               Average/Typical   \n",
       "2                                          Good   \n",
       "\n",
       "  Evaluation present condition of material on Exterior Type of Foundation  \\\n",
       "0                                    Average/Typical      Poured Contrete   \n",
       "1                                    Average/Typical         Cinder Block   \n",
       "2                                    Average/Typical      Poured Contrete   \n",
       "\n",
       "  Evaluation of hight of basement Evaluation of condition of Basement  \\\n",
       "0          Typical (80-89 inches)   Typical - slight dampness allowed   \n",
       "1          Typical (80-89 inches)   Typical - slight dampness allowed   \n",
       "2          Typical (80-89 inches)   Typical - slight dampness allowed   \n",
       "\n",
       "  Exposure Walkout or garden-level walls BsmtFinType1  BsmtFinSF1  \\\n",
       "0                            No Exposure          GLQ         706   \n",
       "1                          Good Exposure          ALQ         978   \n",
       "2                       Mimimum Exposure          GLQ         486   \n",
       "\n",
       "  BsmtFinType2  BsmtFinSF2  BsmtUnfSF  TotalBsmtSF Heating HeatingQC  \\\n",
       "0          Unf           0        150          856    GasA        Ex   \n",
       "1          Unf           0        284         1262    GasA        Ex   \n",
       "2          Unf           0        434          920    GasA        Ex   \n",
       "\n",
       "  CentralAir Electrical  1stFlrSF  2ndFlrSF  LowQualFinSF  GrLivArea  \n",
       "0          Y      SBrkr       856       854             0       1710  \n",
       "1          Y      SBrkr      1262         0             0       1262  \n",
       "2          Y      SBrkr       920       866             0       1786  "
      ]
     },
     "execution_count": 161,
     "metadata": {},
     "output_type": "execute_result"
    }
   ],
   "source": [
    "house_data.iloc[:3,20:40]"
   ]
  },
  {
   "cell_type": "markdown",
   "id": "01efa3f2",
   "metadata": {},
   "source": [
    "## BsmtFinType1: Rating of basement finished area\n",
    "### GLQ = Good Living Quarters\n",
    "### ALQ = Average Living Quarters\n",
    "### BLQ = Below Average Living Quarters       \t\n",
    "### Rec = Average Rec Room\n",
    "### LwQ = Low Quality\n",
    "### Unf = Unfinished\n",
    "### No = No Basement"
   ]
  },
  {
   "cell_type": "code",
   "execution_count": 162,
   "id": "14a91974",
   "metadata": {},
   "outputs": [],
   "source": [
    "house_data['BsmtFinType1'] = house_data['BsmtFinType1'].replace({'GLQ':'Good Living Quarters','ALQ':'Average Living Quarters','BLQ':'Below Average Living Quarters','Rec':'Average Rec Room','LwQ':'Low Quality','Unf':'Unfinished','No':'No Basement'})"
   ]
  },
  {
   "cell_type": "code",
   "execution_count": 163,
   "id": "81a4f904",
   "metadata": {},
   "outputs": [],
   "source": [
    "house_data.rename(columns={'BsmtFinType1':'Basement Finished area rating'},inplace=True)"
   ]
  },
  {
   "cell_type": "code",
   "execution_count": 164,
   "id": "3df198ec",
   "metadata": {},
   "outputs": [
    {
     "data": {
      "text/plain": [
       "Basement Finished area rating\n",
       "Unfinished                       430\n",
       "Good Living Quarters             418\n",
       "Average Living Quarters          220\n",
       "Below Average Living Quarters    148\n",
       "Average Rec Room                 133\n",
       "Low Quality                       74\n",
       "No Basement                       37\n",
       "Name: count, dtype: int64"
      ]
     },
     "execution_count": 164,
     "metadata": {},
     "output_type": "execute_result"
    }
   ],
   "source": [
    "house_data['Basement Finished area rating'].value_counts()"
   ]
  },
  {
   "cell_type": "markdown",
   "id": "372fd6d3",
   "metadata": {},
   "source": [
    "## BsmtFinSF1: Type 1 finished square feet"
   ]
  },
  {
   "cell_type": "code",
   "execution_count": 165,
   "id": "a858138b",
   "metadata": {},
   "outputs": [],
   "source": [
    "house_data.rename(columns={'BsmtFinSF1':'Finished square feet area in basement'},inplace=True)"
   ]
  },
  {
   "cell_type": "code",
   "execution_count": 166,
   "id": "98851d2a",
   "metadata": {},
   "outputs": [
    {
     "data": {
      "text/plain": [
       "Finished square feet area in basement\n",
       "0       467\n",
       "24       12\n",
       "16        9\n",
       "686       5\n",
       "662       5\n",
       "       ... \n",
       "1338      1\n",
       "1324      1\n",
       "1460      1\n",
       "328       1\n",
       "830       1\n",
       "Name: count, Length: 637, dtype: int64"
      ]
     },
     "execution_count": 166,
     "metadata": {},
     "output_type": "execute_result"
    }
   ],
   "source": [
    "house_data['Finished square feet area in basement'].value_counts()"
   ]
  },
  {
   "cell_type": "code",
   "execution_count": 167,
   "id": "e4df11dd",
   "metadata": {},
   "outputs": [
    {
     "data": {
      "text/html": [
       "<div>\n",
       "<style scoped>\n",
       "    .dataframe tbody tr th:only-of-type {\n",
       "        vertical-align: middle;\n",
       "    }\n",
       "\n",
       "    .dataframe tbody tr th {\n",
       "        vertical-align: top;\n",
       "    }\n",
       "\n",
       "    .dataframe thead th {\n",
       "        text-align: right;\n",
       "    }\n",
       "</style>\n",
       "<table border=\"1\" class=\"dataframe\">\n",
       "  <thead>\n",
       "    <tr style=\"text-align: right;\">\n",
       "      <th></th>\n",
       "      <th>Evaluation of Quality of material on Exterior</th>\n",
       "      <th>Evaluation present condition of material on Exterior</th>\n",
       "      <th>Type of Foundation</th>\n",
       "      <th>Evaluation of hight of basement</th>\n",
       "      <th>Evaluation of condition of Basement</th>\n",
       "      <th>Exposure Walkout or garden-level walls</th>\n",
       "      <th>Basement Finished area rating</th>\n",
       "      <th>Finished square feet area in basement</th>\n",
       "      <th>BsmtFinType2</th>\n",
       "      <th>BsmtFinSF2</th>\n",
       "      <th>BsmtUnfSF</th>\n",
       "      <th>TotalBsmtSF</th>\n",
       "      <th>Heating</th>\n",
       "      <th>HeatingQC</th>\n",
       "      <th>CentralAir</th>\n",
       "      <th>Electrical</th>\n",
       "      <th>1stFlrSF</th>\n",
       "      <th>2ndFlrSF</th>\n",
       "      <th>LowQualFinSF</th>\n",
       "      <th>GrLivArea</th>\n",
       "    </tr>\n",
       "  </thead>\n",
       "  <tbody>\n",
       "    <tr>\n",
       "      <th>1456</th>\n",
       "      <td>Average/Typical</td>\n",
       "      <td>Average/Typical</td>\n",
       "      <td>Cinder Block</td>\n",
       "      <td>Typical (80-89 inches)</td>\n",
       "      <td>Typical - slight dampness allowed</td>\n",
       "      <td>No Exposure</td>\n",
       "      <td>Average Living Quarters</td>\n",
       "      <td>790</td>\n",
       "      <td>Rec</td>\n",
       "      <td>163</td>\n",
       "      <td>589</td>\n",
       "      <td>1542</td>\n",
       "      <td>GasA</td>\n",
       "      <td>TA</td>\n",
       "      <td>Y</td>\n",
       "      <td>SBrkr</td>\n",
       "      <td>2073</td>\n",
       "      <td>0</td>\n",
       "      <td>0</td>\n",
       "      <td>2073</td>\n",
       "    </tr>\n",
       "    <tr>\n",
       "      <th>1457</th>\n",
       "      <td>Excellent</td>\n",
       "      <td>Good</td>\n",
       "      <td>Stone</td>\n",
       "      <td>Good (90-99 inches)</td>\n",
       "      <td>Good</td>\n",
       "      <td>No Exposure</td>\n",
       "      <td>Good Living Quarters</td>\n",
       "      <td>275</td>\n",
       "      <td>Unf</td>\n",
       "      <td>0</td>\n",
       "      <td>877</td>\n",
       "      <td>1152</td>\n",
       "      <td>GasA</td>\n",
       "      <td>Ex</td>\n",
       "      <td>Y</td>\n",
       "      <td>SBrkr</td>\n",
       "      <td>1188</td>\n",
       "      <td>1152</td>\n",
       "      <td>0</td>\n",
       "      <td>2340</td>\n",
       "    </tr>\n",
       "    <tr>\n",
       "      <th>1458</th>\n",
       "      <td>Average/Typical</td>\n",
       "      <td>Average/Typical</td>\n",
       "      <td>Cinder Block</td>\n",
       "      <td>Typical (80-89 inches)</td>\n",
       "      <td>Typical - slight dampness allowed</td>\n",
       "      <td>Mimimum Exposure</td>\n",
       "      <td>Good Living Quarters</td>\n",
       "      <td>49</td>\n",
       "      <td>Rec</td>\n",
       "      <td>1029</td>\n",
       "      <td>0</td>\n",
       "      <td>1078</td>\n",
       "      <td>GasA</td>\n",
       "      <td>Gd</td>\n",
       "      <td>Y</td>\n",
       "      <td>FuseA</td>\n",
       "      <td>1078</td>\n",
       "      <td>0</td>\n",
       "      <td>0</td>\n",
       "      <td>1078</td>\n",
       "    </tr>\n",
       "    <tr>\n",
       "      <th>1459</th>\n",
       "      <td>Good</td>\n",
       "      <td>Average/Typical</td>\n",
       "      <td>Cinder Block</td>\n",
       "      <td>Typical (80-89 inches)</td>\n",
       "      <td>Typical - slight dampness allowed</td>\n",
       "      <td>No Exposure</td>\n",
       "      <td>Below Average Living Quarters</td>\n",
       "      <td>830</td>\n",
       "      <td>LwQ</td>\n",
       "      <td>290</td>\n",
       "      <td>136</td>\n",
       "      <td>1256</td>\n",
       "      <td>GasA</td>\n",
       "      <td>Gd</td>\n",
       "      <td>Y</td>\n",
       "      <td>SBrkr</td>\n",
       "      <td>1256</td>\n",
       "      <td>0</td>\n",
       "      <td>0</td>\n",
       "      <td>1256</td>\n",
       "    </tr>\n",
       "  </tbody>\n",
       "</table>\n",
       "</div>"
      ],
      "text/plain": [
       "     Evaluation of Quality of material on Exterior  \\\n",
       "1456                               Average/Typical   \n",
       "1457                                     Excellent   \n",
       "1458                               Average/Typical   \n",
       "1459                                          Good   \n",
       "\n",
       "     Evaluation present condition of material on Exterior Type of Foundation  \\\n",
       "1456                                    Average/Typical         Cinder Block   \n",
       "1457                                               Good                Stone   \n",
       "1458                                    Average/Typical         Cinder Block   \n",
       "1459                                    Average/Typical         Cinder Block   \n",
       "\n",
       "     Evaluation of hight of basement Evaluation of condition of Basement  \\\n",
       "1456          Typical (80-89 inches)   Typical - slight dampness allowed   \n",
       "1457             Good (90-99 inches)                                Good   \n",
       "1458          Typical (80-89 inches)   Typical - slight dampness allowed   \n",
       "1459          Typical (80-89 inches)   Typical - slight dampness allowed   \n",
       "\n",
       "     Exposure Walkout or garden-level walls  Basement Finished area rating  \\\n",
       "1456                            No Exposure        Average Living Quarters   \n",
       "1457                            No Exposure           Good Living Quarters   \n",
       "1458                       Mimimum Exposure           Good Living Quarters   \n",
       "1459                            No Exposure  Below Average Living Quarters   \n",
       "\n",
       "      Finished square feet area in basement BsmtFinType2  BsmtFinSF2  \\\n",
       "1456                                    790          Rec         163   \n",
       "1457                                    275          Unf           0   \n",
       "1458                                     49          Rec        1029   \n",
       "1459                                    830          LwQ         290   \n",
       "\n",
       "      BsmtUnfSF  TotalBsmtSF Heating HeatingQC CentralAir Electrical  \\\n",
       "1456        589         1542    GasA        TA          Y      SBrkr   \n",
       "1457        877         1152    GasA        Ex          Y      SBrkr   \n",
       "1458          0         1078    GasA        Gd          Y      FuseA   \n",
       "1459        136         1256    GasA        Gd          Y      SBrkr   \n",
       "\n",
       "      1stFlrSF  2ndFlrSF  LowQualFinSF  GrLivArea  \n",
       "1456      2073         0             0       2073  \n",
       "1457      1188      1152             0       2340  \n",
       "1458      1078         0             0       1078  \n",
       "1459      1256         0             0       1256  "
      ]
     },
     "execution_count": 167,
     "metadata": {},
     "output_type": "execute_result"
    }
   ],
   "source": [
    "house_data.iloc[1456:1460,20:40]"
   ]
  },
  {
   "cell_type": "markdown",
   "id": "a20e1cdb",
   "metadata": {},
   "source": [
    "## BsmtFinType2: Rating of basement finished area (if multiple types)\n",
    "### GLQ = Good Living Quarters\n",
    "### ALQ = Average Living Quarters\n",
    "### BLQ = Below Average Living Quarters       \t\n",
    "### Rec = Average Rec Room\n",
    "### LwQ = Low Quality\n",
    "### Unf = Unfinished\n",
    "### No = No Basement"
   ]
  },
  {
   "cell_type": "code",
   "execution_count": 168,
   "id": "ea3a31f9",
   "metadata": {},
   "outputs": [],
   "source": [
    "house_data['BsmtFinType2'] = house_data['BsmtFinType2'].replace({'GLQ':'Good Living Quarters','ALQ':'Average Living Quarters','BLQ':'Below Average Living Quarters','Rec':'Average Rec Room','LwQ':'Low Quality','Unf':'Unfinished','No':'No Basement'})"
   ]
  },
  {
   "cell_type": "code",
   "execution_count": 169,
   "id": "d050d299",
   "metadata": {},
   "outputs": [],
   "source": [
    "house_data.rename(columns={'BsmtFinType2':'Basement Finished area rating,if multiple types'},inplace=True)"
   ]
  },
  {
   "cell_type": "code",
   "execution_count": 170,
   "id": "4f72a9a4",
   "metadata": {},
   "outputs": [
    {
     "data": {
      "text/plain": [
       "Basement Finished area rating,if multiple types\n",
       "Unfinished                       1256\n",
       "Average Rec Room                   54\n",
       "Low Quality                        46\n",
       "No Basement                        38\n",
       "Below Average Living Quarters      33\n",
       "Average Living Quarters            19\n",
       "Good Living Quarters               14\n",
       "Name: count, dtype: int64"
      ]
     },
     "execution_count": 170,
     "metadata": {},
     "output_type": "execute_result"
    }
   ],
   "source": [
    "house_data['Basement Finished area rating,if multiple types'].value_counts()"
   ]
  },
  {
   "cell_type": "markdown",
   "id": "9149b3de",
   "metadata": {},
   "source": [
    "## BsmtFinSF2: Type 2 finished square feet"
   ]
  },
  {
   "cell_type": "code",
   "execution_count": 171,
   "id": "eb814891",
   "metadata": {},
   "outputs": [],
   "source": [
    "house_data.rename(columns={'BsmtFinSF2':'Finished square feet area in basement,type 2'},inplace=True)"
   ]
  },
  {
   "cell_type": "code",
   "execution_count": 172,
   "id": "d460fd0f",
   "metadata": {},
   "outputs": [
    {
     "data": {
      "text/plain": [
       "Finished square feet area in basement,type 2\n",
       "0       1293\n",
       "180        5\n",
       "374        3\n",
       "551        2\n",
       "147        2\n",
       "        ... \n",
       "532        1\n",
       "165        1\n",
       "1120       1\n",
       "311        1\n",
       "1029       1\n",
       "Name: count, Length: 144, dtype: int64"
      ]
     },
     "execution_count": 172,
     "metadata": {},
     "output_type": "execute_result"
    }
   ],
   "source": [
    "house_data['Finished square feet area in basement,type 2'].value_counts()"
   ]
  },
  {
   "cell_type": "markdown",
   "id": "984d85cb",
   "metadata": {},
   "source": [
    "## BsmtUnfSF: Unfinished square feet of basement area"
   ]
  },
  {
   "cell_type": "code",
   "execution_count": 173,
   "id": "e80ea9ec",
   "metadata": {},
   "outputs": [],
   "source": [
    "house_data.rename(columns={'BsmtUnfSF':'Unfinished Basement area in square feet'},inplace=True)"
   ]
  },
  {
   "cell_type": "code",
   "execution_count": 174,
   "id": "78116fa9",
   "metadata": {},
   "outputs": [
    {
     "data": {
      "text/plain": [
       "Unfinished Basement area in square feet\n",
       "0       118\n",
       "728       9\n",
       "384       8\n",
       "600       7\n",
       "300       7\n",
       "       ... \n",
       "551       1\n",
       "1257      1\n",
       "605       1\n",
       "467       1\n",
       "136       1\n",
       "Name: count, Length: 780, dtype: int64"
      ]
     },
     "execution_count": 174,
     "metadata": {},
     "output_type": "execute_result"
    }
   ],
   "source": [
    "house_data['Unfinished Basement area in square feet'].value_counts()"
   ]
  },
  {
   "cell_type": "markdown",
   "id": "0b2e6f77",
   "metadata": {},
   "source": [
    "## TotalBsmtSF: Total square feet of basement area"
   ]
  },
  {
   "cell_type": "code",
   "execution_count": 175,
   "id": "cb1ceb2f",
   "metadata": {},
   "outputs": [],
   "source": [
    "house_data.rename(columns={'TotalBsmtSF':'Total Basement area in square feet'},inplace=True)"
   ]
  },
  {
   "cell_type": "code",
   "execution_count": 176,
   "id": "3bbbd36d",
   "metadata": {},
   "outputs": [
    {
     "data": {
      "text/plain": [
       "Total Basement area in square feet\n",
       "0       37\n",
       "864     35\n",
       "672     17\n",
       "912     15\n",
       "1040    14\n",
       "        ..\n",
       "1838     1\n",
       "1581     1\n",
       "707      1\n",
       "611      1\n",
       "1542     1\n",
       "Name: count, Length: 721, dtype: int64"
      ]
     },
     "execution_count": 176,
     "metadata": {},
     "output_type": "execute_result"
    }
   ],
   "source": [
    "house_data['Total Basement area in square feet'].value_counts()"
   ]
  },
  {
   "cell_type": "code",
   "execution_count": 177,
   "id": "9e806cab",
   "metadata": {},
   "outputs": [
    {
     "data": {
      "text/html": [
       "<div>\n",
       "<style scoped>\n",
       "    .dataframe tbody tr th:only-of-type {\n",
       "        vertical-align: middle;\n",
       "    }\n",
       "\n",
       "    .dataframe tbody tr th {\n",
       "        vertical-align: top;\n",
       "    }\n",
       "\n",
       "    .dataframe thead th {\n",
       "        text-align: right;\n",
       "    }\n",
       "</style>\n",
       "<table border=\"1\" class=\"dataframe\">\n",
       "  <thead>\n",
       "    <tr style=\"text-align: right;\">\n",
       "      <th></th>\n",
       "      <th>Exposure Walkout or garden-level walls</th>\n",
       "      <th>Basement Finished area rating</th>\n",
       "      <th>Finished square feet area in basement</th>\n",
       "      <th>Basement Finished area rating,if multiple types</th>\n",
       "      <th>Finished square feet area in basement,type 2</th>\n",
       "      <th>Unfinished Basement area in square feet</th>\n",
       "      <th>Total Basement area in square feet</th>\n",
       "      <th>Heating</th>\n",
       "      <th>HeatingQC</th>\n",
       "      <th>CentralAir</th>\n",
       "    </tr>\n",
       "  </thead>\n",
       "  <tbody>\n",
       "    <tr>\n",
       "      <th>0</th>\n",
       "      <td>No Exposure</td>\n",
       "      <td>Good Living Quarters</td>\n",
       "      <td>706</td>\n",
       "      <td>Unfinished</td>\n",
       "      <td>0</td>\n",
       "      <td>150</td>\n",
       "      <td>856</td>\n",
       "      <td>GasA</td>\n",
       "      <td>Ex</td>\n",
       "      <td>Y</td>\n",
       "    </tr>\n",
       "    <tr>\n",
       "      <th>1</th>\n",
       "      <td>Good Exposure</td>\n",
       "      <td>Average Living Quarters</td>\n",
       "      <td>978</td>\n",
       "      <td>Unfinished</td>\n",
       "      <td>0</td>\n",
       "      <td>284</td>\n",
       "      <td>1262</td>\n",
       "      <td>GasA</td>\n",
       "      <td>Ex</td>\n",
       "      <td>Y</td>\n",
       "    </tr>\n",
       "    <tr>\n",
       "      <th>2</th>\n",
       "      <td>Mimimum Exposure</td>\n",
       "      <td>Good Living Quarters</td>\n",
       "      <td>486</td>\n",
       "      <td>Unfinished</td>\n",
       "      <td>0</td>\n",
       "      <td>434</td>\n",
       "      <td>920</td>\n",
       "      <td>GasA</td>\n",
       "      <td>Ex</td>\n",
       "      <td>Y</td>\n",
       "    </tr>\n",
       "  </tbody>\n",
       "</table>\n",
       "</div>"
      ],
      "text/plain": [
       "  Exposure Walkout or garden-level walls Basement Finished area rating  \\\n",
       "0                            No Exposure          Good Living Quarters   \n",
       "1                          Good Exposure       Average Living Quarters   \n",
       "2                       Mimimum Exposure          Good Living Quarters   \n",
       "\n",
       "   Finished square feet area in basement  \\\n",
       "0                                    706   \n",
       "1                                    978   \n",
       "2                                    486   \n",
       "\n",
       "  Basement Finished area rating,if multiple types  \\\n",
       "0                                      Unfinished   \n",
       "1                                      Unfinished   \n",
       "2                                      Unfinished   \n",
       "\n",
       "   Finished square feet area in basement,type 2  \\\n",
       "0                                             0   \n",
       "1                                             0   \n",
       "2                                             0   \n",
       "\n",
       "   Unfinished Basement area in square feet  \\\n",
       "0                                      150   \n",
       "1                                      284   \n",
       "2                                      434   \n",
       "\n",
       "   Total Basement area in square feet Heating HeatingQC CentralAir  \n",
       "0                                 856    GasA        Ex          Y  \n",
       "1                                1262    GasA        Ex          Y  \n",
       "2                                 920    GasA        Ex          Y  "
      ]
     },
     "execution_count": 177,
     "metadata": {},
     "output_type": "execute_result"
    }
   ],
   "source": [
    "house_data.iloc[:3,25:35]"
   ]
  },
  {
   "cell_type": "markdown",
   "id": "d56b1728",
   "metadata": {},
   "source": [
    "## Heating: Type of heating\n",
    "### Floor = Floor Furnace\n",
    "### GasA = Gas forced warm air furnace\n",
    "### GasW = Gas hot water or steam heat\n",
    "### Grav = Gravity furnace\n",
    "### OthW = Hot water or steam heat other than gas\n",
    "### Wall = Wall furnace"
   ]
  },
  {
   "cell_type": "code",
   "execution_count": 178,
   "id": "8ae6932d",
   "metadata": {},
   "outputs": [],
   "source": [
    "house_data['Heating'] = house_data['Heating'].replace({'Floor':'Floor Furnace','GasA':'Gas forced warm air furnace','GasW':'Gas hot water or steam heat','Grav':'Gravity furnace','OthW':'Hot water or steam heat other than gas','Wall':'Wall furnace'})"
   ]
  },
  {
   "cell_type": "code",
   "execution_count": 179,
   "id": "83ace669",
   "metadata": {},
   "outputs": [],
   "source": [
    "house_data.rename(columns={'Heating':'Type of heating'},inplace=True)"
   ]
  },
  {
   "cell_type": "code",
   "execution_count": 180,
   "id": "ab64de81",
   "metadata": {},
   "outputs": [
    {
     "data": {
      "text/plain": [
       "Type of heating\n",
       "Gas forced warm air furnace               1428\n",
       "Gas hot water or steam heat                 18\n",
       "Gravity furnace                              7\n",
       "Wall furnace                                 4\n",
       "Hot water or steam heat other than gas       2\n",
       "Floor Furnace                                1\n",
       "Name: count, dtype: int64"
      ]
     },
     "execution_count": 180,
     "metadata": {},
     "output_type": "execute_result"
    }
   ],
   "source": [
    "house_data['Type of heating'].value_counts()"
   ]
  },
  {
   "cell_type": "code",
   "execution_count": 181,
   "id": "e2c62e4f",
   "metadata": {},
   "outputs": [
    {
     "data": {
      "text/html": [
       "<div>\n",
       "<style scoped>\n",
       "    .dataframe tbody tr th:only-of-type {\n",
       "        vertical-align: middle;\n",
       "    }\n",
       "\n",
       "    .dataframe tbody tr th {\n",
       "        vertical-align: top;\n",
       "    }\n",
       "\n",
       "    .dataframe thead th {\n",
       "        text-align: right;\n",
       "    }\n",
       "</style>\n",
       "<table border=\"1\" class=\"dataframe\">\n",
       "  <thead>\n",
       "    <tr style=\"text-align: right;\">\n",
       "      <th></th>\n",
       "      <th>Exposure Walkout or garden-level walls</th>\n",
       "      <th>Basement Finished area rating</th>\n",
       "      <th>Finished square feet area in basement</th>\n",
       "      <th>Basement Finished area rating,if multiple types</th>\n",
       "      <th>Finished square feet area in basement,type 2</th>\n",
       "      <th>Unfinished Basement area in square feet</th>\n",
       "      <th>Total Basement area in square feet</th>\n",
       "      <th>Type of heating</th>\n",
       "      <th>HeatingQC</th>\n",
       "      <th>CentralAir</th>\n",
       "    </tr>\n",
       "  </thead>\n",
       "  <tbody>\n",
       "    <tr>\n",
       "      <th>0</th>\n",
       "      <td>No Exposure</td>\n",
       "      <td>Good Living Quarters</td>\n",
       "      <td>706</td>\n",
       "      <td>Unfinished</td>\n",
       "      <td>0</td>\n",
       "      <td>150</td>\n",
       "      <td>856</td>\n",
       "      <td>Gas forced warm air furnace</td>\n",
       "      <td>Ex</td>\n",
       "      <td>Y</td>\n",
       "    </tr>\n",
       "    <tr>\n",
       "      <th>1</th>\n",
       "      <td>Good Exposure</td>\n",
       "      <td>Average Living Quarters</td>\n",
       "      <td>978</td>\n",
       "      <td>Unfinished</td>\n",
       "      <td>0</td>\n",
       "      <td>284</td>\n",
       "      <td>1262</td>\n",
       "      <td>Gas forced warm air furnace</td>\n",
       "      <td>Ex</td>\n",
       "      <td>Y</td>\n",
       "    </tr>\n",
       "    <tr>\n",
       "      <th>2</th>\n",
       "      <td>Mimimum Exposure</td>\n",
       "      <td>Good Living Quarters</td>\n",
       "      <td>486</td>\n",
       "      <td>Unfinished</td>\n",
       "      <td>0</td>\n",
       "      <td>434</td>\n",
       "      <td>920</td>\n",
       "      <td>Gas forced warm air furnace</td>\n",
       "      <td>Ex</td>\n",
       "      <td>Y</td>\n",
       "    </tr>\n",
       "  </tbody>\n",
       "</table>\n",
       "</div>"
      ],
      "text/plain": [
       "  Exposure Walkout or garden-level walls Basement Finished area rating  \\\n",
       "0                            No Exposure          Good Living Quarters   \n",
       "1                          Good Exposure       Average Living Quarters   \n",
       "2                       Mimimum Exposure          Good Living Quarters   \n",
       "\n",
       "   Finished square feet area in basement  \\\n",
       "0                                    706   \n",
       "1                                    978   \n",
       "2                                    486   \n",
       "\n",
       "  Basement Finished area rating,if multiple types  \\\n",
       "0                                      Unfinished   \n",
       "1                                      Unfinished   \n",
       "2                                      Unfinished   \n",
       "\n",
       "   Finished square feet area in basement,type 2  \\\n",
       "0                                             0   \n",
       "1                                             0   \n",
       "2                                             0   \n",
       "\n",
       "   Unfinished Basement area in square feet  \\\n",
       "0                                      150   \n",
       "1                                      284   \n",
       "2                                      434   \n",
       "\n",
       "   Total Basement area in square feet              Type of heating HeatingQC  \\\n",
       "0                                 856  Gas forced warm air furnace        Ex   \n",
       "1                                1262  Gas forced warm air furnace        Ex   \n",
       "2                                 920  Gas forced warm air furnace        Ex   \n",
       "\n",
       "  CentralAir  \n",
       "0          Y  \n",
       "1          Y  \n",
       "2          Y  "
      ]
     },
     "execution_count": 181,
     "metadata": {},
     "output_type": "execute_result"
    }
   ],
   "source": [
    "house_data.iloc[:3,25:35]"
   ]
  },
  {
   "cell_type": "markdown",
   "id": "c8fda051",
   "metadata": {},
   "source": [
    "## HeatingQC: Heating quality and condition\n",
    "### Ex = Excellent\n",
    "### Gd = Good\n",
    "### TA = Average/Typical\n",
    "### Fa = Fair\n",
    "### Po = Poor"
   ]
  },
  {
   "cell_type": "code",
   "execution_count": 182,
   "id": "7d8e5e04",
   "metadata": {},
   "outputs": [],
   "source": [
    "house_data['HeatingQC'] = house_data['HeatingQC'].replace({'Ex':'Excellent','Gd':'Good','TA':'Average/Typical','Fa':'Fair','Po':'Poor'})"
   ]
  },
  {
   "cell_type": "code",
   "execution_count": 183,
   "id": "2fc31276",
   "metadata": {},
   "outputs": [],
   "source": [
    "house_data.rename(columns={'HeatingQC':'Heating Quality and Condition'},inplace=True)"
   ]
  },
  {
   "cell_type": "code",
   "execution_count": 184,
   "id": "5295588b",
   "metadata": {},
   "outputs": [
    {
     "data": {
      "text/plain": [
       "Heating Quality and Condition\n",
       "Excellent          741\n",
       "Average/Typical    428\n",
       "Good               241\n",
       "Fair                49\n",
       "Poor                 1\n",
       "Name: count, dtype: int64"
      ]
     },
     "execution_count": 184,
     "metadata": {},
     "output_type": "execute_result"
    }
   ],
   "source": [
    "house_data['Heating Quality and Condition'].value_counts()"
   ]
  },
  {
   "cell_type": "code",
   "execution_count": 185,
   "id": "a2b84217",
   "metadata": {},
   "outputs": [
    {
     "data": {
      "text/html": [
       "<div>\n",
       "<style scoped>\n",
       "    .dataframe tbody tr th:only-of-type {\n",
       "        vertical-align: middle;\n",
       "    }\n",
       "\n",
       "    .dataframe tbody tr th {\n",
       "        vertical-align: top;\n",
       "    }\n",
       "\n",
       "    .dataframe thead th {\n",
       "        text-align: right;\n",
       "    }\n",
       "</style>\n",
       "<table border=\"1\" class=\"dataframe\">\n",
       "  <thead>\n",
       "    <tr style=\"text-align: right;\">\n",
       "      <th></th>\n",
       "      <th>Exposure Walkout or garden-level walls</th>\n",
       "      <th>Basement Finished area rating</th>\n",
       "      <th>Finished square feet area in basement</th>\n",
       "      <th>Basement Finished area rating,if multiple types</th>\n",
       "      <th>Finished square feet area in basement,type 2</th>\n",
       "      <th>Unfinished Basement area in square feet</th>\n",
       "      <th>Total Basement area in square feet</th>\n",
       "      <th>Type of heating</th>\n",
       "      <th>Heating Quality and Condition</th>\n",
       "      <th>CentralAir</th>\n",
       "    </tr>\n",
       "  </thead>\n",
       "  <tbody>\n",
       "    <tr>\n",
       "      <th>0</th>\n",
       "      <td>No Exposure</td>\n",
       "      <td>Good Living Quarters</td>\n",
       "      <td>706</td>\n",
       "      <td>Unfinished</td>\n",
       "      <td>0</td>\n",
       "      <td>150</td>\n",
       "      <td>856</td>\n",
       "      <td>Gas forced warm air furnace</td>\n",
       "      <td>Excellent</td>\n",
       "      <td>Y</td>\n",
       "    </tr>\n",
       "    <tr>\n",
       "      <th>1</th>\n",
       "      <td>Good Exposure</td>\n",
       "      <td>Average Living Quarters</td>\n",
       "      <td>978</td>\n",
       "      <td>Unfinished</td>\n",
       "      <td>0</td>\n",
       "      <td>284</td>\n",
       "      <td>1262</td>\n",
       "      <td>Gas forced warm air furnace</td>\n",
       "      <td>Excellent</td>\n",
       "      <td>Y</td>\n",
       "    </tr>\n",
       "    <tr>\n",
       "      <th>2</th>\n",
       "      <td>Mimimum Exposure</td>\n",
       "      <td>Good Living Quarters</td>\n",
       "      <td>486</td>\n",
       "      <td>Unfinished</td>\n",
       "      <td>0</td>\n",
       "      <td>434</td>\n",
       "      <td>920</td>\n",
       "      <td>Gas forced warm air furnace</td>\n",
       "      <td>Excellent</td>\n",
       "      <td>Y</td>\n",
       "    </tr>\n",
       "  </tbody>\n",
       "</table>\n",
       "</div>"
      ],
      "text/plain": [
       "  Exposure Walkout or garden-level walls Basement Finished area rating  \\\n",
       "0                            No Exposure          Good Living Quarters   \n",
       "1                          Good Exposure       Average Living Quarters   \n",
       "2                       Mimimum Exposure          Good Living Quarters   \n",
       "\n",
       "   Finished square feet area in basement  \\\n",
       "0                                    706   \n",
       "1                                    978   \n",
       "2                                    486   \n",
       "\n",
       "  Basement Finished area rating,if multiple types  \\\n",
       "0                                      Unfinished   \n",
       "1                                      Unfinished   \n",
       "2                                      Unfinished   \n",
       "\n",
       "   Finished square feet area in basement,type 2  \\\n",
       "0                                             0   \n",
       "1                                             0   \n",
       "2                                             0   \n",
       "\n",
       "   Unfinished Basement area in square feet  \\\n",
       "0                                      150   \n",
       "1                                      284   \n",
       "2                                      434   \n",
       "\n",
       "   Total Basement area in square feet              Type of heating  \\\n",
       "0                                 856  Gas forced warm air furnace   \n",
       "1                                1262  Gas forced warm air furnace   \n",
       "2                                 920  Gas forced warm air furnace   \n",
       "\n",
       "  Heating Quality and Condition CentralAir  \n",
       "0                     Excellent          Y  \n",
       "1                     Excellent          Y  \n",
       "2                     Excellent          Y  "
      ]
     },
     "execution_count": 185,
     "metadata": {},
     "output_type": "execute_result"
    }
   ],
   "source": [
    "house_data.iloc[:3,25:35]"
   ]
  },
  {
   "cell_type": "markdown",
   "id": "f1ec0116",
   "metadata": {},
   "source": [
    "## CentralAir: Central air conditioning\n",
    "### N = No\n",
    "### Y = Yes"
   ]
  },
  {
   "cell_type": "code",
   "execution_count": 186,
   "id": "11128dec",
   "metadata": {},
   "outputs": [],
   "source": [
    "house_data['CentralAir'] = house_data['CentralAir'].replace({'N':'No','Y':'Yes'})"
   ]
  },
  {
   "cell_type": "code",
   "execution_count": 187,
   "id": "bf04d147",
   "metadata": {},
   "outputs": [],
   "source": [
    "house_data.rename(columns={'CentralAir':'Central Air Conditioning'},inplace=True)"
   ]
  },
  {
   "cell_type": "code",
   "execution_count": 188,
   "id": "d58c07fd",
   "metadata": {},
   "outputs": [
    {
     "data": {
      "text/plain": [
       "Central Air Conditioning\n",
       "Yes    1365\n",
       "No       95\n",
       "Name: count, dtype: int64"
      ]
     },
     "execution_count": 188,
     "metadata": {},
     "output_type": "execute_result"
    }
   ],
   "source": [
    "house_data['Central Air Conditioning'].value_counts()"
   ]
  },
  {
   "cell_type": "code",
   "execution_count": 189,
   "id": "dc218f9d",
   "metadata": {},
   "outputs": [
    {
     "data": {
      "text/html": [
       "<div>\n",
       "<style scoped>\n",
       "    .dataframe tbody tr th:only-of-type {\n",
       "        vertical-align: middle;\n",
       "    }\n",
       "\n",
       "    .dataframe tbody tr th {\n",
       "        vertical-align: top;\n",
       "    }\n",
       "\n",
       "    .dataframe thead th {\n",
       "        text-align: right;\n",
       "    }\n",
       "</style>\n",
       "<table border=\"1\" class=\"dataframe\">\n",
       "  <thead>\n",
       "    <tr style=\"text-align: right;\">\n",
       "      <th></th>\n",
       "      <th>Exposure Walkout or garden-level walls</th>\n",
       "      <th>Basement Finished area rating</th>\n",
       "      <th>Finished square feet area in basement</th>\n",
       "      <th>Basement Finished area rating,if multiple types</th>\n",
       "      <th>Finished square feet area in basement,type 2</th>\n",
       "      <th>Unfinished Basement area in square feet</th>\n",
       "      <th>Total Basement area in square feet</th>\n",
       "      <th>Type of heating</th>\n",
       "      <th>Heating Quality and Condition</th>\n",
       "      <th>Central Air Conditioning</th>\n",
       "    </tr>\n",
       "  </thead>\n",
       "  <tbody>\n",
       "    <tr>\n",
       "      <th>0</th>\n",
       "      <td>No Exposure</td>\n",
       "      <td>Good Living Quarters</td>\n",
       "      <td>706</td>\n",
       "      <td>Unfinished</td>\n",
       "      <td>0</td>\n",
       "      <td>150</td>\n",
       "      <td>856</td>\n",
       "      <td>Gas forced warm air furnace</td>\n",
       "      <td>Excellent</td>\n",
       "      <td>Yes</td>\n",
       "    </tr>\n",
       "    <tr>\n",
       "      <th>1</th>\n",
       "      <td>Good Exposure</td>\n",
       "      <td>Average Living Quarters</td>\n",
       "      <td>978</td>\n",
       "      <td>Unfinished</td>\n",
       "      <td>0</td>\n",
       "      <td>284</td>\n",
       "      <td>1262</td>\n",
       "      <td>Gas forced warm air furnace</td>\n",
       "      <td>Excellent</td>\n",
       "      <td>Yes</td>\n",
       "    </tr>\n",
       "    <tr>\n",
       "      <th>2</th>\n",
       "      <td>Mimimum Exposure</td>\n",
       "      <td>Good Living Quarters</td>\n",
       "      <td>486</td>\n",
       "      <td>Unfinished</td>\n",
       "      <td>0</td>\n",
       "      <td>434</td>\n",
       "      <td>920</td>\n",
       "      <td>Gas forced warm air furnace</td>\n",
       "      <td>Excellent</td>\n",
       "      <td>Yes</td>\n",
       "    </tr>\n",
       "  </tbody>\n",
       "</table>\n",
       "</div>"
      ],
      "text/plain": [
       "  Exposure Walkout or garden-level walls Basement Finished area rating  \\\n",
       "0                            No Exposure          Good Living Quarters   \n",
       "1                          Good Exposure       Average Living Quarters   \n",
       "2                       Mimimum Exposure          Good Living Quarters   \n",
       "\n",
       "   Finished square feet area in basement  \\\n",
       "0                                    706   \n",
       "1                                    978   \n",
       "2                                    486   \n",
       "\n",
       "  Basement Finished area rating,if multiple types  \\\n",
       "0                                      Unfinished   \n",
       "1                                      Unfinished   \n",
       "2                                      Unfinished   \n",
       "\n",
       "   Finished square feet area in basement,type 2  \\\n",
       "0                                             0   \n",
       "1                                             0   \n",
       "2                                             0   \n",
       "\n",
       "   Unfinished Basement area in square feet  \\\n",
       "0                                      150   \n",
       "1                                      284   \n",
       "2                                      434   \n",
       "\n",
       "   Total Basement area in square feet              Type of heating  \\\n",
       "0                                 856  Gas forced warm air furnace   \n",
       "1                                1262  Gas forced warm air furnace   \n",
       "2                                 920  Gas forced warm air furnace   \n",
       "\n",
       "  Heating Quality and Condition Central Air Conditioning  \n",
       "0                     Excellent                      Yes  \n",
       "1                     Excellent                      Yes  \n",
       "2                     Excellent                      Yes  "
      ]
     },
     "execution_count": 189,
     "metadata": {},
     "output_type": "execute_result"
    }
   ],
   "source": [
    "house_data.iloc[:3,25:35]"
   ]
  },
  {
   "cell_type": "markdown",
   "id": "4e4aa708",
   "metadata": {},
   "source": [
    "## Electrical:     \tElectrical system\n",
    "### SBrkr = Standard Circuit Breakers & Romex\n",
    "### FuseA = Fuse Box over 60 AMP and all Romex wiring (Average)      \t\n",
    "### FuseF = 60 AMP Fuse Box and mostly Romex wiring (Fair)\n",
    "### FuseP = 60 AMP Fuse Box and mostly knob & tube wiring (poor)\n",
    "### Mix = Mixed"
   ]
  },
  {
   "cell_type": "code",
   "execution_count": 190,
   "id": "9522d066",
   "metadata": {},
   "outputs": [],
   "source": [
    "house_data['Electrical'] = house_data['Electrical'].replace({'SBrkr':'Standard Circuit Breakers & Romex','FuseA':'Fuse Box over 60 AMP and all Romex wiring (Average)','FuseF':'60 AMP Fuse Box and mostly Romex wiring (Fair)','FuseP':'60 AMP Fuse Box and mostly knob & tube wiring (poor)','Mix':'Mixed'})"
   ]
  },
  {
   "cell_type": "code",
   "execution_count": 191,
   "id": "e524a523",
   "metadata": {},
   "outputs": [],
   "source": [
    "house_data.rename(columns={'Electrical':'Electrical System'},inplace=True)"
   ]
  },
  {
   "cell_type": "code",
   "execution_count": 192,
   "id": "31b450cc",
   "metadata": {},
   "outputs": [
    {
     "data": {
      "text/plain": [
       "Electrical System\n",
       "Standard Circuit Breakers & Romex                       1334\n",
       "Fuse Box over 60 AMP and all Romex wiring (Average)       94\n",
       "60 AMP Fuse Box and mostly Romex wiring (Fair)            27\n",
       "60 AMP Fuse Box and mostly knob & tube wiring (poor)       3\n",
       "Mixed                                                      1\n",
       "Name: count, dtype: int64"
      ]
     },
     "execution_count": 192,
     "metadata": {},
     "output_type": "execute_result"
    }
   ],
   "source": [
    "house_data['Electrical System'].value_counts()"
   ]
  },
  {
   "cell_type": "markdown",
   "id": "d141f39a",
   "metadata": {},
   "source": [
    "## Check null value in this column"
   ]
  },
  {
   "cell_type": "code",
   "execution_count": 193,
   "id": "923492d0",
   "metadata": {},
   "outputs": [
    {
     "data": {
      "text/html": [
       "<div>\n",
       "<style scoped>\n",
       "    .dataframe tbody tr th:only-of-type {\n",
       "        vertical-align: middle;\n",
       "    }\n",
       "\n",
       "    .dataframe tbody tr th {\n",
       "        vertical-align: top;\n",
       "    }\n",
       "\n",
       "    .dataframe thead th {\n",
       "        text-align: right;\n",
       "    }\n",
       "</style>\n",
       "<table border=\"1\" class=\"dataframe\">\n",
       "  <thead>\n",
       "    <tr style=\"text-align: right;\">\n",
       "      <th></th>\n",
       "      <th>Unfinished Basement area in square feet</th>\n",
       "      <th>Total Basement area in square feet</th>\n",
       "      <th>Type of heating</th>\n",
       "      <th>Heating Quality and Condition</th>\n",
       "      <th>Central Air Conditioning</th>\n",
       "      <th>Electrical System</th>\n",
       "      <th>1stFlrSF</th>\n",
       "      <th>2ndFlrSF</th>\n",
       "      <th>LowQualFinSF</th>\n",
       "      <th>GrLivArea</th>\n",
       "      <th>BsmtFullBath</th>\n",
       "      <th>BsmtHalfBath</th>\n",
       "      <th>FullBath</th>\n",
       "      <th>HalfBath</th>\n",
       "      <th>BedroomAbvGr</th>\n",
       "      <th>KitchenAbvGr</th>\n",
       "      <th>KitchenQual</th>\n",
       "      <th>TotRmsAbvGrd</th>\n",
       "      <th>Functional</th>\n",
       "      <th>Fireplaces</th>\n",
       "    </tr>\n",
       "  </thead>\n",
       "  <tbody>\n",
       "    <tr>\n",
       "      <th>1379</th>\n",
       "      <td>384</td>\n",
       "      <td>384</td>\n",
       "      <td>Gas forced warm air furnace</td>\n",
       "      <td>Good</td>\n",
       "      <td>Yes</td>\n",
       "      <td>NaN</td>\n",
       "      <td>754</td>\n",
       "      <td>640</td>\n",
       "      <td>0</td>\n",
       "      <td>1394</td>\n",
       "      <td>0</td>\n",
       "      <td>0</td>\n",
       "      <td>2</td>\n",
       "      <td>1</td>\n",
       "      <td>3</td>\n",
       "      <td>1</td>\n",
       "      <td>Gd</td>\n",
       "      <td>7</td>\n",
       "      <td>Typ</td>\n",
       "      <td>0</td>\n",
       "    </tr>\n",
       "  </tbody>\n",
       "</table>\n",
       "</div>"
      ],
      "text/plain": [
       "      Unfinished Basement area in square feet  \\\n",
       "1379                                      384   \n",
       "\n",
       "      Total Basement area in square feet              Type of heating  \\\n",
       "1379                                 384  Gas forced warm air furnace   \n",
       "\n",
       "     Heating Quality and Condition Central Air Conditioning Electrical System  \\\n",
       "1379                          Good                      Yes               NaN   \n",
       "\n",
       "      1stFlrSF  2ndFlrSF  LowQualFinSF  GrLivArea  BsmtFullBath  BsmtHalfBath  \\\n",
       "1379       754       640             0       1394             0             0   \n",
       "\n",
       "      FullBath  HalfBath  BedroomAbvGr  KitchenAbvGr KitchenQual  \\\n",
       "1379         2         1             3             1          Gd   \n",
       "\n",
       "      TotRmsAbvGrd Functional  Fireplaces  \n",
       "1379             7        Typ           0  "
      ]
     },
     "execution_count": 193,
     "metadata": {},
     "output_type": "execute_result"
    }
   ],
   "source": [
    "house_data[house_data['Electrical System'].isnull()].iloc[:,30:50]"
   ]
  },
  {
   "cell_type": "markdown",
   "id": "97c5df87",
   "metadata": {},
   "source": [
    "## Replace null value with the most occuring value"
   ]
  },
  {
   "cell_type": "code",
   "execution_count": 194,
   "id": "c755e017",
   "metadata": {},
   "outputs": [],
   "source": [
    "house_data['Electrical System'] = house_data['Electrical System'].fillna('Standard Circuit Breakers & Romex')"
   ]
  },
  {
   "cell_type": "code",
   "execution_count": 195,
   "id": "cf8092aa",
   "metadata": {},
   "outputs": [
    {
     "data": {
      "text/plain": [
       "Electrical System\n",
       "Standard Circuit Breakers & Romex                       1335\n",
       "Fuse Box over 60 AMP and all Romex wiring (Average)       94\n",
       "60 AMP Fuse Box and mostly Romex wiring (Fair)            27\n",
       "60 AMP Fuse Box and mostly knob & tube wiring (poor)       3\n",
       "Mixed                                                      1\n",
       "Name: count, dtype: int64"
      ]
     },
     "execution_count": 195,
     "metadata": {},
     "output_type": "execute_result"
    }
   ],
   "source": [
    "house_data['Electrical System'].value_counts()"
   ]
  },
  {
   "cell_type": "code",
   "execution_count": 196,
   "id": "c3757aa5",
   "metadata": {},
   "outputs": [
    {
     "data": {
      "text/html": [
       "<div>\n",
       "<style scoped>\n",
       "    .dataframe tbody tr th:only-of-type {\n",
       "        vertical-align: middle;\n",
       "    }\n",
       "\n",
       "    .dataframe tbody tr th {\n",
       "        vertical-align: top;\n",
       "    }\n",
       "\n",
       "    .dataframe thead th {\n",
       "        text-align: right;\n",
       "    }\n",
       "</style>\n",
       "<table border=\"1\" class=\"dataframe\">\n",
       "  <thead>\n",
       "    <tr style=\"text-align: right;\">\n",
       "      <th></th>\n",
       "      <th>Unfinished Basement area in square feet</th>\n",
       "      <th>Total Basement area in square feet</th>\n",
       "      <th>Type of heating</th>\n",
       "      <th>Heating Quality and Condition</th>\n",
       "      <th>Central Air Conditioning</th>\n",
       "      <th>Electrical System</th>\n",
       "      <th>1stFlrSF</th>\n",
       "      <th>2ndFlrSF</th>\n",
       "      <th>LowQualFinSF</th>\n",
       "      <th>GrLivArea</th>\n",
       "    </tr>\n",
       "  </thead>\n",
       "  <tbody>\n",
       "    <tr>\n",
       "      <th>0</th>\n",
       "      <td>150</td>\n",
       "      <td>856</td>\n",
       "      <td>Gas forced warm air furnace</td>\n",
       "      <td>Excellent</td>\n",
       "      <td>Yes</td>\n",
       "      <td>Standard Circuit Breakers &amp; Romex</td>\n",
       "      <td>856</td>\n",
       "      <td>854</td>\n",
       "      <td>0</td>\n",
       "      <td>1710</td>\n",
       "    </tr>\n",
       "    <tr>\n",
       "      <th>1</th>\n",
       "      <td>284</td>\n",
       "      <td>1262</td>\n",
       "      <td>Gas forced warm air furnace</td>\n",
       "      <td>Excellent</td>\n",
       "      <td>Yes</td>\n",
       "      <td>Standard Circuit Breakers &amp; Romex</td>\n",
       "      <td>1262</td>\n",
       "      <td>0</td>\n",
       "      <td>0</td>\n",
       "      <td>1262</td>\n",
       "    </tr>\n",
       "    <tr>\n",
       "      <th>2</th>\n",
       "      <td>434</td>\n",
       "      <td>920</td>\n",
       "      <td>Gas forced warm air furnace</td>\n",
       "      <td>Excellent</td>\n",
       "      <td>Yes</td>\n",
       "      <td>Standard Circuit Breakers &amp; Romex</td>\n",
       "      <td>920</td>\n",
       "      <td>866</td>\n",
       "      <td>0</td>\n",
       "      <td>1786</td>\n",
       "    </tr>\n",
       "  </tbody>\n",
       "</table>\n",
       "</div>"
      ],
      "text/plain": [
       "   Unfinished Basement area in square feet  \\\n",
       "0                                      150   \n",
       "1                                      284   \n",
       "2                                      434   \n",
       "\n",
       "   Total Basement area in square feet              Type of heating  \\\n",
       "0                                 856  Gas forced warm air furnace   \n",
       "1                                1262  Gas forced warm air furnace   \n",
       "2                                 920  Gas forced warm air furnace   \n",
       "\n",
       "  Heating Quality and Condition Central Air Conditioning  \\\n",
       "0                     Excellent                      Yes   \n",
       "1                     Excellent                      Yes   \n",
       "2                     Excellent                      Yes   \n",
       "\n",
       "                   Electrical System  1stFlrSF  2ndFlrSF  LowQualFinSF  \\\n",
       "0  Standard Circuit Breakers & Romex       856       854             0   \n",
       "1  Standard Circuit Breakers & Romex      1262         0             0   \n",
       "2  Standard Circuit Breakers & Romex       920       866             0   \n",
       "\n",
       "   GrLivArea  \n",
       "0       1710  \n",
       "1       1262  \n",
       "2       1786  "
      ]
     },
     "execution_count": 196,
     "metadata": {},
     "output_type": "execute_result"
    }
   ],
   "source": [
    "house_data.iloc[:3,30:40]"
   ]
  },
  {
   "cell_type": "markdown",
   "id": "cdc3b7a9",
   "metadata": {},
   "source": [
    "## 1stFlrSF: First Floor square feet"
   ]
  },
  {
   "cell_type": "code",
   "execution_count": 197,
   "id": "95d04ea2",
   "metadata": {},
   "outputs": [],
   "source": [
    "house_data.rename(columns={'1stFlrSF':'Area of 1st Floor in Square Feet'},inplace=True)"
   ]
  },
  {
   "cell_type": "code",
   "execution_count": 198,
   "id": "bb2afeeb",
   "metadata": {},
   "outputs": [
    {
     "data": {
      "text/plain": [
       "Area of 1st Floor in Square Feet\n",
       "864     25\n",
       "1040    16\n",
       "912     14\n",
       "894     12\n",
       "848     12\n",
       "        ..\n",
       "1509     1\n",
       "2515     1\n",
       "605      1\n",
       "3138     1\n",
       "1256     1\n",
       "Name: count, Length: 753, dtype: int64"
      ]
     },
     "execution_count": 198,
     "metadata": {},
     "output_type": "execute_result"
    }
   ],
   "source": [
    "house_data['Area of 1st Floor in Square Feet'].value_counts()"
   ]
  },
  {
   "cell_type": "markdown",
   "id": "48913eb2",
   "metadata": {},
   "source": [
    "## 2ndFlrSF: Second-floor square feet"
   ]
  },
  {
   "cell_type": "code",
   "execution_count": 199,
   "id": "2229f8f2",
   "metadata": {},
   "outputs": [],
   "source": [
    "house_data.rename(columns={'2ndFlrSF':'Area of 2nd Floor in Square Feet'},inplace=True)"
   ]
  },
  {
   "cell_type": "code",
   "execution_count": 200,
   "id": "f4b29b7d",
   "metadata": {},
   "outputs": [
    {
     "data": {
      "text/plain": [
       "Area of 2nd Floor in Square Feet\n",
       "0       829\n",
       "728      10\n",
       "504       9\n",
       "546       8\n",
       "672       8\n",
       "       ... \n",
       "1538      1\n",
       "914       1\n",
       "1067      1\n",
       "1000      1\n",
       "1152      1\n",
       "Name: count, Length: 417, dtype: int64"
      ]
     },
     "execution_count": 200,
     "metadata": {},
     "output_type": "execute_result"
    }
   ],
   "source": [
    "house_data['Area of 2nd Floor in Square Feet'].value_counts()"
   ]
  },
  {
   "cell_type": "code",
   "execution_count": 201,
   "id": "0a4e69e9",
   "metadata": {},
   "outputs": [
    {
     "data": {
      "text/html": [
       "<div>\n",
       "<style scoped>\n",
       "    .dataframe tbody tr th:only-of-type {\n",
       "        vertical-align: middle;\n",
       "    }\n",
       "\n",
       "    .dataframe tbody tr th {\n",
       "        vertical-align: top;\n",
       "    }\n",
       "\n",
       "    .dataframe thead th {\n",
       "        text-align: right;\n",
       "    }\n",
       "</style>\n",
       "<table border=\"1\" class=\"dataframe\">\n",
       "  <thead>\n",
       "    <tr style=\"text-align: right;\">\n",
       "      <th></th>\n",
       "      <th>Unfinished Basement area in square feet</th>\n",
       "      <th>Total Basement area in square feet</th>\n",
       "      <th>Type of heating</th>\n",
       "      <th>Heating Quality and Condition</th>\n",
       "      <th>Central Air Conditioning</th>\n",
       "      <th>Electrical System</th>\n",
       "      <th>Area of 1st Floor in Square Feet</th>\n",
       "      <th>Area of 2nd Floor in Square Feet</th>\n",
       "      <th>LowQualFinSF</th>\n",
       "      <th>GrLivArea</th>\n",
       "    </tr>\n",
       "  </thead>\n",
       "  <tbody>\n",
       "    <tr>\n",
       "      <th>0</th>\n",
       "      <td>150</td>\n",
       "      <td>856</td>\n",
       "      <td>Gas forced warm air furnace</td>\n",
       "      <td>Excellent</td>\n",
       "      <td>Yes</td>\n",
       "      <td>Standard Circuit Breakers &amp; Romex</td>\n",
       "      <td>856</td>\n",
       "      <td>854</td>\n",
       "      <td>0</td>\n",
       "      <td>1710</td>\n",
       "    </tr>\n",
       "    <tr>\n",
       "      <th>1</th>\n",
       "      <td>284</td>\n",
       "      <td>1262</td>\n",
       "      <td>Gas forced warm air furnace</td>\n",
       "      <td>Excellent</td>\n",
       "      <td>Yes</td>\n",
       "      <td>Standard Circuit Breakers &amp; Romex</td>\n",
       "      <td>1262</td>\n",
       "      <td>0</td>\n",
       "      <td>0</td>\n",
       "      <td>1262</td>\n",
       "    </tr>\n",
       "    <tr>\n",
       "      <th>2</th>\n",
       "      <td>434</td>\n",
       "      <td>920</td>\n",
       "      <td>Gas forced warm air furnace</td>\n",
       "      <td>Excellent</td>\n",
       "      <td>Yes</td>\n",
       "      <td>Standard Circuit Breakers &amp; Romex</td>\n",
       "      <td>920</td>\n",
       "      <td>866</td>\n",
       "      <td>0</td>\n",
       "      <td>1786</td>\n",
       "    </tr>\n",
       "  </tbody>\n",
       "</table>\n",
       "</div>"
      ],
      "text/plain": [
       "   Unfinished Basement area in square feet  \\\n",
       "0                                      150   \n",
       "1                                      284   \n",
       "2                                      434   \n",
       "\n",
       "   Total Basement area in square feet              Type of heating  \\\n",
       "0                                 856  Gas forced warm air furnace   \n",
       "1                                1262  Gas forced warm air furnace   \n",
       "2                                 920  Gas forced warm air furnace   \n",
       "\n",
       "  Heating Quality and Condition Central Air Conditioning  \\\n",
       "0                     Excellent                      Yes   \n",
       "1                     Excellent                      Yes   \n",
       "2                     Excellent                      Yes   \n",
       "\n",
       "                   Electrical System  Area of 1st Floor in Square Feet  \\\n",
       "0  Standard Circuit Breakers & Romex                               856   \n",
       "1  Standard Circuit Breakers & Romex                              1262   \n",
       "2  Standard Circuit Breakers & Romex                               920   \n",
       "\n",
       "   Area of 2nd Floor in Square Feet  LowQualFinSF  GrLivArea  \n",
       "0                               854             0       1710  \n",
       "1                                 0             0       1262  \n",
       "2                               866             0       1786  "
      ]
     },
     "execution_count": 201,
     "metadata": {},
     "output_type": "execute_result"
    }
   ],
   "source": [
    "house_data.iloc[:3,30:40]"
   ]
  },
  {
   "cell_type": "markdown",
   "id": "b88acc5a",
   "metadata": {},
   "source": [
    "## LowQualFinSF: Low-quality finished square feet (all floors)"
   ]
  },
  {
   "cell_type": "code",
   "execution_count": 202,
   "id": "8088befc",
   "metadata": {},
   "outputs": [
    {
     "data": {
      "text/plain": [
       "LowQualFinSF\n",
       "0      1434\n",
       "80        3\n",
       "360       2\n",
       "205       1\n",
       "479       1\n",
       "397       1\n",
       "514       1\n",
       "120       1\n",
       "481       1\n",
       "232       1\n",
       "53        1\n",
       "515       1\n",
       "156       1\n",
       "473       1\n",
       "420       1\n",
       "390       1\n",
       "371       1\n",
       "392       1\n",
       "144       1\n",
       "572       1\n",
       "528       1\n",
       "234       1\n",
       "513       1\n",
       "384       1\n",
       "Name: count, dtype: int64"
      ]
     },
     "execution_count": 202,
     "metadata": {},
     "output_type": "execute_result"
    }
   ],
   "source": [
    "house_data['LowQualFinSF'].value_counts()"
   ]
  },
  {
   "cell_type": "markdown",
   "id": "affeab06",
   "metadata": {},
   "source": [
    "## In (LowQualFinSF) almost all the values are Zero, so Better to remove this column"
   ]
  },
  {
   "cell_type": "markdown",
   "id": "59a88957",
   "metadata": {},
   "source": [
    "### Make a function to remove the values of LowQualFinSF column are from total area as we are deleting this column"
   ]
  },
  {
   "cell_type": "code",
   "execution_count": 203,
   "id": "6d67bd57",
   "metadata": {},
   "outputs": [],
   "source": [
    "def Col_subtract(x,y):\n",
    "    return y-x"
   ]
  },
  {
   "cell_type": "markdown",
   "id": "67d54479",
   "metadata": {},
   "source": [
    "## GrLivArea: Above grade (ground) living area square feet"
   ]
  },
  {
   "cell_type": "code",
   "execution_count": 204,
   "id": "87c9c0ef",
   "metadata": {},
   "outputs": [],
   "source": [
    "house_data['GrLivArea'] = house_data.apply(lambda a: Col_subtract(a['LowQualFinSF'],a['GrLivArea']), axis=1)"
   ]
  },
  {
   "cell_type": "code",
   "execution_count": 205,
   "id": "ac29cc77",
   "metadata": {},
   "outputs": [
    {
     "data": {
      "text/html": [
       "<div>\n",
       "<style scoped>\n",
       "    .dataframe tbody tr th:only-of-type {\n",
       "        vertical-align: middle;\n",
       "    }\n",
       "\n",
       "    .dataframe tbody tr th {\n",
       "        vertical-align: top;\n",
       "    }\n",
       "\n",
       "    .dataframe thead th {\n",
       "        text-align: right;\n",
       "    }\n",
       "</style>\n",
       "<table border=\"1\" class=\"dataframe\">\n",
       "  <thead>\n",
       "    <tr style=\"text-align: right;\">\n",
       "      <th></th>\n",
       "      <th>Unfinished Basement area in square feet</th>\n",
       "      <th>Total Basement area in square feet</th>\n",
       "      <th>Type of heating</th>\n",
       "      <th>Heating Quality and Condition</th>\n",
       "      <th>Central Air Conditioning</th>\n",
       "      <th>Electrical System</th>\n",
       "      <th>Area of 1st Floor in Square Feet</th>\n",
       "      <th>Area of 2nd Floor in Square Feet</th>\n",
       "      <th>LowQualFinSF</th>\n",
       "      <th>GrLivArea</th>\n",
       "    </tr>\n",
       "  </thead>\n",
       "  <tbody>\n",
       "    <tr>\n",
       "      <th>0</th>\n",
       "      <td>150</td>\n",
       "      <td>856</td>\n",
       "      <td>Gas forced warm air furnace</td>\n",
       "      <td>Excellent</td>\n",
       "      <td>Yes</td>\n",
       "      <td>Standard Circuit Breakers &amp; Romex</td>\n",
       "      <td>856</td>\n",
       "      <td>854</td>\n",
       "      <td>0</td>\n",
       "      <td>1710</td>\n",
       "    </tr>\n",
       "    <tr>\n",
       "      <th>1</th>\n",
       "      <td>284</td>\n",
       "      <td>1262</td>\n",
       "      <td>Gas forced warm air furnace</td>\n",
       "      <td>Excellent</td>\n",
       "      <td>Yes</td>\n",
       "      <td>Standard Circuit Breakers &amp; Romex</td>\n",
       "      <td>1262</td>\n",
       "      <td>0</td>\n",
       "      <td>0</td>\n",
       "      <td>1262</td>\n",
       "    </tr>\n",
       "    <tr>\n",
       "      <th>2</th>\n",
       "      <td>434</td>\n",
       "      <td>920</td>\n",
       "      <td>Gas forced warm air furnace</td>\n",
       "      <td>Excellent</td>\n",
       "      <td>Yes</td>\n",
       "      <td>Standard Circuit Breakers &amp; Romex</td>\n",
       "      <td>920</td>\n",
       "      <td>866</td>\n",
       "      <td>0</td>\n",
       "      <td>1786</td>\n",
       "    </tr>\n",
       "  </tbody>\n",
       "</table>\n",
       "</div>"
      ],
      "text/plain": [
       "   Unfinished Basement area in square feet  \\\n",
       "0                                      150   \n",
       "1                                      284   \n",
       "2                                      434   \n",
       "\n",
       "   Total Basement area in square feet              Type of heating  \\\n",
       "0                                 856  Gas forced warm air furnace   \n",
       "1                                1262  Gas forced warm air furnace   \n",
       "2                                 920  Gas forced warm air furnace   \n",
       "\n",
       "  Heating Quality and Condition Central Air Conditioning  \\\n",
       "0                     Excellent                      Yes   \n",
       "1                     Excellent                      Yes   \n",
       "2                     Excellent                      Yes   \n",
       "\n",
       "                   Electrical System  Area of 1st Floor in Square Feet  \\\n",
       "0  Standard Circuit Breakers & Romex                               856   \n",
       "1  Standard Circuit Breakers & Romex                              1262   \n",
       "2  Standard Circuit Breakers & Romex                               920   \n",
       "\n",
       "   Area of 2nd Floor in Square Feet  LowQualFinSF  GrLivArea  \n",
       "0                               854             0       1710  \n",
       "1                                 0             0       1262  \n",
       "2                               866             0       1786  "
      ]
     },
     "execution_count": 205,
     "metadata": {},
     "output_type": "execute_result"
    }
   ],
   "source": [
    "house_data.iloc[:3,30:40]"
   ]
  },
  {
   "cell_type": "markdown",
   "id": "f57b505f",
   "metadata": {},
   "source": [
    "## Drop LowQualFinSF Column as it is not of use"
   ]
  },
  {
   "cell_type": "code",
   "execution_count": 206,
   "id": "10512c4f",
   "metadata": {},
   "outputs": [],
   "source": [
    "house_data.drop('LowQualFinSF',axis=1,inplace=True)"
   ]
  },
  {
   "cell_type": "code",
   "execution_count": 207,
   "id": "d28e0a66",
   "metadata": {},
   "outputs": [],
   "source": [
    "house_data.rename(columns={'GrLivArea':'Total living area in square feet'},inplace= True)"
   ]
  },
  {
   "cell_type": "code",
   "execution_count": 208,
   "id": "a34d429c",
   "metadata": {},
   "outputs": [
    {
     "data": {
      "text/html": [
       "<div>\n",
       "<style scoped>\n",
       "    .dataframe tbody tr th:only-of-type {\n",
       "        vertical-align: middle;\n",
       "    }\n",
       "\n",
       "    .dataframe tbody tr th {\n",
       "        vertical-align: top;\n",
       "    }\n",
       "\n",
       "    .dataframe thead th {\n",
       "        text-align: right;\n",
       "    }\n",
       "</style>\n",
       "<table border=\"1\" class=\"dataframe\">\n",
       "  <thead>\n",
       "    <tr style=\"text-align: right;\">\n",
       "      <th></th>\n",
       "      <th>Electrical System</th>\n",
       "      <th>Area of 1st Floor in Square Feet</th>\n",
       "      <th>Area of 2nd Floor in Square Feet</th>\n",
       "      <th>Total living area in square feet</th>\n",
       "      <th>BsmtFullBath</th>\n",
       "      <th>BsmtHalfBath</th>\n",
       "      <th>FullBath</th>\n",
       "      <th>HalfBath</th>\n",
       "      <th>BedroomAbvGr</th>\n",
       "      <th>KitchenAbvGr</th>\n",
       "    </tr>\n",
       "  </thead>\n",
       "  <tbody>\n",
       "    <tr>\n",
       "      <th>10</th>\n",
       "      <td>Standard Circuit Breakers &amp; Romex</td>\n",
       "      <td>1040</td>\n",
       "      <td>0</td>\n",
       "      <td>1040</td>\n",
       "      <td>1</td>\n",
       "      <td>0</td>\n",
       "      <td>1</td>\n",
       "      <td>0</td>\n",
       "      <td>3</td>\n",
       "      <td>1</td>\n",
       "    </tr>\n",
       "    <tr>\n",
       "      <th>11</th>\n",
       "      <td>Standard Circuit Breakers &amp; Romex</td>\n",
       "      <td>1182</td>\n",
       "      <td>1142</td>\n",
       "      <td>2324</td>\n",
       "      <td>1</td>\n",
       "      <td>0</td>\n",
       "      <td>3</td>\n",
       "      <td>0</td>\n",
       "      <td>4</td>\n",
       "      <td>1</td>\n",
       "    </tr>\n",
       "    <tr>\n",
       "      <th>12</th>\n",
       "      <td>Standard Circuit Breakers &amp; Romex</td>\n",
       "      <td>912</td>\n",
       "      <td>0</td>\n",
       "      <td>912</td>\n",
       "      <td>1</td>\n",
       "      <td>0</td>\n",
       "      <td>1</td>\n",
       "      <td>0</td>\n",
       "      <td>2</td>\n",
       "      <td>1</td>\n",
       "    </tr>\n",
       "    <tr>\n",
       "      <th>13</th>\n",
       "      <td>Standard Circuit Breakers &amp; Romex</td>\n",
       "      <td>1494</td>\n",
       "      <td>0</td>\n",
       "      <td>1494</td>\n",
       "      <td>0</td>\n",
       "      <td>0</td>\n",
       "      <td>2</td>\n",
       "      <td>0</td>\n",
       "      <td>3</td>\n",
       "      <td>1</td>\n",
       "    </tr>\n",
       "    <tr>\n",
       "      <th>14</th>\n",
       "      <td>Standard Circuit Breakers &amp; Romex</td>\n",
       "      <td>1253</td>\n",
       "      <td>0</td>\n",
       "      <td>1253</td>\n",
       "      <td>1</td>\n",
       "      <td>0</td>\n",
       "      <td>1</td>\n",
       "      <td>1</td>\n",
       "      <td>2</td>\n",
       "      <td>1</td>\n",
       "    </tr>\n",
       "  </tbody>\n",
       "</table>\n",
       "</div>"
      ],
      "text/plain": [
       "                    Electrical System  Area of 1st Floor in Square Feet  \\\n",
       "10  Standard Circuit Breakers & Romex                              1040   \n",
       "11  Standard Circuit Breakers & Romex                              1182   \n",
       "12  Standard Circuit Breakers & Romex                               912   \n",
       "13  Standard Circuit Breakers & Romex                              1494   \n",
       "14  Standard Circuit Breakers & Romex                              1253   \n",
       "\n",
       "    Area of 2nd Floor in Square Feet  Total living area in square feet  \\\n",
       "10                                 0                              1040   \n",
       "11                              1142                              2324   \n",
       "12                                 0                               912   \n",
       "13                                 0                              1494   \n",
       "14                                 0                              1253   \n",
       "\n",
       "    BsmtFullBath  BsmtHalfBath  FullBath  HalfBath  BedroomAbvGr  KitchenAbvGr  \n",
       "10             1             0         1         0             3             1  \n",
       "11             1             0         3         0             4             1  \n",
       "12             1             0         1         0             2             1  \n",
       "13             0             0         2         0             3             1  \n",
       "14             1             0         1         1             2             1  "
      ]
     },
     "execution_count": 208,
     "metadata": {},
     "output_type": "execute_result"
    }
   ],
   "source": [
    "house_data.iloc[10:15,35:45]"
   ]
  },
  {
   "cell_type": "markdown",
   "id": "6849751f",
   "metadata": {},
   "source": [
    "## BsmtFullBath: Basement full bathrooms\n",
    "## BsmtHalfBath: Basement half bathrooms"
   ]
  },
  {
   "cell_type": "code",
   "execution_count": 209,
   "id": "7bc49333",
   "metadata": {},
   "outputs": [
    {
     "data": {
      "text/plain": [
       "BsmtFullBath\n",
       "0    856\n",
       "1    588\n",
       "2     15\n",
       "3      1\n",
       "Name: count, dtype: int64"
      ]
     },
     "execution_count": 209,
     "metadata": {},
     "output_type": "execute_result"
    }
   ],
   "source": [
    "house_data['BsmtFullBath'].value_counts()"
   ]
  },
  {
   "cell_type": "code",
   "execution_count": 210,
   "id": "c5ef67b0",
   "metadata": {},
   "outputs": [
    {
     "data": {
      "text/plain": [
       "BsmtHalfBath\n",
       "0    1378\n",
       "1      80\n",
       "2       2\n",
       "Name: count, dtype: int64"
      ]
     },
     "execution_count": 210,
     "metadata": {},
     "output_type": "execute_result"
    }
   ],
   "source": [
    "house_data['BsmtHalfBath'].value_counts()"
   ]
  },
  {
   "cell_type": "markdown",
   "id": "63a1d0e9",
   "metadata": {},
   "source": [
    "## Both the columns have more than 50% of values zero, So remove both the columns"
   ]
  },
  {
   "cell_type": "code",
   "execution_count": 211,
   "id": "6348ca8e",
   "metadata": {},
   "outputs": [],
   "source": [
    "house_data.drop(['BsmtHalfBath','BsmtFullBath'],axis = 1, inplace=True)"
   ]
  },
  {
   "cell_type": "code",
   "execution_count": 212,
   "id": "f456cfc3",
   "metadata": {},
   "outputs": [
    {
     "data": {
      "text/html": [
       "<div>\n",
       "<style scoped>\n",
       "    .dataframe tbody tr th:only-of-type {\n",
       "        vertical-align: middle;\n",
       "    }\n",
       "\n",
       "    .dataframe tbody tr th {\n",
       "        vertical-align: top;\n",
       "    }\n",
       "\n",
       "    .dataframe thead th {\n",
       "        text-align: right;\n",
       "    }\n",
       "</style>\n",
       "<table border=\"1\" class=\"dataframe\">\n",
       "  <thead>\n",
       "    <tr style=\"text-align: right;\">\n",
       "      <th></th>\n",
       "      <th>Area of 1st Floor in Square Feet</th>\n",
       "      <th>Area of 2nd Floor in Square Feet</th>\n",
       "      <th>Total living area in square feet</th>\n",
       "      <th>FullBath</th>\n",
       "      <th>HalfBath</th>\n",
       "      <th>BedroomAbvGr</th>\n",
       "      <th>KitchenAbvGr</th>\n",
       "      <th>KitchenQual</th>\n",
       "      <th>TotRmsAbvGrd</th>\n",
       "      <th>Functional</th>\n",
       "      <th>Fireplaces</th>\n",
       "    </tr>\n",
       "  </thead>\n",
       "  <tbody>\n",
       "    <tr>\n",
       "      <th>0</th>\n",
       "      <td>856</td>\n",
       "      <td>854</td>\n",
       "      <td>1710</td>\n",
       "      <td>2</td>\n",
       "      <td>1</td>\n",
       "      <td>3</td>\n",
       "      <td>1</td>\n",
       "      <td>Gd</td>\n",
       "      <td>8</td>\n",
       "      <td>Typ</td>\n",
       "      <td>0</td>\n",
       "    </tr>\n",
       "    <tr>\n",
       "      <th>1</th>\n",
       "      <td>1262</td>\n",
       "      <td>0</td>\n",
       "      <td>1262</td>\n",
       "      <td>2</td>\n",
       "      <td>0</td>\n",
       "      <td>3</td>\n",
       "      <td>1</td>\n",
       "      <td>TA</td>\n",
       "      <td>6</td>\n",
       "      <td>Typ</td>\n",
       "      <td>1</td>\n",
       "    </tr>\n",
       "    <tr>\n",
       "      <th>2</th>\n",
       "      <td>920</td>\n",
       "      <td>866</td>\n",
       "      <td>1786</td>\n",
       "      <td>2</td>\n",
       "      <td>1</td>\n",
       "      <td>3</td>\n",
       "      <td>1</td>\n",
       "      <td>Gd</td>\n",
       "      <td>6</td>\n",
       "      <td>Typ</td>\n",
       "      <td>1</td>\n",
       "    </tr>\n",
       "  </tbody>\n",
       "</table>\n",
       "</div>"
      ],
      "text/plain": [
       "   Area of 1st Floor in Square Feet  Area of 2nd Floor in Square Feet  \\\n",
       "0                               856                               854   \n",
       "1                              1262                                 0   \n",
       "2                               920                               866   \n",
       "\n",
       "   Total living area in square feet  FullBath  HalfBath  BedroomAbvGr  \\\n",
       "0                              1710         2         1             3   \n",
       "1                              1262         2         0             3   \n",
       "2                              1786         2         1             3   \n",
       "\n",
       "   KitchenAbvGr KitchenQual  TotRmsAbvGrd Functional  Fireplaces  \n",
       "0             1          Gd             8        Typ           0  \n",
       "1             1          TA             6        Typ           1  \n",
       "2             1          Gd             6        Typ           1  "
      ]
     },
     "execution_count": 212,
     "metadata": {},
     "output_type": "execute_result"
    }
   ],
   "source": [
    "house_data.iloc[:3,36:47]"
   ]
  },
  {
   "cell_type": "markdown",
   "id": "910927c3",
   "metadata": {},
   "source": [
    "## FullBath: Full bathrooms above grade"
   ]
  },
  {
   "cell_type": "code",
   "execution_count": 213,
   "id": "e7b1b3df",
   "metadata": {},
   "outputs": [],
   "source": [
    "house_data.rename(columns={'FullBath':'Full Bathrooms'},inplace=True)"
   ]
  },
  {
   "cell_type": "code",
   "execution_count": 214,
   "id": "27bd3306",
   "metadata": {},
   "outputs": [
    {
     "data": {
      "text/plain": [
       "Full Bathrooms\n",
       "2    768\n",
       "1    650\n",
       "3     33\n",
       "0      9\n",
       "Name: count, dtype: int64"
      ]
     },
     "execution_count": 214,
     "metadata": {},
     "output_type": "execute_result"
    }
   ],
   "source": [
    "house_data['Full Bathrooms'].value_counts()"
   ]
  },
  {
   "cell_type": "markdown",
   "id": "cce8162a",
   "metadata": {},
   "source": [
    "## Unique Values"
   ]
  },
  {
   "cell_type": "code",
   "execution_count": 215,
   "id": "f82fe4cd",
   "metadata": {},
   "outputs": [
    {
     "data": {
      "text/plain": [
       "array([2, 1, 3, 0], dtype=int64)"
      ]
     },
     "execution_count": 215,
     "metadata": {},
     "output_type": "execute_result"
    }
   ],
   "source": [
    "house_data['Full Bathrooms'].unique()"
   ]
  },
  {
   "cell_type": "markdown",
   "id": "8a8d2e59",
   "metadata": {},
   "source": [
    "## HalfBath: Half baths above grade\n"
   ]
  },
  {
   "cell_type": "code",
   "execution_count": 216,
   "id": "1940426f",
   "metadata": {},
   "outputs": [
    {
     "data": {
      "text/plain": [
       "HalfBath\n",
       "0    913\n",
       "1    535\n",
       "2     12\n",
       "Name: count, dtype: int64"
      ]
     },
     "execution_count": 216,
     "metadata": {},
     "output_type": "execute_result"
    }
   ],
   "source": [
    "house_data['HalfBath'].value_counts()"
   ]
  },
  {
   "cell_type": "code",
   "execution_count": 217,
   "id": "eed77157",
   "metadata": {},
   "outputs": [],
   "source": [
    "house_data.rename(columns={'HalfBath':'Half Bathrooms'},inplace=True)"
   ]
  },
  {
   "cell_type": "code",
   "execution_count": 218,
   "id": "3c174b0b",
   "metadata": {},
   "outputs": [
    {
     "data": {
      "text/html": [
       "<div>\n",
       "<style scoped>\n",
       "    .dataframe tbody tr th:only-of-type {\n",
       "        vertical-align: middle;\n",
       "    }\n",
       "\n",
       "    .dataframe tbody tr th {\n",
       "        vertical-align: top;\n",
       "    }\n",
       "\n",
       "    .dataframe thead th {\n",
       "        text-align: right;\n",
       "    }\n",
       "</style>\n",
       "<table border=\"1\" class=\"dataframe\">\n",
       "  <thead>\n",
       "    <tr style=\"text-align: right;\">\n",
       "      <th></th>\n",
       "      <th>Total living area in square feet</th>\n",
       "      <th>Full Bathrooms</th>\n",
       "      <th>Half Bathrooms</th>\n",
       "      <th>BedroomAbvGr</th>\n",
       "      <th>KitchenAbvGr</th>\n",
       "      <th>KitchenQual</th>\n",
       "      <th>TotRmsAbvGrd</th>\n",
       "      <th>Functional</th>\n",
       "      <th>Fireplaces</th>\n",
       "      <th>FireplaceQu</th>\n",
       "    </tr>\n",
       "  </thead>\n",
       "  <tbody>\n",
       "    <tr>\n",
       "      <th>0</th>\n",
       "      <td>1710</td>\n",
       "      <td>2</td>\n",
       "      <td>1</td>\n",
       "      <td>3</td>\n",
       "      <td>1</td>\n",
       "      <td>Gd</td>\n",
       "      <td>8</td>\n",
       "      <td>Typ</td>\n",
       "      <td>0</td>\n",
       "      <td>No</td>\n",
       "    </tr>\n",
       "    <tr>\n",
       "      <th>1</th>\n",
       "      <td>1262</td>\n",
       "      <td>2</td>\n",
       "      <td>0</td>\n",
       "      <td>3</td>\n",
       "      <td>1</td>\n",
       "      <td>TA</td>\n",
       "      <td>6</td>\n",
       "      <td>Typ</td>\n",
       "      <td>1</td>\n",
       "      <td>TA</td>\n",
       "    </tr>\n",
       "    <tr>\n",
       "      <th>2</th>\n",
       "      <td>1786</td>\n",
       "      <td>2</td>\n",
       "      <td>1</td>\n",
       "      <td>3</td>\n",
       "      <td>1</td>\n",
       "      <td>Gd</td>\n",
       "      <td>6</td>\n",
       "      <td>Typ</td>\n",
       "      <td>1</td>\n",
       "      <td>TA</td>\n",
       "    </tr>\n",
       "    <tr>\n",
       "      <th>3</th>\n",
       "      <td>1717</td>\n",
       "      <td>1</td>\n",
       "      <td>0</td>\n",
       "      <td>3</td>\n",
       "      <td>1</td>\n",
       "      <td>Gd</td>\n",
       "      <td>7</td>\n",
       "      <td>Typ</td>\n",
       "      <td>1</td>\n",
       "      <td>Gd</td>\n",
       "    </tr>\n",
       "  </tbody>\n",
       "</table>\n",
       "</div>"
      ],
      "text/plain": [
       "   Total living area in square feet  Full Bathrooms  Half Bathrooms  \\\n",
       "0                              1710               2               1   \n",
       "1                              1262               2               0   \n",
       "2                              1786               2               1   \n",
       "3                              1717               1               0   \n",
       "\n",
       "   BedroomAbvGr  KitchenAbvGr KitchenQual  TotRmsAbvGrd Functional  \\\n",
       "0             3             1          Gd             8        Typ   \n",
       "1             3             1          TA             6        Typ   \n",
       "2             3             1          Gd             6        Typ   \n",
       "3             3             1          Gd             7        Typ   \n",
       "\n",
       "   Fireplaces FireplaceQu  \n",
       "0           0          No  \n",
       "1           1          TA  \n",
       "2           1          TA  \n",
       "3           1          Gd  "
      ]
     },
     "execution_count": 218,
     "metadata": {},
     "output_type": "execute_result"
    }
   ],
   "source": [
    "house_data.iloc[:4,38:48]"
   ]
  },
  {
   "cell_type": "markdown",
   "id": "84b5660c",
   "metadata": {},
   "source": [
    "## BedroomAbvGr: Bedrooms above grade (does NOT include basement bedrooms)"
   ]
  },
  {
   "cell_type": "code",
   "execution_count": 219,
   "id": "179f88b4",
   "metadata": {},
   "outputs": [],
   "source": [
    "house_data.rename(columns={'BedroomAbvGr':'Bedrooms(Excluded Basement Bedrooms)'}, inplace=True)"
   ]
  },
  {
   "cell_type": "code",
   "execution_count": 220,
   "id": "6cca5aba",
   "metadata": {},
   "outputs": [
    {
     "data": {
      "text/plain": [
       "Bedrooms(Excluded Basement Bedrooms)\n",
       "3    804\n",
       "2    358\n",
       "4    213\n",
       "1     50\n",
       "5     21\n",
       "6      7\n",
       "0      6\n",
       "8      1\n",
       "Name: count, dtype: int64"
      ]
     },
     "execution_count": 220,
     "metadata": {},
     "output_type": "execute_result"
    }
   ],
   "source": [
    "house_data['Bedrooms(Excluded Basement Bedrooms)'].value_counts()"
   ]
  },
  {
   "cell_type": "markdown",
   "id": "6b477271",
   "metadata": {},
   "source": [
    "## KitchenAbvGr: Kitchens above grade"
   ]
  },
  {
   "cell_type": "code",
   "execution_count": 221,
   "id": "cde97300",
   "metadata": {},
   "outputs": [],
   "source": [
    "house_data.rename(columns={'KitchenAbvGr':'Kitchens'},inplace=True)"
   ]
  },
  {
   "cell_type": "code",
   "execution_count": 222,
   "id": "23711881",
   "metadata": {},
   "outputs": [
    {
     "data": {
      "text/plain": [
       "Kitchens\n",
       "1    1392\n",
       "2      65\n",
       "3       2\n",
       "0       1\n",
       "Name: count, dtype: int64"
      ]
     },
     "execution_count": 222,
     "metadata": {},
     "output_type": "execute_result"
    }
   ],
   "source": [
    "house_data['Kitchens'].value_counts()"
   ]
  },
  {
   "cell_type": "code",
   "execution_count": 223,
   "id": "4582725e",
   "metadata": {},
   "outputs": [
    {
     "data": {
      "text/html": [
       "<div>\n",
       "<style scoped>\n",
       "    .dataframe tbody tr th:only-of-type {\n",
       "        vertical-align: middle;\n",
       "    }\n",
       "\n",
       "    .dataframe tbody tr th {\n",
       "        vertical-align: top;\n",
       "    }\n",
       "\n",
       "    .dataframe thead th {\n",
       "        text-align: right;\n",
       "    }\n",
       "</style>\n",
       "<table border=\"1\" class=\"dataframe\">\n",
       "  <thead>\n",
       "    <tr style=\"text-align: right;\">\n",
       "      <th></th>\n",
       "      <th>Total living area in square feet</th>\n",
       "      <th>Full Bathrooms</th>\n",
       "      <th>Half Bathrooms</th>\n",
       "      <th>Bedrooms(Excluded Basement Bedrooms)</th>\n",
       "      <th>Kitchens</th>\n",
       "      <th>KitchenQual</th>\n",
       "      <th>TotRmsAbvGrd</th>\n",
       "      <th>Functional</th>\n",
       "      <th>Fireplaces</th>\n",
       "      <th>FireplaceQu</th>\n",
       "    </tr>\n",
       "  </thead>\n",
       "  <tbody>\n",
       "    <tr>\n",
       "      <th>0</th>\n",
       "      <td>1710</td>\n",
       "      <td>2</td>\n",
       "      <td>1</td>\n",
       "      <td>3</td>\n",
       "      <td>1</td>\n",
       "      <td>Gd</td>\n",
       "      <td>8</td>\n",
       "      <td>Typ</td>\n",
       "      <td>0</td>\n",
       "      <td>No</td>\n",
       "    </tr>\n",
       "    <tr>\n",
       "      <th>1</th>\n",
       "      <td>1262</td>\n",
       "      <td>2</td>\n",
       "      <td>0</td>\n",
       "      <td>3</td>\n",
       "      <td>1</td>\n",
       "      <td>TA</td>\n",
       "      <td>6</td>\n",
       "      <td>Typ</td>\n",
       "      <td>1</td>\n",
       "      <td>TA</td>\n",
       "    </tr>\n",
       "    <tr>\n",
       "      <th>2</th>\n",
       "      <td>1786</td>\n",
       "      <td>2</td>\n",
       "      <td>1</td>\n",
       "      <td>3</td>\n",
       "      <td>1</td>\n",
       "      <td>Gd</td>\n",
       "      <td>6</td>\n",
       "      <td>Typ</td>\n",
       "      <td>1</td>\n",
       "      <td>TA</td>\n",
       "    </tr>\n",
       "    <tr>\n",
       "      <th>3</th>\n",
       "      <td>1717</td>\n",
       "      <td>1</td>\n",
       "      <td>0</td>\n",
       "      <td>3</td>\n",
       "      <td>1</td>\n",
       "      <td>Gd</td>\n",
       "      <td>7</td>\n",
       "      <td>Typ</td>\n",
       "      <td>1</td>\n",
       "      <td>Gd</td>\n",
       "    </tr>\n",
       "  </tbody>\n",
       "</table>\n",
       "</div>"
      ],
      "text/plain": [
       "   Total living area in square feet  Full Bathrooms  Half Bathrooms  \\\n",
       "0                              1710               2               1   \n",
       "1                              1262               2               0   \n",
       "2                              1786               2               1   \n",
       "3                              1717               1               0   \n",
       "\n",
       "   Bedrooms(Excluded Basement Bedrooms)  Kitchens KitchenQual  TotRmsAbvGrd  \\\n",
       "0                                     3         1          Gd             8   \n",
       "1                                     3         1          TA             6   \n",
       "2                                     3         1          Gd             6   \n",
       "3                                     3         1          Gd             7   \n",
       "\n",
       "  Functional  Fireplaces FireplaceQu  \n",
       "0        Typ           0          No  \n",
       "1        Typ           1          TA  \n",
       "2        Typ           1          TA  \n",
       "3        Typ           1          Gd  "
      ]
     },
     "execution_count": 223,
     "metadata": {},
     "output_type": "execute_result"
    }
   ],
   "source": [
    "house_data.iloc[:4,38:48]"
   ]
  },
  {
   "cell_type": "markdown",
   "id": "36b7aebf",
   "metadata": {},
   "source": [
    "## KitchenQual: Kitchen Quality\n",
    "### Ex = Excellent\n",
    "### Gd = Good\n",
    "### TA = Typical/Average\n",
    "### Fa = Fair\n",
    "### Po = Poor"
   ]
  },
  {
   "cell_type": "code",
   "execution_count": 224,
   "id": "d5c3d8e0",
   "metadata": {},
   "outputs": [],
   "source": [
    "house_data['KitchenQual'] = house_data['KitchenQual'].replace({'Ex':'Excellent','Gd':'Good','TA':'Average/Typical','Fa':'Fair','Po':'Poor'})"
   ]
  },
  {
   "cell_type": "code",
   "execution_count": 225,
   "id": "ab90de20",
   "metadata": {},
   "outputs": [],
   "source": [
    "house_data.rename(columns={'KitchenQual':'Kitchen Quality'},inplace=True)"
   ]
  },
  {
   "cell_type": "code",
   "execution_count": 226,
   "id": "f2a16b20",
   "metadata": {},
   "outputs": [
    {
     "data": {
      "text/plain": [
       "Kitchen Quality\n",
       "Average/Typical    735\n",
       "Good               586\n",
       "Excellent          100\n",
       "Fair                39\n",
       "Name: count, dtype: int64"
      ]
     },
     "execution_count": 226,
     "metadata": {},
     "output_type": "execute_result"
    }
   ],
   "source": [
    "house_data['Kitchen Quality'].value_counts()"
   ]
  },
  {
   "cell_type": "code",
   "execution_count": 227,
   "id": "c58ad90d",
   "metadata": {},
   "outputs": [
    {
     "data": {
      "text/html": [
       "<div>\n",
       "<style scoped>\n",
       "    .dataframe tbody tr th:only-of-type {\n",
       "        vertical-align: middle;\n",
       "    }\n",
       "\n",
       "    .dataframe tbody tr th {\n",
       "        vertical-align: top;\n",
       "    }\n",
       "\n",
       "    .dataframe thead th {\n",
       "        text-align: right;\n",
       "    }\n",
       "</style>\n",
       "<table border=\"1\" class=\"dataframe\">\n",
       "  <thead>\n",
       "    <tr style=\"text-align: right;\">\n",
       "      <th></th>\n",
       "      <th>Half Bathrooms</th>\n",
       "      <th>Bedrooms(Excluded Basement Bedrooms)</th>\n",
       "      <th>Kitchens</th>\n",
       "      <th>Kitchen Quality</th>\n",
       "      <th>TotRmsAbvGrd</th>\n",
       "      <th>Functional</th>\n",
       "      <th>Fireplaces</th>\n",
       "      <th>FireplaceQu</th>\n",
       "      <th>GarageType</th>\n",
       "      <th>GarageYrBlt</th>\n",
       "    </tr>\n",
       "  </thead>\n",
       "  <tbody>\n",
       "    <tr>\n",
       "      <th>0</th>\n",
       "      <td>1</td>\n",
       "      <td>3</td>\n",
       "      <td>1</td>\n",
       "      <td>Good</td>\n",
       "      <td>8</td>\n",
       "      <td>Typ</td>\n",
       "      <td>0</td>\n",
       "      <td>No</td>\n",
       "      <td>Attchd</td>\n",
       "      <td>2003.0</td>\n",
       "    </tr>\n",
       "    <tr>\n",
       "      <th>1</th>\n",
       "      <td>0</td>\n",
       "      <td>3</td>\n",
       "      <td>1</td>\n",
       "      <td>Average/Typical</td>\n",
       "      <td>6</td>\n",
       "      <td>Typ</td>\n",
       "      <td>1</td>\n",
       "      <td>TA</td>\n",
       "      <td>Attchd</td>\n",
       "      <td>1976.0</td>\n",
       "    </tr>\n",
       "    <tr>\n",
       "      <th>2</th>\n",
       "      <td>1</td>\n",
       "      <td>3</td>\n",
       "      <td>1</td>\n",
       "      <td>Good</td>\n",
       "      <td>6</td>\n",
       "      <td>Typ</td>\n",
       "      <td>1</td>\n",
       "      <td>TA</td>\n",
       "      <td>Attchd</td>\n",
       "      <td>2001.0</td>\n",
       "    </tr>\n",
       "  </tbody>\n",
       "</table>\n",
       "</div>"
      ],
      "text/plain": [
       "   Half Bathrooms  Bedrooms(Excluded Basement Bedrooms)  Kitchens  \\\n",
       "0               1                                     3         1   \n",
       "1               0                                     3         1   \n",
       "2               1                                     3         1   \n",
       "\n",
       "   Kitchen Quality  TotRmsAbvGrd Functional  Fireplaces FireplaceQu  \\\n",
       "0             Good             8        Typ           0          No   \n",
       "1  Average/Typical             6        Typ           1          TA   \n",
       "2             Good             6        Typ           1          TA   \n",
       "\n",
       "  GarageType  GarageYrBlt  \n",
       "0     Attchd       2003.0  \n",
       "1     Attchd       1976.0  \n",
       "2     Attchd       2001.0  "
      ]
     },
     "execution_count": 227,
     "metadata": {},
     "output_type": "execute_result"
    }
   ],
   "source": [
    "house_data.iloc[:3,40:50]"
   ]
  },
  {
   "cell_type": "markdown",
   "id": "fc45b2fc",
   "metadata": {},
   "source": [
    "## TotRmsAbvGrd: Total rooms above grade (does not include bathrooms)"
   ]
  },
  {
   "cell_type": "code",
   "execution_count": 228,
   "id": "6d4e08d5",
   "metadata": {},
   "outputs": [],
   "source": [
    "house_data.rename(columns={'TotRmsAbvGrd':'Total Rooms(Excluded Bathrooms)'},inplace=True)"
   ]
  },
  {
   "cell_type": "code",
   "execution_count": 229,
   "id": "aa4db8b9",
   "metadata": {},
   "outputs": [
    {
     "data": {
      "text/plain": [
       "Total Rooms(Excluded Bathrooms)\n",
       "6     402\n",
       "7     329\n",
       "5     275\n",
       "8     187\n",
       "4      97\n",
       "9      75\n",
       "10     47\n",
       "11     18\n",
       "3      17\n",
       "12     11\n",
       "2       1\n",
       "14      1\n",
       "Name: count, dtype: int64"
      ]
     },
     "execution_count": 229,
     "metadata": {},
     "output_type": "execute_result"
    }
   ],
   "source": [
    "house_data['Total Rooms(Excluded Bathrooms)'].value_counts()"
   ]
  },
  {
   "cell_type": "code",
   "execution_count": 230,
   "id": "bf503a0f",
   "metadata": {},
   "outputs": [
    {
     "data": {
      "text/plain": [
       "(1460, 71)"
      ]
     },
     "execution_count": 230,
     "metadata": {},
     "output_type": "execute_result"
    }
   ],
   "source": [
    "house_data.shape"
   ]
  },
  {
   "cell_type": "code",
   "execution_count": 231,
   "id": "6b5bb998",
   "metadata": {},
   "outputs": [
    {
     "data": {
      "text/html": [
       "<div>\n",
       "<style scoped>\n",
       "    .dataframe tbody tr th:only-of-type {\n",
       "        vertical-align: middle;\n",
       "    }\n",
       "\n",
       "    .dataframe tbody tr th {\n",
       "        vertical-align: top;\n",
       "    }\n",
       "\n",
       "    .dataframe thead th {\n",
       "        text-align: right;\n",
       "    }\n",
       "</style>\n",
       "<table border=\"1\" class=\"dataframe\">\n",
       "  <thead>\n",
       "    <tr style=\"text-align: right;\">\n",
       "      <th></th>\n",
       "      <th>Half Bathrooms</th>\n",
       "      <th>Bedrooms(Excluded Basement Bedrooms)</th>\n",
       "      <th>Kitchens</th>\n",
       "      <th>Kitchen Quality</th>\n",
       "      <th>Total Rooms(Excluded Bathrooms)</th>\n",
       "      <th>Functional</th>\n",
       "      <th>Fireplaces</th>\n",
       "      <th>FireplaceQu</th>\n",
       "      <th>GarageType</th>\n",
       "      <th>GarageYrBlt</th>\n",
       "    </tr>\n",
       "  </thead>\n",
       "  <tbody>\n",
       "    <tr>\n",
       "      <th>0</th>\n",
       "      <td>1</td>\n",
       "      <td>3</td>\n",
       "      <td>1</td>\n",
       "      <td>Good</td>\n",
       "      <td>8</td>\n",
       "      <td>Typ</td>\n",
       "      <td>0</td>\n",
       "      <td>No</td>\n",
       "      <td>Attchd</td>\n",
       "      <td>2003.0</td>\n",
       "    </tr>\n",
       "    <tr>\n",
       "      <th>1</th>\n",
       "      <td>0</td>\n",
       "      <td>3</td>\n",
       "      <td>1</td>\n",
       "      <td>Average/Typical</td>\n",
       "      <td>6</td>\n",
       "      <td>Typ</td>\n",
       "      <td>1</td>\n",
       "      <td>TA</td>\n",
       "      <td>Attchd</td>\n",
       "      <td>1976.0</td>\n",
       "    </tr>\n",
       "    <tr>\n",
       "      <th>2</th>\n",
       "      <td>1</td>\n",
       "      <td>3</td>\n",
       "      <td>1</td>\n",
       "      <td>Good</td>\n",
       "      <td>6</td>\n",
       "      <td>Typ</td>\n",
       "      <td>1</td>\n",
       "      <td>TA</td>\n",
       "      <td>Attchd</td>\n",
       "      <td>2001.0</td>\n",
       "    </tr>\n",
       "  </tbody>\n",
       "</table>\n",
       "</div>"
      ],
      "text/plain": [
       "   Half Bathrooms  Bedrooms(Excluded Basement Bedrooms)  Kitchens  \\\n",
       "0               1                                     3         1   \n",
       "1               0                                     3         1   \n",
       "2               1                                     3         1   \n",
       "\n",
       "   Kitchen Quality  Total Rooms(Excluded Bathrooms) Functional  Fireplaces  \\\n",
       "0             Good                                8        Typ           0   \n",
       "1  Average/Typical                                6        Typ           1   \n",
       "2             Good                                6        Typ           1   \n",
       "\n",
       "  FireplaceQu GarageType  GarageYrBlt  \n",
       "0          No     Attchd       2003.0  \n",
       "1          TA     Attchd       1976.0  \n",
       "2          TA     Attchd       2001.0  "
      ]
     },
     "execution_count": 231,
     "metadata": {},
     "output_type": "execute_result"
    }
   ],
   "source": [
    "house_data.iloc[:3,40:50]"
   ]
  },
  {
   "cell_type": "markdown",
   "id": "26d8e70b",
   "metadata": {},
   "source": [
    "## Functional: Home functionality (Assume typical unless deductions are warranted)\n",
    "### Typ\t= Typical Functionality\n",
    "### Min1 = Minor Deductions 1\n",
    "### Min2 = Minor Deductions 2\n",
    "### Mod = Moderate Deductions\n",
    "### Maj1 = Major Deductions 1\n",
    "### Maj2 = Major Deductions 2\n",
    "### Sev = Severely Damaged\n",
    "### Sal\t= Salvage only"
   ]
  },
  {
   "cell_type": "code",
   "execution_count": 232,
   "id": "9e2ee695",
   "metadata": {},
   "outputs": [
    {
     "data": {
      "text/plain": [
       "Functional\n",
       "Typ     1360\n",
       "Min2      34\n",
       "Min1      31\n",
       "Mod       15\n",
       "Maj1      14\n",
       "Maj2       5\n",
       "Sev        1\n",
       "Name: count, dtype: int64"
      ]
     },
     "execution_count": 232,
     "metadata": {},
     "output_type": "execute_result"
    }
   ],
   "source": [
    "house_data['Functional'].value_counts()"
   ]
  },
  {
   "cell_type": "markdown",
   "id": "2a0e238d",
   "metadata": {},
   "source": [
    "## Remove (Functional column as 90% of its values are same so it is useless)"
   ]
  },
  {
   "cell_type": "code",
   "execution_count": 233,
   "id": "45906874",
   "metadata": {},
   "outputs": [],
   "source": [
    "house_data.drop('Functional',axis=1,inplace=True)"
   ]
  },
  {
   "cell_type": "code",
   "execution_count": 234,
   "id": "379e33a1",
   "metadata": {},
   "outputs": [
    {
     "data": {
      "text/html": [
       "<div>\n",
       "<style scoped>\n",
       "    .dataframe tbody tr th:only-of-type {\n",
       "        vertical-align: middle;\n",
       "    }\n",
       "\n",
       "    .dataframe tbody tr th {\n",
       "        vertical-align: top;\n",
       "    }\n",
       "\n",
       "    .dataframe thead th {\n",
       "        text-align: right;\n",
       "    }\n",
       "</style>\n",
       "<table border=\"1\" class=\"dataframe\">\n",
       "  <thead>\n",
       "    <tr style=\"text-align: right;\">\n",
       "      <th></th>\n",
       "      <th>Half Bathrooms</th>\n",
       "      <th>Bedrooms(Excluded Basement Bedrooms)</th>\n",
       "      <th>Kitchens</th>\n",
       "      <th>Kitchen Quality</th>\n",
       "      <th>Total Rooms(Excluded Bathrooms)</th>\n",
       "      <th>Fireplaces</th>\n",
       "      <th>FireplaceQu</th>\n",
       "      <th>GarageType</th>\n",
       "      <th>GarageYrBlt</th>\n",
       "      <th>GarageFinish</th>\n",
       "    </tr>\n",
       "  </thead>\n",
       "  <tbody>\n",
       "    <tr>\n",
       "      <th>0</th>\n",
       "      <td>1</td>\n",
       "      <td>3</td>\n",
       "      <td>1</td>\n",
       "      <td>Good</td>\n",
       "      <td>8</td>\n",
       "      <td>0</td>\n",
       "      <td>No</td>\n",
       "      <td>Attchd</td>\n",
       "      <td>2003.0</td>\n",
       "      <td>RFn</td>\n",
       "    </tr>\n",
       "    <tr>\n",
       "      <th>1</th>\n",
       "      <td>0</td>\n",
       "      <td>3</td>\n",
       "      <td>1</td>\n",
       "      <td>Average/Typical</td>\n",
       "      <td>6</td>\n",
       "      <td>1</td>\n",
       "      <td>TA</td>\n",
       "      <td>Attchd</td>\n",
       "      <td>1976.0</td>\n",
       "      <td>RFn</td>\n",
       "    </tr>\n",
       "  </tbody>\n",
       "</table>\n",
       "</div>"
      ],
      "text/plain": [
       "   Half Bathrooms  Bedrooms(Excluded Basement Bedrooms)  Kitchens  \\\n",
       "0               1                                     3         1   \n",
       "1               0                                     3         1   \n",
       "\n",
       "   Kitchen Quality  Total Rooms(Excluded Bathrooms)  Fireplaces FireplaceQu  \\\n",
       "0             Good                                8           0          No   \n",
       "1  Average/Typical                                6           1          TA   \n",
       "\n",
       "  GarageType  GarageYrBlt GarageFinish  \n",
       "0     Attchd       2003.0          RFn  \n",
       "1     Attchd       1976.0          RFn  "
      ]
     },
     "execution_count": 234,
     "metadata": {},
     "output_type": "execute_result"
    }
   ],
   "source": [
    "house_data.iloc[:2,40:50]"
   ]
  },
  {
   "cell_type": "markdown",
   "id": "639478ed",
   "metadata": {},
   "source": [
    "## Fireplaces: Number of fireplaces"
   ]
  },
  {
   "cell_type": "code",
   "execution_count": 235,
   "id": "90c17161",
   "metadata": {},
   "outputs": [],
   "source": [
    "house_data.rename(columns={'Fireplaces':'Number of Fireplaces'},inplace=True)"
   ]
  },
  {
   "cell_type": "code",
   "execution_count": 236,
   "id": "00a3b9c2",
   "metadata": {},
   "outputs": [
    {
     "data": {
      "text/plain": [
       "Number of Fireplaces\n",
       "0    690\n",
       "1    650\n",
       "2    115\n",
       "3      5\n",
       "Name: count, dtype: int64"
      ]
     },
     "execution_count": 236,
     "metadata": {},
     "output_type": "execute_result"
    }
   ],
   "source": [
    "house_data['Number of Fireplaces'].value_counts()"
   ]
  },
  {
   "cell_type": "markdown",
   "id": "a83075fa",
   "metadata": {},
   "source": [
    "## FireplaceQu: Fireplace quality\n",
    "### Ex = Excellent - Exceptional Masonry Fireplace\n",
    "### Gd = Good - Masonry Fireplace on the main level\n",
    "### TA = Average - Prefabricated Fireplace in the main living area or Masonry Fireplace in the basement\n",
    "### Fa = Fair - Prefabricated Fireplace in the basement\n",
    "### Po = Poor - Ben Franklin Stove\n",
    "### No = No Fireplace"
   ]
  },
  {
   "cell_type": "code",
   "execution_count": 237,
   "id": "0725e7d6",
   "metadata": {},
   "outputs": [],
   "source": [
    "house_data['FireplaceQu'] = house_data['FireplaceQu'].replace({'Ex':'Excellent - Exceptional Masonry Fireplace','Gd':'Good - Masonry Fireplace on the main level','TA':'Average - Prefabricated Fireplace in the main living area or Masonry Fireplace in the basement','Fa':'Fair - Prefabricated Fireplace in the basement','Po':'Poor - Ben Franklin Stove','No':'No Fireplace'})"
   ]
  },
  {
   "cell_type": "code",
   "execution_count": 238,
   "id": "5b504754",
   "metadata": {},
   "outputs": [
    {
     "data": {
      "text/plain": [
       "FireplaceQu\n",
       "No Fireplace                                                                                      690\n",
       "Good - Masonry Fireplace on the main level                                                        380\n",
       "Average - Prefabricated Fireplace in the main living area or Masonry Fireplace in the basement    313\n",
       "Fair - Prefabricated Fireplace in the basement                                                     33\n",
       "Excellent - Exceptional Masonry Fireplace                                                          24\n",
       "Poor - Ben Franklin Stove                                                                          20\n",
       "Name: count, dtype: int64"
      ]
     },
     "execution_count": 238,
     "metadata": {},
     "output_type": "execute_result"
    }
   ],
   "source": [
    "house_data['FireplaceQu'].value_counts()"
   ]
  },
  {
   "cell_type": "code",
   "execution_count": 239,
   "id": "4178db29",
   "metadata": {},
   "outputs": [],
   "source": [
    "house_data.rename(columns={'FireplaceQu':'Fireplace Quality'},inplace=True)"
   ]
  },
  {
   "cell_type": "code",
   "execution_count": 240,
   "id": "b71c8351",
   "metadata": {},
   "outputs": [
    {
     "data": {
      "text/html": [
       "<div>\n",
       "<style scoped>\n",
       "    .dataframe tbody tr th:only-of-type {\n",
       "        vertical-align: middle;\n",
       "    }\n",
       "\n",
       "    .dataframe tbody tr th {\n",
       "        vertical-align: top;\n",
       "    }\n",
       "\n",
       "    .dataframe thead th {\n",
       "        text-align: right;\n",
       "    }\n",
       "</style>\n",
       "<table border=\"1\" class=\"dataframe\">\n",
       "  <thead>\n",
       "    <tr style=\"text-align: right;\">\n",
       "      <th></th>\n",
       "      <th>Half Bathrooms</th>\n",
       "      <th>Bedrooms(Excluded Basement Bedrooms)</th>\n",
       "      <th>Kitchens</th>\n",
       "      <th>Kitchen Quality</th>\n",
       "      <th>Total Rooms(Excluded Bathrooms)</th>\n",
       "      <th>Number of Fireplaces</th>\n",
       "      <th>Fireplace Quality</th>\n",
       "      <th>GarageType</th>\n",
       "      <th>GarageYrBlt</th>\n",
       "      <th>GarageFinish</th>\n",
       "    </tr>\n",
       "  </thead>\n",
       "  <tbody>\n",
       "    <tr>\n",
       "      <th>0</th>\n",
       "      <td>1</td>\n",
       "      <td>3</td>\n",
       "      <td>1</td>\n",
       "      <td>Good</td>\n",
       "      <td>8</td>\n",
       "      <td>0</td>\n",
       "      <td>No Fireplace</td>\n",
       "      <td>Attchd</td>\n",
       "      <td>2003.0</td>\n",
       "      <td>RFn</td>\n",
       "    </tr>\n",
       "    <tr>\n",
       "      <th>1</th>\n",
       "      <td>0</td>\n",
       "      <td>3</td>\n",
       "      <td>1</td>\n",
       "      <td>Average/Typical</td>\n",
       "      <td>6</td>\n",
       "      <td>1</td>\n",
       "      <td>Average - Prefabricated Fireplace in the main ...</td>\n",
       "      <td>Attchd</td>\n",
       "      <td>1976.0</td>\n",
       "      <td>RFn</td>\n",
       "    </tr>\n",
       "    <tr>\n",
       "      <th>2</th>\n",
       "      <td>1</td>\n",
       "      <td>3</td>\n",
       "      <td>1</td>\n",
       "      <td>Good</td>\n",
       "      <td>6</td>\n",
       "      <td>1</td>\n",
       "      <td>Average - Prefabricated Fireplace in the main ...</td>\n",
       "      <td>Attchd</td>\n",
       "      <td>2001.0</td>\n",
       "      <td>RFn</td>\n",
       "    </tr>\n",
       "  </tbody>\n",
       "</table>\n",
       "</div>"
      ],
      "text/plain": [
       "   Half Bathrooms  Bedrooms(Excluded Basement Bedrooms)  Kitchens  \\\n",
       "0               1                                     3         1   \n",
       "1               0                                     3         1   \n",
       "2               1                                     3         1   \n",
       "\n",
       "   Kitchen Quality  Total Rooms(Excluded Bathrooms)  Number of Fireplaces  \\\n",
       "0             Good                                8                     0   \n",
       "1  Average/Typical                                6                     1   \n",
       "2             Good                                6                     1   \n",
       "\n",
       "                                   Fireplace Quality GarageType  GarageYrBlt  \\\n",
       "0                                       No Fireplace     Attchd       2003.0   \n",
       "1  Average - Prefabricated Fireplace in the main ...     Attchd       1976.0   \n",
       "2  Average - Prefabricated Fireplace in the main ...     Attchd       2001.0   \n",
       "\n",
       "  GarageFinish  \n",
       "0          RFn  \n",
       "1          RFn  \n",
       "2          RFn  "
      ]
     },
     "execution_count": 240,
     "metadata": {},
     "output_type": "execute_result"
    }
   ],
   "source": [
    "house_data.iloc[:3,40:50]"
   ]
  },
  {
   "cell_type": "markdown",
   "id": "512f901f",
   "metadata": {},
   "source": [
    "## GarageType: Garage location\n",
    "### 2Types = More than one type of garage\n",
    "### Attchd = Attached to the home\n",
    "### Basment = Basement Garage\n",
    "### BuiltIn = Built-In (Garage part of the house - typically has room above the garage)\n",
    "### CarPort = Car Port\n",
    "### Detchd = Detached from home\n",
    "### No = No Garage"
   ]
  },
  {
   "cell_type": "code",
   "execution_count": 241,
   "id": "b83d1a5c",
   "metadata": {},
   "outputs": [],
   "source": [
    "house_data['GarageType'] = house_data['GarageType'].replace({'2Types':'More than one type of garage','Attchd':'Attached to the home','Basment':'Basement Garage','BuiltIn':'Built-In (Garage part of the house - typically has room above the garage)','CarPort':'Car Port','Detchd':'Detached from home','No':'No Garage'})"
   ]
  },
  {
   "cell_type": "code",
   "execution_count": 242,
   "id": "c06f311f",
   "metadata": {},
   "outputs": [],
   "source": [
    "house_data.rename(columns={'GarageType':'Garage location'},inplace=True)"
   ]
  },
  {
   "cell_type": "markdown",
   "id": "fa2cc0b3",
   "metadata": {},
   "source": [
    "## Unique Values"
   ]
  },
  {
   "cell_type": "code",
   "execution_count": 243,
   "id": "c40f1ef6",
   "metadata": {},
   "outputs": [
    {
     "data": {
      "text/plain": [
       "array(['Attached to the home', 'Detached from home',\n",
       "       'Built-In (Garage part of the house - typically has room above the garage)',\n",
       "       'Car Port', 'No Garage', 'Basement Garage',\n",
       "       'More than one type of garage'], dtype=object)"
      ]
     },
     "execution_count": 243,
     "metadata": {},
     "output_type": "execute_result"
    }
   ],
   "source": [
    "house_data['Garage location'].unique()"
   ]
  },
  {
   "cell_type": "markdown",
   "id": "37787433",
   "metadata": {},
   "source": [
    "## GarageYrBlt: The year garage was built"
   ]
  },
  {
   "cell_type": "code",
   "execution_count": 244,
   "id": "91b50923",
   "metadata": {},
   "outputs": [],
   "source": [
    "house_data.rename(columns={'GarageYrBlt':'The Year of Garage Built'},inplace=True)"
   ]
  },
  {
   "cell_type": "code",
   "execution_count": 245,
   "id": "578392a1",
   "metadata": {},
   "outputs": [
    {
     "data": {
      "text/plain": [
       "81"
      ]
     },
     "execution_count": 245,
     "metadata": {},
     "output_type": "execute_result"
    }
   ],
   "source": [
    "house_data['The Year of Garage Built'].isnull().sum()"
   ]
  },
  {
   "cell_type": "markdown",
   "id": "41b6f45d",
   "metadata": {},
   "source": [
    "## Drop Null Values as Garage is not available"
   ]
  },
  {
   "cell_type": "code",
   "execution_count": 246,
   "id": "afe5a27f",
   "metadata": {},
   "outputs": [],
   "source": [
    "house_data.dropna(inplace=True)"
   ]
  },
  {
   "cell_type": "code",
   "execution_count": 247,
   "id": "86da621e",
   "metadata": {},
   "outputs": [
    {
     "data": {
      "text/plain": [
       "0"
      ]
     },
     "execution_count": 247,
     "metadata": {},
     "output_type": "execute_result"
    }
   ],
   "source": [
    "house_data['The Year of Garage Built'].isnull().sum()"
   ]
  },
  {
   "cell_type": "code",
   "execution_count": 248,
   "id": "f5613605",
   "metadata": {},
   "outputs": [
    {
     "data": {
      "text/plain": [
       "(1379, 70)"
      ]
     },
     "execution_count": 248,
     "metadata": {},
     "output_type": "execute_result"
    }
   ],
   "source": [
    "house_data.shape"
   ]
  },
  {
   "cell_type": "markdown",
   "id": "d7281a7e",
   "metadata": {},
   "source": [
    "## Change year from float to integer"
   ]
  },
  {
   "cell_type": "code",
   "execution_count": 249,
   "id": "2c4dfd9a",
   "metadata": {},
   "outputs": [],
   "source": [
    "def correct_year(x):\n",
    "    return int(x)"
   ]
  },
  {
   "cell_type": "code",
   "execution_count": 250,
   "id": "d41c8154",
   "metadata": {},
   "outputs": [],
   "source": [
    "house_data['The Year of Garage Built'] = house_data.apply(lambda a: correct_year(a['The Year of Garage Built']),axis = 1)"
   ]
  },
  {
   "cell_type": "code",
   "execution_count": 251,
   "id": "e5435099",
   "metadata": {},
   "outputs": [
    {
     "data": {
      "text/html": [
       "<div>\n",
       "<style scoped>\n",
       "    .dataframe tbody tr th:only-of-type {\n",
       "        vertical-align: middle;\n",
       "    }\n",
       "\n",
       "    .dataframe tbody tr th {\n",
       "        vertical-align: top;\n",
       "    }\n",
       "\n",
       "    .dataframe thead th {\n",
       "        text-align: right;\n",
       "    }\n",
       "</style>\n",
       "<table border=\"1\" class=\"dataframe\">\n",
       "  <thead>\n",
       "    <tr style=\"text-align: right;\">\n",
       "      <th></th>\n",
       "      <th>Half Bathrooms</th>\n",
       "      <th>Bedrooms(Excluded Basement Bedrooms)</th>\n",
       "      <th>Kitchens</th>\n",
       "      <th>Kitchen Quality</th>\n",
       "      <th>Total Rooms(Excluded Bathrooms)</th>\n",
       "      <th>Number of Fireplaces</th>\n",
       "      <th>Fireplace Quality</th>\n",
       "      <th>Garage location</th>\n",
       "      <th>The Year of Garage Built</th>\n",
       "      <th>GarageFinish</th>\n",
       "    </tr>\n",
       "  </thead>\n",
       "  <tbody>\n",
       "    <tr>\n",
       "      <th>106</th>\n",
       "      <td>0</td>\n",
       "      <td>2</td>\n",
       "      <td>1</td>\n",
       "      <td>Average/Typical</td>\n",
       "      <td>6</td>\n",
       "      <td>0</td>\n",
       "      <td>No Fireplace</td>\n",
       "      <td>Detached from home</td>\n",
       "      <td>1954</td>\n",
       "      <td>Unf</td>\n",
       "    </tr>\n",
       "    <tr>\n",
       "      <th>107</th>\n",
       "      <td>0</td>\n",
       "      <td>2</td>\n",
       "      <td>1</td>\n",
       "      <td>Average/Typical</td>\n",
       "      <td>5</td>\n",
       "      <td>0</td>\n",
       "      <td>No Fireplace</td>\n",
       "      <td>Detached from home</td>\n",
       "      <td>1948</td>\n",
       "      <td>Unf</td>\n",
       "    </tr>\n",
       "    <tr>\n",
       "      <th>109</th>\n",
       "      <td>0</td>\n",
       "      <td>3</td>\n",
       "      <td>1</td>\n",
       "      <td>Average/Typical</td>\n",
       "      <td>7</td>\n",
       "      <td>1</td>\n",
       "      <td>Average - Prefabricated Fireplace in the main ...</td>\n",
       "      <td>Attached to the home</td>\n",
       "      <td>1977</td>\n",
       "      <td>RFn</td>\n",
       "    </tr>\n",
       "  </tbody>\n",
       "</table>\n",
       "</div>"
      ],
      "text/plain": [
       "     Half Bathrooms  Bedrooms(Excluded Basement Bedrooms)  Kitchens  \\\n",
       "106               0                                     2         1   \n",
       "107               0                                     2         1   \n",
       "109               0                                     3         1   \n",
       "\n",
       "     Kitchen Quality  Total Rooms(Excluded Bathrooms)  Number of Fireplaces  \\\n",
       "106  Average/Typical                                6                     0   \n",
       "107  Average/Typical                                5                     0   \n",
       "109  Average/Typical                                7                     1   \n",
       "\n",
       "                                     Fireplace Quality       Garage location  \\\n",
       "106                                       No Fireplace    Detached from home   \n",
       "107                                       No Fireplace    Detached from home   \n",
       "109  Average - Prefabricated Fireplace in the main ...  Attached to the home   \n",
       "\n",
       "     The Year of Garage Built GarageFinish  \n",
       "106                      1954          Unf  \n",
       "107                      1948          Unf  \n",
       "109                      1977          RFn  "
      ]
     },
     "execution_count": 251,
     "metadata": {},
     "output_type": "execute_result"
    }
   ],
   "source": [
    "house_data.iloc[100:103,40:50]"
   ]
  },
  {
   "cell_type": "markdown",
   "id": "3416ff05",
   "metadata": {},
   "source": [
    "## GarageFinish: Interior finish of the garage\n",
    "### Fin = Finished\n",
    "### RFn = Rough Finished       \t\n",
    "### Unf\t= Unfinished\n",
    "### No = No Garage"
   ]
  },
  {
   "cell_type": "code",
   "execution_count": 252,
   "id": "579590db",
   "metadata": {},
   "outputs": [],
   "source": [
    "house_data['GarageFinish'] = house_data['GarageFinish'].replace({'Fin':'Finished','RFn':'Rough Finished','Unf':'Unfinished','No':'No Garage'})"
   ]
  },
  {
   "cell_type": "code",
   "execution_count": 253,
   "id": "4494208b",
   "metadata": {},
   "outputs": [],
   "source": [
    "house_data.rename(columns={'GarageFinish':'Interior finish of the garage'},inplace=True)"
   ]
  },
  {
   "cell_type": "code",
   "execution_count": 254,
   "id": "2e6f5e89",
   "metadata": {},
   "outputs": [
    {
     "data": {
      "text/plain": [
       "Interior finish of the garage\n",
       "Unfinished        605\n",
       "Rough Finished    422\n",
       "Finished          352\n",
       "Name: count, dtype: int64"
      ]
     },
     "execution_count": 254,
     "metadata": {},
     "output_type": "execute_result"
    }
   ],
   "source": [
    "house_data['Interior finish of the garage'].value_counts()"
   ]
  },
  {
   "cell_type": "markdown",
   "id": "bc054341",
   "metadata": {},
   "source": [
    "## GarageCars: Size of garage in car capacity"
   ]
  },
  {
   "cell_type": "code",
   "execution_count": 255,
   "id": "f292e1fb",
   "metadata": {},
   "outputs": [
    {
     "data": {
      "text/plain": [
       "GarageCars\n",
       "2    824\n",
       "1    369\n",
       "3    181\n",
       "4      5\n",
       "Name: count, dtype: int64"
      ]
     },
     "execution_count": 255,
     "metadata": {},
     "output_type": "execute_result"
    }
   ],
   "source": [
    "house_data['GarageCars'].value_counts()"
   ]
  },
  {
   "cell_type": "code",
   "execution_count": 256,
   "id": "acf16860",
   "metadata": {},
   "outputs": [],
   "source": [
    "house_data.rename(columns={'GarageCars':'Car Parking capacity in Garage'},inplace=True)"
   ]
  },
  {
   "cell_type": "code",
   "execution_count": 257,
   "id": "bf010782",
   "metadata": {},
   "outputs": [
    {
     "data": {
      "text/html": [
       "<div>\n",
       "<style scoped>\n",
       "    .dataframe tbody tr th:only-of-type {\n",
       "        vertical-align: middle;\n",
       "    }\n",
       "\n",
       "    .dataframe tbody tr th {\n",
       "        vertical-align: top;\n",
       "    }\n",
       "\n",
       "    .dataframe thead th {\n",
       "        text-align: right;\n",
       "    }\n",
       "</style>\n",
       "<table border=\"1\" class=\"dataframe\">\n",
       "  <thead>\n",
       "    <tr style=\"text-align: right;\">\n",
       "      <th></th>\n",
       "      <th>Number of Fireplaces</th>\n",
       "      <th>Fireplace Quality</th>\n",
       "      <th>Garage location</th>\n",
       "      <th>The Year of Garage Built</th>\n",
       "      <th>Interior finish of the garage</th>\n",
       "      <th>Car Parking capacity in Garage</th>\n",
       "      <th>GarageArea</th>\n",
       "      <th>GarageQual</th>\n",
       "      <th>GarageCond</th>\n",
       "      <th>PavedDrive</th>\n",
       "      <th>...</th>\n",
       "      <th>OpenPorchSF</th>\n",
       "      <th>EnclosedPorch</th>\n",
       "      <th>3SsnPorch</th>\n",
       "      <th>ScreenPorch</th>\n",
       "      <th>PoolArea</th>\n",
       "      <th>PoolQC</th>\n",
       "      <th>Fence</th>\n",
       "      <th>MiscFeature</th>\n",
       "      <th>MiscVal</th>\n",
       "      <th>MoSold</th>\n",
       "    </tr>\n",
       "  </thead>\n",
       "  <tbody>\n",
       "    <tr>\n",
       "      <th>2</th>\n",
       "      <td>1</td>\n",
       "      <td>Average - Prefabricated Fireplace in the main ...</td>\n",
       "      <td>Attached to the home</td>\n",
       "      <td>2001</td>\n",
       "      <td>Rough Finished</td>\n",
       "      <td>2</td>\n",
       "      <td>608</td>\n",
       "      <td>TA</td>\n",
       "      <td>TA</td>\n",
       "      <td>Y</td>\n",
       "      <td>...</td>\n",
       "      <td>42</td>\n",
       "      <td>0</td>\n",
       "      <td>0</td>\n",
       "      <td>0</td>\n",
       "      <td>0</td>\n",
       "      <td>No</td>\n",
       "      <td>No</td>\n",
       "      <td>No</td>\n",
       "      <td>0</td>\n",
       "      <td>Sep</td>\n",
       "    </tr>\n",
       "    <tr>\n",
       "      <th>3</th>\n",
       "      <td>1</td>\n",
       "      <td>Good - Masonry Fireplace on the main level</td>\n",
       "      <td>Detached from home</td>\n",
       "      <td>1998</td>\n",
       "      <td>Unfinished</td>\n",
       "      <td>3</td>\n",
       "      <td>642</td>\n",
       "      <td>TA</td>\n",
       "      <td>TA</td>\n",
       "      <td>Y</td>\n",
       "      <td>...</td>\n",
       "      <td>35</td>\n",
       "      <td>272</td>\n",
       "      <td>0</td>\n",
       "      <td>0</td>\n",
       "      <td>0</td>\n",
       "      <td>No</td>\n",
       "      <td>No</td>\n",
       "      <td>No</td>\n",
       "      <td>0</td>\n",
       "      <td>Feb</td>\n",
       "    </tr>\n",
       "    <tr>\n",
       "      <th>4</th>\n",
       "      <td>1</td>\n",
       "      <td>Average - Prefabricated Fireplace in the main ...</td>\n",
       "      <td>Attached to the home</td>\n",
       "      <td>2000</td>\n",
       "      <td>Rough Finished</td>\n",
       "      <td>3</td>\n",
       "      <td>836</td>\n",
       "      <td>TA</td>\n",
       "      <td>TA</td>\n",
       "      <td>Y</td>\n",
       "      <td>...</td>\n",
       "      <td>84</td>\n",
       "      <td>0</td>\n",
       "      <td>0</td>\n",
       "      <td>0</td>\n",
       "      <td>0</td>\n",
       "      <td>No</td>\n",
       "      <td>No</td>\n",
       "      <td>No</td>\n",
       "      <td>0</td>\n",
       "      <td>Dec</td>\n",
       "    </tr>\n",
       "  </tbody>\n",
       "</table>\n",
       "<p>3 rows × 21 columns</p>\n",
       "</div>"
      ],
      "text/plain": [
       "   Number of Fireplaces                                  Fireplace Quality  \\\n",
       "2                     1  Average - Prefabricated Fireplace in the main ...   \n",
       "3                     1         Good - Masonry Fireplace on the main level   \n",
       "4                     1  Average - Prefabricated Fireplace in the main ...   \n",
       "\n",
       "        Garage location  The Year of Garage Built  \\\n",
       "2  Attached to the home                      2001   \n",
       "3    Detached from home                      1998   \n",
       "4  Attached to the home                      2000   \n",
       "\n",
       "  Interior finish of the garage  Car Parking capacity in Garage  GarageArea  \\\n",
       "2                Rough Finished                               2         608   \n",
       "3                    Unfinished                               3         642   \n",
       "4                Rough Finished                               3         836   \n",
       "\n",
       "  GarageQual GarageCond PavedDrive  ...  OpenPorchSF  EnclosedPorch  \\\n",
       "2         TA         TA          Y  ...           42              0   \n",
       "3         TA         TA          Y  ...           35            272   \n",
       "4         TA         TA          Y  ...           84              0   \n",
       "\n",
       "   3SsnPorch  ScreenPorch  PoolArea  PoolQC Fence MiscFeature MiscVal  MoSold  \n",
       "2          0            0         0      No    No          No       0     Sep  \n",
       "3          0            0         0      No    No          No       0     Feb  \n",
       "4          0            0         0      No    No          No       0     Dec  \n",
       "\n",
       "[3 rows x 21 columns]"
      ]
     },
     "execution_count": 257,
     "metadata": {},
     "output_type": "execute_result"
    }
   ],
   "source": [
    "house_data.iloc[2:5,45:66]"
   ]
  },
  {
   "cell_type": "markdown",
   "id": "81da0ed3",
   "metadata": {},
   "source": [
    "## GarageArea: Size of garage in square feet"
   ]
  },
  {
   "cell_type": "code",
   "execution_count": 258,
   "id": "757d59df",
   "metadata": {},
   "outputs": [],
   "source": [
    "house_data.rename(columns={'GarageArea':'Size of garage in square feet'},inplace=True)"
   ]
  },
  {
   "cell_type": "markdown",
   "id": "a0504863",
   "metadata": {},
   "source": [
    "## Unique Values"
   ]
  },
  {
   "cell_type": "code",
   "execution_count": 259,
   "id": "0e1def10",
   "metadata": {},
   "outputs": [
    {
     "data": {
      "text/plain": [
       "array([ 548,  460,  608,  642,  836,  480,  636,  484,  468,  205,  384,\n",
       "        736,  352,  840,  576,  516,  294,  853,  280,  534,  572,  270,\n",
       "        890,  772,  319,  240,  250,  271,  447,  556,  691,  672,  498,\n",
       "        246,  440,  308,  504,  300,  670,  826,  386,  388,  528,  894,\n",
       "        565,  641,  288,  645,  852,  558,  220,  667,  360,  427,  490,\n",
       "        379,  297,  283,  509,  405,  758,  461,  400,  462,  420,  432,\n",
       "        506,  684,  472,  366,  476,  410,  740,  648,  273,  546,  325,\n",
       "        792,  450,  180,  430,  594,  390,  540,  264,  530,  435,  453,\n",
       "        750,  487,  624,  471,  318,  766,  660,  470,  720,  577,  380,\n",
       "        434,  866,  495,  564,  312,  625,  680,  678,  726,  532,  216,\n",
       "        303,  789,  511,  616,  521,  451, 1166,  252,  497,  682,  666,\n",
       "        786,  795,  856,  473,  398,  500,  349,  454,  644,  299,  210,\n",
       "        431,  438,  675,  968,  721,  336,  810,  494,  457,  818,  463,\n",
       "        604,  389,  538,  520,  309,  429,  673,  884,  868,  492,  413,\n",
       "        924, 1053,  439,  671,  338,  573,  732,  505,  575,  626,  898,\n",
       "        529,  685,  281,  539,  418,  588,  282,  375,  683,  843,  552,\n",
       "        870,  888,  746,  708,  513, 1025,  656,  872,  292,  441,  189,\n",
       "        880,  676,  301,  474,  706,  617,  445,  200,  592,  566,  514,\n",
       "        296,  244,  610,  834,  639,  501,  846,  560,  596,  600,  373,\n",
       "        947,  350,  396,  864,  304,  784,  696,  569,  628,  550,  493,\n",
       "        578,  198,  422,  228,  526,  525,  908,  499,  508,  694,  874,\n",
       "        164,  402,  515,  286,  603,  900,  583,  889,  858,  502,  392,\n",
       "        403,  527,  765,  367,  426,  615,  871,  570,  406,  590,  612,\n",
       "        650, 1390,  275,  452,  842,  816,  621,  544,  486,  230,  261,\n",
       "        531,  393,  774,  749,  364,  627,  260,  256,  478,  442,  562,\n",
       "        512,  839,  330,  711, 1134,  416,  779,  702,  567,  832,  326,\n",
       "        551,  606,  739,  408,  475,  704,  983,  768,  632,  541,  320,\n",
       "        800,  831,  554,  878,  752,  614,  481,  496,  423,  841,  895,\n",
       "        412,  865,  630,  605,  602,  618,  444,  397,  455,  409,  820,\n",
       "       1020,  598,  857,  595,  433,  776, 1220,  458,  613,  456,  436,\n",
       "        812,  686,  611,  425,  343,  479,  619,  902,  574,  523,  414,\n",
       "        738,  354,  483,  327,  756,  690,  284,  833,  601,  533,  522,\n",
       "        788,  555,  689,  796,  808,  510,  255,  424,  305,  368,  824,\n",
       "        328,  160,  437,  665,  290,  912,  905,  542,  716,  586,  467,\n",
       "        582, 1248, 1043,  254,  712,  719,  862,  928,  782,  466,  714,\n",
       "       1052,  225,  234,  324,  306,  830,  807,  358,  186,  693,  482,\n",
       "        813,  995,  757, 1356,  459,  701,  322,  315,  668,  404,  543,\n",
       "        954,  850,  477,  276,  518, 1014,  753, 1418,  213,  844,  860,\n",
       "        748,  248,  287,  825,  647,  342,  770,  663,  377,  804,  936,\n",
       "        722,  208,  662,  754,  622,  620,  370, 1069,  372,  923,  192],\n",
       "      dtype=int64)"
      ]
     },
     "execution_count": 259,
     "metadata": {},
     "output_type": "execute_result"
    }
   ],
   "source": [
    "house_data['Size of garage in square feet'].unique()"
   ]
  },
  {
   "cell_type": "markdown",
   "id": "bc2efb43",
   "metadata": {},
   "source": [
    "## GarageQual: Garage quality\n",
    "### Ex = Excellent\n",
    "### Gd = Good\n",
    "### TA = Typical/Average\n",
    "### Fa = Fair\n",
    "### Po = Poor\n",
    "### No = No Garage"
   ]
  },
  {
   "cell_type": "code",
   "execution_count": 260,
   "id": "90b6e9ef",
   "metadata": {},
   "outputs": [],
   "source": [
    "house_data['GarageQual'] = house_data['GarageQual'].replace({'Ex':'Excellent','Gd':'Good','TA':'Typical/Average','Fa':'Fair','Po':'Poor','No':'No Garage'})"
   ]
  },
  {
   "cell_type": "code",
   "execution_count": 261,
   "id": "21478207",
   "metadata": {},
   "outputs": [],
   "source": [
    "house_data.rename(columns={'GarageQual':'Garage quality'},inplace=True)"
   ]
  },
  {
   "cell_type": "markdown",
   "id": "1b12598f",
   "metadata": {},
   "source": [
    "## GarageCond: Garage condition\n",
    "### Ex = Excellent\n",
    "### Gd = Good\n",
    "### TA = Typical/Average\n",
    "### Fa = Fair\n",
    "### Po = Poor\n",
    "### No = No Garage"
   ]
  },
  {
   "cell_type": "code",
   "execution_count": 262,
   "id": "d0528094",
   "metadata": {},
   "outputs": [],
   "source": [
    "house_data['GarageCond'] = house_data['GarageCond'].replace({'Ex':'Excellent','Gd':'Good','TA':'Typical/Average','Fa':'Fair','Po':'Poor','No':'No Garage'})"
   ]
  },
  {
   "cell_type": "code",
   "execution_count": 263,
   "id": "3ab04306",
   "metadata": {},
   "outputs": [],
   "source": [
    "house_data.rename(columns={'GarageCond':'Garage condition'},inplace=True)"
   ]
  },
  {
   "cell_type": "code",
   "execution_count": 264,
   "id": "19582073",
   "metadata": {},
   "outputs": [
    {
     "data": {
      "text/plain": [
       "Garage condition\n",
       "Typical/Average    1326\n",
       "Fair                 35\n",
       "Good                  9\n",
       "Poor                  7\n",
       "Excellent             2\n",
       "Name: count, dtype: int64"
      ]
     },
     "execution_count": 264,
     "metadata": {},
     "output_type": "execute_result"
    }
   ],
   "source": [
    "house_data['Garage condition'].value_counts()"
   ]
  },
  {
   "cell_type": "code",
   "execution_count": 265,
   "id": "5fbcf8ef",
   "metadata": {},
   "outputs": [
    {
     "data": {
      "text/html": [
       "<div>\n",
       "<style scoped>\n",
       "    .dataframe tbody tr th:only-of-type {\n",
       "        vertical-align: middle;\n",
       "    }\n",
       "\n",
       "    .dataframe tbody tr th {\n",
       "        vertical-align: top;\n",
       "    }\n",
       "\n",
       "    .dataframe thead th {\n",
       "        text-align: right;\n",
       "    }\n",
       "</style>\n",
       "<table border=\"1\" class=\"dataframe\">\n",
       "  <thead>\n",
       "    <tr style=\"text-align: right;\">\n",
       "      <th></th>\n",
       "      <th>Car Parking capacity in Garage</th>\n",
       "      <th>Size of garage in square feet</th>\n",
       "      <th>Garage quality</th>\n",
       "      <th>Garage condition</th>\n",
       "      <th>PavedDrive</th>\n",
       "      <th>WoodDeckSF</th>\n",
       "      <th>OpenPorchSF</th>\n",
       "      <th>EnclosedPorch</th>\n",
       "      <th>3SsnPorch</th>\n",
       "      <th>ScreenPorch</th>\n",
       "    </tr>\n",
       "  </thead>\n",
       "  <tbody>\n",
       "    <tr>\n",
       "      <th>0</th>\n",
       "      <td>2</td>\n",
       "      <td>548</td>\n",
       "      <td>Typical/Average</td>\n",
       "      <td>Typical/Average</td>\n",
       "      <td>Y</td>\n",
       "      <td>0</td>\n",
       "      <td>61</td>\n",
       "      <td>0</td>\n",
       "      <td>0</td>\n",
       "      <td>0</td>\n",
       "    </tr>\n",
       "    <tr>\n",
       "      <th>1</th>\n",
       "      <td>2</td>\n",
       "      <td>460</td>\n",
       "      <td>Typical/Average</td>\n",
       "      <td>Typical/Average</td>\n",
       "      <td>Y</td>\n",
       "      <td>298</td>\n",
       "      <td>0</td>\n",
       "      <td>0</td>\n",
       "      <td>0</td>\n",
       "      <td>0</td>\n",
       "    </tr>\n",
       "    <tr>\n",
       "      <th>2</th>\n",
       "      <td>2</td>\n",
       "      <td>608</td>\n",
       "      <td>Typical/Average</td>\n",
       "      <td>Typical/Average</td>\n",
       "      <td>Y</td>\n",
       "      <td>0</td>\n",
       "      <td>42</td>\n",
       "      <td>0</td>\n",
       "      <td>0</td>\n",
       "      <td>0</td>\n",
       "    </tr>\n",
       "  </tbody>\n",
       "</table>\n",
       "</div>"
      ],
      "text/plain": [
       "   Car Parking capacity in Garage  Size of garage in square feet  \\\n",
       "0                               2                            548   \n",
       "1                               2                            460   \n",
       "2                               2                            608   \n",
       "\n",
       "    Garage quality Garage condition PavedDrive  WoodDeckSF  OpenPorchSF  \\\n",
       "0  Typical/Average  Typical/Average          Y           0           61   \n",
       "1  Typical/Average  Typical/Average          Y         298            0   \n",
       "2  Typical/Average  Typical/Average          Y           0           42   \n",
       "\n",
       "   EnclosedPorch  3SsnPorch  ScreenPorch  \n",
       "0              0          0            0  \n",
       "1              0          0            0  \n",
       "2              0          0            0  "
      ]
     },
     "execution_count": 265,
     "metadata": {},
     "output_type": "execute_result"
    }
   ],
   "source": [
    "house_data.iloc[:3,50:60]"
   ]
  },
  {
   "cell_type": "markdown",
   "id": "1e980d5c",
   "metadata": {},
   "source": [
    "## PavedDrive: Paved driveway\n",
    "### Y = Paved\n",
    "### P = Partial Pavement\n",
    "### N = Dirt/Gravel"
   ]
  },
  {
   "cell_type": "code",
   "execution_count": 266,
   "id": "6bfbdbd3",
   "metadata": {},
   "outputs": [],
   "source": [
    "house_data['PavedDrive'] = house_data['PavedDrive'].replace({'Y':'Paved','P':'Partial Pavement','N':'Dirt/Gravel'})"
   ]
  },
  {
   "cell_type": "code",
   "execution_count": 267,
   "id": "7aac646f",
   "metadata": {},
   "outputs": [
    {
     "data": {
      "text/plain": [
       "PavedDrive\n",
       "Paved               1293\n",
       "Dirt/Gravel           58\n",
       "Partial Pavement      28\n",
       "Name: count, dtype: int64"
      ]
     },
     "execution_count": 267,
     "metadata": {},
     "output_type": "execute_result"
    }
   ],
   "source": [
    "house_data['PavedDrive'].value_counts()"
   ]
  },
  {
   "cell_type": "markdown",
   "id": "011487f0",
   "metadata": {},
   "source": [
    "## WoodDeckSF: Wood deck area in square feet"
   ]
  },
  {
   "cell_type": "code",
   "execution_count": 268,
   "id": "49f4dd77",
   "metadata": {},
   "outputs": [],
   "source": [
    "house_data.rename(columns={'WoodDeckSF':'Wood deck area in square feet'},inplace = True)"
   ]
  },
  {
   "cell_type": "code",
   "execution_count": 269,
   "id": "223e92e6",
   "metadata": {},
   "outputs": [
    {
     "data": {
      "text/plain": [
       "Wood deck area in square feet\n",
       "0      701\n",
       "192     38\n",
       "100     36\n",
       "144     32\n",
       "120     30\n",
       "      ... \n",
       "179      1\n",
       "103      1\n",
       "176      1\n",
       "390      1\n",
       "736      1\n",
       "Name: count, Length: 267, dtype: int64"
      ]
     },
     "execution_count": 269,
     "metadata": {},
     "output_type": "execute_result"
    }
   ],
   "source": [
    "house_data['Wood deck area in square feet'].value_counts()"
   ]
  },
  {
   "cell_type": "markdown",
   "id": "326de4a8",
   "metadata": {},
   "source": [
    "## OpenPorchSF: Open porch area in square feet"
   ]
  },
  {
   "cell_type": "code",
   "execution_count": 270,
   "id": "07af419d",
   "metadata": {},
   "outputs": [],
   "source": [
    "house_data.rename(columns={'OpenPorchSF':'Open porch area in square feet'},inplace = True)"
   ]
  },
  {
   "cell_type": "code",
   "execution_count": 271,
   "id": "7f6e299e",
   "metadata": {},
   "outputs": [
    {
     "data": {
      "text/plain": [
       "Open porch area in square feet\n",
       "0      601\n",
       "36      28\n",
       "48      22\n",
       "20      20\n",
       "40      19\n",
       "      ... \n",
       "285      1\n",
       "11       1\n",
       "125      1\n",
       "137      1\n",
       "236      1\n",
       "Name: count, Length: 198, dtype: int64"
      ]
     },
     "execution_count": 271,
     "metadata": {},
     "output_type": "execute_result"
    }
   ],
   "source": [
    "house_data['Open porch area in square feet'].value_counts()"
   ]
  },
  {
   "cell_type": "markdown",
   "id": "2000302c",
   "metadata": {},
   "source": [
    "## EnclosedPorch:  Enclosed porch area in square feet"
   ]
  },
  {
   "cell_type": "code",
   "execution_count": 272,
   "id": "58d053df",
   "metadata": {},
   "outputs": [],
   "source": [
    "house_data.rename(columns={'EnclosedPorch':'Enclosed porch area in square feet'},inplace = True)"
   ]
  },
  {
   "cell_type": "code",
   "execution_count": 273,
   "id": "2d1d58f1",
   "metadata": {},
   "outputs": [
    {
     "data": {
      "text/plain": [
       "Enclosed porch area in square feet\n",
       "0      1193\n",
       "112      15\n",
       "216       5\n",
       "120       5\n",
       "96        5\n",
       "       ... \n",
       "54        1\n",
       "64        1\n",
       "136       1\n",
       "200       1\n",
       "99        1\n",
       "Name: count, Length: 111, dtype: int64"
      ]
     },
     "execution_count": 273,
     "metadata": {},
     "output_type": "execute_result"
    }
   ],
   "source": [
    "house_data['Enclosed porch area in square feet'].value_counts()"
   ]
  },
  {
   "cell_type": "markdown",
   "id": "7ea2e354",
   "metadata": {},
   "source": [
    "## 3SsnPorch: Three-season porch area in square feet"
   ]
  },
  {
   "cell_type": "code",
   "execution_count": 274,
   "id": "3dd0dc1f",
   "metadata": {},
   "outputs": [],
   "source": [
    "house_data.rename(columns={'3SsnPorch':'Three-season porch area in square feet'},inplace = True)"
   ]
  },
  {
   "cell_type": "code",
   "execution_count": 275,
   "id": "ec327264",
   "metadata": {},
   "outputs": [
    {
     "data": {
      "text/plain": [
       "Three-season porch area in square feet\n",
       "0      1355\n",
       "168       3\n",
       "144       2\n",
       "180       2\n",
       "216       2\n",
       "290       1\n",
       "153       1\n",
       "96        1\n",
       "23        1\n",
       "162       1\n",
       "182       1\n",
       "196       1\n",
       "320       1\n",
       "245       1\n",
       "238       1\n",
       "508       1\n",
       "140       1\n",
       "130       1\n",
       "407       1\n",
       "304       1\n",
       "Name: count, dtype: int64"
      ]
     },
     "execution_count": 275,
     "metadata": {},
     "output_type": "execute_result"
    }
   ],
   "source": [
    "house_data['Three-season porch area in square feet'].value_counts()"
   ]
  },
  {
   "cell_type": "markdown",
   "id": "de45c730",
   "metadata": {},
   "source": [
    "## ScreenPorch: Screen porch area in square feet"
   ]
  },
  {
   "cell_type": "code",
   "execution_count": 276,
   "id": "e6ce5a71",
   "metadata": {},
   "outputs": [],
   "source": [
    "house_data.rename(columns={'ScreenPorch':'Screen porch area in square feet'},inplace = True)"
   ]
  },
  {
   "cell_type": "code",
   "execution_count": 277,
   "id": "d474fdf8",
   "metadata": {},
   "outputs": [
    {
     "data": {
      "text/plain": [
       "Screen porch area in square feet\n",
       "0      1263\n",
       "192       6\n",
       "120       5\n",
       "224       5\n",
       "189       4\n",
       "       ... \n",
       "291       1\n",
       "260       1\n",
       "385       1\n",
       "156       1\n",
       "40        1\n",
       "Name: count, Length: 76, dtype: int64"
      ]
     },
     "execution_count": 277,
     "metadata": {},
     "output_type": "execute_result"
    }
   ],
   "source": [
    "house_data['Screen porch area in square feet'].value_counts()"
   ]
  },
  {
   "cell_type": "markdown",
   "id": "cb1f4e51",
   "metadata": {},
   "source": [
    "## PoolArea: Pool area in square feet"
   ]
  },
  {
   "cell_type": "code",
   "execution_count": 278,
   "id": "1ec83413",
   "metadata": {},
   "outputs": [],
   "source": [
    "house_data.rename(columns={'PoolArea':'Pool area in square feet'},inplace = True)"
   ]
  },
  {
   "cell_type": "code",
   "execution_count": 279,
   "id": "9f131297",
   "metadata": {},
   "outputs": [
    {
     "data": {
      "text/plain": [
       "Pool area in square feet\n",
       "0      1372\n",
       "512       1\n",
       "648       1\n",
       "576       1\n",
       "555       1\n",
       "480       1\n",
       "519       1\n",
       "738       1\n",
       "Name: count, dtype: int64"
      ]
     },
     "execution_count": 279,
     "metadata": {},
     "output_type": "execute_result"
    }
   ],
   "source": [
    "house_data['Pool area in square feet'].value_counts()"
   ]
  },
  {
   "cell_type": "code",
   "execution_count": 280,
   "id": "0cab9427",
   "metadata": {},
   "outputs": [
    {
     "data": {
      "text/html": [
       "<div>\n",
       "<style scoped>\n",
       "    .dataframe tbody tr th:only-of-type {\n",
       "        vertical-align: middle;\n",
       "    }\n",
       "\n",
       "    .dataframe tbody tr th {\n",
       "        vertical-align: top;\n",
       "    }\n",
       "\n",
       "    .dataframe thead th {\n",
       "        text-align: right;\n",
       "    }\n",
       "</style>\n",
       "<table border=\"1\" class=\"dataframe\">\n",
       "  <thead>\n",
       "    <tr style=\"text-align: right;\">\n",
       "      <th></th>\n",
       "      <th>Pool area in square feet</th>\n",
       "      <th>PoolQC</th>\n",
       "      <th>Fence</th>\n",
       "      <th>MiscFeature</th>\n",
       "      <th>MiscVal</th>\n",
       "      <th>MoSold</th>\n",
       "      <th>YrSold</th>\n",
       "      <th>SaleType</th>\n",
       "      <th>SaleCondition</th>\n",
       "    </tr>\n",
       "  </thead>\n",
       "  <tbody>\n",
       "    <tr>\n",
       "      <th>0</th>\n",
       "      <td>0</td>\n",
       "      <td>No</td>\n",
       "      <td>No</td>\n",
       "      <td>No</td>\n",
       "      <td>0</td>\n",
       "      <td>Feb</td>\n",
       "      <td>2008</td>\n",
       "      <td>WD</td>\n",
       "      <td>Normal</td>\n",
       "    </tr>\n",
       "    <tr>\n",
       "      <th>1</th>\n",
       "      <td>0</td>\n",
       "      <td>No</td>\n",
       "      <td>No</td>\n",
       "      <td>No</td>\n",
       "      <td>0</td>\n",
       "      <td>May</td>\n",
       "      <td>2007</td>\n",
       "      <td>WD</td>\n",
       "      <td>Normal</td>\n",
       "    </tr>\n",
       "    <tr>\n",
       "      <th>2</th>\n",
       "      <td>0</td>\n",
       "      <td>No</td>\n",
       "      <td>No</td>\n",
       "      <td>No</td>\n",
       "      <td>0</td>\n",
       "      <td>Sep</td>\n",
       "      <td>2008</td>\n",
       "      <td>WD</td>\n",
       "      <td>Normal</td>\n",
       "    </tr>\n",
       "  </tbody>\n",
       "</table>\n",
       "</div>"
      ],
      "text/plain": [
       "   Pool area in square feet PoolQC Fence MiscFeature  MiscVal MoSold  YrSold  \\\n",
       "0                         0     No    No          No        0    Feb    2008   \n",
       "1                         0     No    No          No        0    May    2007   \n",
       "2                         0     No    No          No        0    Sep    2008   \n",
       "\n",
       "  SaleType SaleCondition  \n",
       "0       WD        Normal  \n",
       "1       WD        Normal  \n",
       "2       WD        Normal  "
      ]
     },
     "execution_count": 280,
     "metadata": {},
     "output_type": "execute_result"
    }
   ],
   "source": [
    "house_data.iloc[:3,60:69]"
   ]
  },
  {
   "cell_type": "markdown",
   "id": "66a4bb56",
   "metadata": {},
   "source": [
    "## PoolQC: Pool quality\n",
    "### Ex = Excellent\n",
    "### Gd = Good\n",
    "### TA = Typical/Average\n",
    "### Fa = Fair\n",
    "### No = No Pool"
   ]
  },
  {
   "cell_type": "code",
   "execution_count": 281,
   "id": "a768d839",
   "metadata": {},
   "outputs": [],
   "source": [
    "house_data['PoolQC'] = house_data['PoolQC'].replace({'Ex':'Excellent','Gd':'Good','TA':'Typical/Average','Fa':'Fair','No':'No Pool'})"
   ]
  },
  {
   "cell_type": "code",
   "execution_count": 282,
   "id": "c2249d8e",
   "metadata": {},
   "outputs": [],
   "source": [
    "house_data.rename(columns={'PoolQC':'Pool Quality'},inplace=True)"
   ]
  },
  {
   "cell_type": "code",
   "execution_count": 283,
   "id": "89d142f3",
   "metadata": {},
   "outputs": [
    {
     "data": {
      "text/plain": [
       "Pool Quality\n",
       "No Pool      1372\n",
       "Good            3\n",
       "Excellent       2\n",
       "Fair            2\n",
       "Name: count, dtype: int64"
      ]
     },
     "execution_count": 283,
     "metadata": {},
     "output_type": "execute_result"
    }
   ],
   "source": [
    "house_data['Pool Quality'].value_counts()"
   ]
  },
  {
   "cell_type": "markdown",
   "id": "a4cc6237",
   "metadata": {},
   "source": [
    "## Here in Pool Quality and Pool Area there are no Pools in Approx 98% of data, so better to remove both  columns"
   ]
  },
  {
   "cell_type": "code",
   "execution_count": 284,
   "id": "3fecf63d",
   "metadata": {},
   "outputs": [],
   "source": [
    "house_data.drop(['Pool Quality','Pool area in square feet'],axis = 1, inplace=True)"
   ]
  },
  {
   "cell_type": "code",
   "execution_count": 285,
   "id": "ea74ad0b",
   "metadata": {},
   "outputs": [
    {
     "data": {
      "text/html": [
       "<div>\n",
       "<style scoped>\n",
       "    .dataframe tbody tr th:only-of-type {\n",
       "        vertical-align: middle;\n",
       "    }\n",
       "\n",
       "    .dataframe tbody tr th {\n",
       "        vertical-align: top;\n",
       "    }\n",
       "\n",
       "    .dataframe thead th {\n",
       "        text-align: right;\n",
       "    }\n",
       "</style>\n",
       "<table border=\"1\" class=\"dataframe\">\n",
       "  <thead>\n",
       "    <tr style=\"text-align: right;\">\n",
       "      <th></th>\n",
       "      <th>Wood deck area in square feet</th>\n",
       "      <th>Open porch area in square feet</th>\n",
       "      <th>Enclosed porch area in square feet</th>\n",
       "      <th>Three-season porch area in square feet</th>\n",
       "      <th>Screen porch area in square feet</th>\n",
       "      <th>Fence</th>\n",
       "      <th>MiscFeature</th>\n",
       "      <th>MiscVal</th>\n",
       "      <th>MoSold</th>\n",
       "      <th>YrSold</th>\n",
       "    </tr>\n",
       "  </thead>\n",
       "  <tbody>\n",
       "    <tr>\n",
       "      <th>0</th>\n",
       "      <td>0</td>\n",
       "      <td>61</td>\n",
       "      <td>0</td>\n",
       "      <td>0</td>\n",
       "      <td>0</td>\n",
       "      <td>No</td>\n",
       "      <td>No</td>\n",
       "      <td>0</td>\n",
       "      <td>Feb</td>\n",
       "      <td>2008</td>\n",
       "    </tr>\n",
       "    <tr>\n",
       "      <th>1</th>\n",
       "      <td>298</td>\n",
       "      <td>0</td>\n",
       "      <td>0</td>\n",
       "      <td>0</td>\n",
       "      <td>0</td>\n",
       "      <td>No</td>\n",
       "      <td>No</td>\n",
       "      <td>0</td>\n",
       "      <td>May</td>\n",
       "      <td>2007</td>\n",
       "    </tr>\n",
       "    <tr>\n",
       "      <th>2</th>\n",
       "      <td>0</td>\n",
       "      <td>42</td>\n",
       "      <td>0</td>\n",
       "      <td>0</td>\n",
       "      <td>0</td>\n",
       "      <td>No</td>\n",
       "      <td>No</td>\n",
       "      <td>0</td>\n",
       "      <td>Sep</td>\n",
       "      <td>2008</td>\n",
       "    </tr>\n",
       "  </tbody>\n",
       "</table>\n",
       "</div>"
      ],
      "text/plain": [
       "   Wood deck area in square feet  Open porch area in square feet  \\\n",
       "0                              0                              61   \n",
       "1                            298                               0   \n",
       "2                              0                              42   \n",
       "\n",
       "   Enclosed porch area in square feet  Three-season porch area in square feet  \\\n",
       "0                                   0                                       0   \n",
       "1                                   0                                       0   \n",
       "2                                   0                                       0   \n",
       "\n",
       "   Screen porch area in square feet Fence MiscFeature  MiscVal MoSold  YrSold  \n",
       "0                                 0    No          No        0    Feb    2008  \n",
       "1                                 0    No          No        0    May    2007  \n",
       "2                                 0    No          No        0    Sep    2008  "
      ]
     },
     "execution_count": 285,
     "metadata": {},
     "output_type": "execute_result"
    }
   ],
   "source": [
    "house_data.iloc[:3,55:65]"
   ]
  },
  {
   "cell_type": "markdown",
   "id": "20a054c3",
   "metadata": {},
   "source": [
    "## Fence: Fence Quality\n",
    "### GdPrv = Good Privacy\n",
    "### MnPrv = Minimum Privacy\n",
    "### GdWo = Good Wood\n",
    "### MnWw = Minimum Wood/Wire\n",
    "### No = No Fence"
   ]
  },
  {
   "cell_type": "code",
   "execution_count": 286,
   "id": "1ff63522",
   "metadata": {},
   "outputs": [],
   "source": [
    "house_data['Fence'] = house_data['Fence'].replace({'GdPrv':'Good Privacy','MnPrv':'Minimum Privacy','GdWo':'Good Wood','MnWw':'Minimum Wood/Wire','No':'No Fence'})"
   ]
  },
  {
   "cell_type": "code",
   "execution_count": 287,
   "id": "c4c64559",
   "metadata": {},
   "outputs": [],
   "source": [
    "house_data.rename(columns={'Fence':'Fence Quality'},inplace=True)"
   ]
  },
  {
   "cell_type": "code",
   "execution_count": 288,
   "id": "04b63f40",
   "metadata": {},
   "outputs": [
    {
     "data": {
      "text/plain": [
       "Fence Quality\n",
       "No Fence             1114\n",
       "Minimum Privacy       146\n",
       "Good Privacy           58\n",
       "Good Wood              50\n",
       "Minimum Wood/Wire      11\n",
       "Name: count, dtype: int64"
      ]
     },
     "execution_count": 288,
     "metadata": {},
     "output_type": "execute_result"
    }
   ],
   "source": [
    "house_data['Fence Quality'].value_counts()"
   ]
  },
  {
   "cell_type": "markdown",
   "id": "5b0abd74",
   "metadata": {},
   "source": [
    "## MiscFeature: Miscellaneous feature not covered in other categories\n",
    "### Elev  = Elevator\n",
    "### Gar2 = 2nd Garage (if not described in garage section)\n",
    "### Othr  = Other\n",
    "### Shed = Shed (over 100 SF)\n",
    "### TenC = Tennis Court\n",
    "### No = None"
   ]
  },
  {
   "cell_type": "code",
   "execution_count": 289,
   "id": "680372f8",
   "metadata": {},
   "outputs": [],
   "source": [
    "house_data['MiscFeature'] = house_data['MiscFeature'].replace({'Elev':'Elevator','Gar2':'2nd Garage','Othr':'Other','Shed':'Shed (over 100 Square Feet)','Tenc':'Tennis Court','No':'No Extra Feature'})"
   ]
  },
  {
   "cell_type": "code",
   "execution_count": 290,
   "id": "5ad02e16",
   "metadata": {},
   "outputs": [],
   "source": [
    "house_data.rename(columns={'MiscFeature':'Miscellaneous features'},inplace=True)"
   ]
  },
  {
   "cell_type": "code",
   "execution_count": 291,
   "id": "cb96e038",
   "metadata": {},
   "outputs": [
    {
     "data": {
      "text/plain": [
       "Miscellaneous features\n",
       "No Extra Feature               1328\n",
       "Shed (over 100 Square Feet)      47\n",
       "2nd Garage                        2\n",
       "Other                             1\n",
       "TenC                              1\n",
       "Name: count, dtype: int64"
      ]
     },
     "execution_count": 291,
     "metadata": {},
     "output_type": "execute_result"
    }
   ],
   "source": [
    "house_data['Miscellaneous features'].value_counts()"
   ]
  },
  {
   "cell_type": "code",
   "execution_count": 292,
   "id": "ca62fb74",
   "metadata": {},
   "outputs": [
    {
     "data": {
      "text/html": [
       "<div>\n",
       "<style scoped>\n",
       "    .dataframe tbody tr th:only-of-type {\n",
       "        vertical-align: middle;\n",
       "    }\n",
       "\n",
       "    .dataframe tbody tr th {\n",
       "        vertical-align: top;\n",
       "    }\n",
       "\n",
       "    .dataframe thead th {\n",
       "        text-align: right;\n",
       "    }\n",
       "</style>\n",
       "<table border=\"1\" class=\"dataframe\">\n",
       "  <thead>\n",
       "    <tr style=\"text-align: right;\">\n",
       "      <th></th>\n",
       "      <th>Fence Quality</th>\n",
       "      <th>Miscellaneous features</th>\n",
       "      <th>MiscVal</th>\n",
       "      <th>MoSold</th>\n",
       "      <th>YrSold</th>\n",
       "      <th>SaleType</th>\n",
       "      <th>SaleCondition</th>\n",
       "      <th>SalePrice</th>\n",
       "    </tr>\n",
       "  </thead>\n",
       "  <tbody>\n",
       "    <tr>\n",
       "      <th>0</th>\n",
       "      <td>No Fence</td>\n",
       "      <td>No Extra Feature</td>\n",
       "      <td>0</td>\n",
       "      <td>Feb</td>\n",
       "      <td>2008</td>\n",
       "      <td>WD</td>\n",
       "      <td>Normal</td>\n",
       "      <td>208500</td>\n",
       "    </tr>\n",
       "    <tr>\n",
       "      <th>1</th>\n",
       "      <td>No Fence</td>\n",
       "      <td>No Extra Feature</td>\n",
       "      <td>0</td>\n",
       "      <td>May</td>\n",
       "      <td>2007</td>\n",
       "      <td>WD</td>\n",
       "      <td>Normal</td>\n",
       "      <td>181500</td>\n",
       "    </tr>\n",
       "    <tr>\n",
       "      <th>2</th>\n",
       "      <td>No Fence</td>\n",
       "      <td>No Extra Feature</td>\n",
       "      <td>0</td>\n",
       "      <td>Sep</td>\n",
       "      <td>2008</td>\n",
       "      <td>WD</td>\n",
       "      <td>Normal</td>\n",
       "      <td>223500</td>\n",
       "    </tr>\n",
       "  </tbody>\n",
       "</table>\n",
       "</div>"
      ],
      "text/plain": [
       "  Fence Quality Miscellaneous features  MiscVal MoSold  YrSold SaleType  \\\n",
       "0      No Fence       No Extra Feature        0    Feb    2008       WD   \n",
       "1      No Fence       No Extra Feature        0    May    2007       WD   \n",
       "2      No Fence       No Extra Feature        0    Sep    2008       WD   \n",
       "\n",
       "  SaleCondition  SalePrice  \n",
       "0        Normal     208500  \n",
       "1        Normal     181500  \n",
       "2        Normal     223500  "
      ]
     },
     "execution_count": 292,
     "metadata": {},
     "output_type": "execute_result"
    }
   ],
   "source": [
    "house_data.iloc[:3,60:]"
   ]
  },
  {
   "cell_type": "markdown",
   "id": "cc126a5f",
   "metadata": {},
   "source": [
    "## MiscVal: Value of miscellaneous feature in Dollars"
   ]
  },
  {
   "cell_type": "code",
   "execution_count": 293,
   "id": "9bbf0cb3",
   "metadata": {},
   "outputs": [],
   "source": [
    "house_data.rename(columns={'MiscVal':'Value of miscellaneous feature in Dollars'},inplace=True)"
   ]
  },
  {
   "cell_type": "code",
   "execution_count": 294,
   "id": "7d61d520",
   "metadata": {},
   "outputs": [
    {
     "data": {
      "text/plain": [
       "Value of miscellaneous feature in Dollars\n",
       "0        1330\n",
       "400        10\n",
       "500         8\n",
       "700         5\n",
       "600         4\n",
       "2000        4\n",
       "450         3\n",
       "1200        2\n",
       "480         2\n",
       "15500       1\n",
       "800         1\n",
       "350         1\n",
       "1300        1\n",
       "54          1\n",
       "620         1\n",
       "560         1\n",
       "1400        1\n",
       "8300        1\n",
       "1150        1\n",
       "2500        1\n",
       "Name: count, dtype: int64"
      ]
     },
     "execution_count": 294,
     "metadata": {},
     "output_type": "execute_result"
    }
   ],
   "source": [
    "house_data['Value of miscellaneous feature in Dollars'].value_counts()"
   ]
  },
  {
   "cell_type": "code",
   "execution_count": 295,
   "id": "534faf78",
   "metadata": {},
   "outputs": [
    {
     "data": {
      "text/html": [
       "<div>\n",
       "<style scoped>\n",
       "    .dataframe tbody tr th:only-of-type {\n",
       "        vertical-align: middle;\n",
       "    }\n",
       "\n",
       "    .dataframe tbody tr th {\n",
       "        vertical-align: top;\n",
       "    }\n",
       "\n",
       "    .dataframe thead th {\n",
       "        text-align: right;\n",
       "    }\n",
       "</style>\n",
       "<table border=\"1\" class=\"dataframe\">\n",
       "  <thead>\n",
       "    <tr style=\"text-align: right;\">\n",
       "      <th></th>\n",
       "      <th>Fence Quality</th>\n",
       "      <th>Miscellaneous features</th>\n",
       "      <th>Value of miscellaneous feature in Dollars</th>\n",
       "      <th>MoSold</th>\n",
       "      <th>YrSold</th>\n",
       "      <th>SaleType</th>\n",
       "      <th>SaleCondition</th>\n",
       "      <th>SalePrice</th>\n",
       "    </tr>\n",
       "  </thead>\n",
       "  <tbody>\n",
       "    <tr>\n",
       "      <th>0</th>\n",
       "      <td>No Fence</td>\n",
       "      <td>No Extra Feature</td>\n",
       "      <td>0</td>\n",
       "      <td>Feb</td>\n",
       "      <td>2008</td>\n",
       "      <td>WD</td>\n",
       "      <td>Normal</td>\n",
       "      <td>208500</td>\n",
       "    </tr>\n",
       "    <tr>\n",
       "      <th>1</th>\n",
       "      <td>No Fence</td>\n",
       "      <td>No Extra Feature</td>\n",
       "      <td>0</td>\n",
       "      <td>May</td>\n",
       "      <td>2007</td>\n",
       "      <td>WD</td>\n",
       "      <td>Normal</td>\n",
       "      <td>181500</td>\n",
       "    </tr>\n",
       "    <tr>\n",
       "      <th>2</th>\n",
       "      <td>No Fence</td>\n",
       "      <td>No Extra Feature</td>\n",
       "      <td>0</td>\n",
       "      <td>Sep</td>\n",
       "      <td>2008</td>\n",
       "      <td>WD</td>\n",
       "      <td>Normal</td>\n",
       "      <td>223500</td>\n",
       "    </tr>\n",
       "  </tbody>\n",
       "</table>\n",
       "</div>"
      ],
      "text/plain": [
       "  Fence Quality Miscellaneous features  \\\n",
       "0      No Fence       No Extra Feature   \n",
       "1      No Fence       No Extra Feature   \n",
       "2      No Fence       No Extra Feature   \n",
       "\n",
       "   Value of miscellaneous feature in Dollars MoSold  YrSold SaleType  \\\n",
       "0                                          0    Feb    2008       WD   \n",
       "1                                          0    May    2007       WD   \n",
       "2                                          0    Sep    2008       WD   \n",
       "\n",
       "  SaleCondition  SalePrice  \n",
       "0        Normal     208500  \n",
       "1        Normal     181500  \n",
       "2        Normal     223500  "
      ]
     },
     "execution_count": 295,
     "metadata": {},
     "output_type": "execute_result"
    }
   ],
   "source": [
    "house_data.iloc[:3,60:]"
   ]
  },
  {
   "cell_type": "markdown",
   "id": "119a40cd",
   "metadata": {},
   "source": [
    "## MoSold: Month Sold (MM)\n",
    "### Write full names of months"
   ]
  },
  {
   "cell_type": "code",
   "execution_count": 296,
   "id": "0589e9ff",
   "metadata": {},
   "outputs": [],
   "source": [
    "house_data['MoSold'] = house_data['MoSold'].replace({'Jan':'January','Feb':'February','Mar':'March',\"Apr\":'April','Jun':'June',\"Jul\":'July','Aug':'August','Sep':'September','Oct':'October','Nov':'November','Dec':'December'})"
   ]
  },
  {
   "cell_type": "markdown",
   "id": "68b8628d",
   "metadata": {},
   "source": [
    "## Unique values"
   ]
  },
  {
   "cell_type": "code",
   "execution_count": 297,
   "id": "ba49a82f",
   "metadata": {},
   "outputs": [
    {
     "data": {
      "text/plain": [
       "array(['February', 'May', 'September', 'December', 'October', 'August',\n",
       "       'November', 'April', 'January', 'July', 'March', 'June'],\n",
       "      dtype=object)"
      ]
     },
     "execution_count": 297,
     "metadata": {},
     "output_type": "execute_result"
    }
   ],
   "source": [
    "house_data['MoSold'].unique()"
   ]
  },
  {
   "cell_type": "markdown",
   "id": "ad9260c1",
   "metadata": {},
   "source": [
    "## YrSold: Year Sold (YYYY)"
   ]
  },
  {
   "cell_type": "code",
   "execution_count": 298,
   "id": "724cbc7e",
   "metadata": {},
   "outputs": [
    {
     "data": {
      "text/plain": [
       "array([2008, 2007, 2006, 2009, 2010], dtype=int64)"
      ]
     },
     "execution_count": 298,
     "metadata": {},
     "output_type": "execute_result"
    }
   ],
   "source": [
    "house_data['YrSold'].unique()"
   ]
  },
  {
   "cell_type": "markdown",
   "id": "f26554b1",
   "metadata": {},
   "source": [
    "## Make single column for year and month for better understanding"
   ]
  },
  {
   "cell_type": "code",
   "execution_count": 299,
   "id": "8f9e2b6b",
   "metadata": {},
   "outputs": [],
   "source": [
    "def add_int_str_columns(a,b):\n",
    "    return (a + \" \" + str(b))"
   ]
  },
  {
   "cell_type": "code",
   "execution_count": 300,
   "id": "4fb21b96",
   "metadata": {},
   "outputs": [],
   "source": [
    "house_data['MoSold'] = house_data.apply(lambda x: add_int_str_columns(x['MoSold'],x['YrSold']),axis = 1)"
   ]
  },
  {
   "cell_type": "markdown",
   "id": "68f84aa4",
   "metadata": {},
   "source": [
    "## Rename the MoSold Column"
   ]
  },
  {
   "cell_type": "code",
   "execution_count": 301,
   "id": "506d2ae9",
   "metadata": {},
   "outputs": [],
   "source": [
    "house_data.rename(columns={'MoSold':'Month and Year of sold'},inplace =True)"
   ]
  },
  {
   "cell_type": "markdown",
   "id": "5e4f04f6",
   "metadata": {},
   "source": [
    "## Drop YrSold Column as it is featured with other column"
   ]
  },
  {
   "cell_type": "code",
   "execution_count": 302,
   "id": "e63b96c2",
   "metadata": {},
   "outputs": [],
   "source": [
    "house_data.drop('YrSold',axis =1, inplace=True)"
   ]
  },
  {
   "cell_type": "code",
   "execution_count": 303,
   "id": "34ac0e93",
   "metadata": {},
   "outputs": [
    {
     "data": {
      "text/html": [
       "<div>\n",
       "<style scoped>\n",
       "    .dataframe tbody tr th:only-of-type {\n",
       "        vertical-align: middle;\n",
       "    }\n",
       "\n",
       "    .dataframe tbody tr th {\n",
       "        vertical-align: top;\n",
       "    }\n",
       "\n",
       "    .dataframe thead th {\n",
       "        text-align: right;\n",
       "    }\n",
       "</style>\n",
       "<table border=\"1\" class=\"dataframe\">\n",
       "  <thead>\n",
       "    <tr style=\"text-align: right;\">\n",
       "      <th></th>\n",
       "      <th>Fence Quality</th>\n",
       "      <th>Miscellaneous features</th>\n",
       "      <th>Value of miscellaneous feature in Dollars</th>\n",
       "      <th>Month and Year of sold</th>\n",
       "      <th>SaleType</th>\n",
       "      <th>SaleCondition</th>\n",
       "      <th>SalePrice</th>\n",
       "    </tr>\n",
       "  </thead>\n",
       "  <tbody>\n",
       "    <tr>\n",
       "      <th>0</th>\n",
       "      <td>No Fence</td>\n",
       "      <td>No Extra Feature</td>\n",
       "      <td>0</td>\n",
       "      <td>February 2008</td>\n",
       "      <td>WD</td>\n",
       "      <td>Normal</td>\n",
       "      <td>208500</td>\n",
       "    </tr>\n",
       "    <tr>\n",
       "      <th>1</th>\n",
       "      <td>No Fence</td>\n",
       "      <td>No Extra Feature</td>\n",
       "      <td>0</td>\n",
       "      <td>May 2007</td>\n",
       "      <td>WD</td>\n",
       "      <td>Normal</td>\n",
       "      <td>181500</td>\n",
       "    </tr>\n",
       "    <tr>\n",
       "      <th>2</th>\n",
       "      <td>No Fence</td>\n",
       "      <td>No Extra Feature</td>\n",
       "      <td>0</td>\n",
       "      <td>September 2008</td>\n",
       "      <td>WD</td>\n",
       "      <td>Normal</td>\n",
       "      <td>223500</td>\n",
       "    </tr>\n",
       "  </tbody>\n",
       "</table>\n",
       "</div>"
      ],
      "text/plain": [
       "  Fence Quality Miscellaneous features  \\\n",
       "0      No Fence       No Extra Feature   \n",
       "1      No Fence       No Extra Feature   \n",
       "2      No Fence       No Extra Feature   \n",
       "\n",
       "   Value of miscellaneous feature in Dollars Month and Year of sold SaleType  \\\n",
       "0                                          0          February 2008       WD   \n",
       "1                                          0               May 2007       WD   \n",
       "2                                          0         September 2008       WD   \n",
       "\n",
       "  SaleCondition  SalePrice  \n",
       "0        Normal     208500  \n",
       "1        Normal     181500  \n",
       "2        Normal     223500  "
      ]
     },
     "execution_count": 303,
     "metadata": {},
     "output_type": "execute_result"
    }
   ],
   "source": [
    "house_data.iloc[:3,60:]"
   ]
  },
  {
   "cell_type": "markdown",
   "id": "c46c6dfb",
   "metadata": {},
   "source": [
    "## Unique values of this column"
   ]
  },
  {
   "cell_type": "code",
   "execution_count": 304,
   "id": "46ebe3ac",
   "metadata": {},
   "outputs": [
    {
     "data": {
      "text/plain": [
       "array(['February 2008', 'May 2007', 'September 2008', 'February 2006',\n",
       "       'December 2008', 'October 2009', 'August 2007', 'November 2009',\n",
       "       'April 2008', 'January 2008', 'July 2006', 'May 2008', 'July 2007',\n",
       "       'March 2010', 'October 2006', 'June 2008', 'May 2009',\n",
       "       'November 2006', 'June 2007', 'May 2010', 'July 2009',\n",
       "       'December 2006', 'July 2008', 'April 2010', 'September 2006',\n",
       "       'June 2009', 'January 2010', 'December 2007', 'May 2006',\n",
       "       'February 2010', 'August 2009', 'January 2007', 'February 2007',\n",
       "       'August 2006', 'March 2007', 'October 2007', 'February 2009',\n",
       "       'July 2010', 'June 2010', 'December 2009', 'March 2006',\n",
       "       'October 2008', 'April 2006', 'March 2009', 'November 2007',\n",
       "       'April 2009', 'August 2008', 'September 2009', 'April 2007',\n",
       "       'March 2008', 'January 2009', 'January 2006', 'June 2006',\n",
       "       'November 2008', 'September 2007'], dtype=object)"
      ]
     },
     "execution_count": 304,
     "metadata": {},
     "output_type": "execute_result"
    }
   ],
   "source": [
    "house_data['Month and Year of sold'].unique()"
   ]
  },
  {
   "cell_type": "markdown",
   "id": "a862c4e9",
   "metadata": {},
   "source": [
    "## SaleType: Type of sale\n",
    "### WD = Warranty Deed - Conventional\n",
    "### CWD = Warranty Deed - Cash\n",
    "### VWD = Warranty Deed - VA Loan\n",
    "### New = Home just constructed and sold\n",
    "### COD = Court Officer Deed/Estate\n",
    "### Con = Contract 15% Down payment regular terms\n",
    "### ConLw = Contract Low Down payment and low interest\n",
    "### ConLI = Contract Low Interest\n",
    "### ConLD = Contract Low Down\n",
    "### Oth = Other"
   ]
  },
  {
   "cell_type": "code",
   "execution_count": 305,
   "id": "1a2267ce",
   "metadata": {},
   "outputs": [],
   "source": [
    "house_data['SaleType'] = house_data['SaleType'].replace({'WD':'Warranty Deed - Conventional','CWD':'Warranty Deed - Cash','VWD':'Warranty Deed - VA Loan','New':'Home just constructed and sold','COD':'Court Officer Deed/Estate','Con':'Contract 15% Down payment regular terms','ConLw':'Contract Low Down payment and low interest','ConLI':'Contract Low Interest','ConLD':'Contract Low Down','Oth':'Other'})"
   ]
  },
  {
   "cell_type": "code",
   "execution_count": 306,
   "id": "037f6c2c",
   "metadata": {},
   "outputs": [],
   "source": [
    "house_data.rename(columns={'SaleType':'Type of Sale'},inplace = True)"
   ]
  },
  {
   "cell_type": "code",
   "execution_count": 307,
   "id": "3552d81f",
   "metadata": {},
   "outputs": [
    {
     "data": {
      "text/plain": [
       "Type of Sale\n",
       "Warranty Deed - Conventional                  1194\n",
       "Home just constructed and sold                 120\n",
       "Court Officer Deed/Estate                       43\n",
       "Contract Low Down                                7\n",
       "Contract Low Interest                            4\n",
       "Warranty Deed - Cash                             4\n",
       "Contract Low Down payment and low interest       4\n",
       "Contract 15% Down payment regular terms          2\n",
       "Other                                            1\n",
       "Name: count, dtype: int64"
      ]
     },
     "execution_count": 307,
     "metadata": {},
     "output_type": "execute_result"
    }
   ],
   "source": [
    "house_data['Type of Sale'].value_counts()"
   ]
  },
  {
   "cell_type": "markdown",
   "id": "f9f7e877",
   "metadata": {},
   "source": [
    "## SaleCondition: Condition of sale\n",
    "### Normal = Normal Sale\n",
    "### Abnorml = Abnormal Sale -  trade, foreclosure, short sale\n",
    "### AdjLand = Adjoining Land Purchase\n",
    "### Alloca = Allocation - two linked properties with separate deeds\n",
    "### Family = Sale between family members\n",
    "### Partial = Home was not completed when last assessed (associated with New  Homes)"
   ]
  },
  {
   "cell_type": "code",
   "execution_count": 308,
   "id": "280dca1c",
   "metadata": {},
   "outputs": [],
   "source": [
    "house_data['SaleCondition'] = house_data['SaleCondition'].replace({'Normal':'Normal Sale','Abnorml':'Abnormal Sale -  trade, foreclosure, short sale','AdjLand':'Adjoining Land Purchase','Alloca':'Allocation - two linked properties with separate deeds','Family':'Sale between family members','Partial':'Home was not completed when last assessed'})"
   ]
  },
  {
   "cell_type": "code",
   "execution_count": 309,
   "id": "0e19d1e0",
   "metadata": {},
   "outputs": [],
   "source": [
    "house_data.rename(columns={'SaleCondition':'Condition of Sale'},inplace=True)"
   ]
  },
  {
   "cell_type": "markdown",
   "id": "f5e2e1e5",
   "metadata": {},
   "source": [
    "## Unique Values"
   ]
  },
  {
   "cell_type": "code",
   "execution_count": 310,
   "id": "1e85d135",
   "metadata": {},
   "outputs": [
    {
     "data": {
      "text/plain": [
       "array(['Normal Sale', 'Abnormal Sale -  trade, foreclosure, short sale',\n",
       "       'Home was not completed when last assessed',\n",
       "       'Allocation - two linked properties with separate deeds',\n",
       "       'Sale between family members', 'Adjoining Land Purchase'],\n",
       "      dtype=object)"
      ]
     },
     "execution_count": 310,
     "metadata": {},
     "output_type": "execute_result"
    }
   ],
   "source": [
    "house_data['Condition of Sale'].unique()"
   ]
  },
  {
   "cell_type": "code",
   "execution_count": 311,
   "id": "75ebb6b1",
   "metadata": {},
   "outputs": [
    {
     "data": {
      "text/html": [
       "<div>\n",
       "<style scoped>\n",
       "    .dataframe tbody tr th:only-of-type {\n",
       "        vertical-align: middle;\n",
       "    }\n",
       "\n",
       "    .dataframe tbody tr th {\n",
       "        vertical-align: top;\n",
       "    }\n",
       "\n",
       "    .dataframe thead th {\n",
       "        text-align: right;\n",
       "    }\n",
       "</style>\n",
       "<table border=\"1\" class=\"dataframe\">\n",
       "  <thead>\n",
       "    <tr style=\"text-align: right;\">\n",
       "      <th></th>\n",
       "      <th>Type Of Dwelling</th>\n",
       "      <th>General Zone Classification</th>\n",
       "      <th>Linear Feet of Street</th>\n",
       "      <th>Plot size in square feet</th>\n",
       "      <th>Type of road</th>\n",
       "      <th>Type of Alley</th>\n",
       "      <th>Shape of Property</th>\n",
       "      <th>Flatness of Property</th>\n",
       "      <th>Types of Utilities Available</th>\n",
       "      <th>Plot Configuration</th>\n",
       "      <th>...</th>\n",
       "      <th>Enclosed porch area in square feet</th>\n",
       "      <th>Three-season porch area in square feet</th>\n",
       "      <th>Screen porch area in square feet</th>\n",
       "      <th>Fence Quality</th>\n",
       "      <th>Miscellaneous features</th>\n",
       "      <th>Value of miscellaneous feature in Dollars</th>\n",
       "      <th>Month and Year of sold</th>\n",
       "      <th>Type of Sale</th>\n",
       "      <th>Condition of Sale</th>\n",
       "      <th>SalePrice</th>\n",
       "    </tr>\n",
       "  </thead>\n",
       "  <tbody>\n",
       "    <tr>\n",
       "      <th>0</th>\n",
       "      <td>2-STORY 1946 &amp; NEWER</td>\n",
       "      <td>Residential Low-Density</td>\n",
       "      <td>65</td>\n",
       "      <td>8450</td>\n",
       "      <td>Paved</td>\n",
       "      <td>No Alley Access</td>\n",
       "      <td>Regular</td>\n",
       "      <td>Near Flat Level</td>\n",
       "      <td>All Public Utilities</td>\n",
       "      <td>Inside Plot</td>\n",
       "      <td>...</td>\n",
       "      <td>0</td>\n",
       "      <td>0</td>\n",
       "      <td>0</td>\n",
       "      <td>No Fence</td>\n",
       "      <td>No Extra Feature</td>\n",
       "      <td>0</td>\n",
       "      <td>February 2008</td>\n",
       "      <td>Warranty Deed - Conventional</td>\n",
       "      <td>Normal Sale</td>\n",
       "      <td>208500</td>\n",
       "    </tr>\n",
       "    <tr>\n",
       "      <th>1</th>\n",
       "      <td>1-STORY 1946 &amp; NEWER ALL STYLES</td>\n",
       "      <td>Residential Low-Density</td>\n",
       "      <td>80</td>\n",
       "      <td>9600</td>\n",
       "      <td>Paved</td>\n",
       "      <td>No Alley Access</td>\n",
       "      <td>Regular</td>\n",
       "      <td>Near Flat Level</td>\n",
       "      <td>All Public Utilities</td>\n",
       "      <td>Frontage on 2 sides of the property</td>\n",
       "      <td>...</td>\n",
       "      <td>0</td>\n",
       "      <td>0</td>\n",
       "      <td>0</td>\n",
       "      <td>No Fence</td>\n",
       "      <td>No Extra Feature</td>\n",
       "      <td>0</td>\n",
       "      <td>May 2007</td>\n",
       "      <td>Warranty Deed - Conventional</td>\n",
       "      <td>Normal Sale</td>\n",
       "      <td>181500</td>\n",
       "    </tr>\n",
       "    <tr>\n",
       "      <th>2</th>\n",
       "      <td>2-STORY 1946 &amp; NEWER</td>\n",
       "      <td>Residential Low-Density</td>\n",
       "      <td>68</td>\n",
       "      <td>11250</td>\n",
       "      <td>Paved</td>\n",
       "      <td>No Alley Access</td>\n",
       "      <td>Slightly Irregular</td>\n",
       "      <td>Near Flat Level</td>\n",
       "      <td>All Public Utilities</td>\n",
       "      <td>Inside Plot</td>\n",
       "      <td>...</td>\n",
       "      <td>0</td>\n",
       "      <td>0</td>\n",
       "      <td>0</td>\n",
       "      <td>No Fence</td>\n",
       "      <td>No Extra Feature</td>\n",
       "      <td>0</td>\n",
       "      <td>September 2008</td>\n",
       "      <td>Warranty Deed - Conventional</td>\n",
       "      <td>Normal Sale</td>\n",
       "      <td>223500</td>\n",
       "    </tr>\n",
       "    <tr>\n",
       "      <th>3</th>\n",
       "      <td>2-STORY 1945 &amp; OLDER</td>\n",
       "      <td>Residential Low-Density</td>\n",
       "      <td>60</td>\n",
       "      <td>9550</td>\n",
       "      <td>Paved</td>\n",
       "      <td>No Alley Access</td>\n",
       "      <td>Slightly Irregular</td>\n",
       "      <td>Near Flat Level</td>\n",
       "      <td>All Public Utilities</td>\n",
       "      <td>Corner Plot</td>\n",
       "      <td>...</td>\n",
       "      <td>272</td>\n",
       "      <td>0</td>\n",
       "      <td>0</td>\n",
       "      <td>No Fence</td>\n",
       "      <td>No Extra Feature</td>\n",
       "      <td>0</td>\n",
       "      <td>February 2006</td>\n",
       "      <td>Warranty Deed - Conventional</td>\n",
       "      <td>Abnormal Sale -  trade, foreclosure, short sale</td>\n",
       "      <td>140000</td>\n",
       "    </tr>\n",
       "    <tr>\n",
       "      <th>4</th>\n",
       "      <td>2-STORY 1946 &amp; NEWER</td>\n",
       "      <td>Residential Low-Density</td>\n",
       "      <td>84</td>\n",
       "      <td>14260</td>\n",
       "      <td>Paved</td>\n",
       "      <td>No Alley Access</td>\n",
       "      <td>Slightly Irregular</td>\n",
       "      <td>Near Flat Level</td>\n",
       "      <td>All Public Utilities</td>\n",
       "      <td>Frontage on 2 sides of the property</td>\n",
       "      <td>...</td>\n",
       "      <td>0</td>\n",
       "      <td>0</td>\n",
       "      <td>0</td>\n",
       "      <td>No Fence</td>\n",
       "      <td>No Extra Feature</td>\n",
       "      <td>0</td>\n",
       "      <td>December 2008</td>\n",
       "      <td>Warranty Deed - Conventional</td>\n",
       "      <td>Normal Sale</td>\n",
       "      <td>250000</td>\n",
       "    </tr>\n",
       "  </tbody>\n",
       "</table>\n",
       "<p>5 rows × 67 columns</p>\n",
       "</div>"
      ],
      "text/plain": [
       "                  Type Of Dwelling General Zone Classification  \\\n",
       "0             2-STORY 1946 & NEWER     Residential Low-Density   \n",
       "1  1-STORY 1946 & NEWER ALL STYLES     Residential Low-Density   \n",
       "2             2-STORY 1946 & NEWER     Residential Low-Density   \n",
       "3             2-STORY 1945 & OLDER     Residential Low-Density   \n",
       "4             2-STORY 1946 & NEWER     Residential Low-Density   \n",
       "\n",
       "   Linear Feet of Street  Plot size in square feet Type of road  \\\n",
       "0                     65                      8450        Paved   \n",
       "1                     80                      9600        Paved   \n",
       "2                     68                     11250        Paved   \n",
       "3                     60                      9550        Paved   \n",
       "4                     84                     14260        Paved   \n",
       "\n",
       "     Type of Alley   Shape of Property Flatness of Property  \\\n",
       "0  No Alley Access             Regular      Near Flat Level   \n",
       "1  No Alley Access             Regular      Near Flat Level   \n",
       "2  No Alley Access  Slightly Irregular      Near Flat Level   \n",
       "3  No Alley Access  Slightly Irregular      Near Flat Level   \n",
       "4  No Alley Access  Slightly Irregular      Near Flat Level   \n",
       "\n",
       "  Types of Utilities Available                   Plot Configuration  ...  \\\n",
       "0         All Public Utilities                          Inside Plot  ...   \n",
       "1         All Public Utilities  Frontage on 2 sides of the property  ...   \n",
       "2         All Public Utilities                          Inside Plot  ...   \n",
       "3         All Public Utilities                          Corner Plot  ...   \n",
       "4         All Public Utilities  Frontage on 2 sides of the property  ...   \n",
       "\n",
       "  Enclosed porch area in square feet Three-season porch area in square feet  \\\n",
       "0                                  0                                      0   \n",
       "1                                  0                                      0   \n",
       "2                                  0                                      0   \n",
       "3                                272                                      0   \n",
       "4                                  0                                      0   \n",
       "\n",
       "  Screen porch area in square feet Fence Quality Miscellaneous features  \\\n",
       "0                                0      No Fence       No Extra Feature   \n",
       "1                                0      No Fence       No Extra Feature   \n",
       "2                                0      No Fence       No Extra Feature   \n",
       "3                                0      No Fence       No Extra Feature   \n",
       "4                                0      No Fence       No Extra Feature   \n",
       "\n",
       "   Value of miscellaneous feature in Dollars  Month and Year of sold  \\\n",
       "0                                          0           February 2008   \n",
       "1                                          0                May 2007   \n",
       "2                                          0          September 2008   \n",
       "3                                          0           February 2006   \n",
       "4                                          0           December 2008   \n",
       "\n",
       "                   Type of Sale  \\\n",
       "0  Warranty Deed - Conventional   \n",
       "1  Warranty Deed - Conventional   \n",
       "2  Warranty Deed - Conventional   \n",
       "3  Warranty Deed - Conventional   \n",
       "4  Warranty Deed - Conventional   \n",
       "\n",
       "                                 Condition of Sale SalePrice  \n",
       "0                                      Normal Sale    208500  \n",
       "1                                      Normal Sale    181500  \n",
       "2                                      Normal Sale    223500  \n",
       "3  Abnormal Sale -  trade, foreclosure, short sale    140000  \n",
       "4                                      Normal Sale    250000  \n",
       "\n",
       "[5 rows x 67 columns]"
      ]
     },
     "execution_count": 311,
     "metadata": {},
     "output_type": "execute_result"
    }
   ],
   "source": [
    "house_data.head()"
   ]
  },
  {
   "cell_type": "markdown",
   "id": "ae315e21",
   "metadata": {},
   "source": [
    "### Rename the SalePrice column"
   ]
  },
  {
   "cell_type": "code",
   "execution_count": 312,
   "id": "2f5aab48",
   "metadata": {},
   "outputs": [],
   "source": [
    "house_data.rename(columns={'SalePrice':'Sale Price'},inplace= True)"
   ]
  },
  {
   "cell_type": "markdown",
   "id": "42d76b5e",
   "metadata": {},
   "source": [
    "## Mean of Sale Price"
   ]
  },
  {
   "cell_type": "code",
   "execution_count": 330,
   "id": "c7137175",
   "metadata": {},
   "outputs": [
    {
     "data": {
      "text/plain": [
       "185479.511240029"
      ]
     },
     "execution_count": 330,
     "metadata": {},
     "output_type": "execute_result"
    }
   ],
   "source": [
    "house_data['Sale Price'].mean()"
   ]
  },
  {
   "cell_type": "markdown",
   "id": "7aee4fb1",
   "metadata": {},
   "source": [
    "## Mean of Sale Price"
   ]
  },
  {
   "cell_type": "code",
   "execution_count": 331,
   "id": "f493462e",
   "metadata": {},
   "outputs": [
    {
     "data": {
      "text/plain": [
       "167500.0"
      ]
     },
     "execution_count": 331,
     "metadata": {},
     "output_type": "execute_result"
    }
   ],
   "source": [
    "house_data['Sale Price'].median()"
   ]
  },
  {
   "cell_type": "markdown",
   "id": "18fffb79",
   "metadata": {},
   "source": [
    "## Mean of Sale Price"
   ]
  },
  {
   "cell_type": "code",
   "execution_count": 332,
   "id": "f170d688",
   "metadata": {},
   "outputs": [
    {
     "data": {
      "text/plain": [
       "0    140000\n",
       "Name: Sale Price, dtype: int64"
      ]
     },
     "execution_count": 332,
     "metadata": {},
     "output_type": "execute_result"
    }
   ],
   "source": [
    "house_data['Sale Price'].mode()"
   ]
  },
  {
   "cell_type": "markdown",
   "id": "03772d60",
   "metadata": {},
   "source": [
    "## Feature engineering"
   ]
  },
  {
   "cell_type": "markdown",
   "id": "ae52abec",
   "metadata": {},
   "source": [
    "### Calculate price of property per square feet"
   ]
  },
  {
   "cell_type": "code",
   "execution_count": 313,
   "id": "687108a4",
   "metadata": {},
   "outputs": [],
   "source": [
    "def price_per_square_feet(x,y):\n",
    "    return (y/x)"
   ]
  },
  {
   "cell_type": "code",
   "execution_count": 314,
   "id": "2119247f",
   "metadata": {},
   "outputs": [],
   "source": [
    "house_data['Price per square foot of property(in $)'] = house_data.apply(lambda a: price_per_square_feet(a['Plot size in square feet'],a['Sale Price']),axis=1)"
   ]
  },
  {
   "cell_type": "markdown",
   "id": "cf341254",
   "metadata": {},
   "source": [
    "## Mean of Price per square foot of property"
   ]
  },
  {
   "cell_type": "code",
   "execution_count": 327,
   "id": "6231b375",
   "metadata": {},
   "outputs": [
    {
     "data": {
      "text/plain": [
       "21.31551541202104"
      ]
     },
     "execution_count": 327,
     "metadata": {},
     "output_type": "execute_result"
    }
   ],
   "source": [
    "house_data['Price per square foot of property(in $)'].mean()"
   ]
  },
  {
   "cell_type": "markdown",
   "id": "dd4990ee",
   "metadata": {},
   "source": [
    "## Median of Price per square foot of property"
   ]
  },
  {
   "cell_type": "code",
   "execution_count": 328,
   "id": "fb060880",
   "metadata": {},
   "outputs": [
    {
     "data": {
      "text/plain": [
       "18.083333333333332"
      ]
     },
     "execution_count": 328,
     "metadata": {},
     "output_type": "execute_result"
    }
   ],
   "source": [
    "house_data['Price per square foot of property(in $)'].median()"
   ]
  },
  {
   "cell_type": "markdown",
   "id": "ebb0a32e",
   "metadata": {},
   "source": [
    "## Mode of Price per square foot of property"
   ]
  },
  {
   "cell_type": "code",
   "execution_count": 329,
   "id": "3b481064",
   "metadata": {},
   "outputs": [
    {
     "data": {
      "text/plain": [
       "0    16.000000\n",
       "1    16.666667\n",
       "Name: Price per square foot of property(in $), dtype: float64"
      ]
     },
     "execution_count": 329,
     "metadata": {},
     "output_type": "execute_result"
    }
   ],
   "source": [
    "house_data['Price per square foot of property(in $)'].mode()"
   ]
  },
  {
   "cell_type": "markdown",
   "id": "61b2310d",
   "metadata": {},
   "source": [
    "## Calculate the age of property"
   ]
  },
  {
   "cell_type": "code",
   "execution_count": 315,
   "id": "9c86eb8e",
   "metadata": {},
   "outputs": [],
   "source": [
    "def property_age_calculator(x,y):\n",
    "    \n",
    "    return (int(x.split()[1])-y)"
   ]
  },
  {
   "cell_type": "code",
   "execution_count": 316,
   "id": "7fe05e6c",
   "metadata": {},
   "outputs": [],
   "source": [
    "house_data['Age of Property when sold(in years)']=house_data.apply(lambda a: property_age_calculator(a['Month and Year of sold'],a['Original construction date']),axis = 1)"
   ]
  },
  {
   "cell_type": "code",
   "execution_count": 337,
   "id": "ee2f28f2",
   "metadata": {},
   "outputs": [
    {
     "data": {
      "text/plain": [
       "array([  5,  31,   7,  91,   8,  16,   3,  36,  77,  69,  43,   1,  46,\n",
       "        48,  78,  40,  39,   4,  51,   6,  42,   2,  59,  49,  81,  88,\n",
       "        15,  55,  57,  41,  24,  33,  47,  10,  72,  25,  52,  44,   0,\n",
       "        87,  89,  12,  65,  53,  34,  11,  56,  95,  60,  99,  14,  45,\n",
       "        97,  90,  30,  76, 122,  54,  62,  20,  37,  68,  50,   9,  38,\n",
       "        18,  58,  70,  32,  35,  83,  66,  19,  22,  84,  86,  98, 114,\n",
       "        93,  75,  82,  17, 106,  29,  96,  27,  92, 128,  13,  61,  67,\n",
       "        21,  26, 108,  28,  63,  94,  73,  74,  71,  80, 115, 126, 102,\n",
       "        85,  23, 110, 117, 129,  64, 111, 104, 100, 119, 127, 107, 109,\n",
       "       103,  79, 125], dtype=int64)"
      ]
     },
     "execution_count": 337,
     "metadata": {},
     "output_type": "execute_result"
    }
   ],
   "source": [
    "house_data['Age of Property when sold(in years)'].unique()"
   ]
  },
  {
   "cell_type": "code",
   "execution_count": null,
   "id": "eb1d1241",
   "metadata": {},
   "outputs": [],
   "source": []
  },
  {
   "cell_type": "code",
   "execution_count": 317,
   "id": "7d9b4326",
   "metadata": {},
   "outputs": [
    {
     "data": {
      "text/html": [
       "<div>\n",
       "<style scoped>\n",
       "    .dataframe tbody tr th:only-of-type {\n",
       "        vertical-align: middle;\n",
       "    }\n",
       "\n",
       "    .dataframe tbody tr th {\n",
       "        vertical-align: top;\n",
       "    }\n",
       "\n",
       "    .dataframe thead th {\n",
       "        text-align: right;\n",
       "    }\n",
       "</style>\n",
       "<table border=\"1\" class=\"dataframe\">\n",
       "  <thead>\n",
       "    <tr style=\"text-align: right;\">\n",
       "      <th></th>\n",
       "      <th>Type Of Dwelling</th>\n",
       "      <th>General Zone Classification</th>\n",
       "      <th>Linear Feet of Street</th>\n",
       "      <th>Plot size in square feet</th>\n",
       "      <th>Type of road</th>\n",
       "      <th>Type of Alley</th>\n",
       "      <th>Shape of Property</th>\n",
       "      <th>Flatness of Property</th>\n",
       "      <th>Types of Utilities Available</th>\n",
       "      <th>Plot Configuration</th>\n",
       "      <th>...</th>\n",
       "      <th>Screen porch area in square feet</th>\n",
       "      <th>Fence Quality</th>\n",
       "      <th>Miscellaneous features</th>\n",
       "      <th>Value of miscellaneous feature in Dollars</th>\n",
       "      <th>Month and Year of sold</th>\n",
       "      <th>Type of Sale</th>\n",
       "      <th>Condition of Sale</th>\n",
       "      <th>Sale Price</th>\n",
       "      <th>Price per square foot of property(in $)</th>\n",
       "      <th>Age of Property when sold(in years)</th>\n",
       "    </tr>\n",
       "  </thead>\n",
       "  <tbody>\n",
       "    <tr>\n",
       "      <th>0</th>\n",
       "      <td>2-STORY 1946 &amp; NEWER</td>\n",
       "      <td>Residential Low-Density</td>\n",
       "      <td>65</td>\n",
       "      <td>8450</td>\n",
       "      <td>Paved</td>\n",
       "      <td>No Alley Access</td>\n",
       "      <td>Regular</td>\n",
       "      <td>Near Flat Level</td>\n",
       "      <td>All Public Utilities</td>\n",
       "      <td>Inside Plot</td>\n",
       "      <td>...</td>\n",
       "      <td>0</td>\n",
       "      <td>No Fence</td>\n",
       "      <td>No Extra Feature</td>\n",
       "      <td>0</td>\n",
       "      <td>February 2008</td>\n",
       "      <td>Warranty Deed - Conventional</td>\n",
       "      <td>Normal Sale</td>\n",
       "      <td>208500</td>\n",
       "      <td>24.674556</td>\n",
       "      <td>5</td>\n",
       "    </tr>\n",
       "    <tr>\n",
       "      <th>1</th>\n",
       "      <td>1-STORY 1946 &amp; NEWER ALL STYLES</td>\n",
       "      <td>Residential Low-Density</td>\n",
       "      <td>80</td>\n",
       "      <td>9600</td>\n",
       "      <td>Paved</td>\n",
       "      <td>No Alley Access</td>\n",
       "      <td>Regular</td>\n",
       "      <td>Near Flat Level</td>\n",
       "      <td>All Public Utilities</td>\n",
       "      <td>Frontage on 2 sides of the property</td>\n",
       "      <td>...</td>\n",
       "      <td>0</td>\n",
       "      <td>No Fence</td>\n",
       "      <td>No Extra Feature</td>\n",
       "      <td>0</td>\n",
       "      <td>May 2007</td>\n",
       "      <td>Warranty Deed - Conventional</td>\n",
       "      <td>Normal Sale</td>\n",
       "      <td>181500</td>\n",
       "      <td>18.906250</td>\n",
       "      <td>31</td>\n",
       "    </tr>\n",
       "    <tr>\n",
       "      <th>2</th>\n",
       "      <td>2-STORY 1946 &amp; NEWER</td>\n",
       "      <td>Residential Low-Density</td>\n",
       "      <td>68</td>\n",
       "      <td>11250</td>\n",
       "      <td>Paved</td>\n",
       "      <td>No Alley Access</td>\n",
       "      <td>Slightly Irregular</td>\n",
       "      <td>Near Flat Level</td>\n",
       "      <td>All Public Utilities</td>\n",
       "      <td>Inside Plot</td>\n",
       "      <td>...</td>\n",
       "      <td>0</td>\n",
       "      <td>No Fence</td>\n",
       "      <td>No Extra Feature</td>\n",
       "      <td>0</td>\n",
       "      <td>September 2008</td>\n",
       "      <td>Warranty Deed - Conventional</td>\n",
       "      <td>Normal Sale</td>\n",
       "      <td>223500</td>\n",
       "      <td>19.866667</td>\n",
       "      <td>7</td>\n",
       "    </tr>\n",
       "    <tr>\n",
       "      <th>3</th>\n",
       "      <td>2-STORY 1945 &amp; OLDER</td>\n",
       "      <td>Residential Low-Density</td>\n",
       "      <td>60</td>\n",
       "      <td>9550</td>\n",
       "      <td>Paved</td>\n",
       "      <td>No Alley Access</td>\n",
       "      <td>Slightly Irregular</td>\n",
       "      <td>Near Flat Level</td>\n",
       "      <td>All Public Utilities</td>\n",
       "      <td>Corner Plot</td>\n",
       "      <td>...</td>\n",
       "      <td>0</td>\n",
       "      <td>No Fence</td>\n",
       "      <td>No Extra Feature</td>\n",
       "      <td>0</td>\n",
       "      <td>February 2006</td>\n",
       "      <td>Warranty Deed - Conventional</td>\n",
       "      <td>Abnormal Sale -  trade, foreclosure, short sale</td>\n",
       "      <td>140000</td>\n",
       "      <td>14.659686</td>\n",
       "      <td>91</td>\n",
       "    </tr>\n",
       "    <tr>\n",
       "      <th>4</th>\n",
       "      <td>2-STORY 1946 &amp; NEWER</td>\n",
       "      <td>Residential Low-Density</td>\n",
       "      <td>84</td>\n",
       "      <td>14260</td>\n",
       "      <td>Paved</td>\n",
       "      <td>No Alley Access</td>\n",
       "      <td>Slightly Irregular</td>\n",
       "      <td>Near Flat Level</td>\n",
       "      <td>All Public Utilities</td>\n",
       "      <td>Frontage on 2 sides of the property</td>\n",
       "      <td>...</td>\n",
       "      <td>0</td>\n",
       "      <td>No Fence</td>\n",
       "      <td>No Extra Feature</td>\n",
       "      <td>0</td>\n",
       "      <td>December 2008</td>\n",
       "      <td>Warranty Deed - Conventional</td>\n",
       "      <td>Normal Sale</td>\n",
       "      <td>250000</td>\n",
       "      <td>17.531557</td>\n",
       "      <td>8</td>\n",
       "    </tr>\n",
       "  </tbody>\n",
       "</table>\n",
       "<p>5 rows × 69 columns</p>\n",
       "</div>"
      ],
      "text/plain": [
       "                  Type Of Dwelling General Zone Classification  \\\n",
       "0             2-STORY 1946 & NEWER     Residential Low-Density   \n",
       "1  1-STORY 1946 & NEWER ALL STYLES     Residential Low-Density   \n",
       "2             2-STORY 1946 & NEWER     Residential Low-Density   \n",
       "3             2-STORY 1945 & OLDER     Residential Low-Density   \n",
       "4             2-STORY 1946 & NEWER     Residential Low-Density   \n",
       "\n",
       "   Linear Feet of Street  Plot size in square feet Type of road  \\\n",
       "0                     65                      8450        Paved   \n",
       "1                     80                      9600        Paved   \n",
       "2                     68                     11250        Paved   \n",
       "3                     60                      9550        Paved   \n",
       "4                     84                     14260        Paved   \n",
       "\n",
       "     Type of Alley   Shape of Property Flatness of Property  \\\n",
       "0  No Alley Access             Regular      Near Flat Level   \n",
       "1  No Alley Access             Regular      Near Flat Level   \n",
       "2  No Alley Access  Slightly Irregular      Near Flat Level   \n",
       "3  No Alley Access  Slightly Irregular      Near Flat Level   \n",
       "4  No Alley Access  Slightly Irregular      Near Flat Level   \n",
       "\n",
       "  Types of Utilities Available                   Plot Configuration  ...  \\\n",
       "0         All Public Utilities                          Inside Plot  ...   \n",
       "1         All Public Utilities  Frontage on 2 sides of the property  ...   \n",
       "2         All Public Utilities                          Inside Plot  ...   \n",
       "3         All Public Utilities                          Corner Plot  ...   \n",
       "4         All Public Utilities  Frontage on 2 sides of the property  ...   \n",
       "\n",
       "  Screen porch area in square feet Fence Quality Miscellaneous features  \\\n",
       "0                                0      No Fence       No Extra Feature   \n",
       "1                                0      No Fence       No Extra Feature   \n",
       "2                                0      No Fence       No Extra Feature   \n",
       "3                                0      No Fence       No Extra Feature   \n",
       "4                                0      No Fence       No Extra Feature   \n",
       "\n",
       "  Value of miscellaneous feature in Dollars Month and Year of sold  \\\n",
       "0                                         0          February 2008   \n",
       "1                                         0               May 2007   \n",
       "2                                         0         September 2008   \n",
       "3                                         0          February 2006   \n",
       "4                                         0          December 2008   \n",
       "\n",
       "                   Type of Sale  \\\n",
       "0  Warranty Deed - Conventional   \n",
       "1  Warranty Deed - Conventional   \n",
       "2  Warranty Deed - Conventional   \n",
       "3  Warranty Deed - Conventional   \n",
       "4  Warranty Deed - Conventional   \n",
       "\n",
       "                                 Condition of Sale Sale Price  \\\n",
       "0                                      Normal Sale     208500   \n",
       "1                                      Normal Sale     181500   \n",
       "2                                      Normal Sale     223500   \n",
       "3  Abnormal Sale -  trade, foreclosure, short sale     140000   \n",
       "4                                      Normal Sale     250000   \n",
       "\n",
       "  Price per square foot of property(in $) Age of Property when sold(in years)  \n",
       "0                               24.674556                                   5  \n",
       "1                               18.906250                                  31  \n",
       "2                               19.866667                                   7  \n",
       "3                               14.659686                                  91  \n",
       "4                               17.531557                                   8  \n",
       "\n",
       "[5 rows x 69 columns]"
      ]
     },
     "execution_count": 317,
     "metadata": {},
     "output_type": "execute_result"
    }
   ],
   "source": [
    "house_data.head()"
   ]
  },
  {
   "cell_type": "markdown",
   "id": "36b911cd",
   "metadata": {},
   "source": [
    "## Total columns"
   ]
  },
  {
   "cell_type": "code",
   "execution_count": 319,
   "id": "7a919e6d",
   "metadata": {},
   "outputs": [
    {
     "data": {
      "text/plain": [
       "Index(['Type Of Dwelling', 'General Zone Classification',\n",
       "       'Linear Feet of Street', 'Plot size in square feet', 'Type of road',\n",
       "       'Type of Alley', 'Shape of Property', 'Flatness of Property',\n",
       "       'Types of Utilities Available', 'Plot Configuration',\n",
       "       'Slope of Property', 'Locations within Ames City limits',\n",
       "       'Proximity to various conditions',\n",
       "       'Overall Rating(Material & Finishing)',\n",
       "       'Rating Overall Condition of house', 'Original construction date',\n",
       "       'Remodel date of property', 'Type of Roof', 'Material used in Roof',\n",
       "       'Exterior Covering on the House',\n",
       "       'Evaluation of Quality of material on Exterior',\n",
       "       'Evaluation present condition of material on Exterior',\n",
       "       'Type of Foundation', 'Evaluation of hight of basement',\n",
       "       'Evaluation of condition of Basement',\n",
       "       'Exposure Walkout or garden-level walls',\n",
       "       'Basement Finished area rating',\n",
       "       'Finished square feet area in basement',\n",
       "       'Basement Finished area rating,if multiple types',\n",
       "       'Finished square feet area in basement,type 2',\n",
       "       'Unfinished Basement area in square feet',\n",
       "       'Total Basement area in square feet', 'Type of heating',\n",
       "       'Heating Quality and Condition', 'Central Air Conditioning',\n",
       "       'Electrical System', 'Area of 1st Floor in Square Feet',\n",
       "       'Area of 2nd Floor in Square Feet', 'Total living area in square feet',\n",
       "       'Full Bathrooms', 'Half Bathrooms',\n",
       "       'Bedrooms(Excluded Basement Bedrooms)', 'Kitchens', 'Kitchen Quality',\n",
       "       'Total Rooms(Excluded Bathrooms)', 'Number of Fireplaces',\n",
       "       'Fireplace Quality', 'Garage location', 'The Year of Garage Built',\n",
       "       'Interior finish of the garage', 'Car Parking capacity in Garage',\n",
       "       'Size of garage in square feet', 'Garage quality', 'Garage condition',\n",
       "       'PavedDrive', 'Wood deck area in square feet',\n",
       "       'Open porch area in square feet', 'Enclosed porch area in square feet',\n",
       "       'Three-season porch area in square feet',\n",
       "       'Screen porch area in square feet', 'Fence Quality',\n",
       "       'Miscellaneous features', 'Value of miscellaneous feature in Dollars',\n",
       "       'Month and Year of sold', 'Type of Sale', 'Condition of Sale',\n",
       "       'Sale Price', 'Price per square foot of property(in $)',\n",
       "       'Age of Property when sold(in years)'],\n",
       "      dtype='object')"
      ]
     },
     "execution_count": 319,
     "metadata": {},
     "output_type": "execute_result"
    }
   ],
   "source": [
    "house_data.columns"
   ]
  },
  {
   "cell_type": "markdown",
   "id": "b8fbfa95",
   "metadata": {},
   "source": [
    "## Univariate Analysis:"
   ]
  },
  {
   "cell_type": "markdown",
   "id": "18e59980",
   "metadata": {},
   "source": [
    "### Histogram of Price analysis"
   ]
  },
  {
   "cell_type": "code",
   "execution_count": 320,
   "id": "86484318",
   "metadata": {},
   "outputs": [],
   "source": [
    "import warnings\n",
    "warnings.filterwarnings('ignore')"
   ]
  },
  {
   "cell_type": "code",
   "execution_count": 321,
   "id": "9564af9e",
   "metadata": {},
   "outputs": [
    {
     "data": {
      "text/plain": [
       "Text(0.5, 1.0, 'Histogram of price distribution with Miscellaneous Features\\n')"
      ]
     },
     "execution_count": 321,
     "metadata": {},
     "output_type": "execute_result"
    },
    {
     "data": {
      "image/png": "[encoded data removed]",
      "text/plain": [
       "<Figure size 640x480 with 1 Axes>"
      ]
     },
     "metadata": {},
     "output_type": "display_data"
    }
   ],
   "source": [
    "sns.histplot(data=house_data,x='Sale Price', bins = 20,hue = 'Miscellaneous features',element='step')\n",
    "plt.title('Histogram of price distribution with Miscellaneous Features\\n')"
   ]
  },
  {
   "cell_type": "markdown",
   "id": "7c474597",
   "metadata": {},
   "source": [
    "## Price changes with Plot Configuration"
   ]
  },
  {
   "cell_type": "code",
   "execution_count": 322,
   "id": "8a16dc2e",
   "metadata": {},
   "outputs": [
    {
     "data": {
      "text/plain": [
       "Text(0.5, 1.0, 'Histogram of price distribution with Plot Configuration\\n')"
      ]
     },
     "execution_count": 322,
     "metadata": {},
     "output_type": "execute_result"
    },
    {
     "data": {
      "image/png": "[encoded data removed]",
      "text/plain": [
       "<Figure size 640x480 with 1 Axes>"
      ]
     },
     "metadata": {},
     "output_type": "display_data"
    }
   ],
   "source": [
    "sns.histplot(data = house_data,x='Sale Price',bins = 20,element='step',hue = 'Plot Configuration')\n",
    "plt.title('Histogram of price distribution with Plot Configuration\\n')"
   ]
  },
  {
   "cell_type": "markdown",
   "id": "2b9003c4",
   "metadata": {},
   "source": [
    "## Box plot of Price"
   ]
  },
  {
   "cell_type": "code",
   "execution_count": 323,
   "id": "ae2314ea",
   "metadata": {},
   "outputs": [
    {
     "data": {
      "text/plain": [
       "Text(0.5, 1.0, 'Box plot of Price')"
      ]
     },
     "execution_count": 323,
     "metadata": {},
     "output_type": "execute_result"
    },
    {
     "data": {
      "image/png": "[encoded data removed]",
      "text/plain": [
       "<Figure size 640x480 with 1 Axes>"
      ]
     },
     "metadata": {},
     "output_type": "display_data"
    }
   ],
   "source": [
    "sns.boxplot(data=house_data,y='Sale Price',color = 'red')\n",
    "plt.title(\"Box plot of Price\")"
   ]
  },
  {
   "cell_type": "markdown",
   "id": "7921c8a8",
   "metadata": {},
   "source": [
    "### Kernel Density Estimation"
   ]
  },
  {
   "cell_type": "code",
   "execution_count": 324,
   "id": "a9f3a714",
   "metadata": {},
   "outputs": [
    {
     "data": {
      "text/plain": [
       "Text(0.5, 1.0, 'Kde plot of Price distribution with Type of alley\\n')"
      ]
     },
     "execution_count": 324,
     "metadata": {},
     "output_type": "execute_result"
    },
    {
     "data": {
      "image/png": "[encoded data removed]",
      "text/plain": [
       "<Figure size 658.875x500 with 1 Axes>"
      ]
     },
     "metadata": {},
     "output_type": "display_data"
    }
   ],
   "source": [
    "sns.displot(data = house_data,x='Sale Price',kind = 'kde',hue = 'Type of Alley',fill=True)\n",
    "plt.title('Kde plot of Price distribution with Type of alley\\n')"
   ]
  },
  {
   "cell_type": "code",
   "execution_count": 325,
   "id": "8a32fa44",
   "metadata": {},
   "outputs": [
    {
     "data": {
      "text/plain": [
       "Text(0.5, 1.0, 'Kde plot of Price distribution with Type Of Dwelling\\n')"
      ]
     },
     "execution_count": 325,
     "metadata": {},
     "output_type": "execute_result"
    },
    {
     "data": {
      "image/png": "[encoded data removed]",
      "text/plain": [
       "<Figure size 964.875x500 with 1 Axes>"
      ]
     },
     "metadata": {},
     "output_type": "display_data"
    }
   ],
   "source": [
    "sns.displot(data = house_data,x='Sale Price',kind = 'kde',hue = 'Type Of Dwelling',fill=True)\n",
    "plt.title('Kde plot of Price distribution with Type Of Dwelling\\n')"
   ]
  },
  {
   "cell_type": "code",
   "execution_count": 339,
   "id": "ad48d4bf",
   "metadata": {},
   "outputs": [
    {
     "data": {
      "text/plain": [
       "Text(0.5, 1.0, 'Kde plot of Price per square foot\\n')"
      ]
     },
     "execution_count": 339,
     "metadata": {},
     "output_type": "execute_result"
    },
    {
     "data": {
      "image/png": "[encoded data removed]",
      "text/plain": [
       "<Figure size 500x500 with 1 Axes>"
      ]
     },
     "metadata": {},
     "output_type": "display_data"
    }
   ],
   "source": [
    "sns.displot(data = house_data,x='Price per square foot of property(in $)',kind = 'kde',fill=True)\n",
    "plt.title('Kde plot of Price per square foot\\n')"
   ]
  },
  {
   "cell_type": "code",
   "execution_count": null,
   "id": "ccc5c905",
   "metadata": {},
   "outputs": [],
   "source": []
  }
 ],
 "metadata": {
  "kernelspec": {
   "display_name": "Python 3 (ipykernel)",
   "language": "python",
   "name": "python3"
  },
  "language_info": {
   "codemirror_mode": {
    "name": "ipython",
    "version": 3
   },
   "file_extension": ".py",
   "mimetype": "text/x-python",
   "name": "python",
   "nbconvert_exporter": "python",
   "pygments_lexer": "ipython3",
   "version": "3.10.9"
  }
 },
 "nbformat": 4,
 "nbformat_minor": 5
}
